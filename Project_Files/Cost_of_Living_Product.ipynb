{
 "cells": [
  {
   "cell_type": "markdown",
   "metadata": {
    "collapsed": false
   },
   "source": [
    "# Cost of Living\n",
    "\n"
   ]
  },
  {
   "cell_type": "code",
   "execution_count": 1,
   "metadata": {
    "collapsed": false
   },
   "outputs": [
   ],
   "source": [
    "import pandas as pd\n",
    "import numpy as np\n",
    "import plotly.express as px\n",
    "import matplotlib.pyplot as plt\n",
    "import seaborn as sns\n",
    "from sklearn.preprocessing import StandardScaler\n",
    "from sklearn.linear_model import Lasso, LinearRegression\n",
    "from sklearn.model_selection import train_test_split\n",
    "from sklearn.metrics import confusion_matrix, accuracy_score, classification_report, r2_score\n",
    "from sklearn.tree import DecisionTreeRegressor\n",
    "from sklearn.svm import SVR\n",
    "from sklearn.ensemble import RandomForestRegressor"
   ]
  },
  {
   "cell_type": "code",
   "execution_count": 2,
   "metadata": {
    "collapsed": false
   },
   "outputs": [
   ],
   "source": [
    "costofliving1 = pd.read_csv('./Project_Data/costofliving.csv')\n",
    "costofliving2 = pd.read_csv('./Project_Data/cost-of-living.csv')"
   ]
  },
  {
   "cell_type": "code",
   "execution_count": 3,
   "metadata": {
    "collapsed": false
   },
   "outputs": [
   ],
   "source": [
    "# Basic Cost of Living graphs below!! ↓↓"
   ]
  },
  {
   "cell_type": "code",
   "execution_count": 4,
   "metadata": {
    "collapsed": false
   },
   "outputs": [
    {
     "data": {
      "text/html": "<html>\n<head><meta charset=\"utf-8\" /></head>\n<body>\n    <div>            <script src=\"https://cdnjs.cloudflare.com/ajax/libs/mathjax/2.7.5/MathJax.js?config=TeX-AMS-MML_SVG\"></script><script type=\"text/javascript\">if (window.MathJax) {MathJax.Hub.Config({SVG: {font: \"STIX-Web\"}});}</script>                <script type=\"text/javascript\">window.PlotlyConfig = {MathJaxConfig: 'local'};</script>\n        <script src=\"https://cdn.plot.ly/plotly-2.9.0.min.js\"></script>                <div id=\"2a9aeae1-c0b4-494d-aaed-42f73bdd60d8\" class=\"plotly-graph-div\" style=\"height:525px; width:100%;\"></div>            <script type=\"text/javascript\">                                    window.PLOTLYENV=window.PLOTLYENV || {};                                    if (document.getElementById(\"2a9aeae1-c0b4-494d-aaed-42f73bdd60d8\")) {                    Plotly.newPlot(                        \"2a9aeae1-c0b4-494d-aaed-42f73bdd60d8\",                        [{\"alignmentgroup\":\"True\",\"bingroup\":\"y\",\"histfunc\":\"sum\",\"hovertemplate\":\"Local Purchasing Power Index=79.43<br>sum of Cost of Living Plus Rent Index=%{x}<br>City=%{y}<extra></extra>\",\"legendgroup\":\"79.43\",\"marker\":{\"color\":\"#636efa\",\"pattern\":{\"shape\":\"\"}},\"name\":\"79.43\",\"offsetgroup\":\"79.43\",\"orientation\":\"h\",\"showlegend\":true,\"x\":[124.22],\"xaxis\":\"x\",\"y\":[\"Hamilton, Bermuda\"],\"yaxis\":\"y\",\"type\":\"histogram\"},{\"alignmentgroup\":\"True\",\"bingroup\":\"y\",\"histfunc\":\"sum\",\"hovertemplate\":\"Local Purchasing Power Index=129.79<br>sum of Cost of Living Plus Rent Index=%{x}<br>City=%{y}<extra></extra>\",\"legendgroup\":\"129.79\",\"marker\":{\"color\":\"#EF553B\",\"pattern\":{\"shape\":\"\"}},\"name\":\"129.79\",\"offsetgroup\":\"129.79\",\"orientation\":\"h\",\"showlegend\":true,\"x\":[102.19],\"xaxis\":\"x\",\"y\":[\"Zurich, Switzerland\"],\"yaxis\":\"y\",\"type\":\"histogram\"},{\"alignmentgroup\":\"True\",\"bingroup\":\"y\",\"histfunc\":\"sum\",\"hovertemplate\":\"Local Purchasing Power Index=111.53<br>sum of Cost of Living Plus Rent Index=%{x}<br>City=%{y}<extra></extra>\",\"legendgroup\":\"111.53\",\"marker\":{\"color\":\"#00cc96\",\"pattern\":{\"shape\":\"\"}},\"name\":\"111.53\",\"offsetgroup\":\"111.53\",\"orientation\":\"h\",\"showlegend\":true,\"x\":[92.7],\"xaxis\":\"x\",\"y\":[\"Basel, Switzerland\"],\"yaxis\":\"y\",\"type\":\"histogram\"},{\"alignmentgroup\":\"True\",\"bingroup\":\"y\",\"histfunc\":\"sum\",\"hovertemplate\":\"Local Purchasing Power Index=143.4<br>sum of Cost of Living Plus Rent Index=%{x}<br>City=%{y}<extra></extra>\",\"legendgroup\":\"143.4\",\"marker\":{\"color\":\"#ab63fa\",\"pattern\":{\"shape\":\"\"}},\"name\":\"143.4\",\"offsetgroup\":\"143.4\",\"orientation\":\"h\",\"showlegend\":true,\"x\":[101.87],\"xaxis\":\"x\",\"y\":[\"Zug, Switzerland\"],\"yaxis\":\"y\",\"type\":\"histogram\"},{\"alignmentgroup\":\"True\",\"bingroup\":\"y\",\"histfunc\":\"sum\",\"hovertemplate\":\"Local Purchasing Power Index=111.96<br>sum of Cost of Living Plus Rent Index=%{x}<br>City=%{y}<extra></extra>\",\"legendgroup\":\"111.96\",\"marker\":{\"color\":\"#FFA15A\",\"pattern\":{\"shape\":\"\"}},\"name\":\"111.96\",\"offsetgroup\":\"111.96\",\"orientation\":\"h\",\"showlegend\":true,\"x\":[86.96],\"xaxis\":\"x\",\"y\":[\"Lugano, Switzerland\"],\"yaxis\":\"y\",\"type\":\"histogram\"},{\"alignmentgroup\":\"True\",\"bingroup\":\"y\",\"histfunc\":\"sum\",\"hovertemplate\":\"Local Purchasing Power Index=127.01<br>sum of Cost of Living Plus Rent Index=%{x}<br>City=%{y}<extra></extra>\",\"legendgroup\":\"127.01\",\"marker\":{\"color\":\"#19d3f3\",\"pattern\":{\"shape\":\"\"}},\"name\":\"127.01\",\"offsetgroup\":\"127.01\",\"orientation\":\"h\",\"showlegend\":true,\"x\":[92.74],\"xaxis\":\"x\",\"y\":[\"Lausanne, Switzerland\"],\"yaxis\":\"y\",\"type\":\"histogram\"},{\"alignmentgroup\":\"True\",\"bingroup\":\"y\",\"histfunc\":\"sum\",\"hovertemplate\":\"Local Purchasing Power Index=15.4<br>sum of Cost of Living Plus Rent Index=%{x}<br>City=%{y}<extra></extra>\",\"legendgroup\":\"15.4\",\"marker\":{\"color\":\"#FF6692\",\"pattern\":{\"shape\":\"\"}},\"name\":\"15.4\",\"offsetgroup\":\"15.4\",\"orientation\":\"h\",\"showlegend\":true,\"x\":[77.01],\"xaxis\":\"x\",\"y\":[\"Beirut, Lebanon\"],\"yaxis\":\"y\",\"type\":\"histogram\"},{\"alignmentgroup\":\"True\",\"bingroup\":\"y\",\"histfunc\":\"sum\",\"hovertemplate\":\"Local Purchasing Power Index=112.46<br>sum of Cost of Living Plus Rent Index=%{x}<br>City=%{y}<extra></extra>\",\"legendgroup\":\"112.46\",\"marker\":{\"color\":\"#B6E880\",\"pattern\":{\"shape\":\"\"}},\"name\":\"112.46\",\"offsetgroup\":\"112.46\",\"orientation\":\"h\",\"showlegend\":true,\"x\":[84.39],\"xaxis\":\"x\",\"y\":[\"Bern, Switzerland\"],\"yaxis\":\"y\",\"type\":\"histogram\"},{\"alignmentgroup\":\"True\",\"bingroup\":\"y\",\"histfunc\":\"sum\",\"hovertemplate\":\"Local Purchasing Power Index=120.6<br>sum of Cost of Living Plus Rent Index=%{x}<br>City=%{y}<extra></extra>\",\"legendgroup\":\"120.6\",\"marker\":{\"color\":\"#FF97FF\",\"pattern\":{\"shape\":\"\"}},\"name\":\"120.6\",\"offsetgroup\":\"120.6\",\"orientation\":\"h\",\"showlegend\":true,\"x\":[95.77],\"xaxis\":\"x\",\"y\":[\"Geneva, Switzerland\"],\"yaxis\":\"y\",\"type\":\"histogram\"},{\"alignmentgroup\":\"True\",\"bingroup\":\"y\",\"histfunc\":\"sum\",\"hovertemplate\":\"Local Purchasing Power Index=85.9<br>sum of Cost of Living Plus Rent Index=%{x}<br>City=%{y}<extra></extra>\",\"legendgroup\":\"85.9\",\"marker\":{\"color\":\"#FECB52\",\"pattern\":{\"shape\":\"\"}},\"name\":\"85.9\",\"offsetgroup\":\"85.9\",\"orientation\":\"h\",\"showlegend\":true,\"x\":[72.16],\"xaxis\":\"x\",\"y\":[\"Stavanger, Norway\"],\"yaxis\":\"y\",\"type\":\"histogram\"},{\"alignmentgroup\":\"True\",\"bingroup\":\"y\",\"histfunc\":\"sum\",\"hovertemplate\":\"Local Purchasing Power Index=89.24<br>sum of Cost of Living Plus Rent Index=%{x}<br>City=%{y}<extra></extra>\",\"legendgroup\":\"89.24\",\"marker\":{\"color\":\"#636efa\",\"pattern\":{\"shape\":\"\"}},\"name\":\"89.24\",\"offsetgroup\":\"89.24\",\"orientation\":\"h\",\"showlegend\":true,\"x\":[85.56],\"xaxis\":\"x\",\"y\":[\"Honolulu, HI, United States\"],\"yaxis\":\"y\",\"type\":\"histogram\"},{\"alignmentgroup\":\"True\",\"bingroup\":\"y\",\"histfunc\":\"sum\",\"hovertemplate\":\"Local Purchasing Power Index=85.18<br>sum of Cost of Living Plus Rent Index=%{x}<br>City=%{y}<extra></extra>\",\"legendgroup\":\"85.18\",\"marker\":{\"color\":\"#EF553B\",\"pattern\":{\"shape\":\"\"}},\"name\":\"85.18\",\"offsetgroup\":\"85.18\",\"orientation\":\"h\",\"showlegend\":true,\"x\":[76.11],\"xaxis\":\"x\",\"y\":[\"Oslo, Norway\"],\"yaxis\":\"y\",\"type\":\"histogram\"},{\"alignmentgroup\":\"True\",\"bingroup\":\"y\",\"histfunc\":\"sum\",\"hovertemplate\":\"Local Purchasing Power Index=86.96<br>sum of Cost of Living Plus Rent Index=%{x}<br>City=%{y}<extra></extra>\",\"legendgroup\":\"86.96\",\"marker\":{\"color\":\"#00cc96\",\"pattern\":{\"shape\":\"\"}},\"name\":\"86.96\",\"offsetgroup\":\"86.96\",\"orientation\":\"h\",\"showlegend\":true,\"x\":[69.66],\"xaxis\":\"x\",\"y\":[\"Bergen, Norway\"],\"yaxis\":\"y\",\"type\":\"histogram\"},{\"alignmentgroup\":\"True\",\"bingroup\":\"y\",\"histfunc\":\"sum\",\"hovertemplate\":\"Local Purchasing Power Index=100.0<br>sum of Cost of Living Plus Rent Index=%{x}<br>City=%{y}<extra></extra>\",\"legendgroup\":\"100.0\",\"marker\":{\"color\":\"#ab63fa\",\"pattern\":{\"shape\":\"\"}},\"name\":\"100.0\",\"offsetgroup\":\"100.0\",\"orientation\":\"h\",\"showlegend\":true,\"x\":[100.0],\"xaxis\":\"x\",\"y\":[\"New York, NY, United States\"],\"yaxis\":\"y\",\"type\":\"histogram\"},{\"alignmentgroup\":\"True\",\"bingroup\":\"y\",\"histfunc\":\"sum\",\"hovertemplate\":\"Local Purchasing Power Index=88.0<br>sum of Cost of Living Plus Rent Index=%{x}<br>City=%{y}<extra></extra>\",\"legendgroup\":\"88.0\",\"marker\":{\"color\":\"#FFA15A\",\"pattern\":{\"shape\":\"\"}},\"name\":\"88.0\",\"offsetgroup\":\"88.0\",\"orientation\":\"h\",\"showlegend\":true,\"x\":[70.52],\"xaxis\":\"x\",\"y\":[\"Trondheim, Norway\"],\"yaxis\":\"y\",\"type\":\"histogram\"},{\"alignmentgroup\":\"True\",\"bingroup\":\"y\",\"histfunc\":\"sum\",\"hovertemplate\":\"Local Purchasing Power Index=89.46<br>sum of Cost of Living Plus Rent Index=%{x}<br>City=%{y}<extra></extra>\",\"legendgroup\":\"89.46\",\"marker\":{\"color\":\"#19d3f3\",\"pattern\":{\"shape\":\"\"}},\"name\":\"89.46\",\"offsetgroup\":\"89.46\",\"orientation\":\"h\",\"showlegend\":true,\"x\":[70.02],\"xaxis\":\"x\",\"y\":[\"Tromso, Norway\"],\"yaxis\":\"y\",\"type\":\"histogram\"},{\"alignmentgroup\":\"True\",\"bingroup\":\"y\",\"histfunc\":\"sum\",\"hovertemplate\":\"Local Purchasing Power Index=74.84<br>sum of Cost of Living Plus Rent Index=%{x}<br>City=%{y}<extra></extra>\",\"legendgroup\":\"74.84\",\"marker\":{\"color\":\"#FF6692\",\"pattern\":{\"shape\":\"\"}},\"name\":\"74.84\",\"offsetgroup\":\"74.84\",\"orientation\":\"h\",\"showlegend\":true,\"x\":[73.55],\"xaxis\":\"x\",\"y\":[\"Reykjavik, Iceland\"],\"yaxis\":\"y\",\"type\":\"histogram\"},{\"alignmentgroup\":\"True\",\"bingroup\":\"y\",\"histfunc\":\"sum\",\"hovertemplate\":\"Local Purchasing Power Index=80.43<br>sum of Cost of Living Plus Rent Index=%{x}<br>City=%{y}<extra></extra>\",\"legendgroup\":\"80.43\",\"marker\":{\"color\":\"#B6E880\",\"pattern\":{\"shape\":\"\"}},\"name\":\"80.43\",\"offsetgroup\":\"80.43\",\"orientation\":\"h\",\"showlegend\":true,\"x\":[81.85],\"xaxis\":\"x\",\"y\":[\"Saint Helier, Jersey\"],\"yaxis\":\"y\",\"type\":\"histogram\"},{\"alignmentgroup\":\"True\",\"bingroup\":\"y\",\"histfunc\":\"sum\",\"hovertemplate\":\"Local Purchasing Power Index=93.86<br>sum of Cost of Living Plus Rent Index=%{x}<br>City=%{y}<extra></extra>\",\"legendgroup\":\"93.86\",\"marker\":{\"color\":\"#FF97FF\",\"pattern\":{\"shape\":\"\"}},\"name\":\"93.86\",\"offsetgroup\":\"93.86\",\"orientation\":\"h\",\"showlegend\":true,\"x\":[87.23],\"xaxis\":\"x\",\"y\":[\"Santa Barbara, CA, United States\"],\"yaxis\":\"y\",\"type\":\"histogram\"},{\"alignmentgroup\":\"True\",\"bingroup\":\"y\",\"histfunc\":\"sum\",\"hovertemplate\":\"Local Purchasing Power Index=70.22<br>sum of Cost of Living Plus Rent Index=%{x}<br>City=%{y}<extra></extra>\",\"legendgroup\":\"70.22\",\"marker\":{\"color\":\"#FECB52\",\"pattern\":{\"shape\":\"\"}},\"name\":\"70.22\",\"offsetgroup\":\"70.22\",\"orientation\":\"h\",\"showlegend\":true,\"x\":[75.15],\"xaxis\":\"x\",\"y\":[\"Tel Aviv-Yafo, Israel\"],\"yaxis\":\"y\",\"type\":\"histogram\"},{\"alignmentgroup\":\"True\",\"bingroup\":\"y\",\"histfunc\":\"sum\",\"hovertemplate\":\"Local Purchasing Power Index=85.78<br>sum of Cost of Living Plus Rent Index=%{x}<br>City=%{y}<extra></extra>\",\"legendgroup\":\"85.78\",\"marker\":{\"color\":\"#636efa\",\"pattern\":{\"shape\":\"\"}},\"name\":\"85.78\",\"offsetgroup\":\"85.78\",\"orientation\":\"h\",\"showlegend\":true,\"x\":[91.48],\"xaxis\":\"x\",\"y\":[\"Berkeley, CA, United States\"],\"yaxis\":\"y\",\"type\":\"histogram\"},{\"alignmentgroup\":\"True\",\"bingroup\":\"y\",\"histfunc\":\"sum\",\"hovertemplate\":\"Local Purchasing Power Index=133.16<br>sum of Cost of Living Plus Rent Index=%{x}<br>City=%{y}<extra></extra>\",\"legendgroup\":\"133.16\",\"marker\":{\"color\":\"#EF553B\",\"pattern\":{\"shape\":\"\"}},\"name\":\"133.16\",\"offsetgroup\":\"133.16\",\"orientation\":\"h\",\"showlegend\":true,\"x\":[100.72],\"xaxis\":\"x\",\"y\":[\"San Francisco, CA, United States\"],\"yaxis\":\"y\",\"type\":\"histogram\"},{\"alignmentgroup\":\"True\",\"bingroup\":\"y\",\"histfunc\":\"sum\",\"hovertemplate\":\"Local Purchasing Power Index=111.73<br>sum of Cost of Living Plus Rent Index=%{x}<br>City=%{y}<extra></extra>\",\"legendgroup\":\"111.73\",\"marker\":{\"color\":\"#00cc96\",\"pattern\":{\"shape\":\"\"}},\"name\":\"111.73\",\"offsetgroup\":\"111.73\",\"orientation\":\"h\",\"showlegend\":true,\"x\":[90.52],\"xaxis\":\"x\",\"y\":[\"Oakland, CA, United States\"],\"yaxis\":\"y\",\"type\":\"histogram\"},{\"alignmentgroup\":\"True\",\"bingroup\":\"y\",\"histfunc\":\"sum\",\"hovertemplate\":\"Local Purchasing Power Index=118.63<br>sum of Cost of Living Plus Rent Index=%{x}<br>City=%{y}<extra></extra>\",\"legendgroup\":\"118.63\",\"marker\":{\"color\":\"#ab63fa\",\"pattern\":{\"shape\":\"\"}},\"name\":\"118.63\",\"offsetgroup\":\"118.63\",\"orientation\":\"h\",\"showlegend\":true,\"x\":[66.88],\"xaxis\":\"x\",\"y\":[\"Anchorage, AK, United States\"],\"yaxis\":\"y\",\"type\":\"histogram\"},{\"alignmentgroup\":\"True\",\"bingroup\":\"y\",\"histfunc\":\"sum\",\"hovertemplate\":\"Local Purchasing Power Index=155.41<br>sum of Cost of Living Plus Rent Index=%{x}<br>City=%{y}<extra></extra>\",\"legendgroup\":\"155.41\",\"marker\":{\"color\":\"#FFA15A\",\"pattern\":{\"shape\":\"\"}},\"name\":\"155.41\",\"offsetgroup\":\"155.41\",\"orientation\":\"h\",\"showlegend\":true,\"x\":[89.87],\"xaxis\":\"x\",\"y\":[\"Santa Clara, CA, United States\"],\"yaxis\":\"y\",\"type\":\"histogram\"},{\"alignmentgroup\":\"True\",\"bingroup\":\"y\",\"histfunc\":\"sum\",\"hovertemplate\":\"Local Purchasing Power Index=72.86<br>sum of Cost of Living Plus Rent Index=%{x}<br>City=%{y}<extra></extra>\",\"legendgroup\":\"72.86\",\"marker\":{\"color\":\"#19d3f3\",\"pattern\":{\"shape\":\"\"}},\"name\":\"72.86\",\"offsetgroup\":\"72.86\",\"orientation\":\"h\",\"showlegend\":true,\"x\":[62.52],\"xaxis\":\"x\",\"y\":[\"Petah Tikva, Israel\"],\"yaxis\":\"y\",\"type\":\"histogram\"},{\"alignmentgroup\":\"True\",\"bingroup\":\"y\",\"histfunc\":\"sum\",\"hovertemplate\":\"Local Purchasing Power Index=80.11<br>sum of Cost of Living Plus Rent Index=%{x}<br>City=%{y}<extra></extra>\",\"legendgroup\":\"80.11\",\"marker\":{\"color\":\"#FF6692\",\"pattern\":{\"shape\":\"\"}},\"name\":\"80.11\",\"offsetgroup\":\"80.11\",\"orientation\":\"h\",\"showlegend\":true,\"x\":[57.99],\"xaxis\":\"x\",\"y\":[\"Beersheba, Israel\"],\"yaxis\":\"y\",\"type\":\"histogram\"},{\"alignmentgroup\":\"True\",\"bingroup\":\"y\",\"histfunc\":\"sum\",\"hovertemplate\":\"Local Purchasing Power Index=145.39<br>sum of Cost of Living Plus Rent Index=%{x}<br>City=%{y}<extra></extra>\",\"legendgroup\":\"145.39\",\"marker\":{\"color\":\"#B6E880\",\"pattern\":{\"shape\":\"\"}},\"name\":\"145.39\",\"offsetgroup\":\"145.39\",\"orientation\":\"h\",\"showlegend\":true,\"x\":[77.89],\"xaxis\":\"x\",\"y\":[\"Seattle, WA, United States\"],\"yaxis\":\"y\",\"type\":\"histogram\"},{\"alignmentgroup\":\"True\",\"bingroup\":\"y\",\"histfunc\":\"sum\",\"hovertemplate\":\"Local Purchasing Power Index=90.67<br>sum of Cost of Living Plus Rent Index=%{x}<br>City=%{y}<extra></extra>\",\"legendgroup\":\"90.67\",\"marker\":{\"color\":\"#FF97FF\",\"pattern\":{\"shape\":\"\"}},\"name\":\"90.67\",\"offsetgroup\":\"90.67\",\"orientation\":\"h\",\"showlegend\":true,\"x\":[70.1],\"xaxis\":\"x\",\"y\":[\"Copenhagen, Denmark\"],\"yaxis\":\"y\",\"type\":\"histogram\"},{\"alignmentgroup\":\"True\",\"bingroup\":\"y\",\"histfunc\":\"sum\",\"hovertemplate\":\"Local Purchasing Power Index=95.49<br>sum of Cost of Living Plus Rent Index=%{x}<br>City=%{y}<extra></extra>\",\"legendgroup\":\"95.49\",\"marker\":{\"color\":\"#FECB52\",\"pattern\":{\"shape\":\"\"}},\"name\":\"95.49\",\"offsetgroup\":\"95.49\",\"orientation\":\"h\",\"showlegend\":true,\"x\":[63.97],\"xaxis\":\"x\",\"y\":[\"Arhus, Denmark\"],\"yaxis\":\"y\",\"type\":\"histogram\"},{\"alignmentgroup\":\"True\",\"bingroup\":\"y\",\"histfunc\":\"sum\",\"hovertemplate\":\"Local Purchasing Power Index=77.61<br>sum of Cost of Living Plus Rent Index=%{x}<br>City=%{y}<extra></extra>\",\"legendgroup\":\"77.61\",\"marker\":{\"color\":\"#636efa\",\"pattern\":{\"shape\":\"\"}},\"name\":\"77.61\",\"offsetgroup\":\"77.61\",\"orientation\":\"h\",\"showlegend\":true,\"x\":[57.86],\"xaxis\":\"x\",\"y\":[\"Haifa, Israel\"],\"yaxis\":\"y\",\"type\":\"histogram\"},{\"alignmentgroup\":\"True\",\"bingroup\":\"y\",\"histfunc\":\"sum\",\"hovertemplate\":\"Local Purchasing Power Index=79.55<br>sum of Cost of Living Plus Rent Index=%{x}<br>City=%{y}<extra></extra>\",\"legendgroup\":\"79.55\",\"marker\":{\"color\":\"#EF553B\",\"pattern\":{\"shape\":\"\"}},\"name\":\"79.55\",\"offsetgroup\":\"79.55\",\"orientation\":\"h\",\"showlegend\":true,\"x\":[64.78],\"xaxis\":\"x\",\"y\":[\"Jerusalem, Israel\"],\"yaxis\":\"y\",\"type\":\"histogram\"},{\"alignmentgroup\":\"True\",\"bingroup\":\"y\",\"histfunc\":\"sum\",\"hovertemplate\":\"Local Purchasing Power Index=46.7<br>sum of Cost of Living Plus Rent Index=%{x}<br>City=%{y}<extra></extra>\",\"legendgroup\":\"46.7\",\"marker\":{\"color\":\"#00cc96\",\"pattern\":{\"shape\":\"\"}},\"name\":\"46.7\",\"offsetgroup\":\"46.7\",\"orientation\":\"h\",\"showlegend\":true,\"x\":[62.72],\"xaxis\":\"x\",\"y\":[\"Nassau, Bahamas\"],\"yaxis\":\"y\",\"type\":\"histogram\"},{\"alignmentgroup\":\"True\",\"bingroup\":\"y\",\"histfunc\":\"sum\",\"hovertemplate\":\"Local Purchasing Power Index=88.79<br>sum of Cost of Living Plus Rent Index=%{x}<br>City=%{y}<extra></extra>\",\"legendgroup\":\"88.79\",\"marker\":{\"color\":\"#ab63fa\",\"pattern\":{\"shape\":\"\"}},\"name\":\"88.79\",\"offsetgroup\":\"88.79\",\"orientation\":\"h\",\"showlegend\":true,\"x\":[81.35],\"xaxis\":\"x\",\"y\":[\"London, United Kingdom\"],\"yaxis\":\"y\",\"type\":\"histogram\"},{\"alignmentgroup\":\"True\",\"bingroup\":\"y\",\"histfunc\":\"sum\",\"hovertemplate\":\"Local Purchasing Power Index=88.58<br>sum of Cost of Living Plus Rent Index=%{x}<br>City=%{y}<extra></extra>\",\"legendgroup\":\"88.58\",\"marker\":{\"color\":\"#FFA15A\",\"pattern\":{\"shape\":\"\"}},\"name\":\"88.58\",\"offsetgroup\":\"88.58\",\"orientation\":\"h\",\"showlegend\":true,\"x\":[65.5],\"xaxis\":\"x\",\"y\":[\"Tokyo, Japan\"],\"yaxis\":\"y\",\"type\":\"histogram\"},{\"alignmentgroup\":\"True\",\"bingroup\":\"y\",\"histfunc\":\"sum\",\"hovertemplate\":\"Local Purchasing Power Index=115.72<br>sum of Cost of Living Plus Rent Index=%{x}<br>City=%{y}<extra></extra>\",\"legendgroup\":\"115.72\",\"marker\":{\"color\":\"#19d3f3\",\"pattern\":{\"shape\":\"\"}},\"name\":\"115.72\",\"offsetgroup\":\"115.72\",\"orientation\":\"h\",\"showlegend\":true,\"x\":[82.09],\"xaxis\":\"x\",\"y\":[\"Boston, MA, United States\"],\"yaxis\":\"y\",\"type\":\"histogram\"},{\"alignmentgroup\":\"True\",\"bingroup\":\"y\",\"histfunc\":\"sum\",\"hovertemplate\":\"Local Purchasing Power Index=64.22<br>sum of Cost of Living Plus Rent Index=%{x}<br>City=%{y}<extra></extra>\",\"legendgroup\":\"64.22\",\"marker\":{\"color\":\"#FF6692\",\"pattern\":{\"shape\":\"\"}},\"name\":\"64.22\",\"offsetgroup\":\"64.22\",\"orientation\":\"h\",\"showlegend\":true,\"x\":[61.87],\"xaxis\":\"x\",\"y\":[\"Nice, France\"],\"yaxis\":\"y\",\"type\":\"histogram\"},{\"alignmentgroup\":\"True\",\"bingroup\":\"y\",\"histfunc\":\"sum\",\"hovertemplate\":\"Local Purchasing Power Index=80.2<br>sum of Cost of Living Plus Rent Index=%{x}<br>City=%{y}<extra></extra>\",\"legendgroup\":\"80.2\",\"marker\":{\"color\":\"#B6E880\",\"pattern\":{\"shape\":\"\"}},\"name\":\"80.2\",\"offsetgroup\":\"80.2\",\"orientation\":\"h\",\"showlegend\":true,\"x\":[67.68],\"xaxis\":\"x\",\"y\":[\"Paris, France\"],\"yaxis\":\"y\",\"type\":\"histogram\"},{\"alignmentgroup\":\"True\",\"bingroup\":\"y\",\"histfunc\":\"sum\",\"hovertemplate\":\"Local Purchasing Power Index=105.72<br>sum of Cost of Living Plus Rent Index=%{x}<br>City=%{y}<extra></extra>\",\"legendgroup\":\"105.72\",\"marker\":{\"color\":\"#FF97FF\",\"pattern\":{\"shape\":\"\"}},\"name\":\"105.72\",\"offsetgroup\":\"105.72\",\"orientation\":\"h\",\"showlegend\":true,\"x\":[77.15],\"xaxis\":\"x\",\"y\":[\"Queens, NY, United States\"],\"yaxis\":\"y\",\"type\":\"histogram\"},{\"alignmentgroup\":\"True\",\"bingroup\":\"y\",\"histfunc\":\"sum\",\"hovertemplate\":\"Local Purchasing Power Index=91.34<br>sum of Cost of Living Plus Rent Index=%{x}<br>City=%{y}<extra></extra>\",\"legendgroup\":\"91.34\",\"marker\":{\"color\":\"#FECB52\",\"pattern\":{\"shape\":\"\"}},\"name\":\"91.34\",\"offsetgroup\":\"91.34\",\"orientation\":\"h\",\"showlegend\":true,\"x\":[75.75],\"xaxis\":\"x\",\"y\":[\"Singapore, Singapore\"],\"yaxis\":\"y\",\"type\":\"histogram\"},{\"alignmentgroup\":\"True\",\"bingroup\":\"y\",\"histfunc\":\"sum\",\"hovertemplate\":\"Local Purchasing Power Index=121.83<br>sum of Cost of Living Plus Rent Index=%{x}<br>City=%{y}<extra></extra>\",\"legendgroup\":\"121.83\",\"marker\":{\"color\":\"#636efa\",\"pattern\":{\"shape\":\"\"}},\"name\":\"121.83\",\"offsetgroup\":\"121.83\",\"orientation\":\"h\",\"showlegend\":true,\"x\":[78.93],\"xaxis\":\"x\",\"y\":[\"Washington, DC, United States\"],\"yaxis\":\"y\",\"type\":\"histogram\"},{\"alignmentgroup\":\"True\",\"bingroup\":\"y\",\"histfunc\":\"sum\",\"hovertemplate\":\"Local Purchasing Power Index=104.52<br>sum of Cost of Living Plus Rent Index=%{x}<br>City=%{y}<extra></extra>\",\"legendgroup\":\"104.52\",\"marker\":{\"color\":\"#EF553B\",\"pattern\":{\"shape\":\"\"}},\"name\":\"104.52\",\"offsetgroup\":\"104.52\",\"orientation\":\"h\",\"showlegend\":true,\"x\":[71.41],\"xaxis\":\"x\",\"y\":[\"Sydney, Australia\"],\"yaxis\":\"y\",\"type\":\"histogram\"},{\"alignmentgroup\":\"True\",\"bingroup\":\"y\",\"histfunc\":\"sum\",\"hovertemplate\":\"Local Purchasing Power Index=100.19<br>sum of Cost of Living Plus Rent Index=%{x}<br>City=%{y}<extra></extra>\",\"legendgroup\":\"100.19\",\"marker\":{\"color\":\"#00cc96\",\"pattern\":{\"shape\":\"\"}},\"name\":\"100.19\",\"offsetgroup\":\"100.19\",\"orientation\":\"h\",\"showlegend\":true,\"x\":[73.82],\"xaxis\":\"x\",\"y\":[\"Luxembourg, Luxembourg\"],\"yaxis\":\"y\",\"type\":\"histogram\"},{\"alignmentgroup\":\"True\",\"bingroup\":\"y\",\"histfunc\":\"sum\",\"hovertemplate\":\"Local Purchasing Power Index=90.3<br>sum of Cost of Living Plus Rent Index=%{x}<br>City=%{y}<extra></extra>\",\"legendgroup\":\"90.3\",\"marker\":{\"color\":\"#ab63fa\",\"pattern\":{\"shape\":\"\"}},\"name\":\"90.3\",\"offsetgroup\":\"90.3\",\"orientation\":\"h\",\"showlegend\":true,\"x\":[60.66],\"xaxis\":\"x\",\"y\":[\"Espoo, Finland\"],\"yaxis\":\"y\",\"type\":\"histogram\"},{\"alignmentgroup\":\"True\",\"bingroup\":\"y\",\"histfunc\":\"sum\",\"hovertemplate\":\"Local Purchasing Power Index=100.93<br>sum of Cost of Living Plus Rent Index=%{x}<br>City=%{y}<extra></extra>\",\"legendgroup\":\"100.93\",\"marker\":{\"color\":\"#FFA15A\",\"pattern\":{\"shape\":\"\"}},\"name\":\"100.93\",\"offsetgroup\":\"100.93\",\"orientation\":\"h\",\"showlegend\":true,\"x\":[54.7],\"xaxis\":\"x\",\"y\":[\"Aalborg, Denmark\"],\"yaxis\":\"y\",\"type\":\"histogram\"},{\"alignmentgroup\":\"True\",\"bingroup\":\"y\",\"histfunc\":\"sum\",\"hovertemplate\":\"Local Purchasing Power Index=115.5<br>sum of Cost of Living Plus Rent Index=%{x}<br>City=%{y}<extra></extra>\",\"legendgroup\":\"115.5\",\"marker\":{\"color\":\"#19d3f3\",\"pattern\":{\"shape\":\"\"}},\"name\":\"115.5\",\"offsetgroup\":\"115.5\",\"orientation\":\"h\",\"showlegend\":true,\"x\":[62.1],\"xaxis\":\"x\",\"y\":[\"Pittsburgh, PA, United States\"],\"yaxis\":\"y\",\"type\":\"histogram\"},{\"alignmentgroup\":\"True\",\"bingroup\":\"y\",\"histfunc\":\"sum\",\"hovertemplate\":\"Local Purchasing Power Index=109.44<br>sum of Cost of Living Plus Rent Index=%{x}<br>City=%{y}<extra></extra>\",\"legendgroup\":\"109.44\",\"marker\":{\"color\":\"#FF6692\",\"pattern\":{\"shape\":\"\"}},\"name\":\"109.44\",\"offsetgroup\":\"109.44\",\"orientation\":\"h\",\"showlegend\":true,\"x\":[60.02],\"xaxis\":\"x\",\"y\":[\"Darwin, Australia\"],\"yaxis\":\"y\",\"type\":\"histogram\"},{\"alignmentgroup\":\"True\",\"bingroup\":\"y\",\"histfunc\":\"sum\",\"hovertemplate\":\"Local Purchasing Power Index=94.45<br>sum of Cost of Living Plus Rent Index=%{x}<br>City=%{y}<extra></extra>\",\"legendgroup\":\"94.45\",\"marker\":{\"color\":\"#B6E880\",\"pattern\":{\"shape\":\"\"}},\"name\":\"94.45\",\"offsetgroup\":\"94.45\",\"orientation\":\"h\",\"showlegend\":true,\"x\":[69.09],\"xaxis\":\"x\",\"y\":[\"Amsterdam, Netherlands\"],\"yaxis\":\"y\",\"type\":\"histogram\"},{\"alignmentgroup\":\"True\",\"bingroup\":\"y\",\"histfunc\":\"sum\",\"hovertemplate\":\"Local Purchasing Power Index=155.89<br>sum of Cost of Living Plus Rent Index=%{x}<br>City=%{y}<extra></extra>\",\"legendgroup\":\"155.89\",\"marker\":{\"color\":\"#FF97FF\",\"pattern\":{\"shape\":\"\"}},\"name\":\"155.89\",\"offsetgroup\":\"155.89\",\"orientation\":\"h\",\"showlegend\":true,\"x\":[72.45],\"xaxis\":\"x\",\"y\":[\"Jersey City, NJ, United States\"],\"yaxis\":\"y\",\"type\":\"histogram\"},{\"alignmentgroup\":\"True\",\"bingroup\":\"y\",\"histfunc\":\"sum\",\"hovertemplate\":\"Local Purchasing Power Index=65.74<br>sum of Cost of Living Plus Rent Index=%{x}<br>City=%{y}<extra></extra>\",\"legendgroup\":\"65.74\",\"marker\":{\"color\":\"#FECB52\",\"pattern\":{\"shape\":\"\"}},\"name\":\"65.74\",\"offsetgroup\":\"65.74\",\"orientation\":\"h\",\"showlegend\":true,\"x\":[77.83],\"xaxis\":\"x\",\"y\":[\"Hong Kong, Hong Kong\"],\"yaxis\":\"y\",\"type\":\"histogram\"},{\"alignmentgroup\":\"True\",\"bingroup\":\"y\",\"histfunc\":\"sum\",\"hovertemplate\":\"Local Purchasing Power Index=84.3<br>sum of Cost of Living Plus Rent Index=%{x}<br>City=%{y}<extra></extra>\",\"legendgroup\":\"84.3\",\"marker\":{\"color\":\"#636efa\",\"pattern\":{\"shape\":\"\"}},\"name\":\"84.3\",\"offsetgroup\":\"84.3\",\"orientation\":\"h\",\"showlegend\":true,\"x\":[58.0],\"xaxis\":\"x\",\"y\":[\"Breda, Netherlands\"],\"yaxis\":\"y\",\"type\":\"histogram\"},{\"alignmentgroup\":\"True\",\"bingroup\":\"y\",\"histfunc\":\"sum\",\"hovertemplate\":\"Local Purchasing Power Index=57.49<br>sum of Cost of Living Plus Rent Index=%{x}<br>City=%{y}<extra></extra>\",\"legendgroup\":\"57.49\",\"marker\":{\"color\":\"#EF553B\",\"pattern\":{\"shape\":\"\"}},\"name\":\"57.49\",\"offsetgroup\":\"57.49\",\"orientation\":\"h\",\"showlegend\":true,\"x\":[58.6],\"xaxis\":\"x\",\"y\":[\"Nanaimo, BC, Canada\"],\"yaxis\":\"y\",\"type\":\"histogram\"},{\"alignmentgroup\":\"True\",\"bingroup\":\"y\",\"histfunc\":\"sum\",\"hovertemplate\":\"Local Purchasing Power Index=79.21<br>sum of Cost of Living Plus Rent Index=%{x}<br>City=%{y}<extra></extra>\",\"legendgroup\":\"79.21\",\"marker\":{\"color\":\"#00cc96\",\"pattern\":{\"shape\":\"\"}},\"name\":\"79.21\",\"offsetgroup\":\"79.21\",\"orientation\":\"h\",\"showlegend\":true,\"x\":[63.93,49.23],\"xaxis\":\"x\",\"y\":[\"Auckland, New Zealand\",\"Dayton, OH, United States\"],\"yaxis\":\"y\",\"type\":\"histogram\"},{\"alignmentgroup\":\"True\",\"bingroup\":\"y\",\"histfunc\":\"sum\",\"hovertemplate\":\"Local Purchasing Power Index=77.06<br>sum of Cost of Living Plus Rent Index=%{x}<br>City=%{y}<extra></extra>\",\"legendgroup\":\"77.06\",\"marker\":{\"color\":\"#ab63fa\",\"pattern\":{\"shape\":\"\"}},\"name\":\"77.06\",\"offsetgroup\":\"77.06\",\"orientation\":\"h\",\"showlegend\":true,\"x\":[67.14,44.23],\"xaxis\":\"x\",\"y\":[\"Haarlem, Netherlands\",\"Bremen, Germany\"],\"yaxis\":\"y\",\"type\":\"histogram\"},{\"alignmentgroup\":\"True\",\"bingroup\":\"y\",\"histfunc\":\"sum\",\"hovertemplate\":\"Local Purchasing Power Index=77.9<br>sum of Cost of Living Plus Rent Index=%{x}<br>City=%{y}<extra></extra>\",\"legendgroup\":\"77.9\",\"marker\":{\"color\":\"#FFA15A\",\"pattern\":{\"shape\":\"\"}},\"name\":\"77.9\",\"offsetgroup\":\"77.9\",\"orientation\":\"h\",\"showlegend\":true,\"x\":[63.28],\"xaxis\":\"x\",\"y\":[\"Utrecht, Netherlands\"],\"yaxis\":\"y\",\"type\":\"histogram\"},{\"alignmentgroup\":\"True\",\"bingroup\":\"y\",\"histfunc\":\"sum\",\"hovertemplate\":\"Local Purchasing Power Index=74.78<br>sum of Cost of Living Plus Rent Index=%{x}<br>City=%{y}<extra></extra>\",\"legendgroup\":\"74.78\",\"marker\":{\"color\":\"#19d3f3\",\"pattern\":{\"shape\":\"\"}},\"name\":\"74.78\",\"offsetgroup\":\"74.78\",\"orientation\":\"h\",\"showlegend\":true,\"x\":[66.39],\"xaxis\":\"x\",\"y\":[\"Brighton, United Kingdom\"],\"yaxis\":\"y\",\"type\":\"histogram\"},{\"alignmentgroup\":\"True\",\"bingroup\":\"y\",\"histfunc\":\"sum\",\"hovertemplate\":\"Local Purchasing Power Index=103.8<br>sum of Cost of Living Plus Rent Index=%{x}<br>City=%{y}<extra></extra>\",\"legendgroup\":\"103.8\",\"marker\":{\"color\":\"#FF6692\",\"pattern\":{\"shape\":\"\"}},\"name\":\"103.8\",\"offsetgroup\":\"103.8\",\"orientation\":\"h\",\"showlegend\":true,\"x\":[59.81],\"xaxis\":\"x\",\"y\":[\"Brisbane, Australia\"],\"yaxis\":\"y\",\"type\":\"histogram\"},{\"alignmentgroup\":\"True\",\"bingroup\":\"y\",\"histfunc\":\"sum\",\"hovertemplate\":\"Local Purchasing Power Index=115.61<br>sum of Cost of Living Plus Rent Index=%{x}<br>City=%{y}<extra></extra>\",\"legendgroup\":\"115.61\",\"marker\":{\"color\":\"#B6E880\",\"pattern\":{\"shape\":\"\"}},\"name\":\"115.61\",\"offsetgroup\":\"115.61\",\"orientation\":\"h\",\"showlegend\":true,\"x\":[65.31],\"xaxis\":\"x\",\"y\":[\"Philadelphia, PA, United States\"],\"yaxis\":\"y\",\"type\":\"histogram\"},{\"alignmentgroup\":\"True\",\"bingroup\":\"y\",\"histfunc\":\"sum\",\"hovertemplate\":\"Local Purchasing Power Index=126.12<br>sum of Cost of Living Plus Rent Index=%{x}<br>City=%{y}<extra></extra>\",\"legendgroup\":\"126.12\",\"marker\":{\"color\":\"#FF97FF\",\"pattern\":{\"shape\":\"\"}},\"name\":\"126.12\",\"offsetgroup\":\"126.12\",\"orientation\":\"h\",\"showlegend\":true,\"x\":[76.98],\"xaxis\":\"x\",\"y\":[\"Los Angeles, CA, United States\"],\"yaxis\":\"y\",\"type\":\"histogram\"},{\"alignmentgroup\":\"True\",\"bingroup\":\"y\",\"histfunc\":\"sum\",\"hovertemplate\":\"Local Purchasing Power Index=114.68<br>sum of Cost of Living Plus Rent Index=%{x}<br>City=%{y}<extra></extra>\",\"legendgroup\":\"114.68\",\"marker\":{\"color\":\"#FECB52\",\"pattern\":{\"shape\":\"\"}},\"name\":\"114.68\",\"offsetgroup\":\"114.68\",\"orientation\":\"h\",\"showlegend\":true,\"x\":[64.07],\"xaxis\":\"x\",\"y\":[\"Minneapolis, MN, United States\"],\"yaxis\":\"y\",\"type\":\"histogram\"},{\"alignmentgroup\":\"True\",\"bingroup\":\"y\",\"histfunc\":\"sum\",\"hovertemplate\":\"Local Purchasing Power Index=96.82<br>sum of Cost of Living Plus Rent Index=%{x}<br>City=%{y}<extra></extra>\",\"legendgroup\":\"96.82\",\"marker\":{\"color\":\"#636efa\",\"pattern\":{\"shape\":\"\"}},\"name\":\"96.82\",\"offsetgroup\":\"96.82\",\"orientation\":\"h\",\"showlegend\":true,\"x\":[53.07],\"xaxis\":\"x\",\"y\":[\"Turku, Finland\"],\"yaxis\":\"y\",\"type\":\"histogram\"},{\"alignmentgroup\":\"True\",\"bingroup\":\"y\",\"histfunc\":\"sum\",\"hovertemplate\":\"Local Purchasing Power Index=81.82<br>sum of Cost of Living Plus Rent Index=%{x}<br>City=%{y}<extra></extra>\",\"legendgroup\":\"81.82\",\"marker\":{\"color\":\"#EF553B\",\"pattern\":{\"shape\":\"\"}},\"name\":\"81.82\",\"offsetgroup\":\"81.82\",\"orientation\":\"h\",\"showlegend\":true,\"x\":[71.24],\"xaxis\":\"x\",\"y\":[\"Dublin, Ireland\"],\"yaxis\":\"y\",\"type\":\"histogram\"},{\"alignmentgroup\":\"True\",\"bingroup\":\"y\",\"histfunc\":\"sum\",\"hovertemplate\":\"Local Purchasing Power Index=95.42<br>sum of Cost of Living Plus Rent Index=%{x}<br>City=%{y}<extra></extra>\",\"legendgroup\":\"95.42\",\"marker\":{\"color\":\"#00cc96\",\"pattern\":{\"shape\":\"\"}},\"name\":\"95.42\",\"offsetgroup\":\"95.42\",\"orientation\":\"h\",\"showlegend\":true,\"x\":[62.54],\"xaxis\":\"x\",\"y\":[\"Stockholm, Sweden\"],\"yaxis\":\"y\",\"type\":\"histogram\"},{\"alignmentgroup\":\"True\",\"bingroup\":\"y\",\"histfunc\":\"sum\",\"hovertemplate\":\"Local Purchasing Power Index=84.93<br>sum of Cost of Living Plus Rent Index=%{x}<br>City=%{y}<extra></extra>\",\"legendgroup\":\"84.93\",\"marker\":{\"color\":\"#ab63fa\",\"pattern\":{\"shape\":\"\"}},\"name\":\"84.93\",\"offsetgroup\":\"84.93\",\"orientation\":\"h\",\"showlegend\":true,\"x\":[55.09],\"xaxis\":\"x\",\"y\":[\"Birmingham, AL, United States\"],\"yaxis\":\"y\",\"type\":\"histogram\"},{\"alignmentgroup\":\"True\",\"bingroup\":\"y\",\"histfunc\":\"sum\",\"hovertemplate\":\"Local Purchasing Power Index=74.5<br>sum of Cost of Living Plus Rent Index=%{x}<br>City=%{y}<extra></extra>\",\"legendgroup\":\"74.5\",\"marker\":{\"color\":\"#FFA15A\",\"pattern\":{\"shape\":\"\"}},\"name\":\"74.5\",\"offsetgroup\":\"74.5\",\"orientation\":\"h\",\"showlegend\":true,\"x\":[57.66],\"xaxis\":\"x\",\"y\":[\"Seoul, South Korea\"],\"yaxis\":\"y\",\"type\":\"histogram\"},{\"alignmentgroup\":\"True\",\"bingroup\":\"y\",\"histfunc\":\"sum\",\"hovertemplate\":\"Local Purchasing Power Index=86.92<br>sum of Cost of Living Plus Rent Index=%{x}<br>City=%{y}<extra></extra>\",\"legendgroup\":\"86.92\",\"marker\":{\"color\":\"#19d3f3\",\"pattern\":{\"shape\":\"\"}},\"name\":\"86.92\",\"offsetgroup\":\"86.92\",\"orientation\":\"h\",\"showlegend\":true,\"x\":[59.26],\"xaxis\":\"x\",\"y\":[\"Eindhoven, Netherlands\"],\"yaxis\":\"y\",\"type\":\"histogram\"},{\"alignmentgroup\":\"True\",\"bingroup\":\"y\",\"histfunc\":\"sum\",\"hovertemplate\":\"Local Purchasing Power Index=94.79<br>sum of Cost of Living Plus Rent Index=%{x}<br>City=%{y}<extra></extra>\",\"legendgroup\":\"94.79\",\"marker\":{\"color\":\"#FF6692\",\"pattern\":{\"shape\":\"\"}},\"name\":\"94.79\",\"offsetgroup\":\"94.79\",\"orientation\":\"h\",\"showlegend\":true,\"x\":[54.85],\"xaxis\":\"x\",\"y\":[\"Odense, Denmark\"],\"yaxis\":\"y\",\"type\":\"histogram\"},{\"alignmentgroup\":\"True\",\"bingroup\":\"y\",\"histfunc\":\"sum\",\"hovertemplate\":\"Local Purchasing Power Index=93.71<br>sum of Cost of Living Plus Rent Index=%{x}<br>City=%{y}<extra></extra>\",\"legendgroup\":\"93.71\",\"marker\":{\"color\":\"#B6E880\",\"pattern\":{\"shape\":\"\"}},\"name\":\"93.71\",\"offsetgroup\":\"93.71\",\"orientation\":\"h\",\"showlegend\":true,\"x\":[71.88],\"xaxis\":\"x\",\"y\":[\"Miami, FL, United States\"],\"yaxis\":\"y\",\"type\":\"histogram\"},{\"alignmentgroup\":\"True\",\"bingroup\":\"y\",\"histfunc\":\"sum\",\"hovertemplate\":\"Local Purchasing Power Index=78.31<br>sum of Cost of Living Plus Rent Index=%{x}<br>City=%{y}<extra></extra>\",\"legendgroup\":\"78.31\",\"marker\":{\"color\":\"#FF97FF\",\"pattern\":{\"shape\":\"\"}},\"name\":\"78.31\",\"offsetgroup\":\"78.31\",\"orientation\":\"h\",\"showlegend\":true,\"x\":[54.51],\"xaxis\":\"x\",\"y\":[\"Groningen, Netherlands\"],\"yaxis\":\"y\",\"type\":\"histogram\"},{\"alignmentgroup\":\"True\",\"bingroup\":\"y\",\"histfunc\":\"sum\",\"hovertemplate\":\"Local Purchasing Power Index=101.43<br>sum of Cost of Living Plus Rent Index=%{x}<br>City=%{y}<extra></extra>\",\"legendgroup\":\"101.43\",\"marker\":{\"color\":\"#FECB52\",\"pattern\":{\"shape\":\"\"}},\"name\":\"101.43\",\"offsetgroup\":\"101.43\",\"orientation\":\"h\",\"showlegend\":true,\"x\":[65.07],\"xaxis\":\"x\",\"y\":[\"Sacramento, CA, United States\"],\"yaxis\":\"y\",\"type\":\"histogram\"},{\"alignmentgroup\":\"True\",\"bingroup\":\"y\",\"histfunc\":\"sum\",\"hovertemplate\":\"Local Purchasing Power Index=86.52<br>sum of Cost of Living Plus Rent Index=%{x}<br>City=%{y}<extra></extra>\",\"legendgroup\":\"86.52\",\"marker\":{\"color\":\"#636efa\",\"pattern\":{\"shape\":\"\"}},\"name\":\"86.52\",\"offsetgroup\":\"86.52\",\"orientation\":\"h\",\"showlegend\":true,\"x\":[56.0],\"xaxis\":\"x\",\"y\":[\"Nijmegen, Netherlands\"],\"yaxis\":\"y\",\"type\":\"histogram\"},{\"alignmentgroup\":\"True\",\"bingroup\":\"y\",\"histfunc\":\"sum\",\"hovertemplate\":\"Local Purchasing Power Index=95.16<br>sum of Cost of Living Plus Rent Index=%{x}<br>City=%{y}<extra></extra>\",\"legendgroup\":\"95.16\",\"marker\":{\"color\":\"#EF553B\",\"pattern\":{\"shape\":\"\"}},\"name\":\"95.16\",\"offsetgroup\":\"95.16\",\"orientation\":\"h\",\"showlegend\":true,\"x\":[63.37],\"xaxis\":\"x\",\"y\":[\"Munich, Germany\"],\"yaxis\":\"y\",\"type\":\"histogram\"},{\"alignmentgroup\":\"True\",\"bingroup\":\"y\",\"histfunc\":\"sum\",\"hovertemplate\":\"Local Purchasing Power Index=71.94<br>sum of Cost of Living Plus Rent Index=%{x}<br>City=%{y}<extra></extra>\",\"legendgroup\":\"71.94\",\"marker\":{\"color\":\"#00cc96\",\"pattern\":{\"shape\":\"\"}},\"name\":\"71.94\",\"offsetgroup\":\"71.94\",\"orientation\":\"h\",\"showlegend\":true,\"x\":[59.8],\"xaxis\":\"x\",\"y\":[\"Galway, Ireland\"],\"yaxis\":\"y\",\"type\":\"histogram\"},{\"alignmentgroup\":\"True\",\"bingroup\":\"y\",\"histfunc\":\"sum\",\"hovertemplate\":\"Local Purchasing Power Index=62.75<br>sum of Cost of Living Plus Rent Index=%{x}<br>City=%{y}<extra></extra>\",\"legendgroup\":\"62.75\",\"marker\":{\"color\":\"#ab63fa\",\"pattern\":{\"shape\":\"\"}},\"name\":\"62.75\",\"offsetgroup\":\"62.75\",\"orientation\":\"h\",\"showlegend\":true,\"x\":[51.23],\"xaxis\":\"x\",\"y\":[\"St. John's, Newfoundland and Labrador, Canada\"],\"yaxis\":\"y\",\"type\":\"histogram\"},{\"alignmentgroup\":\"True\",\"bingroup\":\"y\",\"histfunc\":\"sum\",\"hovertemplate\":\"Local Purchasing Power Index=68.01<br>sum of Cost of Living Plus Rent Index=%{x}<br>City=%{y}<extra></extra>\",\"legendgroup\":\"68.01\",\"marker\":{\"color\":\"#FFA15A\",\"pattern\":{\"shape\":\"\"}},\"name\":\"68.01\",\"offsetgroup\":\"68.01\",\"orientation\":\"h\",\"showlegend\":true,\"x\":[55.2],\"xaxis\":\"x\",\"y\":[\"Innsbruck, Austria\"],\"yaxis\":\"y\",\"type\":\"histogram\"},{\"alignmentgroup\":\"True\",\"bingroup\":\"y\",\"histfunc\":\"sum\",\"hovertemplate\":\"Local Purchasing Power Index=110.04<br>sum of Cost of Living Plus Rent Index=%{x}<br>City=%{y}<extra></extra>\",\"legendgroup\":\"110.04\",\"marker\":{\"color\":\"#19d3f3\",\"pattern\":{\"shape\":\"\"}},\"name\":\"110.04\",\"offsetgroup\":\"110.04\",\"orientation\":\"h\",\"showlegend\":true,\"x\":[56.57],\"xaxis\":\"x\",\"y\":[\"Perth, Australia\"],\"yaxis\":\"y\",\"type\":\"histogram\"},{\"alignmentgroup\":\"True\",\"bingroup\":\"y\",\"histfunc\":\"sum\",\"hovertemplate\":\"Local Purchasing Power Index=121.26<br>sum of Cost of Living Plus Rent Index=%{x}<br>City=%{y}<extra></extra>\",\"legendgroup\":\"121.26\",\"marker\":{\"color\":\"#FF6692\",\"pattern\":{\"shape\":\"\"}},\"name\":\"121.26\",\"offsetgroup\":\"121.26\",\"orientation\":\"h\",\"showlegend\":true,\"x\":[63.83],\"xaxis\":\"x\",\"y\":[\"Charleston, SC, United States\"],\"yaxis\":\"y\",\"type\":\"histogram\"},{\"alignmentgroup\":\"True\",\"bingroup\":\"y\",\"histfunc\":\"sum\",\"hovertemplate\":\"Local Purchasing Power Index=94.16<br>sum of Cost of Living Plus Rent Index=%{x}<br>City=%{y}<extra></extra>\",\"legendgroup\":\"94.16\",\"marker\":{\"color\":\"#B6E880\",\"pattern\":{\"shape\":\"\"}},\"name\":\"94.16\",\"offsetgroup\":\"94.16\",\"orientation\":\"h\",\"showlegend\":true,\"x\":[62.3],\"xaxis\":\"x\",\"y\":[\"Asheville, NC, United States\"],\"yaxis\":\"y\",\"type\":\"histogram\"},{\"alignmentgroup\":\"True\",\"bingroup\":\"y\",\"histfunc\":\"sum\",\"hovertemplate\":\"Local Purchasing Power Index=82.65<br>sum of Cost of Living Plus Rent Index=%{x}<br>City=%{y}<extra></extra>\",\"legendgroup\":\"82.65\",\"marker\":{\"color\":\"#FF97FF\",\"pattern\":{\"shape\":\"\"}},\"name\":\"82.65\",\"offsetgroup\":\"82.65\",\"orientation\":\"h\",\"showlegend\":true,\"x\":[55.76],\"xaxis\":\"x\",\"y\":[\"Lyon, France\"],\"yaxis\":\"y\",\"type\":\"histogram\"},{\"alignmentgroup\":\"True\",\"bingroup\":\"y\",\"histfunc\":\"sum\",\"hovertemplate\":\"Local Purchasing Power Index=77.18<br>sum of Cost of Living Plus Rent Index=%{x}<br>City=%{y}<extra></extra>\",\"legendgroup\":\"77.18\",\"marker\":{\"color\":\"#FECB52\",\"pattern\":{\"shape\":\"\"}},\"name\":\"77.18\",\"offsetgroup\":\"77.18\",\"orientation\":\"h\",\"showlegend\":true,\"x\":[58.49],\"xaxis\":\"x\",\"y\":[\"Leiden, Netherlands\"],\"yaxis\":\"y\",\"type\":\"histogram\"},{\"alignmentgroup\":\"True\",\"bingroup\":\"y\",\"histfunc\":\"sum\",\"hovertemplate\":\"Local Purchasing Power Index=83.51<br>sum of Cost of Living Plus Rent Index=%{x}<br>City=%{y}<extra></extra>\",\"legendgroup\":\"83.51\",\"marker\":{\"color\":\"#636efa\",\"pattern\":{\"shape\":\"\"}},\"name\":\"83.51\",\"offsetgroup\":\"83.51\",\"orientation\":\"h\",\"showlegend\":true,\"x\":[58.96],\"xaxis\":\"x\",\"y\":[\"Helsinki, Finland\"],\"yaxis\":\"y\",\"type\":\"histogram\"},{\"alignmentgroup\":\"True\",\"bingroup\":\"y\",\"histfunc\":\"sum\",\"hovertemplate\":\"Local Purchasing Power Index=135.26<br>sum of Cost of Living Plus Rent Index=%{x}<br>City=%{y}<extra></extra>\",\"legendgroup\":\"135.26\",\"marker\":{\"color\":\"#EF553B\",\"pattern\":{\"shape\":\"\"}},\"name\":\"135.26\",\"offsetgroup\":\"135.26\",\"orientation\":\"h\",\"showlegend\":true,\"x\":[67.77],\"xaxis\":\"x\",\"y\":[\"Chicago, IL, United States\"],\"yaxis\":\"y\",\"type\":\"histogram\"},{\"alignmentgroup\":\"True\",\"bingroup\":\"y\",\"histfunc\":\"sum\",\"hovertemplate\":\"Local Purchasing Power Index=101.32<br>sum of Cost of Living Plus Rent Index=%{x}<br>City=%{y}<extra></extra>\",\"legendgroup\":\"101.32\",\"marker\":{\"color\":\"#00cc96\",\"pattern\":{\"shape\":\"\"}},\"name\":\"101.32\",\"offsetgroup\":\"101.32\",\"orientation\":\"h\",\"showlegend\":true,\"x\":[67.35],\"xaxis\":\"x\",\"y\":[\"Fort Lauderdale, FL, United States\"],\"yaxis\":\"y\",\"type\":\"histogram\"},{\"alignmentgroup\":\"True\",\"bingroup\":\"y\",\"histfunc\":\"sum\",\"hovertemplate\":\"Local Purchasing Power Index=108.09<br>sum of Cost of Living Plus Rent Index=%{x}<br>City=%{y}<extra></extra>\",\"legendgroup\":\"108.09\",\"marker\":{\"color\":\"#ab63fa\",\"pattern\":{\"shape\":\"\"}},\"name\":\"108.09\",\"offsetgroup\":\"108.09\",\"orientation\":\"h\",\"showlegend\":true,\"x\":[65.62],\"xaxis\":\"x\",\"y\":[\"Portland, OR, United States\"],\"yaxis\":\"y\",\"type\":\"histogram\"},{\"alignmentgroup\":\"True\",\"bingroup\":\"y\",\"histfunc\":\"sum\",\"hovertemplate\":\"Local Purchasing Power Index=102.16<br>sum of Cost of Living Plus Rent Index=%{x}<br>City=%{y}<extra></extra>\",\"legendgroup\":\"102.16\",\"marker\":{\"color\":\"#FFA15A\",\"pattern\":{\"shape\":\"\"}},\"name\":\"102.16\",\"offsetgroup\":\"102.16\",\"orientation\":\"h\",\"showlegend\":true,\"x\":[58.9],\"xaxis\":\"x\",\"y\":[\"Melbourne, Australia\"],\"yaxis\":\"y\",\"type\":\"histogram\"},{\"alignmentgroup\":\"True\",\"bingroup\":\"y\",\"histfunc\":\"sum\",\"hovertemplate\":\"Local Purchasing Power Index=81.58<br>sum of Cost of Living Plus Rent Index=%{x}<br>City=%{y}<extra></extra>\",\"legendgroup\":\"81.58\",\"marker\":{\"color\":\"#19d3f3\",\"pattern\":{\"shape\":\"\"}},\"name\":\"81.58\",\"offsetgroup\":\"81.58\",\"orientation\":\"h\",\"showlegend\":true,\"x\":[54.41,48.64],\"xaxis\":\"x\",\"y\":[\"Osaka, Japan\",\"Grenoble, France\"],\"yaxis\":\"y\",\"type\":\"histogram\"},{\"alignmentgroup\":\"True\",\"bingroup\":\"y\",\"histfunc\":\"sum\",\"hovertemplate\":\"Local Purchasing Power Index=85.49<br>sum of Cost of Living Plus Rent Index=%{x}<br>City=%{y}<extra></extra>\",\"legendgroup\":\"85.49\",\"marker\":{\"color\":\"#FF6692\",\"pattern\":{\"shape\":\"\"}},\"name\":\"85.49\",\"offsetgroup\":\"85.49\",\"orientation\":\"h\",\"showlegend\":true,\"x\":[62.02],\"xaxis\":\"x\",\"y\":[\"Wellington, New Zealand\"],\"yaxis\":\"y\",\"type\":\"histogram\"},{\"alignmentgroup\":\"True\",\"bingroup\":\"y\",\"histfunc\":\"sum\",\"hovertemplate\":\"Local Purchasing Power Index=89.12<br>sum of Cost of Living Plus Rent Index=%{x}<br>City=%{y}<extra></extra>\",\"legendgroup\":\"89.12\",\"marker\":{\"color\":\"#B6E880\",\"pattern\":{\"shape\":\"\"}},\"name\":\"89.12\",\"offsetgroup\":\"89.12\",\"orientation\":\"h\",\"showlegend\":true,\"x\":[61.77],\"xaxis\":\"x\",\"y\":[\"Victoria, Canada\"],\"yaxis\":\"y\",\"type\":\"histogram\"},{\"alignmentgroup\":\"True\",\"bingroup\":\"y\",\"histfunc\":\"sum\",\"hovertemplate\":\"Local Purchasing Power Index=87.68<br>sum of Cost of Living Plus Rent Index=%{x}<br>City=%{y}<extra></extra>\",\"legendgroup\":\"87.68\",\"marker\":{\"color\":\"#FF97FF\",\"pattern\":{\"shape\":\"\"}},\"name\":\"87.68\",\"offsetgroup\":\"87.68\",\"orientation\":\"h\",\"showlegend\":true,\"x\":[67.17],\"xaxis\":\"x\",\"y\":[\"Vancouver, Canada\"],\"yaxis\":\"y\",\"type\":\"histogram\"},{\"alignmentgroup\":\"True\",\"bingroup\":\"y\",\"histfunc\":\"sum\",\"hovertemplate\":\"Local Purchasing Power Index=130.67<br>sum of Cost of Living Plus Rent Index=%{x}<br>City=%{y}<extra></extra>\",\"legendgroup\":\"130.67\",\"marker\":{\"color\":\"#FECB52\",\"pattern\":{\"shape\":\"\"}},\"name\":\"130.67\",\"offsetgroup\":\"130.67\",\"orientation\":\"h\",\"showlegend\":true,\"x\":[63.47],\"xaxis\":\"x\",\"y\":[\"Atlanta, GA, United States\"],\"yaxis\":\"y\",\"type\":\"histogram\"},{\"alignmentgroup\":\"True\",\"bingroup\":\"y\",\"histfunc\":\"sum\",\"hovertemplate\":\"Local Purchasing Power Index=104.24<br>sum of Cost of Living Plus Rent Index=%{x}<br>City=%{y}<extra></extra>\",\"legendgroup\":\"104.24\",\"marker\":{\"color\":\"#636efa\",\"pattern\":{\"shape\":\"\"}},\"name\":\"104.24\",\"offsetgroup\":\"104.24\",\"orientation\":\"h\",\"showlegend\":true,\"x\":[56.06],\"xaxis\":\"x\",\"y\":[\"Adelaide, Australia\"],\"yaxis\":\"y\",\"type\":\"histogram\"},{\"alignmentgroup\":\"True\",\"bingroup\":\"y\",\"histfunc\":\"sum\",\"hovertemplate\":\"Local Purchasing Power Index=104.91<br>sum of Cost of Living Plus Rent Index=%{x}<br>City=%{y}<extra></extra>\",\"legendgroup\":\"104.91\",\"marker\":{\"color\":\"#EF553B\",\"pattern\":{\"shape\":\"\"}},\"name\":\"104.91\",\"offsetgroup\":\"104.91\",\"orientation\":\"h\",\"showlegend\":true,\"x\":[54.01],\"xaxis\":\"x\",\"y\":[\"Lund, Sweden\"],\"yaxis\":\"y\",\"type\":\"histogram\"},{\"alignmentgroup\":\"True\",\"bingroup\":\"y\",\"histfunc\":\"sum\",\"hovertemplate\":\"Local Purchasing Power Index=90.06<br>sum of Cost of Living Plus Rent Index=%{x}<br>City=%{y}<extra></extra>\",\"legendgroup\":\"90.06\",\"marker\":{\"color\":\"#00cc96\",\"pattern\":{\"shape\":\"\"}},\"name\":\"90.06\",\"offsetgroup\":\"90.06\",\"orientation\":\"h\",\"showlegend\":true,\"x\":[52.27],\"xaxis\":\"x\",\"y\":[\"Toulouse, France\"],\"yaxis\":\"y\",\"type\":\"histogram\"},{\"alignmentgroup\":\"True\",\"bingroup\":\"y\",\"histfunc\":\"sum\",\"hovertemplate\":\"Local Purchasing Power Index=79.64<br>sum of Cost of Living Plus Rent Index=%{x}<br>City=%{y}<extra></extra>\",\"legendgroup\":\"79.64\",\"marker\":{\"color\":\"#ab63fa\",\"pattern\":{\"shape\":\"\"}},\"name\":\"79.64\",\"offsetgroup\":\"79.64\",\"orientation\":\"h\",\"showlegend\":true,\"x\":[58.44],\"xaxis\":\"x\",\"y\":[\"Guelph, Canada\"],\"yaxis\":\"y\",\"type\":\"histogram\"},{\"alignmentgroup\":\"True\",\"bingroup\":\"y\",\"histfunc\":\"sum\",\"hovertemplate\":\"Local Purchasing Power Index=91.36<br>sum of Cost of Living Plus Rent Index=%{x}<br>City=%{y}<extra></extra>\",\"legendgroup\":\"91.36\",\"marker\":{\"color\":\"#FFA15A\",\"pattern\":{\"shape\":\"\"}},\"name\":\"91.36\",\"offsetgroup\":\"91.36\",\"orientation\":\"h\",\"showlegend\":true,\"x\":[60.07],\"xaxis\":\"x\",\"y\":[\"Rotterdam, Netherlands\"],\"yaxis\":\"y\",\"type\":\"histogram\"},{\"alignmentgroup\":\"True\",\"bingroup\":\"y\",\"histfunc\":\"sum\",\"hovertemplate\":\"Local Purchasing Power Index=106.63<br>sum of Cost of Living Plus Rent Index=%{x}<br>City=%{y}<extra></extra>\",\"legendgroup\":\"106.63\",\"marker\":{\"color\":\"#19d3f3\",\"pattern\":{\"shape\":\"\"}},\"name\":\"106.63\",\"offsetgroup\":\"106.63\",\"orientation\":\"h\",\"showlegend\":true,\"x\":[61.07],\"xaxis\":\"x\",\"y\":[\"Saint Paul, MN, United States\"],\"yaxis\":\"y\",\"type\":\"histogram\"},{\"alignmentgroup\":\"True\",\"bingroup\":\"y\",\"histfunc\":\"sum\",\"hovertemplate\":\"Local Purchasing Power Index=84.45<br>sum of Cost of Living Plus Rent Index=%{x}<br>City=%{y}<extra></extra>\",\"legendgroup\":\"84.45\",\"marker\":{\"color\":\"#FF6692\",\"pattern\":{\"shape\":\"\"}},\"name\":\"84.45\",\"offsetgroup\":\"84.45\",\"orientation\":\"h\",\"showlegend\":true,\"x\":[60.44],\"xaxis\":\"x\",\"y\":[\"Cork, Ireland\"],\"yaxis\":\"y\",\"type\":\"histogram\"},{\"alignmentgroup\":\"True\",\"bingroup\":\"y\",\"histfunc\":\"sum\",\"hovertemplate\":\"Local Purchasing Power Index=78.75<br>sum of Cost of Living Plus Rent Index=%{x}<br>City=%{y}<extra></extra>\",\"legendgroup\":\"78.75\",\"marker\":{\"color\":\"#B6E880\",\"pattern\":{\"shape\":\"\"}},\"name\":\"78.75\",\"offsetgroup\":\"78.75\",\"orientation\":\"h\",\"showlegend\":true,\"x\":[63.41],\"xaxis\":\"x\",\"y\":[\"Guildford, United Kingdom\"],\"yaxis\":\"y\",\"type\":\"histogram\"},{\"alignmentgroup\":\"True\",\"bingroup\":\"y\",\"histfunc\":\"sum\",\"hovertemplate\":\"Local Purchasing Power Index=105.41<br>sum of Cost of Living Plus Rent Index=%{x}<br>City=%{y}<extra></extra>\",\"legendgroup\":\"105.41\",\"marker\":{\"color\":\"#FF97FF\",\"pattern\":{\"shape\":\"\"}},\"name\":\"105.41\",\"offsetgroup\":\"105.41\",\"orientation\":\"h\",\"showlegend\":true,\"x\":[63.01],\"xaxis\":\"x\",\"y\":[\"Plano, TX, United States\"],\"yaxis\":\"y\",\"type\":\"histogram\"},{\"alignmentgroup\":\"True\",\"bingroup\":\"y\",\"histfunc\":\"sum\",\"hovertemplate\":\"Local Purchasing Power Index=105.11<br>sum of Cost of Living Plus Rent Index=%{x}<br>City=%{y}<extra></extra>\",\"legendgroup\":\"105.11\",\"marker\":{\"color\":\"#FECB52\",\"pattern\":{\"shape\":\"\"}},\"name\":\"105.11\",\"offsetgroup\":\"105.11\",\"orientation\":\"h\",\"showlegend\":true,\"x\":[60.26],\"xaxis\":\"x\",\"y\":[\"Canberra, Australia\"],\"yaxis\":\"y\",\"type\":\"histogram\"},{\"alignmentgroup\":\"True\",\"bingroup\":\"y\",\"histfunc\":\"sum\",\"hovertemplate\":\"Local Purchasing Power Index=98.28<br>sum of Cost of Living Plus Rent Index=%{x}<br>City=%{y}<extra></extra>\",\"legendgroup\":\"98.28\",\"marker\":{\"color\":\"#636efa\",\"pattern\":{\"shape\":\"\"}},\"name\":\"98.28\",\"offsetgroup\":\"98.28\",\"orientation\":\"h\",\"showlegend\":true,\"x\":[62.02],\"xaxis\":\"x\",\"y\":[\"Tampa, FL, United States\"],\"yaxis\":\"y\",\"type\":\"histogram\"},{\"alignmentgroup\":\"True\",\"bingroup\":\"y\",\"histfunc\":\"sum\",\"hovertemplate\":\"Local Purchasing Power Index=101.22<br>sum of Cost of Living Plus Rent Index=%{x}<br>City=%{y}<extra></extra>\",\"legendgroup\":\"101.22\",\"marker\":{\"color\":\"#EF553B\",\"pattern\":{\"shape\":\"\"}},\"name\":\"101.22\",\"offsetgroup\":\"101.22\",\"orientation\":\"h\",\"showlegend\":true,\"x\":[58.99],\"xaxis\":\"x\",\"y\":[\"Gold Coast, Australia\"],\"yaxis\":\"y\",\"type\":\"histogram\"},{\"alignmentgroup\":\"True\",\"bingroup\":\"y\",\"histfunc\":\"sum\",\"hovertemplate\":\"Local Purchasing Power Index=104.03<br>sum of Cost of Living Plus Rent Index=%{x}<br>City=%{y}<extra></extra>\",\"legendgroup\":\"104.03\",\"marker\":{\"color\":\"#00cc96\",\"pattern\":{\"shape\":\"\"}},\"name\":\"104.03\",\"offsetgroup\":\"104.03\",\"orientation\":\"h\",\"showlegend\":true,\"x\":[63.25],\"xaxis\":\"x\",\"y\":[\"Oxford, United Kingdom\"],\"yaxis\":\"y\",\"type\":\"histogram\"},{\"alignmentgroup\":\"True\",\"bingroup\":\"y\",\"histfunc\":\"sum\",\"hovertemplate\":\"Local Purchasing Power Index=57.39<br>sum of Cost of Living Plus Rent Index=%{x}<br>City=%{y}<extra></extra>\",\"legendgroup\":\"57.39\",\"marker\":{\"color\":\"#ab63fa\",\"pattern\":{\"shape\":\"\"}},\"name\":\"57.39\",\"offsetgroup\":\"57.39\",\"orientation\":\"h\",\"showlegend\":true,\"x\":[67.18],\"xaxis\":\"x\",\"y\":[\"Nagoya, Japan\"],\"yaxis\":\"y\",\"type\":\"histogram\"},{\"alignmentgroup\":\"True\",\"bingroup\":\"y\",\"histfunc\":\"sum\",\"hovertemplate\":\"Local Purchasing Power Index=88.99<br>sum of Cost of Living Plus Rent Index=%{x}<br>City=%{y}<extra></extra>\",\"legendgroup\":\"88.99\",\"marker\":{\"color\":\"#FFA15A\",\"pattern\":{\"shape\":\"\"}},\"name\":\"88.99\",\"offsetgroup\":\"88.99\",\"orientation\":\"h\",\"showlegend\":true,\"x\":[50.59],\"xaxis\":\"x\",\"y\":[\"Lincoln, United Kingdom\"],\"yaxis\":\"y\",\"type\":\"histogram\"},{\"alignmentgroup\":\"True\",\"bingroup\":\"y\",\"histfunc\":\"sum\",\"hovertemplate\":\"Local Purchasing Power Index=73.46<br>sum of Cost of Living Plus Rent Index=%{x}<br>City=%{y}<extra></extra>\",\"legendgroup\":\"73.46\",\"marker\":{\"color\":\"#19d3f3\",\"pattern\":{\"shape\":\"\"}},\"name\":\"73.46\",\"offsetgroup\":\"73.46\",\"orientation\":\"h\",\"showlegend\":true,\"x\":[56.1],\"xaxis\":\"x\",\"y\":[\"York, United Kingdom\"],\"yaxis\":\"y\",\"type\":\"histogram\"},{\"alignmentgroup\":\"True\",\"bingroup\":\"y\",\"histfunc\":\"sum\",\"hovertemplate\":\"Local Purchasing Power Index=127.94<br>sum of Cost of Living Plus Rent Index=%{x}<br>City=%{y}<extra></extra>\",\"legendgroup\":\"127.94\",\"marker\":{\"color\":\"#FF6692\",\"pattern\":{\"shape\":\"\"}},\"name\":\"127.94\",\"offsetgroup\":\"127.94\",\"orientation\":\"h\",\"showlegend\":true,\"x\":[72.33],\"xaxis\":\"x\",\"y\":[\"San Diego, CA, United States\"],\"yaxis\":\"y\",\"type\":\"histogram\"},{\"alignmentgroup\":\"True\",\"bingroup\":\"y\",\"histfunc\":\"sum\",\"hovertemplate\":\"Local Purchasing Power Index=125.32<br>sum of Cost of Living Plus Rent Index=%{x}<br>City=%{y}<extra></extra>\",\"legendgroup\":\"125.32\",\"marker\":{\"color\":\"#B6E880\",\"pattern\":{\"shape\":\"\"}},\"name\":\"125.32\",\"offsetgroup\":\"125.32\",\"orientation\":\"h\",\"showlegend\":true,\"x\":[56.6],\"xaxis\":\"x\",\"y\":[\"Cleveland, OH, United States\"],\"yaxis\":\"y\",\"type\":\"histogram\"},{\"alignmentgroup\":\"True\",\"bingroup\":\"y\",\"histfunc\":\"sum\",\"hovertemplate\":\"Local Purchasing Power Index=106.03<br>sum of Cost of Living Plus Rent Index=%{x}<br>City=%{y}<extra></extra>\",\"legendgroup\":\"106.03\",\"marker\":{\"color\":\"#FF97FF\",\"pattern\":{\"shape\":\"\"}},\"name\":\"106.03\",\"offsetgroup\":\"106.03\",\"orientation\":\"h\",\"showlegend\":true,\"x\":[54.17],\"xaxis\":\"x\",\"y\":[\"Omaha, NE, United States\"],\"yaxis\":\"y\",\"type\":\"histogram\"},{\"alignmentgroup\":\"True\",\"bingroup\":\"y\",\"histfunc\":\"sum\",\"hovertemplate\":\"Local Purchasing Power Index=83.59<br>sum of Cost of Living Plus Rent Index=%{x}<br>City=%{y}<extra></extra>\",\"legendgroup\":\"83.59\",\"marker\":{\"color\":\"#FECB52\",\"pattern\":{\"shape\":\"\"}},\"name\":\"83.59\",\"offsetgroup\":\"83.59\",\"orientation\":\"h\",\"showlegend\":true,\"x\":[53.39],\"xaxis\":\"x\",\"y\":[\"Leuven, Belgium\"],\"yaxis\":\"y\",\"type\":\"histogram\"},{\"alignmentgroup\":\"True\",\"bingroup\":\"y\",\"histfunc\":\"sum\",\"hovertemplate\":\"Local Purchasing Power Index=100.89<br>sum of Cost of Living Plus Rent Index=%{x}<br>City=%{y}<extra></extra>\",\"legendgroup\":\"100.89\",\"marker\":{\"color\":\"#636efa\",\"pattern\":{\"shape\":\"\"}},\"name\":\"100.89\",\"offsetgroup\":\"100.89\",\"orientation\":\"h\",\"showlegend\":true,\"x\":[59.53],\"xaxis\":\"x\",\"y\":[\"Reading, United Kingdom\"],\"yaxis\":\"y\",\"type\":\"histogram\"},{\"alignmentgroup\":\"True\",\"bingroup\":\"y\",\"histfunc\":\"sum\",\"hovertemplate\":\"Local Purchasing Power Index=123.18<br>sum of Cost of Living Plus Rent Index=%{x}<br>City=%{y}<extra></extra>\",\"legendgroup\":\"123.18\",\"marker\":{\"color\":\"#EF553B\",\"pattern\":{\"shape\":\"\"}},\"name\":\"123.18\",\"offsetgroup\":\"123.18\",\"orientation\":\"h\",\"showlegend\":true,\"x\":[54.51],\"xaxis\":\"x\",\"y\":[\"Hamilton, New Zealand\"],\"yaxis\":\"y\",\"type\":\"histogram\"},{\"alignmentgroup\":\"True\",\"bingroup\":\"y\",\"histfunc\":\"sum\",\"hovertemplate\":\"Local Purchasing Power Index=129.98<br>sum of Cost of Living Plus Rent Index=%{x}<br>City=%{y}<extra></extra>\",\"legendgroup\":\"129.98\",\"marker\":{\"color\":\"#00cc96\",\"pattern\":{\"shape\":\"\"}},\"name\":\"129.98\",\"offsetgroup\":\"129.98\",\"orientation\":\"h\",\"showlegend\":true,\"x\":[65.88],\"xaxis\":\"x\",\"y\":[\"Denver, CO, United States\"],\"yaxis\":\"y\",\"type\":\"histogram\"},{\"alignmentgroup\":\"True\",\"bingroup\":\"y\",\"histfunc\":\"sum\",\"hovertemplate\":\"Local Purchasing Power Index=83.94<br>sum of Cost of Living Plus Rent Index=%{x}<br>City=%{y}<extra></extra>\",\"legendgroup\":\"83.94\",\"marker\":{\"color\":\"#ab63fa\",\"pattern\":{\"shape\":\"\"}},\"name\":\"83.94\",\"offsetgroup\":\"83.94\",\"orientation\":\"h\",\"showlegend\":true,\"x\":[52.92],\"xaxis\":\"x\",\"y\":[\"Uppsala, Sweden\"],\"yaxis\":\"y\",\"type\":\"histogram\"},{\"alignmentgroup\":\"True\",\"bingroup\":\"y\",\"histfunc\":\"sum\",\"hovertemplate\":\"Local Purchasing Power Index=118.92<br>sum of Cost of Living Plus Rent Index=%{x}<br>City=%{y}<extra></extra>\",\"legendgroup\":\"118.92\",\"marker\":{\"color\":\"#FFA15A\",\"pattern\":{\"shape\":\"\"}},\"name\":\"118.92\",\"offsetgroup\":\"118.92\",\"orientation\":\"h\",\"showlegend\":true,\"x\":[57.48],\"xaxis\":\"x\",\"y\":[\"Newcastle, Australia\"],\"yaxis\":\"y\",\"type\":\"histogram\"},{\"alignmentgroup\":\"True\",\"bingroup\":\"y\",\"histfunc\":\"sum\",\"hovertemplate\":\"Local Purchasing Power Index=87.92<br>sum of Cost of Living Plus Rent Index=%{x}<br>City=%{y}<extra></extra>\",\"legendgroup\":\"87.92\",\"marker\":{\"color\":\"#19d3f3\",\"pattern\":{\"shape\":\"\"}},\"name\":\"87.92\",\"offsetgroup\":\"87.92\",\"orientation\":\"h\",\"showlegend\":true,\"x\":[55.75],\"xaxis\":\"x\",\"y\":[\"Halifax, Canada\"],\"yaxis\":\"y\",\"type\":\"histogram\"},{\"alignmentgroup\":\"True\",\"bingroup\":\"y\",\"histfunc\":\"sum\",\"hovertemplate\":\"Local Purchasing Power Index=53.96<br>sum of Cost of Living Plus Rent Index=%{x}<br>City=%{y}<extra></extra>\",\"legendgroup\":\"53.96\",\"marker\":{\"color\":\"#FF6692\",\"pattern\":{\"shape\":\"\"}},\"name\":\"53.96\",\"offsetgroup\":\"53.96\",\"orientation\":\"h\",\"showlegend\":true,\"x\":[60.65],\"xaxis\":\"x\",\"y\":[\"Milan, Italy\"],\"yaxis\":\"y\",\"type\":\"histogram\"},{\"alignmentgroup\":\"True\",\"bingroup\":\"y\",\"histfunc\":\"sum\",\"hovertemplate\":\"Local Purchasing Power Index=47.96<br>sum of Cost of Living Plus Rent Index=%{x}<br>City=%{y}<extra></extra>\",\"legendgroup\":\"47.96\",\"marker\":{\"color\":\"#B6E880\",\"pattern\":{\"shape\":\"\"}},\"name\":\"47.96\",\"offsetgroup\":\"47.96\",\"orientation\":\"h\",\"showlegend\":true,\"x\":[54.51],\"xaxis\":\"x\",\"y\":[\"Sliema, Malta\"],\"yaxis\":\"y\",\"type\":\"histogram\"},{\"alignmentgroup\":\"True\",\"bingroup\":\"y\",\"histfunc\":\"sum\",\"hovertemplate\":\"Local Purchasing Power Index=79.03<br>sum of Cost of Living Plus Rent Index=%{x}<br>City=%{y}<extra></extra>\",\"legendgroup\":\"79.03\",\"marker\":{\"color\":\"#FF97FF\",\"pattern\":{\"shape\":\"\"}},\"name\":\"79.03\",\"offsetgroup\":\"79.03\",\"orientation\":\"h\",\"showlegend\":true,\"x\":[50.19],\"xaxis\":\"x\",\"y\":[\"Graz, Austria\"],\"yaxis\":\"y\",\"type\":\"histogram\"},{\"alignmentgroup\":\"True\",\"bingroup\":\"y\",\"histfunc\":\"sum\",\"hovertemplate\":\"Local Purchasing Power Index=87.04<br>sum of Cost of Living Plus Rent Index=%{x}<br>City=%{y}<extra></extra>\",\"legendgroup\":\"87.04\",\"marker\":{\"color\":\"#FECB52\",\"pattern\":{\"shape\":\"\"}},\"name\":\"87.04\",\"offsetgroup\":\"87.04\",\"orientation\":\"h\",\"showlegend\":true,\"x\":[55.15],\"xaxis\":\"x\",\"y\":[\"Brussels, Belgium\"],\"yaxis\":\"y\",\"type\":\"histogram\"},{\"alignmentgroup\":\"True\",\"bingroup\":\"y\",\"histfunc\":\"sum\",\"hovertemplate\":\"Local Purchasing Power Index=124.36<br>sum of Cost of Living Plus Rent Index=%{x}<br>City=%{y}<extra></extra>\",\"legendgroup\":\"124.36\",\"marker\":{\"color\":\"#636efa\",\"pattern\":{\"shape\":\"\"}},\"name\":\"124.36\",\"offsetgroup\":\"124.36\",\"orientation\":\"h\",\"showlegend\":true,\"x\":[53.32],\"xaxis\":\"x\",\"y\":[\"Buffalo, NY, United States\"],\"yaxis\":\"y\",\"type\":\"histogram\"},{\"alignmentgroup\":\"True\",\"bingroup\":\"y\",\"histfunc\":\"sum\",\"hovertemplate\":\"Local Purchasing Power Index=101.29<br>sum of Cost of Living Plus Rent Index=%{x}<br>City=%{y}<extra></extra>\",\"legendgroup\":\"101.29\",\"marker\":{\"color\":\"#EF553B\",\"pattern\":{\"shape\":\"\"}},\"name\":\"101.29\",\"offsetgroup\":\"101.29\",\"orientation\":\"h\",\"showlegend\":true,\"x\":[63.74],\"xaxis\":\"x\",\"y\":[\"Toronto, Canada\"],\"yaxis\":\"y\",\"type\":\"histogram\"},{\"alignmentgroup\":\"True\",\"bingroup\":\"y\",\"histfunc\":\"sum\",\"hovertemplate\":\"Local Purchasing Power Index=137.64<br>sum of Cost of Living Plus Rent Index=%{x}<br>City=%{y}<extra></extra>\",\"legendgroup\":\"137.64\",\"marker\":{\"color\":\"#00cc96\",\"pattern\":{\"shape\":\"\"}},\"name\":\"137.64\",\"offsetgroup\":\"137.64\",\"orientation\":\"h\",\"showlegend\":true,\"x\":[58.91],\"xaxis\":\"x\",\"y\":[\"Colorado Springs, CO, United States\"],\"yaxis\":\"y\",\"type\":\"histogram\"},{\"alignmentgroup\":\"True\",\"bingroup\":\"y\",\"histfunc\":\"sum\",\"hovertemplate\":\"Local Purchasing Power Index=157.35<br>sum of Cost of Living Plus Rent Index=%{x}<br>City=%{y}<extra></extra>\",\"legendgroup\":\"157.35\",\"marker\":{\"color\":\"#ab63fa\",\"pattern\":{\"shape\":\"\"}},\"name\":\"157.35\",\"offsetgroup\":\"157.35\",\"orientation\":\"h\",\"showlegend\":true,\"x\":[74.5],\"xaxis\":\"x\",\"y\":[\"Fremont, CA, United States\"],\"yaxis\":\"y\",\"type\":\"histogram\"},{\"alignmentgroup\":\"True\",\"bingroup\":\"y\",\"histfunc\":\"sum\",\"hovertemplate\":\"Local Purchasing Power Index=96.5<br>sum of Cost of Living Plus Rent Index=%{x}<br>City=%{y}<extra></extra>\",\"legendgroup\":\"96.5\",\"marker\":{\"color\":\"#FFA15A\",\"pattern\":{\"shape\":\"\"}},\"name\":\"96.5\",\"offsetgroup\":\"96.5\",\"orientation\":\"h\",\"showlegend\":true,\"x\":[58.24],\"xaxis\":\"x\",\"y\":[\"Limerick, Ireland\"],\"yaxis\":\"y\",\"type\":\"histogram\"},{\"alignmentgroup\":\"True\",\"bingroup\":\"y\",\"histfunc\":\"sum\",\"hovertemplate\":\"Local Purchasing Power Index=89.2<br>sum of Cost of Living Plus Rent Index=%{x}<br>City=%{y}<extra></extra>\",\"legendgroup\":\"89.2\",\"marker\":{\"color\":\"#19d3f3\",\"pattern\":{\"shape\":\"\"}},\"name\":\"89.2\",\"offsetgroup\":\"89.2\",\"orientation\":\"h\",\"showlegend\":true,\"x\":[56.09],\"xaxis\":\"x\",\"y\":[\"Salem, OR, United States\"],\"yaxis\":\"y\",\"type\":\"histogram\"},{\"alignmentgroup\":\"True\",\"bingroup\":\"y\",\"histfunc\":\"sum\",\"hovertemplate\":\"Local Purchasing Power Index=88.51<br>sum of Cost of Living Plus Rent Index=%{x}<br>City=%{y}<extra></extra>\",\"legendgroup\":\"88.51\",\"marker\":{\"color\":\"#FF6692\",\"pattern\":{\"shape\":\"\"}},\"name\":\"88.51\",\"offsetgroup\":\"88.51\",\"orientation\":\"h\",\"showlegend\":true,\"x\":[58.63],\"xaxis\":\"x\",\"y\":[\"The Hague (Den Haag), Netherlands\"],\"yaxis\":\"y\",\"type\":\"histogram\"},{\"alignmentgroup\":\"True\",\"bingroup\":\"y\",\"histfunc\":\"sum\",\"hovertemplate\":\"Local Purchasing Power Index=101.63<br>sum of Cost of Living Plus Rent Index=%{x}<br>City=%{y}<extra></extra>\",\"legendgroup\":\"101.63\",\"marker\":{\"color\":\"#B6E880\",\"pattern\":{\"shape\":\"\"}},\"name\":\"101.63\",\"offsetgroup\":\"101.63\",\"orientation\":\"h\",\"showlegend\":true,\"x\":[56.83],\"xaxis\":\"x\",\"y\":[\"Hobart, Australia\"],\"yaxis\":\"y\",\"type\":\"histogram\"},{\"alignmentgroup\":\"True\",\"bingroup\":\"y\",\"histfunc\":\"sum\",\"hovertemplate\":\"Local Purchasing Power Index=90.2<br>sum of Cost of Living Plus Rent Index=%{x}<br>City=%{y}<extra></extra>\",\"legendgroup\":\"90.2\",\"marker\":{\"color\":\"#FF97FF\",\"pattern\":{\"shape\":\"\"}},\"name\":\"90.2\",\"offsetgroup\":\"90.2\",\"orientation\":\"h\",\"showlegend\":true,\"x\":[54.51],\"xaxis\":\"x\",\"y\":[\"Christchurch, New Zealand\"],\"yaxis\":\"y\",\"type\":\"histogram\"},{\"alignmentgroup\":\"True\",\"bingroup\":\"y\",\"histfunc\":\"sum\",\"hovertemplate\":\"Local Purchasing Power Index=84.86<br>sum of Cost of Living Plus Rent Index=%{x}<br>City=%{y}<extra></extra>\",\"legendgroup\":\"84.86\",\"marker\":{\"color\":\"#FECB52\",\"pattern\":{\"shape\":\"\"}},\"name\":\"84.86\",\"offsetgroup\":\"84.86\",\"orientation\":\"h\",\"showlegend\":true,\"x\":[51.68],\"xaxis\":\"x\",\"y\":[\"Malmo, Sweden\"],\"yaxis\":\"y\",\"type\":\"histogram\"},{\"alignmentgroup\":\"True\",\"bingroup\":\"y\",\"histfunc\":\"sum\",\"hovertemplate\":\"Local Purchasing Power Index=157.39<br>sum of Cost of Living Plus Rent Index=%{x}<br>City=%{y}<extra></extra>\",\"legendgroup\":\"157.39\",\"marker\":{\"color\":\"#636efa\",\"pattern\":{\"shape\":\"\"}},\"name\":\"157.39\",\"offsetgroup\":\"157.39\",\"orientation\":\"h\",\"showlegend\":true,\"x\":[77.74],\"xaxis\":\"x\",\"y\":[\"San Jose, CA, United States\"],\"yaxis\":\"y\",\"type\":\"histogram\"},{\"alignmentgroup\":\"True\",\"bingroup\":\"y\",\"histfunc\":\"sum\",\"hovertemplate\":\"Local Purchasing Power Index=111.46<br>sum of Cost of Living Plus Rent Index=%{x}<br>City=%{y}<extra></extra>\",\"legendgroup\":\"111.46\",\"marker\":{\"color\":\"#EF553B\",\"pattern\":{\"shape\":\"\"}},\"name\":\"111.46\",\"offsetgroup\":\"111.46\",\"orientation\":\"h\",\"showlegend\":true,\"x\":[64.19],\"xaxis\":\"x\",\"y\":[\"Nashville, TN, United States\"],\"yaxis\":\"y\",\"type\":\"histogram\"},{\"alignmentgroup\":\"True\",\"bingroup\":\"y\",\"histfunc\":\"sum\",\"hovertemplate\":\"Local Purchasing Power Index=93.83<br>sum of Cost of Living Plus Rent Index=%{x}<br>City=%{y}<extra></extra>\",\"legendgroup\":\"93.83\",\"marker\":{\"color\":\"#00cc96\",\"pattern\":{\"shape\":\"\"}},\"name\":\"93.83\",\"offsetgroup\":\"93.83\",\"orientation\":\"h\",\"showlegend\":true,\"x\":[52.54],\"xaxis\":\"x\",\"y\":[\"Enschede, Netherlands\"],\"yaxis\":\"y\",\"type\":\"histogram\"},{\"alignmentgroup\":\"True\",\"bingroup\":\"y\",\"histfunc\":\"sum\",\"hovertemplate\":\"Local Purchasing Power Index=108.83<br>sum of Cost of Living Plus Rent Index=%{x}<br>City=%{y}<extra></extra>\",\"legendgroup\":\"108.83\",\"marker\":{\"color\":\"#ab63fa\",\"pattern\":{\"shape\":\"\"}},\"name\":\"108.83\",\"offsetgroup\":\"108.83\",\"orientation\":\"h\",\"showlegend\":true,\"x\":[56.87],\"xaxis\":\"x\",\"y\":[\"Olympia, WA, United States\"],\"yaxis\":\"y\",\"type\":\"histogram\"},{\"alignmentgroup\":\"True\",\"bingroup\":\"y\",\"histfunc\":\"sum\",\"hovertemplate\":\"Local Purchasing Power Index=86.5<br>sum of Cost of Living Plus Rent Index=%{x}<br>City=%{y}<extra></extra>\",\"legendgroup\":\"86.5\",\"marker\":{\"color\":\"#FFA15A\",\"pattern\":{\"shape\":\"\"}},\"name\":\"86.5\",\"offsetgroup\":\"86.5\",\"orientation\":\"h\",\"showlegend\":true,\"x\":[56.26],\"xaxis\":\"x\",\"y\":[\"Maastricht, Netherlands\"],\"yaxis\":\"y\",\"type\":\"histogram\"},{\"alignmentgroup\":\"True\",\"bingroup\":\"y\",\"histfunc\":\"sum\",\"hovertemplate\":\"Local Purchasing Power Index=136.13<br>sum of Cost of Living Plus Rent Index=%{x}<br>City=%{y}<extra></extra>\",\"legendgroup\":\"136.13\",\"marker\":{\"color\":\"#19d3f3\",\"pattern\":{\"shape\":\"\"}},\"name\":\"136.13\",\"offsetgroup\":\"136.13\",\"orientation\":\"h\",\"showlegend\":true,\"x\":[58.61],\"xaxis\":\"x\",\"y\":[\"Baltimore, MD, United States\"],\"yaxis\":\"y\",\"type\":\"histogram\"},{\"alignmentgroup\":\"True\",\"bingroup\":\"y\",\"histfunc\":\"sum\",\"hovertemplate\":\"Local Purchasing Power Index=92.88<br>sum of Cost of Living Plus Rent Index=%{x}<br>City=%{y}<extra></extra>\",\"legendgroup\":\"92.88\",\"marker\":{\"color\":\"#FF6692\",\"pattern\":{\"shape\":\"\"}},\"name\":\"92.88\",\"offsetgroup\":\"92.88\",\"orientation\":\"h\",\"showlegend\":true,\"x\":[59.44],\"xaxis\":\"x\",\"y\":[\"New Orleans, LA, United States\"],\"yaxis\":\"y\",\"type\":\"histogram\"},{\"alignmentgroup\":\"True\",\"bingroup\":\"y\",\"histfunc\":\"sum\",\"hovertemplate\":\"Local Purchasing Power Index=78.35<br>sum of Cost of Living Plus Rent Index=%{x}<br>City=%{y}<extra></extra>\",\"legendgroup\":\"78.35\",\"marker\":{\"color\":\"#B6E880\",\"pattern\":{\"shape\":\"\"}},\"name\":\"78.35\",\"offsetgroup\":\"78.35\",\"orientation\":\"h\",\"showlegend\":true,\"x\":[51.49],\"xaxis\":\"x\",\"y\":[\"Linz, Austria\"],\"yaxis\":\"y\",\"type\":\"histogram\"},{\"alignmentgroup\":\"True\",\"bingroup\":\"y\",\"histfunc\":\"sum\",\"hovertemplate\":\"Local Purchasing Power Index=114.16<br>sum of Cost of Living Plus Rent Index=%{x}<br>City=%{y}<extra></extra>\",\"legendgroup\":\"114.16\",\"marker\":{\"color\":\"#FF97FF\",\"pattern\":{\"shape\":\"\"}},\"name\":\"114.16\",\"offsetgroup\":\"114.16\",\"orientation\":\"h\",\"showlegend\":true,\"x\":[54.97],\"xaxis\":\"x\",\"y\":[\"Calgary, Canada\"],\"yaxis\":\"y\",\"type\":\"histogram\"},{\"alignmentgroup\":\"True\",\"bingroup\":\"y\",\"histfunc\":\"sum\",\"hovertemplate\":\"Local Purchasing Power Index=88.03<br>sum of Cost of Living Plus Rent Index=%{x}<br>City=%{y}<extra></extra>\",\"legendgroup\":\"88.03\",\"marker\":{\"color\":\"#FECB52\",\"pattern\":{\"shape\":\"\"}},\"name\":\"88.03\",\"offsetgroup\":\"88.03\",\"orientation\":\"h\",\"showlegend\":true,\"x\":[56.38],\"xaxis\":\"x\",\"y\":[\"Edinburgh, United Kingdom\"],\"yaxis\":\"y\",\"type\":\"histogram\"},{\"alignmentgroup\":\"True\",\"bingroup\":\"y\",\"histfunc\":\"sum\",\"hovertemplate\":\"Local Purchasing Power Index=94.3<br>sum of Cost of Living Plus Rent Index=%{x}<br>City=%{y}<extra></extra>\",\"legendgroup\":\"94.3\",\"marker\":{\"color\":\"#636efa\",\"pattern\":{\"shape\":\"\"}},\"name\":\"94.3\",\"offsetgroup\":\"94.3\",\"orientation\":\"h\",\"showlegend\":true,\"x\":[57.54],\"xaxis\":\"x\",\"y\":[\"Ottawa, Canada\"],\"yaxis\":\"y\",\"type\":\"histogram\"},{\"alignmentgroup\":\"True\",\"bingroup\":\"y\",\"histfunc\":\"sum\",\"hovertemplate\":\"Local Purchasing Power Index=73.92<br>sum of Cost of Living Plus Rent Index=%{x}<br>City=%{y}<extra></extra>\",\"legendgroup\":\"73.92\",\"marker\":{\"color\":\"#EF553B\",\"pattern\":{\"shape\":\"\"}},\"name\":\"73.92\",\"offsetgroup\":\"73.92\",\"orientation\":\"h\",\"showlegend\":true,\"x\":[56.5],\"xaxis\":\"x\",\"y\":[\"Milton Keynes, United Kingdom\"],\"yaxis\":\"y\",\"type\":\"histogram\"},{\"alignmentgroup\":\"True\",\"bingroup\":\"y\",\"histfunc\":\"sum\",\"hovertemplate\":\"Local Purchasing Power Index=91.33<br>sum of Cost of Living Plus Rent Index=%{x}<br>City=%{y}<extra></extra>\",\"legendgroup\":\"91.33\",\"marker\":{\"color\":\"#00cc96\",\"pattern\":{\"shape\":\"\"}},\"name\":\"91.33\",\"offsetgroup\":\"91.33\",\"orientation\":\"h\",\"showlegend\":true,\"x\":[55.23],\"xaxis\":\"x\",\"y\":[\"Manchester, United Kingdom\"],\"yaxis\":\"y\",\"type\":\"histogram\"},{\"alignmentgroup\":\"True\",\"bingroup\":\"y\",\"histfunc\":\"sum\",\"hovertemplate\":\"Local Purchasing Power Index=99.7<br>sum of Cost of Living Plus Rent Index=%{x}<br>City=%{y}<extra></extra>\",\"legendgroup\":\"99.7\",\"marker\":{\"color\":\"#ab63fa\",\"pattern\":{\"shape\":\"\"}},\"name\":\"99.7\",\"offsetgroup\":\"99.7\",\"orientation\":\"h\",\"showlegend\":true,\"x\":[61.24],\"xaxis\":\"x\",\"y\":[\"Mississauga, Canada\"],\"yaxis\":\"y\",\"type\":\"histogram\"},{\"alignmentgroup\":\"True\",\"bingroup\":\"y\",\"histfunc\":\"sum\",\"hovertemplate\":\"Local Purchasing Power Index=92.85<br>sum of Cost of Living Plus Rent Index=%{x}<br>City=%{y}<extra></extra>\",\"legendgroup\":\"92.85\",\"marker\":{\"color\":\"#FFA15A\",\"pattern\":{\"shape\":\"\"}},\"name\":\"92.85\",\"offsetgroup\":\"92.85\",\"orientation\":\"h\",\"showlegend\":true,\"x\":[60.44],\"xaxis\":\"x\",\"y\":[\"Cambridge, United Kingdom\"],\"yaxis\":\"y\",\"type\":\"histogram\"},{\"alignmentgroup\":\"True\",\"bingroup\":\"y\",\"histfunc\":\"sum\",\"hovertemplate\":\"Local Purchasing Power Index=101.17<br>sum of Cost of Living Plus Rent Index=%{x}<br>City=%{y}<extra></extra>\",\"legendgroup\":\"101.17\",\"marker\":{\"color\":\"#19d3f3\",\"pattern\":{\"shape\":\"\"}},\"name\":\"101.17\",\"offsetgroup\":\"101.17\",\"orientation\":\"h\",\"showlegend\":true,\"x\":[53.46],\"xaxis\":\"x\",\"y\":[\"Gothenburg, Sweden\"],\"yaxis\":\"y\",\"type\":\"histogram\"},{\"alignmentgroup\":\"True\",\"bingroup\":\"y\",\"histfunc\":\"sum\",\"hovertemplate\":\"Local Purchasing Power Index=109.54<br>sum of Cost of Living Plus Rent Index=%{x}<br>City=%{y}<extra></extra>\",\"legendgroup\":\"109.54\",\"marker\":{\"color\":\"#FF6692\",\"pattern\":{\"shape\":\"\"}},\"name\":\"109.54\",\"offsetgroup\":\"109.54\",\"orientation\":\"h\",\"showlegend\":true,\"x\":[52.32],\"xaxis\":\"x\",\"y\":[\"Edmonton, Canada\"],\"yaxis\":\"y\",\"type\":\"histogram\"},{\"alignmentgroup\":\"True\",\"bingroup\":\"y\",\"histfunc\":\"sum\",\"hovertemplate\":\"Local Purchasing Power Index=60.66<br>sum of Cost of Living Plus Rent Index=%{x}<br>City=%{y}<extra></extra>\",\"legendgroup\":\"60.66\",\"marker\":{\"color\":\"#B6E880\",\"pattern\":{\"shape\":\"\"}},\"name\":\"60.66\",\"offsetgroup\":\"60.66\",\"orientation\":\"h\",\"showlegend\":true,\"x\":[48.85],\"xaxis\":\"x\",\"y\":[\"Parma, Italy\"],\"yaxis\":\"y\",\"type\":\"histogram\"},{\"alignmentgroup\":\"True\",\"bingroup\":\"y\",\"histfunc\":\"sum\",\"hovertemplate\":\"Local Purchasing Power Index=51.57<br>sum of Cost of Living Plus Rent Index=%{x}<br>City=%{y}<extra></extra>\",\"legendgroup\":\"51.57\",\"marker\":{\"color\":\"#FF97FF\",\"pattern\":{\"shape\":\"\"}},\"name\":\"51.57\",\"offsetgroup\":\"51.57\",\"orientation\":\"h\",\"showlegend\":true,\"x\":[47.91],\"xaxis\":\"x\",\"y\":[\"Genoa, Italy\"],\"yaxis\":\"y\",\"type\":\"histogram\"},{\"alignmentgroup\":\"True\",\"bingroup\":\"y\",\"histfunc\":\"sum\",\"hovertemplate\":\"Local Purchasing Power Index=106.89<br>sum of Cost of Living Plus Rent Index=%{x}<br>City=%{y}<extra></extra>\",\"legendgroup\":\"106.89\",\"marker\":{\"color\":\"#FECB52\",\"pattern\":{\"shape\":\"\"}},\"name\":\"106.89\",\"offsetgroup\":\"106.89\",\"orientation\":\"h\",\"showlegend\":true,\"x\":[57.02],\"xaxis\":\"x\",\"y\":[\"Frankfurt, Germany\"],\"yaxis\":\"y\",\"type\":\"histogram\"},{\"alignmentgroup\":\"True\",\"bingroup\":\"y\",\"histfunc\":\"sum\",\"hovertemplate\":\"Local Purchasing Power Index=100.34<br>sum of Cost of Living Plus Rent Index=%{x}<br>City=%{y}<extra></extra>\",\"legendgroup\":\"100.34\",\"marker\":{\"color\":\"#636efa\",\"pattern\":{\"shape\":\"\"}},\"name\":\"100.34\",\"offsetgroup\":\"100.34\",\"orientation\":\"h\",\"showlegend\":true,\"x\":[58.84],\"xaxis\":\"x\",\"y\":[\"Fort Collins, CO, United States\"],\"yaxis\":\"y\",\"type\":\"histogram\"},{\"alignmentgroup\":\"True\",\"bingroup\":\"y\",\"histfunc\":\"sum\",\"hovertemplate\":\"Local Purchasing Power Index=63.32<br>sum of Cost of Living Plus Rent Index=%{x}<br>City=%{y}<extra></extra>\",\"legendgroup\":\"63.32\",\"marker\":{\"color\":\"#EF553B\",\"pattern\":{\"shape\":\"\"}},\"name\":\"63.32\",\"offsetgroup\":\"63.32\",\"orientation\":\"h\",\"showlegend\":true,\"x\":[49.5],\"xaxis\":\"x\",\"y\":[\"Bergamo, Italy\"],\"yaxis\":\"y\",\"type\":\"histogram\"},{\"alignmentgroup\":\"True\",\"bingroup\":\"y\",\"histfunc\":\"sum\",\"hovertemplate\":\"Local Purchasing Power Index=119.81<br>sum of Cost of Living Plus Rent Index=%{x}<br>City=%{y}<extra></extra>\",\"legendgroup\":\"119.81\",\"marker\":{\"color\":\"#00cc96\",\"pattern\":{\"shape\":\"\"}},\"name\":\"119.81\",\"offsetgroup\":\"119.81\",\"orientation\":\"h\",\"showlegend\":true,\"x\":[48.71],\"xaxis\":\"x\",\"y\":[\"Derby, United Kingdom\"],\"yaxis\":\"y\",\"type\":\"histogram\"},{\"alignmentgroup\":\"True\",\"bingroup\":\"y\",\"histfunc\":\"sum\",\"hovertemplate\":\"Local Purchasing Power Index=85.03<br>sum of Cost of Living Plus Rent Index=%{x}<br>City=%{y}<extra></extra>\",\"legendgroup\":\"85.03\",\"marker\":{\"color\":\"#ab63fa\",\"pattern\":{\"shape\":\"\"}},\"name\":\"85.03\",\"offsetgroup\":\"85.03\",\"orientation\":\"h\",\"showlegend\":true,\"x\":[53.39],\"xaxis\":\"x\",\"y\":[\"Iowa City, IA, United States\"],\"yaxis\":\"y\",\"type\":\"histogram\"},{\"alignmentgroup\":\"True\",\"bingroup\":\"y\",\"histfunc\":\"sum\",\"hovertemplate\":\"Local Purchasing Power Index=91.65<br>sum of Cost of Living Plus Rent Index=%{x}<br>City=%{y}<extra></extra>\",\"legendgroup\":\"91.65\",\"marker\":{\"color\":\"#FFA15A\",\"pattern\":{\"shape\":\"\"}},\"name\":\"91.65\",\"offsetgroup\":\"91.65\",\"orientation\":\"h\",\"showlegend\":true,\"x\":[52.8],\"xaxis\":\"x\",\"y\":[\"Delft, Netherlands\"],\"yaxis\":\"y\",\"type\":\"histogram\"},{\"alignmentgroup\":\"True\",\"bingroup\":\"y\",\"histfunc\":\"sum\",\"hovertemplate\":\"Local Purchasing Power Index=78.44<br>sum of Cost of Living Plus Rent Index=%{x}<br>City=%{y}<extra></extra>\",\"legendgroup\":\"78.44\",\"marker\":{\"color\":\"#19d3f3\",\"pattern\":{\"shape\":\"\"}},\"name\":\"78.44\",\"offsetgroup\":\"78.44\",\"orientation\":\"h\",\"showlegend\":true,\"x\":[53.2],\"xaxis\":\"x\",\"y\":[\"Syracuse, NY, United States\"],\"yaxis\":\"y\",\"type\":\"histogram\"},{\"alignmentgroup\":\"True\",\"bingroup\":\"y\",\"histfunc\":\"sum\",\"hovertemplate\":\"Local Purchasing Power Index=101.79<br>sum of Cost of Living Plus Rent Index=%{x}<br>City=%{y}<extra></extra>\",\"legendgroup\":\"101.79\",\"marker\":{\"color\":\"#FF6692\",\"pattern\":{\"shape\":\"\"}},\"name\":\"101.79\",\"offsetgroup\":\"101.79\",\"orientation\":\"h\",\"showlegend\":true,\"x\":[59.62],\"xaxis\":\"x\",\"y\":[\"Everett, WA, United States\"],\"yaxis\":\"y\",\"type\":\"histogram\"},{\"alignmentgroup\":\"True\",\"bingroup\":\"y\",\"histfunc\":\"sum\",\"hovertemplate\":\"Local Purchasing Power Index=88.18<br>sum of Cost of Living Plus Rent Index=%{x}<br>City=%{y}<extra></extra>\",\"legendgroup\":\"88.18\",\"marker\":{\"color\":\"#B6E880\",\"pattern\":{\"shape\":\"\"}},\"name\":\"88.18\",\"offsetgroup\":\"88.18\",\"orientation\":\"h\",\"showlegend\":true,\"x\":[51.51],\"xaxis\":\"x\",\"y\":[\"Saskatoon, Canada\"],\"yaxis\":\"y\",\"type\":\"histogram\"},{\"alignmentgroup\":\"True\",\"bingroup\":\"y\",\"histfunc\":\"sum\",\"hovertemplate\":\"Local Purchasing Power Index=102.21<br>sum of Cost of Living Plus Rent Index=%{x}<br>City=%{y}<extra></extra>\",\"legendgroup\":\"102.21\",\"marker\":{\"color\":\"#FF97FF\",\"pattern\":{\"shape\":\"\"}},\"name\":\"102.21\",\"offsetgroup\":\"102.21\",\"orientation\":\"h\",\"showlegend\":true,\"x\":[53.75],\"xaxis\":\"x\",\"y\":[\"Heidelberg, Germany\"],\"yaxis\":\"y\",\"type\":\"histogram\"},{\"alignmentgroup\":\"True\",\"bingroup\":\"y\",\"histfunc\":\"sum\",\"hovertemplate\":\"Local Purchasing Power Index=108.69<br>sum of Cost of Living Plus Rent Index=%{x}<br>City=%{y}<extra></extra>\",\"legendgroup\":\"108.69\",\"marker\":{\"color\":\"#FECB52\",\"pattern\":{\"shape\":\"\"}},\"name\":\"108.69\",\"offsetgroup\":\"108.69\",\"orientation\":\"h\",\"showlegend\":true,\"x\":[59.74],\"xaxis\":\"x\",\"y\":[\"Markham, Canada\"],\"yaxis\":\"y\",\"type\":\"histogram\"},{\"alignmentgroup\":\"True\",\"bingroup\":\"y\",\"histfunc\":\"sum\",\"hovertemplate\":\"Local Purchasing Power Index=101.1<br>sum of Cost of Living Plus Rent Index=%{x}<br>City=%{y}<extra></extra>\",\"legendgroup\":\"101.1\",\"marker\":{\"color\":\"#636efa\",\"pattern\":{\"shape\":\"\"}},\"name\":\"101.1\",\"offsetgroup\":\"101.1\",\"orientation\":\"h\",\"showlegend\":true,\"x\":[55.48],\"xaxis\":\"x\",\"y\":[\"Hamburg, Germany\"],\"yaxis\":\"y\",\"type\":\"histogram\"},{\"alignmentgroup\":\"True\",\"bingroup\":\"y\",\"histfunc\":\"sum\",\"hovertemplate\":\"Local Purchasing Power Index=123.94<br>sum of Cost of Living Plus Rent Index=%{x}<br>City=%{y}<extra></extra>\",\"legendgroup\":\"123.94\",\"marker\":{\"color\":\"#EF553B\",\"pattern\":{\"shape\":\"\"}},\"name\":\"123.94\",\"offsetgroup\":\"123.94\",\"orientation\":\"h\",\"showlegend\":true,\"x\":[48.64],\"xaxis\":\"x\",\"y\":[\"Red Deer, Canada\"],\"yaxis\":\"y\",\"type\":\"histogram\"},{\"alignmentgroup\":\"True\",\"bingroup\":\"y\",\"histfunc\":\"sum\",\"hovertemplate\":\"Local Purchasing Power Index=98.13<br>sum of Cost of Living Plus Rent Index=%{x}<br>City=%{y}<extra></extra>\",\"legendgroup\":\"98.13\",\"marker\":{\"color\":\"#00cc96\",\"pattern\":{\"shape\":\"\"}},\"name\":\"98.13\",\"offsetgroup\":\"98.13\",\"orientation\":\"h\",\"showlegend\":true,\"x\":[57.22],\"xaxis\":\"x\",\"y\":[\"Surrey, Canada\"],\"yaxis\":\"y\",\"type\":\"histogram\"},{\"alignmentgroup\":\"True\",\"bingroup\":\"y\",\"histfunc\":\"sum\",\"hovertemplate\":\"Local Purchasing Power Index=63.01<br>sum of Cost of Living Plus Rent Index=%{x}<br>City=%{y}<extra></extra>\",\"legendgroup\":\"63.01\",\"marker\":{\"color\":\"#ab63fa\",\"pattern\":{\"shape\":\"\"}},\"name\":\"63.01\",\"offsetgroup\":\"63.01\",\"orientation\":\"h\",\"showlegend\":true,\"x\":[46.54],\"xaxis\":\"x\",\"y\":[\"Trieste, Italy\"],\"yaxis\":\"y\",\"type\":\"histogram\"},{\"alignmentgroup\":\"True\",\"bingroup\":\"y\",\"histfunc\":\"sum\",\"hovertemplate\":\"Local Purchasing Power Index=100.12<br>sum of Cost of Living Plus Rent Index=%{x}<br>City=%{y}<extra></extra>\",\"legendgroup\":\"100.12\",\"marker\":{\"color\":\"#FFA15A\",\"pattern\":{\"shape\":\"\"}},\"name\":\"100.12\",\"offsetgroup\":\"100.12\",\"orientation\":\"h\",\"showlegend\":true,\"x\":[51.68],\"xaxis\":\"x\",\"y\":[\"Rochester, NY, United States\"],\"yaxis\":\"y\",\"type\":\"histogram\"},{\"alignmentgroup\":\"True\",\"bingroup\":\"y\",\"histfunc\":\"sum\",\"hovertemplate\":\"Local Purchasing Power Index=109.19<br>sum of Cost of Living Plus Rent Index=%{x}<br>City=%{y}<extra></extra>\",\"legendgroup\":\"109.19\",\"marker\":{\"color\":\"#19d3f3\",\"pattern\":{\"shape\":\"\"}},\"name\":\"109.19\",\"offsetgroup\":\"109.19\",\"orientation\":\"h\",\"showlegend\":true,\"x\":[56.65],\"xaxis\":\"x\",\"y\":[\"Milwaukee, WI, United States\"],\"yaxis\":\"y\",\"type\":\"histogram\"},{\"alignmentgroup\":\"True\",\"bingroup\":\"y\",\"histfunc\":\"sum\",\"hovertemplate\":\"Local Purchasing Power Index=129.75<br>sum of Cost of Living Plus Rent Index=%{x}<br>City=%{y}<extra></extra>\",\"legendgroup\":\"129.75\",\"marker\":{\"color\":\"#FF6692\",\"pattern\":{\"shape\":\"\"}},\"name\":\"129.75\",\"offsetgroup\":\"129.75\",\"orientation\":\"h\",\"showlegend\":true,\"x\":[54.24],\"xaxis\":\"x\",\"y\":[\"Albany, NY, United States\"],\"yaxis\":\"y\",\"type\":\"histogram\"},{\"alignmentgroup\":\"True\",\"bingroup\":\"y\",\"histfunc\":\"sum\",\"hovertemplate\":\"Local Purchasing Power Index=90.09<br>sum of Cost of Living Plus Rent Index=%{x}<br>City=%{y}<extra></extra>\",\"legendgroup\":\"90.09\",\"marker\":{\"color\":\"#B6E880\",\"pattern\":{\"shape\":\"\"}},\"name\":\"90.09\",\"offsetgroup\":\"90.09\",\"orientation\":\"h\",\"showlegend\":true,\"x\":[50.19],\"xaxis\":\"x\",\"y\":[\"Liverpool, United Kingdom\"],\"yaxis\":\"y\",\"type\":\"histogram\"},{\"alignmentgroup\":\"True\",\"bingroup\":\"y\",\"histfunc\":\"sum\",\"hovertemplate\":\"Local Purchasing Power Index=91.62<br>sum of Cost of Living Plus Rent Index=%{x}<br>City=%{y}<extra></extra>\",\"legendgroup\":\"91.62\",\"marker\":{\"color\":\"#FF97FF\",\"pattern\":{\"shape\":\"\"}},\"name\":\"91.62\",\"offsetgroup\":\"91.62\",\"orientation\":\"h\",\"showlegend\":true,\"x\":[50.43,47.17],\"xaxis\":\"x\",\"y\":[\"Nottingham, United Kingdom\",\"Belfast, United Kingdom\"],\"yaxis\":\"y\",\"type\":\"histogram\"},{\"alignmentgroup\":\"True\",\"bingroup\":\"y\",\"histfunc\":\"sum\",\"hovertemplate\":\"Local Purchasing Power Index=90.25<br>sum of Cost of Living Plus Rent Index=%{x}<br>City=%{y}<extra></extra>\",\"legendgroup\":\"90.25\",\"marker\":{\"color\":\"#FECB52\",\"pattern\":{\"shape\":\"\"}},\"name\":\"90.25\",\"offsetgroup\":\"90.25\",\"orientation\":\"h\",\"showlegend\":true,\"x\":[49.99],\"xaxis\":\"x\",\"y\":[\"Antwerp, Belgium\"],\"yaxis\":\"y\",\"type\":\"histogram\"},{\"alignmentgroup\":\"True\",\"bingroup\":\"y\",\"histfunc\":\"sum\",\"hovertemplate\":\"Local Purchasing Power Index=84.81<br>sum of Cost of Living Plus Rent Index=%{x}<br>City=%{y}<extra></extra>\",\"legendgroup\":\"84.81\",\"marker\":{\"color\":\"#636efa\",\"pattern\":{\"shape\":\"\"}},\"name\":\"84.81\",\"offsetgroup\":\"84.81\",\"orientation\":\"h\",\"showlegend\":true,\"x\":[56.85],\"xaxis\":\"x\",\"y\":[\"Bristol, United Kingdom\"],\"yaxis\":\"y\",\"type\":\"histogram\"},{\"alignmentgroup\":\"True\",\"bingroup\":\"y\",\"histfunc\":\"sum\",\"hovertemplate\":\"Local Purchasing Power Index=91.43<br>sum of Cost of Living Plus Rent Index=%{x}<br>City=%{y}<extra></extra>\",\"legendgroup\":\"91.43\",\"marker\":{\"color\":\"#EF553B\",\"pattern\":{\"shape\":\"\"}},\"name\":\"91.43\",\"offsetgroup\":\"91.43\",\"orientation\":\"h\",\"showlegend\":true,\"x\":[49.71],\"xaxis\":\"x\",\"y\":[\"Tampere, Finland\"],\"yaxis\":\"y\",\"type\":\"histogram\"},{\"alignmentgroup\":\"True\",\"bingroup\":\"y\",\"histfunc\":\"sum\",\"hovertemplate\":\"Local Purchasing Power Index=85.02<br>sum of Cost of Living Plus Rent Index=%{x}<br>City=%{y}<extra></extra>\",\"legendgroup\":\"85.02\",\"marker\":{\"color\":\"#00cc96\",\"pattern\":{\"shape\":\"\"}},\"name\":\"85.02\",\"offsetgroup\":\"85.02\",\"orientation\":\"h\",\"showlegend\":true,\"x\":[52.11],\"xaxis\":\"x\",\"y\":[\"Portsmouth, United Kingdom\"],\"yaxis\":\"y\",\"type\":\"histogram\"},{\"alignmentgroup\":\"True\",\"bingroup\":\"y\",\"histfunc\":\"sum\",\"hovertemplate\":\"Local Purchasing Power Index=95.72<br>sum of Cost of Living Plus Rent Index=%{x}<br>City=%{y}<extra></extra>\",\"legendgroup\":\"95.72\",\"marker\":{\"color\":\"#ab63fa\",\"pattern\":{\"shape\":\"\"}},\"name\":\"95.72\",\"offsetgroup\":\"95.72\",\"orientation\":\"h\",\"showlegend\":true,\"x\":[52.27],\"xaxis\":\"x\",\"y\":[\"Bonn, Germany\"],\"yaxis\":\"y\",\"type\":\"histogram\"},{\"alignmentgroup\":\"True\",\"bingroup\":\"y\",\"histfunc\":\"sum\",\"hovertemplate\":\"Local Purchasing Power Index=95.31<br>sum of Cost of Living Plus Rent Index=%{x}<br>City=%{y}<extra></extra>\",\"legendgroup\":\"95.31\",\"marker\":{\"color\":\"#FFA15A\",\"pattern\":{\"shape\":\"\"}},\"name\":\"95.31\",\"offsetgroup\":\"95.31\",\"orientation\":\"h\",\"showlegend\":true,\"x\":[48.93],\"xaxis\":\"x\",\"y\":[\"Marseille, France\"],\"yaxis\":\"y\",\"type\":\"histogram\"},{\"alignmentgroup\":\"True\",\"bingroup\":\"y\",\"histfunc\":\"sum\",\"hovertemplate\":\"Local Purchasing Power Index=51.33<br>sum of Cost of Living Plus Rent Index=%{x}<br>City=%{y}<extra></extra>\",\"legendgroup\":\"51.33\",\"marker\":{\"color\":\"#19d3f3\",\"pattern\":{\"shape\":\"\"}},\"name\":\"51.33\",\"offsetgroup\":\"51.33\",\"orientation\":\"h\",\"showlegend\":true,\"x\":[55.15],\"xaxis\":\"x\",\"y\":[\"Rome, Italy\"],\"yaxis\":\"y\",\"type\":\"histogram\"},{\"alignmentgroup\":\"True\",\"bingroup\":\"y\",\"histfunc\":\"sum\",\"hovertemplate\":\"Local Purchasing Power Index=84.35<br>sum of Cost of Living Plus Rent Index=%{x}<br>City=%{y}<extra></extra>\",\"legendgroup\":\"84.35\",\"marker\":{\"color\":\"#FF6692\",\"pattern\":{\"shape\":\"\"}},\"name\":\"84.35\",\"offsetgroup\":\"84.35\",\"orientation\":\"h\",\"showlegend\":true,\"x\":[49.86],\"xaxis\":\"x\",\"y\":[\"Tauranga, New Zealand\"],\"yaxis\":\"y\",\"type\":\"histogram\"},{\"alignmentgroup\":\"True\",\"bingroup\":\"y\",\"histfunc\":\"sum\",\"hovertemplate\":\"Local Purchasing Power Index=53.36<br>sum of Cost of Living Plus Rent Index=%{x}<br>City=%{y}<extra></extra>\",\"legendgroup\":\"53.36\",\"marker\":{\"color\":\"#B6E880\",\"pattern\":{\"shape\":\"\"}},\"name\":\"53.36\",\"offsetgroup\":\"53.36\",\"orientation\":\"h\",\"showlegend\":true,\"x\":[50.57],\"xaxis\":\"x\",\"y\":[\"Florence, Italy\"],\"yaxis\":\"y\",\"type\":\"histogram\"},{\"alignmentgroup\":\"True\",\"bingroup\":\"y\",\"histfunc\":\"sum\",\"hovertemplate\":\"Local Purchasing Power Index=84.01<br>sum of Cost of Living Plus Rent Index=%{x}<br>City=%{y}<extra></extra>\",\"legendgroup\":\"84.01\",\"marker\":{\"color\":\"#FF97FF\",\"pattern\":{\"shape\":\"\"}},\"name\":\"84.01\",\"offsetgroup\":\"84.01\",\"orientation\":\"h\",\"showlegend\":true,\"x\":[49.1],\"xaxis\":\"x\",\"y\":[\"Plymouth, United Kingdom\"],\"yaxis\":\"y\",\"type\":\"histogram\"},{\"alignmentgroup\":\"True\",\"bingroup\":\"y\",\"histfunc\":\"sum\",\"hovertemplate\":\"Local Purchasing Power Index=110.05<br>sum of Cost of Living Plus Rent Index=%{x}<br>City=%{y}<extra></extra>\",\"legendgroup\":\"110.05\",\"marker\":{\"color\":\"#FECB52\",\"pattern\":{\"shape\":\"\"}},\"name\":\"110.05\",\"offsetgroup\":\"110.05\",\"orientation\":\"h\",\"showlegend\":true,\"x\":[54.73,63.07],\"xaxis\":\"x\",\"y\":[\"Detroit, MI, United States\",\"North Vancouver, Canada\"],\"yaxis\":\"y\",\"type\":\"histogram\"},{\"alignmentgroup\":\"True\",\"bingroup\":\"y\",\"histfunc\":\"sum\",\"hovertemplate\":\"Local Purchasing Power Index=96.91<br>sum of Cost of Living Plus Rent Index=%{x}<br>City=%{y}<extra></extra>\",\"legendgroup\":\"96.91\",\"marker\":{\"color\":\"#636efa\",\"pattern\":{\"shape\":\"\"}},\"name\":\"96.91\",\"offsetgroup\":\"96.91\",\"orientation\":\"h\",\"showlegend\":true,\"x\":[59.55],\"xaxis\":\"x\",\"y\":[\"Reno, NV, United States\"],\"yaxis\":\"y\",\"type\":\"histogram\"},{\"alignmentgroup\":\"True\",\"bingroup\":\"y\",\"histfunc\":\"sum\",\"hovertemplate\":\"Local Purchasing Power Index=101.06<br>sum of Cost of Living Plus Rent Index=%{x}<br>City=%{y}<extra></extra>\",\"legendgroup\":\"101.06\",\"marker\":{\"color\":\"#EF553B\",\"pattern\":{\"shape\":\"\"}},\"name\":\"101.06\",\"offsetgroup\":\"101.06\",\"orientation\":\"h\",\"showlegend\":true,\"x\":[47.19],\"xaxis\":\"x\",\"y\":[\"Oulu, Finland\"],\"yaxis\":\"y\",\"type\":\"histogram\"},{\"alignmentgroup\":\"True\",\"bingroup\":\"y\",\"histfunc\":\"sum\",\"hovertemplate\":\"Local Purchasing Power Index=89.93<br>sum of Cost of Living Plus Rent Index=%{x}<br>City=%{y}<extra></extra>\",\"legendgroup\":\"89.93\",\"marker\":{\"color\":\"#00cc96\",\"pattern\":{\"shape\":\"\"}},\"name\":\"89.93\",\"offsetgroup\":\"89.93\",\"orientation\":\"h\",\"showlegend\":true,\"x\":[52.13,56.48],\"xaxis\":\"x\",\"y\":[\"Montreal, Canada\",\"Doha, Qatar\"],\"yaxis\":\"y\",\"type\":\"histogram\"},{\"alignmentgroup\":\"True\",\"bingroup\":\"y\",\"histfunc\":\"sum\",\"hovertemplate\":\"Local Purchasing Power Index=77.81<br>sum of Cost of Living Plus Rent Index=%{x}<br>City=%{y}<extra></extra>\",\"legendgroup\":\"77.81\",\"marker\":{\"color\":\"#ab63fa\",\"pattern\":{\"shape\":\"\"}},\"name\":\"77.81\",\"offsetgroup\":\"77.81\",\"orientation\":\"h\",\"showlegend\":true,\"x\":[52.54],\"xaxis\":\"x\",\"y\":[\"Salzburg, Austria\"],\"yaxis\":\"y\",\"type\":\"histogram\"},{\"alignmentgroup\":\"True\",\"bingroup\":\"y\",\"histfunc\":\"sum\",\"hovertemplate\":\"Local Purchasing Power Index=100.36<br>sum of Cost of Living Plus Rent Index=%{x}<br>City=%{y}<extra></extra>\",\"legendgroup\":\"100.36\",\"marker\":{\"color\":\"#FFA15A\",\"pattern\":{\"shape\":\"\"}},\"name\":\"100.36\",\"offsetgroup\":\"100.36\",\"orientation\":\"h\",\"showlegend\":true,\"x\":[54.57],\"xaxis\":\"x\",\"y\":[\"London, Canada\"],\"yaxis\":\"y\",\"type\":\"histogram\"},{\"alignmentgroup\":\"True\",\"bingroup\":\"y\",\"histfunc\":\"sum\",\"hovertemplate\":\"Local Purchasing Power Index=103.49<br>sum of Cost of Living Plus Rent Index=%{x}<br>City=%{y}<extra></extra>\",\"legendgroup\":\"103.49\",\"marker\":{\"color\":\"#19d3f3\",\"pattern\":{\"shape\":\"\"}},\"name\":\"103.49\",\"offsetgroup\":\"103.49\",\"orientation\":\"h\",\"showlegend\":true,\"x\":[55.78],\"xaxis\":\"x\",\"y\":[\"Brampton, Canada\"],\"yaxis\":\"y\",\"type\":\"histogram\"},{\"alignmentgroup\":\"True\",\"bingroup\":\"y\",\"histfunc\":\"sum\",\"hovertemplate\":\"Local Purchasing Power Index=112.62<br>sum of Cost of Living Plus Rent Index=%{x}<br>City=%{y}<extra></extra>\",\"legendgroup\":\"112.62\",\"marker\":{\"color\":\"#FF6692\",\"pattern\":{\"shape\":\"\"}},\"name\":\"112.62\",\"offsetgroup\":\"112.62\",\"orientation\":\"h\",\"showlegend\":true,\"x\":[56.35],\"xaxis\":\"x\",\"y\":[\"Fort Worth, TX, United States\"],\"yaxis\":\"y\",\"type\":\"histogram\"},{\"alignmentgroup\":\"True\",\"bingroup\":\"y\",\"histfunc\":\"sum\",\"hovertemplate\":\"Local Purchasing Power Index=104.76<br>sum of Cost of Living Plus Rent Index=%{x}<br>City=%{y}<extra></extra>\",\"legendgroup\":\"104.76\",\"marker\":{\"color\":\"#B6E880\",\"pattern\":{\"shape\":\"\"}},\"name\":\"104.76\",\"offsetgroup\":\"104.76\",\"orientation\":\"h\",\"showlegend\":true,\"x\":[57.11],\"xaxis\":\"x\",\"y\":[\"Durham, NC, United States\"],\"yaxis\":\"y\",\"type\":\"histogram\"},{\"alignmentgroup\":\"True\",\"bingroup\":\"y\",\"histfunc\":\"sum\",\"hovertemplate\":\"Local Purchasing Power Index=101.59<br>sum of Cost of Living Plus Rent Index=%{x}<br>City=%{y}<extra></extra>\",\"legendgroup\":\"101.59\",\"marker\":{\"color\":\"#FF97FF\",\"pattern\":{\"shape\":\"\"}},\"name\":\"101.59\",\"offsetgroup\":\"101.59\",\"orientation\":\"h\",\"showlegend\":true,\"x\":[50.19],\"xaxis\":\"x\",\"y\":[\"Winnipeg, Canada\"],\"yaxis\":\"y\",\"type\":\"histogram\"},{\"alignmentgroup\":\"True\",\"bingroup\":\"y\",\"histfunc\":\"sum\",\"hovertemplate\":\"Local Purchasing Power Index=159.99<br>sum of Cost of Living Plus Rent Index=%{x}<br>City=%{y}<extra></extra>\",\"legendgroup\":\"159.99\",\"marker\":{\"color\":\"#FECB52\",\"pattern\":{\"shape\":\"\"}},\"name\":\"159.99\",\"offsetgroup\":\"159.99\",\"orientation\":\"h\",\"showlegend\":true,\"x\":[59.82],\"xaxis\":\"x\",\"y\":[\"Ann Arbor, MI, United States\"],\"yaxis\":\"y\",\"type\":\"histogram\"},{\"alignmentgroup\":\"True\",\"bingroup\":\"y\",\"histfunc\":\"sum\",\"hovertemplate\":\"Local Purchasing Power Index=92.73<br>sum of Cost of Living Plus Rent Index=%{x}<br>City=%{y}<extra></extra>\",\"legendgroup\":\"92.73\",\"marker\":{\"color\":\"#636efa\",\"pattern\":{\"shape\":\"\"}},\"name\":\"92.73\",\"offsetgroup\":\"92.73\",\"orientation\":\"h\",\"showlegend\":true,\"x\":[54.98,36.24],\"xaxis\":\"x\",\"y\":[\"Greensboro, NC, United States\",\"Riyadh, Saudi Arabia\"],\"yaxis\":\"y\",\"type\":\"histogram\"},{\"alignmentgroup\":\"True\",\"bingroup\":\"y\",\"histfunc\":\"sum\",\"hovertemplate\":\"Local Purchasing Power Index=66.7<br>sum of Cost of Living Plus Rent Index=%{x}<br>City=%{y}<extra></extra>\",\"legendgroup\":\"66.7\",\"marker\":{\"color\":\"#EF553B\",\"pattern\":{\"shape\":\"\"}},\"name\":\"66.7\",\"offsetgroup\":\"66.7\",\"orientation\":\"h\",\"showlegend\":true,\"x\":[52.4],\"xaxis\":\"x\",\"y\":[\"San Juan, Puerto Rico\"],\"yaxis\":\"y\",\"type\":\"histogram\"},{\"alignmentgroup\":\"True\",\"bingroup\":\"y\",\"histfunc\":\"sum\",\"hovertemplate\":\"Local Purchasing Power Index=144.88<br>sum of Cost of Living Plus Rent Index=%{x}<br>City=%{y}<extra></extra>\",\"legendgroup\":\"144.88\",\"marker\":{\"color\":\"#00cc96\",\"pattern\":{\"shape\":\"\"}},\"name\":\"144.88\",\"offsetgroup\":\"144.88\",\"orientation\":\"h\",\"showlegend\":true,\"x\":[61.32],\"xaxis\":\"x\",\"y\":[\"Charlotte, NC, United States\"],\"yaxis\":\"y\",\"type\":\"histogram\"},{\"alignmentgroup\":\"True\",\"bingroup\":\"y\",\"histfunc\":\"sum\",\"hovertemplate\":\"Local Purchasing Power Index=79.66<br>sum of Cost of Living Plus Rent Index=%{x}<br>City=%{y}<extra></extra>\",\"legendgroup\":\"79.66\",\"marker\":{\"color\":\"#ab63fa\",\"pattern\":{\"shape\":\"\"}},\"name\":\"79.66\",\"offsetgroup\":\"79.66\",\"orientation\":\"h\",\"showlegend\":true,\"x\":[49.81],\"xaxis\":\"x\",\"y\":[\"Norwich, United Kingdom\"],\"yaxis\":\"y\",\"type\":\"histogram\"},{\"alignmentgroup\":\"True\",\"bingroup\":\"y\",\"histfunc\":\"sum\",\"hovertemplate\":\"Local Purchasing Power Index=77.4<br>sum of Cost of Living Plus Rent Index=%{x}<br>City=%{y}<extra></extra>\",\"legendgroup\":\"77.4\",\"marker\":{\"color\":\"#FFA15A\",\"pattern\":{\"shape\":\"\"}},\"name\":\"77.4\",\"offsetgroup\":\"77.4\",\"orientation\":\"h\",\"showlegend\":true,\"x\":[49.97],\"xaxis\":\"x\",\"y\":[\"Gent, Belgium\"],\"yaxis\":\"y\",\"type\":\"histogram\"},{\"alignmentgroup\":\"True\",\"bingroup\":\"y\",\"histfunc\":\"sum\",\"hovertemplate\":\"Local Purchasing Power Index=93.92<br>sum of Cost of Living Plus Rent Index=%{x}<br>City=%{y}<extra></extra>\",\"legendgroup\":\"93.92\",\"marker\":{\"color\":\"#19d3f3\",\"pattern\":{\"shape\":\"\"}},\"name\":\"93.92\",\"offsetgroup\":\"93.92\",\"orientation\":\"h\",\"showlegend\":true,\"x\":[52.11],\"xaxis\":\"x\",\"y\":[\"Exeter, United Kingdom\"],\"yaxis\":\"y\",\"type\":\"histogram\"},{\"alignmentgroup\":\"True\",\"bingroup\":\"y\",\"histfunc\":\"sum\",\"hovertemplate\":\"Local Purchasing Power Index=105.62<br>sum of Cost of Living Plus Rent Index=%{x}<br>City=%{y}<extra></extra>\",\"legendgroup\":\"105.62\",\"marker\":{\"color\":\"#FF6692\",\"pattern\":{\"shape\":\"\"}},\"name\":\"105.62\",\"offsetgroup\":\"105.62\",\"orientation\":\"h\",\"showlegend\":true,\"x\":[47.04],\"xaxis\":\"x\",\"y\":[\"Dortmund, Germany\"],\"yaxis\":\"y\",\"type\":\"histogram\"},{\"alignmentgroup\":\"True\",\"bingroup\":\"y\",\"histfunc\":\"sum\",\"hovertemplate\":\"Local Purchasing Power Index=110.03<br>sum of Cost of Living Plus Rent Index=%{x}<br>City=%{y}<extra></extra>\",\"legendgroup\":\"110.03\",\"marker\":{\"color\":\"#B6E880\",\"pattern\":{\"shape\":\"\"}},\"name\":\"110.03\",\"offsetgroup\":\"110.03\",\"orientation\":\"h\",\"showlegend\":true,\"x\":[63.9],\"xaxis\":\"x\",\"y\":[\"Long Beach, CA, United States\"],\"yaxis\":\"y\",\"type\":\"histogram\"},{\"alignmentgroup\":\"True\",\"bingroup\":\"y\",\"histfunc\":\"sum\",\"hovertemplate\":\"Local Purchasing Power Index=58.89<br>sum of Cost of Living Plus Rent Index=%{x}<br>City=%{y}<extra></extra>\",\"legendgroup\":\"58.89\",\"marker\":{\"color\":\"#FF97FF\",\"pattern\":{\"shape\":\"\"}},\"name\":\"58.89\",\"offsetgroup\":\"58.89\",\"orientation\":\"h\",\"showlegend\":true,\"x\":[49.49,37.7],\"xaxis\":\"x\",\"y\":[\"Bologna, Italy\",\"Palermo, Italy\"],\"yaxis\":\"y\",\"type\":\"histogram\"},{\"alignmentgroup\":\"True\",\"bingroup\":\"y\",\"histfunc\":\"sum\",\"hovertemplate\":\"Local Purchasing Power Index=77.45<br>sum of Cost of Living Plus Rent Index=%{x}<br>City=%{y}<extra></extra>\",\"legendgroup\":\"77.45\",\"marker\":{\"color\":\"#FECB52\",\"pattern\":{\"shape\":\"\"}},\"name\":\"77.45\",\"offsetgroup\":\"77.45\",\"orientation\":\"h\",\"showlegend\":true,\"x\":[56.58],\"xaxis\":\"x\",\"y\":[\"Kelowna, Canada\"],\"yaxis\":\"y\",\"type\":\"histogram\"},{\"alignmentgroup\":\"True\",\"bingroup\":\"y\",\"histfunc\":\"sum\",\"hovertemplate\":\"Local Purchasing Power Index=151.29<br>sum of Cost of Living Plus Rent Index=%{x}<br>City=%{y}<extra></extra>\",\"legendgroup\":\"151.29\",\"marker\":{\"color\":\"#636efa\",\"pattern\":{\"shape\":\"\"}},\"name\":\"151.29\",\"offsetgroup\":\"151.29\",\"orientation\":\"h\",\"showlegend\":true,\"x\":[54.38],\"xaxis\":\"x\",\"y\":[\"Columbus, OH, United States\"],\"yaxis\":\"y\",\"type\":\"histogram\"},{\"alignmentgroup\":\"True\",\"bingroup\":\"y\",\"histfunc\":\"sum\",\"hovertemplate\":\"Local Purchasing Power Index=69.1<br>sum of Cost of Living Plus Rent Index=%{x}<br>City=%{y}<extra></extra>\",\"legendgroup\":\"69.1\",\"marker\":{\"color\":\"#EF553B\",\"pattern\":{\"shape\":\"\"}},\"name\":\"69.1\",\"offsetgroup\":\"69.1\",\"orientation\":\"h\",\"showlegend\":true,\"x\":[45.7],\"xaxis\":\"x\",\"y\":[\"Brescia, Italy\"],\"yaxis\":\"y\",\"type\":\"histogram\"},{\"alignmentgroup\":\"True\",\"bingroup\":\"y\",\"histfunc\":\"sum\",\"hovertemplate\":\"Local Purchasing Power Index=88.21<br>sum of Cost of Living Plus Rent Index=%{x}<br>City=%{y}<extra></extra>\",\"legendgroup\":\"88.21\",\"marker\":{\"color\":\"#00cc96\",\"pattern\":{\"shape\":\"\"}},\"name\":\"88.21\",\"offsetgroup\":\"88.21\",\"orientation\":\"h\",\"showlegend\":true,\"x\":[54.67],\"xaxis\":\"x\",\"y\":[\"Eugene, OR, United States\"],\"yaxis\":\"y\",\"type\":\"histogram\"},{\"alignmentgroup\":\"True\",\"bingroup\":\"y\",\"histfunc\":\"sum\",\"hovertemplate\":\"Local Purchasing Power Index=67.31<br>sum of Cost of Living Plus Rent Index=%{x}<br>City=%{y}<extra></extra>\",\"legendgroup\":\"67.31\",\"marker\":{\"color\":\"#ab63fa\",\"pattern\":{\"shape\":\"\"}},\"name\":\"67.31\",\"offsetgroup\":\"67.31\",\"orientation\":\"h\",\"showlegend\":true,\"x\":[56.23],\"xaxis\":\"x\",\"y\":[\"Macao, Macao\"],\"yaxis\":\"y\",\"type\":\"histogram\"},{\"alignmentgroup\":\"True\",\"bingroup\":\"y\",\"histfunc\":\"sum\",\"hovertemplate\":\"Local Purchasing Power Index=89.1<br>sum of Cost of Living Plus Rent Index=%{x}<br>City=%{y}<extra></extra>\",\"legendgroup\":\"89.1\",\"marker\":{\"color\":\"#FFA15A\",\"pattern\":{\"shape\":\"\"}},\"name\":\"89.1\",\"offsetgroup\":\"89.1\",\"orientation\":\"h\",\"showlegend\":true,\"x\":[51.51],\"xaxis\":\"x\",\"y\":[\"Cologne, Germany\"],\"yaxis\":\"y\",\"type\":\"histogram\"},{\"alignmentgroup\":\"True\",\"bingroup\":\"y\",\"histfunc\":\"sum\",\"hovertemplate\":\"Local Purchasing Power Index=144.3<br>sum of Cost of Living Plus Rent Index=%{x}<br>City=%{y}<extra></extra>\",\"legendgroup\":\"144.3\",\"marker\":{\"color\":\"#19d3f3\",\"pattern\":{\"shape\":\"\"}},\"name\":\"144.3\",\"offsetgroup\":\"144.3\",\"orientation\":\"h\",\"showlegend\":true,\"x\":[53.51],\"xaxis\":\"x\",\"y\":[\"Jacksonville, FL, United States\"],\"yaxis\":\"y\",\"type\":\"histogram\"},{\"alignmentgroup\":\"True\",\"bingroup\":\"y\",\"histfunc\":\"sum\",\"hovertemplate\":\"Local Purchasing Power Index=104.02<br>sum of Cost of Living Plus Rent Index=%{x}<br>City=%{y}<extra></extra>\",\"legendgroup\":\"104.02\",\"marker\":{\"color\":\"#FF6692\",\"pattern\":{\"shape\":\"\"}},\"name\":\"104.02\",\"offsetgroup\":\"104.02\",\"orientation\":\"h\",\"showlegend\":true,\"x\":[49.4],\"xaxis\":\"x\",\"y\":[\"Regina, Canada\"],\"yaxis\":\"y\",\"type\":\"histogram\"},{\"alignmentgroup\":\"True\",\"bingroup\":\"y\",\"histfunc\":\"sum\",\"hovertemplate\":\"Local Purchasing Power Index=135.94<br>sum of Cost of Living Plus Rent Index=%{x}<br>City=%{y}<extra></extra>\",\"legendgroup\":\"135.94\",\"marker\":{\"color\":\"#B6E880\",\"pattern\":{\"shape\":\"\"}},\"name\":\"135.94\",\"offsetgroup\":\"135.94\",\"orientation\":\"h\",\"showlegend\":true,\"x\":[57.4],\"xaxis\":\"x\",\"y\":[\"Phoenix, AZ, United States\"],\"yaxis\":\"y\",\"type\":\"histogram\"},{\"alignmentgroup\":\"True\",\"bingroup\":\"y\",\"histfunc\":\"sum\",\"hovertemplate\":\"Local Purchasing Power Index=108.35<br>sum of Cost of Living Plus Rent Index=%{x}<br>City=%{y}<extra></extra>\",\"legendgroup\":\"108.35\",\"marker\":{\"color\":\"#FF97FF\",\"pattern\":{\"shape\":\"\"}},\"name\":\"108.35\",\"offsetgroup\":\"108.35\",\"orientation\":\"h\",\"showlegend\":true,\"x\":[50.91],\"xaxis\":\"x\",\"y\":[\"Des Moines, IA, United States\"],\"yaxis\":\"y\",\"type\":\"histogram\"},{\"alignmentgroup\":\"True\",\"bingroup\":\"y\",\"histfunc\":\"sum\",\"hovertemplate\":\"Local Purchasing Power Index=87.22<br>sum of Cost of Living Plus Rent Index=%{x}<br>City=%{y}<extra></extra>\",\"legendgroup\":\"87.22\",\"marker\":{\"color\":\"#FECB52\",\"pattern\":{\"shape\":\"\"}},\"name\":\"87.22\",\"offsetgroup\":\"87.22\",\"orientation\":\"h\",\"showlegend\":true,\"x\":[46.71],\"xaxis\":\"x\",\"y\":[\"Quebec City, Canada\"],\"yaxis\":\"y\",\"type\":\"histogram\"},{\"alignmentgroup\":\"True\",\"bingroup\":\"y\",\"histfunc\":\"sum\",\"hovertemplate\":\"Local Purchasing Power Index=116.4<br>sum of Cost of Living Plus Rent Index=%{x}<br>City=%{y}<extra></extra>\",\"legendgroup\":\"116.4\",\"marker\":{\"color\":\"#636efa\",\"pattern\":{\"shape\":\"\"}},\"name\":\"116.4\",\"offsetgroup\":\"116.4\",\"orientation\":\"h\",\"showlegend\":true,\"x\":[52.59],\"xaxis\":\"x\",\"y\":[\"Fresno, CA, United States\"],\"yaxis\":\"y\",\"type\":\"histogram\"},{\"alignmentgroup\":\"True\",\"bingroup\":\"y\",\"histfunc\":\"sum\",\"hovertemplate\":\"Local Purchasing Power Index=105.86<br>sum of Cost of Living Plus Rent Index=%{x}<br>City=%{y}<extra></extra>\",\"legendgroup\":\"105.86\",\"marker\":{\"color\":\"#EF553B\",\"pattern\":{\"shape\":\"\"}},\"name\":\"105.86\",\"offsetgroup\":\"105.86\",\"orientation\":\"h\",\"showlegend\":true,\"x\":[54.71],\"xaxis\":\"x\",\"y\":[\"Berlin, Germany\"],\"yaxis\":\"y\",\"type\":\"histogram\"},{\"alignmentgroup\":\"True\",\"bingroup\":\"y\",\"histfunc\":\"sum\",\"hovertemplate\":\"Local Purchasing Power Index=106.17<br>sum of Cost of Living Plus Rent Index=%{x}<br>City=%{y}<extra></extra>\",\"legendgroup\":\"106.17\",\"marker\":{\"color\":\"#00cc96\",\"pattern\":{\"shape\":\"\"}},\"name\":\"106.17\",\"offsetgroup\":\"106.17\",\"orientation\":\"h\",\"showlegend\":true,\"x\":[50.51],\"xaxis\":\"x\",\"y\":[\"Cardiff, United Kingdom\"],\"yaxis\":\"y\",\"type\":\"histogram\"},{\"alignmentgroup\":\"True\",\"bingroup\":\"y\",\"histfunc\":\"sum\",\"hovertemplate\":\"Local Purchasing Power Index=58.02<br>sum of Cost of Living Plus Rent Index=%{x}<br>City=%{y}<extra></extra>\",\"legendgroup\":\"58.02\",\"marker\":{\"color\":\"#ab63fa\",\"pattern\":{\"shape\":\"\"}},\"name\":\"58.02\",\"offsetgroup\":\"58.02\",\"orientation\":\"h\",\"showlegend\":true,\"x\":[51.19],\"xaxis\":\"x\",\"y\":[\"Windsor, Canada\"],\"yaxis\":\"y\",\"type\":\"histogram\"},{\"alignmentgroup\":\"True\",\"bingroup\":\"y\",\"histfunc\":\"sum\",\"hovertemplate\":\"Local Purchasing Power Index=96.42<br>sum of Cost of Living Plus Rent Index=%{x}<br>City=%{y}<extra></extra>\",\"legendgroup\":\"96.42\",\"marker\":{\"color\":\"#FFA15A\",\"pattern\":{\"shape\":\"\"}},\"name\":\"96.42\",\"offsetgroup\":\"96.42\",\"orientation\":\"h\",\"showlegend\":true,\"x\":[50.04],\"xaxis\":\"x\",\"y\":[\"Glasgow, United Kingdom\"],\"yaxis\":\"y\",\"type\":\"histogram\"},{\"alignmentgroup\":\"True\",\"bingroup\":\"y\",\"histfunc\":\"sum\",\"hovertemplate\":\"Local Purchasing Power Index=73.85<br>sum of Cost of Living Plus Rent Index=%{x}<br>City=%{y}<extra></extra>\",\"legendgroup\":\"73.85\",\"marker\":{\"color\":\"#19d3f3\",\"pattern\":{\"shape\":\"\"}},\"name\":\"73.85\",\"offsetgroup\":\"73.85\",\"orientation\":\"h\",\"showlegend\":true,\"x\":[53.29],\"xaxis\":\"x\",\"y\":[\"Kitchener, Canada\"],\"yaxis\":\"y\",\"type\":\"histogram\"},{\"alignmentgroup\":\"True\",\"bingroup\":\"y\",\"histfunc\":\"sum\",\"hovertemplate\":\"Local Purchasing Power Index=126.09<br>sum of Cost of Living Plus Rent Index=%{x}<br>City=%{y}<extra></extra>\",\"legendgroup\":\"126.09\",\"marker\":{\"color\":\"#FF6692\",\"pattern\":{\"shape\":\"\"}},\"name\":\"126.09\",\"offsetgroup\":\"126.09\",\"orientation\":\"h\",\"showlegend\":true,\"x\":[56.8],\"xaxis\":\"x\",\"y\":[\"Vancouver, WA, United States\"],\"yaxis\":\"y\",\"type\":\"histogram\"},{\"alignmentgroup\":\"True\",\"bingroup\":\"y\",\"histfunc\":\"sum\",\"hovertemplate\":\"Local Purchasing Power Index=75.42<br>sum of Cost of Living Plus Rent Index=%{x}<br>City=%{y}<extra></extra>\",\"legendgroup\":\"75.42\",\"marker\":{\"color\":\"#B6E880\",\"pattern\":{\"shape\":\"\"}},\"name\":\"75.42\",\"offsetgroup\":\"75.42\",\"orientation\":\"h\",\"showlegend\":true,\"x\":[51.9],\"xaxis\":\"x\",\"y\":[\"Kingston, Canada\"],\"yaxis\":\"y\",\"type\":\"histogram\"},{\"alignmentgroup\":\"True\",\"bingroup\":\"y\",\"histfunc\":\"sum\",\"hovertemplate\":\"Local Purchasing Power Index=79.93<br>sum of Cost of Living Plus Rent Index=%{x}<br>City=%{y}<extra></extra>\",\"legendgroup\":\"79.93\",\"marker\":{\"color\":\"#FF97FF\",\"pattern\":{\"shape\":\"\"}},\"name\":\"79.93\",\"offsetgroup\":\"79.93\",\"orientation\":\"h\",\"showlegend\":true,\"x\":[48.53,36.65],\"xaxis\":\"x\",\"y\":[\"Augsburg, Germany\",\"Alicante, Spain\"],\"yaxis\":\"y\",\"type\":\"histogram\"},{\"alignmentgroup\":\"True\",\"bingroup\":\"y\",\"histfunc\":\"sum\",\"hovertemplate\":\"Local Purchasing Power Index=109.02<br>sum of Cost of Living Plus Rent Index=%{x}<br>City=%{y}<extra></extra>\",\"legendgroup\":\"109.02\",\"marker\":{\"color\":\"#FECB52\",\"pattern\":{\"shape\":\"\"}},\"name\":\"109.02\",\"offsetgroup\":\"109.02\",\"orientation\":\"h\",\"showlegend\":true,\"x\":[52.86],\"xaxis\":\"x\",\"y\":[\"Stuttgart, Germany\"],\"yaxis\":\"y\",\"type\":\"histogram\"},{\"alignmentgroup\":\"True\",\"bingroup\":\"y\",\"histfunc\":\"sum\",\"hovertemplate\":\"Local Purchasing Power Index=79.56<br>sum of Cost of Living Plus Rent Index=%{x}<br>City=%{y}<extra></extra>\",\"legendgroup\":\"79.56\",\"marker\":{\"color\":\"#636efa\",\"pattern\":{\"shape\":\"\"}},\"name\":\"79.56\",\"offsetgroup\":\"79.56\",\"orientation\":\"h\",\"showlegend\":true,\"x\":[52.56],\"xaxis\":\"x\",\"y\":[\"Vienna, Austria\"],\"yaxis\":\"y\",\"type\":\"histogram\"},{\"alignmentgroup\":\"True\",\"bingroup\":\"y\",\"histfunc\":\"sum\",\"hovertemplate\":\"Local Purchasing Power Index=95.07<br>sum of Cost of Living Plus Rent Index=%{x}<br>City=%{y}<extra></extra>\",\"legendgroup\":\"95.07\",\"marker\":{\"color\":\"#EF553B\",\"pattern\":{\"shape\":\"\"}},\"name\":\"95.07\",\"offsetgroup\":\"95.07\",\"orientation\":\"h\",\"showlegend\":true,\"x\":[46.98],\"xaxis\":\"x\",\"y\":[\"Mannheim, Germany\"],\"yaxis\":\"y\",\"type\":\"histogram\"},{\"alignmentgroup\":\"True\",\"bingroup\":\"y\",\"histfunc\":\"sum\",\"hovertemplate\":\"Local Purchasing Power Index=124.83<br>sum of Cost of Living Plus Rent Index=%{x}<br>City=%{y}<extra></extra>\",\"legendgroup\":\"124.83\",\"marker\":{\"color\":\"#00cc96\",\"pattern\":{\"shape\":\"\"}},\"name\":\"124.83\",\"offsetgroup\":\"124.83\",\"orientation\":\"h\",\"showlegend\":true,\"x\":[54.22],\"xaxis\":\"x\",\"y\":[\"Las Vegas, NV, United States\"],\"yaxis\":\"y\",\"type\":\"histogram\"},{\"alignmentgroup\":\"True\",\"bingroup\":\"y\",\"histfunc\":\"sum\",\"hovertemplate\":\"Local Purchasing Power Index=82.63<br>sum of Cost of Living Plus Rent Index=%{x}<br>City=%{y}<extra></extra>\",\"legendgroup\":\"82.63\",\"marker\":{\"color\":\"#ab63fa\",\"pattern\":{\"shape\":\"\"}},\"name\":\"82.63\",\"offsetgroup\":\"82.63\",\"orientation\":\"h\",\"showlegend\":true,\"x\":[56.57],\"xaxis\":\"x\",\"y\":[\"Boise, ID, United States\"],\"yaxis\":\"y\",\"type\":\"histogram\"},{\"alignmentgroup\":\"True\",\"bingroup\":\"y\",\"histfunc\":\"sum\",\"hovertemplate\":\"Local Purchasing Power Index=109.99<br>sum of Cost of Living Plus Rent Index=%{x}<br>City=%{y}<extra></extra>\",\"legendgroup\":\"109.99\",\"marker\":{\"color\":\"#FFA15A\",\"pattern\":{\"shape\":\"\"}},\"name\":\"109.99\",\"offsetgroup\":\"109.99\",\"orientation\":\"h\",\"showlegend\":true,\"x\":[51.48],\"xaxis\":\"x\",\"y\":[\"Dusseldorf, Germany\"],\"yaxis\":\"y\",\"type\":\"histogram\"},{\"alignmentgroup\":\"True\",\"bingroup\":\"y\",\"histfunc\":\"sum\",\"hovertemplate\":\"Local Purchasing Power Index=144.12<br>sum of Cost of Living Plus Rent Index=%{x}<br>City=%{y}<extra></extra>\",\"legendgroup\":\"144.12\",\"marker\":{\"color\":\"#19d3f3\",\"pattern\":{\"shape\":\"\"}},\"name\":\"144.12\",\"offsetgroup\":\"144.12\",\"orientation\":\"h\",\"showlegend\":true,\"x\":[55.63],\"xaxis\":\"x\",\"y\":[\"Raleigh, NC, United States\"],\"yaxis\":\"y\",\"type\":\"histogram\"},{\"alignmentgroup\":\"True\",\"bingroup\":\"y\",\"histfunc\":\"sum\",\"hovertemplate\":\"Local Purchasing Power Index=52.1<br>sum of Cost of Living Plus Rent Index=%{x}<br>City=%{y}<extra></extra>\",\"legendgroup\":\"52.1\",\"marker\":{\"color\":\"#FF6692\",\"pattern\":{\"shape\":\"\"}},\"name\":\"52.1\",\"offsetgroup\":\"52.1\",\"orientation\":\"h\",\"showlegend\":true,\"x\":[46.7],\"xaxis\":\"x\",\"y\":[\"Pisa, Italy\"],\"yaxis\":\"y\",\"type\":\"histogram\"},{\"alignmentgroup\":\"True\",\"bingroup\":\"y\",\"histfunc\":\"sum\",\"hovertemplate\":\"Local Purchasing Power Index=112.36<br>sum of Cost of Living Plus Rent Index=%{x}<br>City=%{y}<extra></extra>\",\"legendgroup\":\"112.36\",\"marker\":{\"color\":\"#B6E880\",\"pattern\":{\"shape\":\"\"}},\"name\":\"112.36\",\"offsetgroup\":\"112.36\",\"orientation\":\"h\",\"showlegend\":true,\"x\":[52.63],\"xaxis\":\"x\",\"y\":[\"Spokane, WA, United States\"],\"yaxis\":\"y\",\"type\":\"histogram\"},{\"alignmentgroup\":\"True\",\"bingroup\":\"y\",\"histfunc\":\"sum\",\"hovertemplate\":\"Local Purchasing Power Index=123.32<br>sum of Cost of Living Plus Rent Index=%{x}<br>City=%{y}<extra></extra>\",\"legendgroup\":\"123.32\",\"marker\":{\"color\":\"#FF97FF\",\"pattern\":{\"shape\":\"\"}},\"name\":\"123.32\",\"offsetgroup\":\"123.32\",\"orientation\":\"h\",\"showlegend\":true,\"x\":[57.68],\"xaxis\":\"x\",\"y\":[\"Orlando, FL, United States\"],\"yaxis\":\"y\",\"type\":\"histogram\"},{\"alignmentgroup\":\"True\",\"bingroup\":\"y\",\"histfunc\":\"sum\",\"hovertemplate\":\"Local Purchasing Power Index=63.11<br>sum of Cost of Living Plus Rent Index=%{x}<br>City=%{y}<extra></extra>\",\"legendgroup\":\"63.11\",\"marker\":{\"color\":\"#FECB52\",\"pattern\":{\"shape\":\"\"}},\"name\":\"63.11\",\"offsetgroup\":\"63.11\",\"orientation\":\"h\",\"showlegend\":true,\"x\":[46.11],\"xaxis\":\"x\",\"y\":[\"Verona, Italy\"],\"yaxis\":\"y\",\"type\":\"histogram\"},{\"alignmentgroup\":\"True\",\"bingroup\":\"y\",\"histfunc\":\"sum\",\"hovertemplate\":\"Local Purchasing Power Index=170.66<br>sum of Cost of Living Plus Rent Index=%{x}<br>City=%{y}<extra></extra>\",\"legendgroup\":\"170.66\",\"marker\":{\"color\":\"#636efa\",\"pattern\":{\"shape\":\"\"}},\"name\":\"170.66\",\"offsetgroup\":\"170.66\",\"orientation\":\"h\",\"showlegend\":true,\"x\":[59.56],\"xaxis\":\"x\",\"y\":[\"Dallas, TX, United States\"],\"yaxis\":\"y\",\"type\":\"histogram\"},{\"alignmentgroup\":\"True\",\"bingroup\":\"y\",\"histfunc\":\"sum\",\"hovertemplate\":\"Local Purchasing Power Index=130.94<br>sum of Cost of Living Plus Rent Index=%{x}<br>City=%{y}<extra></extra>\",\"legendgroup\":\"130.94\",\"marker\":{\"color\":\"#EF553B\",\"pattern\":{\"shape\":\"\"}},\"name\":\"130.94\",\"offsetgroup\":\"130.94\",\"orientation\":\"h\",\"showlegend\":true,\"x\":[53.58],\"xaxis\":\"x\",\"y\":[\"Richmond, VA, United States\"],\"yaxis\":\"y\",\"type\":\"histogram\"},{\"alignmentgroup\":\"True\",\"bingroup\":\"y\",\"histfunc\":\"sum\",\"hovertemplate\":\"Local Purchasing Power Index=109.65<br>sum of Cost of Living Plus Rent Index=%{x}<br>City=%{y}<extra></extra>\",\"legendgroup\":\"109.65\",\"marker\":{\"color\":\"#00cc96\",\"pattern\":{\"shape\":\"\"}},\"name\":\"109.65\",\"offsetgroup\":\"109.65\",\"orientation\":\"h\",\"showlegend\":true,\"x\":[51.09],\"xaxis\":\"x\",\"y\":[\"Louisville, KY, United States\"],\"yaxis\":\"y\",\"type\":\"histogram\"},{\"alignmentgroup\":\"True\",\"bingroup\":\"y\",\"histfunc\":\"sum\",\"hovertemplate\":\"Local Purchasing Power Index=98.44<br>sum of Cost of Living Plus Rent Index=%{x}<br>City=%{y}<extra></extra>\",\"legendgroup\":\"98.44\",\"marker\":{\"color\":\"#ab63fa\",\"pattern\":{\"shape\":\"\"}},\"name\":\"98.44\",\"offsetgroup\":\"98.44\",\"orientation\":\"h\",\"showlegend\":true,\"x\":[51.09],\"xaxis\":\"x\",\"y\":[\"Southampton, United Kingdom\"],\"yaxis\":\"y\",\"type\":\"histogram\"},{\"alignmentgroup\":\"True\",\"bingroup\":\"y\",\"histfunc\":\"sum\",\"hovertemplate\":\"Local Purchasing Power Index=88.49<br>sum of Cost of Living Plus Rent Index=%{x}<br>City=%{y}<extra></extra>\",\"legendgroup\":\"88.49\",\"marker\":{\"color\":\"#FFA15A\",\"pattern\":{\"shape\":\"\"}},\"name\":\"88.49\",\"offsetgroup\":\"88.49\",\"orientation\":\"h\",\"showlegend\":true,\"x\":[50.18],\"xaxis\":\"x\",\"y\":[\"Leeds, United Kingdom\"],\"yaxis\":\"y\",\"type\":\"histogram\"},{\"alignmentgroup\":\"True\",\"bingroup\":\"y\",\"histfunc\":\"sum\",\"hovertemplate\":\"Local Purchasing Power Index=61.95<br>sum of Cost of Living Plus Rent Index=%{x}<br>City=%{y}<extra></extra>\",\"legendgroup\":\"61.95\",\"marker\":{\"color\":\"#19d3f3\",\"pattern\":{\"shape\":\"\"}},\"name\":\"61.95\",\"offsetgroup\":\"61.95\",\"orientation\":\"h\",\"showlegend\":true,\"x\":[45.74],\"xaxis\":\"x\",\"y\":[\"Treviso, Italy\"],\"yaxis\":\"y\",\"type\":\"histogram\"},{\"alignmentgroup\":\"True\",\"bingroup\":\"y\",\"histfunc\":\"sum\",\"hovertemplate\":\"Local Purchasing Power Index=132.13<br>sum of Cost of Living Plus Rent Index=%{x}<br>City=%{y}<extra></extra>\",\"legendgroup\":\"132.13\",\"marker\":{\"color\":\"#FF6692\",\"pattern\":{\"shape\":\"\"}},\"name\":\"132.13\",\"offsetgroup\":\"132.13\",\"orientation\":\"h\",\"showlegend\":true,\"x\":[53.93],\"xaxis\":\"x\",\"y\":[\"Madison, WI, United States\"],\"yaxis\":\"y\",\"type\":\"histogram\"},{\"alignmentgroup\":\"True\",\"bingroup\":\"y\",\"histfunc\":\"sum\",\"hovertemplate\":\"Local Purchasing Power Index=81.78<br>sum of Cost of Living Plus Rent Index=%{x}<br>City=%{y}<extra></extra>\",\"legendgroup\":\"81.78\",\"marker\":{\"color\":\"#B6E880\",\"pattern\":{\"shape\":\"\"}},\"name\":\"81.78\",\"offsetgroup\":\"81.78\",\"orientation\":\"h\",\"showlegend\":true,\"x\":[51.24],\"xaxis\":\"x\",\"y\":[\"Birmingham, United Kingdom\"],\"yaxis\":\"y\",\"type\":\"histogram\"},{\"alignmentgroup\":\"True\",\"bingroup\":\"y\",\"histfunc\":\"sum\",\"hovertemplate\":\"Local Purchasing Power Index=121.53<br>sum of Cost of Living Plus Rent Index=%{x}<br>City=%{y}<extra></extra>\",\"legendgroup\":\"121.53\",\"marker\":{\"color\":\"#FF97FF\",\"pattern\":{\"shape\":\"\"}},\"name\":\"121.53\",\"offsetgroup\":\"121.53\",\"orientation\":\"h\",\"showlegend\":true,\"x\":[52.6],\"xaxis\":\"x\",\"y\":[\"Indianapolis, IN, United States\"],\"yaxis\":\"y\",\"type\":\"histogram\"},{\"alignmentgroup\":\"True\",\"bingroup\":\"y\",\"histfunc\":\"sum\",\"hovertemplate\":\"Local Purchasing Power Index=95.57<br>sum of Cost of Living Plus Rent Index=%{x}<br>City=%{y}<extra></extra>\",\"legendgroup\":\"95.57\",\"marker\":{\"color\":\"#FECB52\",\"pattern\":{\"shape\":\"\"}},\"name\":\"95.57\",\"offsetgroup\":\"95.57\",\"orientation\":\"h\",\"showlegend\":true,\"x\":[48.29],\"xaxis\":\"x\",\"y\":[\"Hanover, Germany\"],\"yaxis\":\"y\",\"type\":\"histogram\"},{\"alignmentgroup\":\"True\",\"bingroup\":\"y\",\"histfunc\":\"sum\",\"hovertemplate\":\"Local Purchasing Power Index=115.65<br>sum of Cost of Living Plus Rent Index=%{x}<br>City=%{y}<extra></extra>\",\"legendgroup\":\"115.65\",\"marker\":{\"color\":\"#636efa\",\"pattern\":{\"shape\":\"\"}},\"name\":\"115.65\",\"offsetgroup\":\"115.65\",\"orientation\":\"h\",\"showlegend\":true,\"x\":[47.49],\"xaxis\":\"x\",\"y\":[\"Nuremberg, Germany\"],\"yaxis\":\"y\",\"type\":\"histogram\"},{\"alignmentgroup\":\"True\",\"bingroup\":\"y\",\"histfunc\":\"sum\",\"hovertemplate\":\"Local Purchasing Power Index=86.35<br>sum of Cost of Living Plus Rent Index=%{x}<br>City=%{y}<extra></extra>\",\"legendgroup\":\"86.35\",\"marker\":{\"color\":\"#EF553B\",\"pattern\":{\"shape\":\"\"}},\"name\":\"86.35\",\"offsetgroup\":\"86.35\",\"orientation\":\"h\",\"showlegend\":true,\"x\":[52.43],\"xaxis\":\"x\",\"y\":[\"Hamilton, Canada\"],\"yaxis\":\"y\",\"type\":\"histogram\"},{\"alignmentgroup\":\"True\",\"bingroup\":\"y\",\"histfunc\":\"sum\",\"hovertemplate\":\"Local Purchasing Power Index=108.7<br>sum of Cost of Living Plus Rent Index=%{x}<br>City=%{y}<extra></extra>\",\"legendgroup\":\"108.7\",\"marker\":{\"color\":\"#00cc96\",\"pattern\":{\"shape\":\"\"}},\"name\":\"108.7\",\"offsetgroup\":\"108.7\",\"orientation\":\"h\",\"showlegend\":true,\"x\":[49.11],\"xaxis\":\"x\",\"y\":[\"Coventry, United Kingdom\"],\"yaxis\":\"y\",\"type\":\"histogram\"},{\"alignmentgroup\":\"True\",\"bingroup\":\"y\",\"histfunc\":\"sum\",\"hovertemplate\":\"Local Purchasing Power Index=97.66<br>sum of Cost of Living Plus Rent Index=%{x}<br>City=%{y}<extra></extra>\",\"legendgroup\":\"97.66\",\"marker\":{\"color\":\"#ab63fa\",\"pattern\":{\"shape\":\"\"}},\"name\":\"97.66\",\"offsetgroup\":\"97.66\",\"orientation\":\"h\",\"showlegend\":true,\"x\":[47.57],\"xaxis\":\"x\",\"y\":[\"Newcastle upon Tyne, United Kingdom\"],\"yaxis\":\"y\",\"type\":\"histogram\"},{\"alignmentgroup\":\"True\",\"bingroup\":\"y\",\"histfunc\":\"sum\",\"hovertemplate\":\"Local Purchasing Power Index=123.2<br>sum of Cost of Living Plus Rent Index=%{x}<br>City=%{y}<extra></extra>\",\"legendgroup\":\"123.2\",\"marker\":{\"color\":\"#FFA15A\",\"pattern\":{\"shape\":\"\"}},\"name\":\"123.2\",\"offsetgroup\":\"123.2\",\"orientation\":\"h\",\"showlegend\":true,\"x\":[50.78],\"xaxis\":\"x\",\"y\":[\"Saint Louis, MO, United States\"],\"yaxis\":\"y\",\"type\":\"histogram\"},{\"alignmentgroup\":\"True\",\"bingroup\":\"y\",\"histfunc\":\"sum\",\"hovertemplate\":\"Local Purchasing Power Index=107.39<br>sum of Cost of Living Plus Rent Index=%{x}<br>City=%{y}<extra></extra>\",\"legendgroup\":\"107.39\",\"marker\":{\"color\":\"#19d3f3\",\"pattern\":{\"shape\":\"\"}},\"name\":\"107.39\",\"offsetgroup\":\"107.39\",\"orientation\":\"h\",\"showlegend\":true,\"x\":[48.89],\"xaxis\":\"x\",\"y\":[\"Ulm, Germany\"],\"yaxis\":\"y\",\"type\":\"histogram\"},{\"alignmentgroup\":\"True\",\"bingroup\":\"y\",\"histfunc\":\"sum\",\"hovertemplate\":\"Local Purchasing Power Index=97.94<br>sum of Cost of Living Plus Rent Index=%{x}<br>City=%{y}<extra></extra>\",\"legendgroup\":\"97.94\",\"marker\":{\"color\":\"#FF6692\",\"pattern\":{\"shape\":\"\"}},\"name\":\"97.94\",\"offsetgroup\":\"97.94\",\"orientation\":\"h\",\"showlegend\":true,\"x\":[43.58],\"xaxis\":\"x\",\"y\":[\"Stoke-on-Trent, United Kingdom\"],\"yaxis\":\"y\",\"type\":\"histogram\"},{\"alignmentgroup\":\"True\",\"bingroup\":\"y\",\"histfunc\":\"sum\",\"hovertemplate\":\"Local Purchasing Power Index=158.21<br>sum of Cost of Living Plus Rent Index=%{x}<br>City=%{y}<extra></extra>\",\"legendgroup\":\"158.21\",\"marker\":{\"color\":\"#B6E880\",\"pattern\":{\"shape\":\"\"}},\"name\":\"158.21\",\"offsetgroup\":\"158.21\",\"orientation\":\"h\",\"showlegend\":true,\"x\":[62.36],\"xaxis\":\"x\",\"y\":[\"Austin, TX, United States\"],\"yaxis\":\"y\",\"type\":\"histogram\"},{\"alignmentgroup\":\"True\",\"bingroup\":\"y\",\"histfunc\":\"sum\",\"hovertemplate\":\"Local Purchasing Power Index=82.43<br>sum of Cost of Living Plus Rent Index=%{x}<br>City=%{y}<extra></extra>\",\"legendgroup\":\"82.43\",\"marker\":{\"color\":\"#FF97FF\",\"pattern\":{\"shape\":\"\"}},\"name\":\"82.43\",\"offsetgroup\":\"82.43\",\"orientation\":\"h\",\"showlegend\":true,\"x\":[46.22],\"xaxis\":\"x\",\"y\":[\"Dundee, United Kingdom\"],\"yaxis\":\"y\",\"type\":\"histogram\"},{\"alignmentgroup\":\"True\",\"bingroup\":\"y\",\"histfunc\":\"sum\",\"hovertemplate\":\"Local Purchasing Power Index=85.4<br>sum of Cost of Living Plus Rent Index=%{x}<br>City=%{y}<extra></extra>\",\"legendgroup\":\"85.4\",\"marker\":{\"color\":\"#FECB52\",\"pattern\":{\"shape\":\"\"}},\"name\":\"85.4\",\"offsetgroup\":\"85.4\",\"orientation\":\"h\",\"showlegend\":true,\"x\":[45.73],\"xaxis\":\"x\",\"y\":[\"Saarbrucken, Germany\"],\"yaxis\":\"y\",\"type\":\"histogram\"},{\"alignmentgroup\":\"True\",\"bingroup\":\"y\",\"histfunc\":\"sum\",\"hovertemplate\":\"Local Purchasing Power Index=127.2<br>sum of Cost of Living Plus Rent Index=%{x}<br>City=%{y}<extra></extra>\",\"legendgroup\":\"127.2\",\"marker\":{\"color\":\"#636efa\",\"pattern\":{\"shape\":\"\"}},\"name\":\"127.2\",\"offsetgroup\":\"127.2\",\"orientation\":\"h\",\"showlegend\":true,\"x\":[50.8],\"xaxis\":\"x\",\"y\":[\"Kansas City, MO, United States\"],\"yaxis\":\"y\",\"type\":\"histogram\"},{\"alignmentgroup\":\"True\",\"bingroup\":\"y\",\"histfunc\":\"sum\",\"hovertemplate\":\"Local Purchasing Power Index=57.68<br>sum of Cost of Living Plus Rent Index=%{x}<br>City=%{y}<extra></extra>\",\"legendgroup\":\"57.68\",\"marker\":{\"color\":\"#EF553B\",\"pattern\":{\"shape\":\"\"}},\"name\":\"57.68\",\"offsetgroup\":\"57.68\",\"orientation\":\"h\",\"showlegend\":true,\"x\":[43.77],\"xaxis\":\"x\",\"y\":[\"Cagliari, Italy\"],\"yaxis\":\"y\",\"type\":\"histogram\"},{\"alignmentgroup\":\"True\",\"bingroup\":\"y\",\"histfunc\":\"sum\",\"hovertemplate\":\"Local Purchasing Power Index=103.03<br>sum of Cost of Living Plus Rent Index=%{x}<br>City=%{y}<extra></extra>\",\"legendgroup\":\"103.03\",\"marker\":{\"color\":\"#00cc96\",\"pattern\":{\"shape\":\"\"}},\"name\":\"103.03\",\"offsetgroup\":\"103.03\",\"orientation\":\"h\",\"showlegend\":true,\"x\":[48.03],\"xaxis\":\"x\",\"y\":[\"Karlsruhe, Germany\"],\"yaxis\":\"y\",\"type\":\"histogram\"},{\"alignmentgroup\":\"True\",\"bingroup\":\"y\",\"histfunc\":\"sum\",\"hovertemplate\":\"Local Purchasing Power Index=89.07<br>sum of Cost of Living Plus Rent Index=%{x}<br>City=%{y}<extra></extra>\",\"legendgroup\":\"89.07\",\"marker\":{\"color\":\"#ab63fa\",\"pattern\":{\"shape\":\"\"}},\"name\":\"89.07\",\"offsetgroup\":\"89.07\",\"orientation\":\"h\",\"showlegend\":true,\"x\":[47.62],\"xaxis\":\"x\",\"y\":[\"Sheffield, United Kingdom\"],\"yaxis\":\"y\",\"type\":\"histogram\"},{\"alignmentgroup\":\"True\",\"bingroup\":\"y\",\"histfunc\":\"sum\",\"hovertemplate\":\"Local Purchasing Power Index=59.33<br>sum of Cost of Living Plus Rent Index=%{x}<br>City=%{y}<extra></extra>\",\"legendgroup\":\"59.33\",\"marker\":{\"color\":\"#FFA15A\",\"pattern\":{\"shape\":\"\"}},\"name\":\"59.33\",\"offsetgroup\":\"59.33\",\"orientation\":\"h\",\"showlegend\":true,\"x\":[46.5],\"xaxis\":\"x\",\"y\":[\"Taipei, Taiwan\"],\"yaxis\":\"y\",\"type\":\"histogram\"},{\"alignmentgroup\":\"True\",\"bingroup\":\"y\",\"histfunc\":\"sum\",\"hovertemplate\":\"Local Purchasing Power Index=91.7<br>sum of Cost of Living Plus Rent Index=%{x}<br>City=%{y}<extra></extra>\",\"legendgroup\":\"91.7\",\"marker\":{\"color\":\"#19d3f3\",\"pattern\":{\"shape\":\"\"}},\"name\":\"91.7\",\"offsetgroup\":\"91.7\",\"orientation\":\"h\",\"showlegend\":true,\"x\":[52.36],\"xaxis\":\"x\",\"y\":[\"Chattanooga, TN, United States\"],\"yaxis\":\"y\",\"type\":\"histogram\"},{\"alignmentgroup\":\"True\",\"bingroup\":\"y\",\"histfunc\":\"sum\",\"hovertemplate\":\"Local Purchasing Power Index=108.54<br>sum of Cost of Living Plus Rent Index=%{x}<br>City=%{y}<extra></extra>\",\"legendgroup\":\"108.54\",\"marker\":{\"color\":\"#FF6692\",\"pattern\":{\"shape\":\"\"}},\"name\":\"108.54\",\"offsetgroup\":\"108.54\",\"orientation\":\"h\",\"showlegend\":true,\"x\":[47.78],\"xaxis\":\"x\",\"y\":[\"Darmstadt, Germany\"],\"yaxis\":\"y\",\"type\":\"histogram\"},{\"alignmentgroup\":\"True\",\"bingroup\":\"y\",\"histfunc\":\"sum\",\"hovertemplate\":\"Local Purchasing Power Index=55.84<br>sum of Cost of Living Plus Rent Index=%{x}<br>City=%{y}<extra></extra>\",\"legendgroup\":\"55.84\",\"marker\":{\"color\":\"#B6E880\",\"pattern\":{\"shape\":\"\"}},\"name\":\"55.84\",\"offsetgroup\":\"55.84\",\"orientation\":\"h\",\"showlegend\":true,\"x\":[48.66],\"xaxis\":\"x\",\"y\":[\"Limassol, Cyprus\"],\"yaxis\":\"y\",\"type\":\"histogram\"},{\"alignmentgroup\":\"True\",\"bingroup\":\"y\",\"histfunc\":\"sum\",\"hovertemplate\":\"Local Purchasing Power Index=67.23<br>sum of Cost of Living Plus Rent Index=%{x}<br>City=%{y}<extra></extra>\",\"legendgroup\":\"67.23\",\"marker\":{\"color\":\"#FF97FF\",\"pattern\":{\"shape\":\"\"}},\"name\":\"67.23\",\"offsetgroup\":\"67.23\",\"orientation\":\"h\",\"showlegend\":true,\"x\":[44.95],\"xaxis\":\"x\",\"y\":[\"Turin, Italy\"],\"yaxis\":\"y\",\"type\":\"histogram\"},{\"alignmentgroup\":\"True\",\"bingroup\":\"y\",\"histfunc\":\"sum\",\"hovertemplate\":\"Local Purchasing Power Index=71.18<br>sum of Cost of Living Plus Rent Index=%{x}<br>City=%{y}<extra></extra>\",\"legendgroup\":\"71.18\",\"marker\":{\"color\":\"#FECB52\",\"pattern\":{\"shape\":\"\"}},\"name\":\"71.18\",\"offsetgroup\":\"71.18\",\"orientation\":\"h\",\"showlegend\":true,\"x\":[49.94],\"xaxis\":\"x\",\"y\":[\"St.Catharines, Canada\"],\"yaxis\":\"y\",\"type\":\"histogram\"},{\"alignmentgroup\":\"True\",\"bingroup\":\"y\",\"histfunc\":\"sum\",\"hovertemplate\":\"Local Purchasing Power Index=97.21<br>sum of Cost of Living Plus Rent Index=%{x}<br>City=%{y}<extra></extra>\",\"legendgroup\":\"97.21\",\"marker\":{\"color\":\"#636efa\",\"pattern\":{\"shape\":\"\"}},\"name\":\"97.21\",\"offsetgroup\":\"97.21\",\"orientation\":\"h\",\"showlegend\":true,\"x\":[47.78],\"xaxis\":\"x\",\"y\":[\"Best, Netherlands\"],\"yaxis\":\"y\",\"type\":\"histogram\"},{\"alignmentgroup\":\"True\",\"bingroup\":\"y\",\"histfunc\":\"sum\",\"hovertemplate\":\"Local Purchasing Power Index=90.45<br>sum of Cost of Living Plus Rent Index=%{x}<br>City=%{y}<extra></extra>\",\"legendgroup\":\"90.45\",\"marker\":{\"color\":\"#EF553B\",\"pattern\":{\"shape\":\"\"}},\"name\":\"90.45\",\"offsetgroup\":\"90.45\",\"orientation\":\"h\",\"showlegend\":true,\"x\":[45.26],\"xaxis\":\"x\",\"y\":[\"Toledo, OH, United States\"],\"yaxis\":\"y\",\"type\":\"histogram\"},{\"alignmentgroup\":\"True\",\"bingroup\":\"y\",\"histfunc\":\"sum\",\"hovertemplate\":\"Local Purchasing Power Index=140.61<br>sum of Cost of Living Plus Rent Index=%{x}<br>City=%{y}<extra></extra>\",\"legendgroup\":\"140.61\",\"marker\":{\"color\":\"#00cc96\",\"pattern\":{\"shape\":\"\"}},\"name\":\"140.61\",\"offsetgroup\":\"140.61\",\"orientation\":\"h\",\"showlegend\":true,\"x\":[54.35],\"xaxis\":\"x\",\"y\":[\"Salt Lake City, UT, United States\"],\"yaxis\":\"y\",\"type\":\"histogram\"},{\"alignmentgroup\":\"True\",\"bingroup\":\"y\",\"histfunc\":\"sum\",\"hovertemplate\":\"Local Purchasing Power Index=127.95<br>sum of Cost of Living Plus Rent Index=%{x}<br>City=%{y}<extra></extra>\",\"legendgroup\":\"127.95\",\"marker\":{\"color\":\"#ab63fa\",\"pattern\":{\"shape\":\"\"}},\"name\":\"127.95\",\"offsetgroup\":\"127.95\",\"orientation\":\"h\",\"showlegend\":true,\"x\":[49.42],\"xaxis\":\"x\",\"y\":[\"Oklahoma City, OK, United States\"],\"yaxis\":\"y\",\"type\":\"histogram\"},{\"alignmentgroup\":\"True\",\"bingroup\":\"y\",\"histfunc\":\"sum\",\"hovertemplate\":\"Local Purchasing Power Index=66.62<br>sum of Cost of Living Plus Rent Index=%{x}<br>City=%{y}<extra></extra>\",\"legendgroup\":\"66.62\",\"marker\":{\"color\":\"#FFA15A\",\"pattern\":{\"shape\":\"\"}},\"name\":\"66.62\",\"offsetgroup\":\"66.62\",\"orientation\":\"h\",\"showlegend\":true,\"x\":[44.82],\"xaxis\":\"x\",\"y\":[\"Padova, Italy\"],\"yaxis\":\"y\",\"type\":\"histogram\"},{\"alignmentgroup\":\"True\",\"bingroup\":\"y\",\"histfunc\":\"sum\",\"hovertemplate\":\"Local Purchasing Power Index=92.59<br>sum of Cost of Living Plus Rent Index=%{x}<br>City=%{y}<extra></extra>\",\"legendgroup\":\"92.59\",\"marker\":{\"color\":\"#19d3f3\",\"pattern\":{\"shape\":\"\"}},\"name\":\"92.59\",\"offsetgroup\":\"92.59\",\"orientation\":\"h\",\"showlegend\":true,\"x\":[46.17],\"xaxis\":\"x\",\"y\":[\"Leicester, United Kingdom\"],\"yaxis\":\"y\",\"type\":\"histogram\"},{\"alignmentgroup\":\"True\",\"bingroup\":\"y\",\"histfunc\":\"sum\",\"hovertemplate\":\"Local Purchasing Power Index=94.46<br>sum of Cost of Living Plus Rent Index=%{x}<br>City=%{y}<extra></extra>\",\"legendgroup\":\"94.46\",\"marker\":{\"color\":\"#FF6692\",\"pattern\":{\"shape\":\"\"}},\"name\":\"94.46\",\"offsetgroup\":\"94.46\",\"orientation\":\"h\",\"showlegend\":true,\"x\":[50.98],\"xaxis\":\"x\",\"y\":[\"Freiburg im Breisgau, Germany\"],\"yaxis\":\"y\",\"type\":\"histogram\"},{\"alignmentgroup\":\"True\",\"bingroup\":\"y\",\"histfunc\":\"sum\",\"hovertemplate\":\"Local Purchasing Power Index=131.75<br>sum of Cost of Living Plus Rent Index=%{x}<br>City=%{y}<extra></extra>\",\"legendgroup\":\"131.75\",\"marker\":{\"color\":\"#B6E880\",\"pattern\":{\"shape\":\"\"}},\"name\":\"131.75\",\"offsetgroup\":\"131.75\",\"orientation\":\"h\",\"showlegend\":true,\"x\":[45.93],\"xaxis\":\"x\",\"y\":[\"Erlangen, Germany\"],\"yaxis\":\"y\",\"type\":\"histogram\"},{\"alignmentgroup\":\"True\",\"bingroup\":\"y\",\"histfunc\":\"sum\",\"hovertemplate\":\"Local Purchasing Power Index=60.28<br>sum of Cost of Living Plus Rent Index=%{x}<br>City=%{y}<extra></extra>\",\"legendgroup\":\"60.28\",\"marker\":{\"color\":\"#FF97FF\",\"pattern\":{\"shape\":\"\"}},\"name\":\"60.28\",\"offsetgroup\":\"60.28\",\"orientation\":\"h\",\"showlegend\":true,\"x\":[43.35],\"xaxis\":\"x\",\"y\":[\"Nicosia, Cyprus\"],\"yaxis\":\"y\",\"type\":\"histogram\"},{\"alignmentgroup\":\"True\",\"bingroup\":\"y\",\"histfunc\":\"sum\",\"hovertemplate\":\"Local Purchasing Power Index=125.17<br>sum of Cost of Living Plus Rent Index=%{x}<br>City=%{y}<extra></extra>\",\"legendgroup\":\"125.17\",\"marker\":{\"color\":\"#FECB52\",\"pattern\":{\"shape\":\"\"}},\"name\":\"125.17\",\"offsetgroup\":\"125.17\",\"orientation\":\"h\",\"showlegend\":true,\"x\":[52.83],\"xaxis\":\"x\",\"y\":[\"Cincinnati, OH, United States\"],\"yaxis\":\"y\",\"type\":\"histogram\"},{\"alignmentgroup\":\"True\",\"bingroup\":\"y\",\"histfunc\":\"sum\",\"hovertemplate\":\"Local Purchasing Power Index=83.69<br>sum of Cost of Living Plus Rent Index=%{x}<br>City=%{y}<extra></extra>\",\"legendgroup\":\"83.69\",\"marker\":{\"color\":\"#636efa\",\"pattern\":{\"shape\":\"\"}},\"name\":\"83.69\",\"offsetgroup\":\"83.69\",\"orientation\":\"h\",\"showlegend\":true,\"x\":[47.15],\"xaxis\":\"x\",\"y\":[\"Tucson, AZ, United States\"],\"yaxis\":\"y\",\"type\":\"histogram\"},{\"alignmentgroup\":\"True\",\"bingroup\":\"y\",\"histfunc\":\"sum\",\"hovertemplate\":\"Local Purchasing Power Index=101.11<br>sum of Cost of Living Plus Rent Index=%{x}<br>City=%{y}<extra></extra>\",\"legendgroup\":\"101.11\",\"marker\":{\"color\":\"#EF553B\",\"pattern\":{\"shape\":\"\"}},\"name\":\"101.11\",\"offsetgroup\":\"101.11\",\"orientation\":\"h\",\"showlegend\":true,\"x\":[54.83],\"xaxis\":\"x\",\"y\":[\"Dubai, United Arab Emirates\"],\"yaxis\":\"y\",\"type\":\"histogram\"},{\"alignmentgroup\":\"True\",\"bingroup\":\"y\",\"histfunc\":\"sum\",\"hovertemplate\":\"Local Purchasing Power Index=172.98<br>sum of Cost of Living Plus Rent Index=%{x}<br>City=%{y}<extra></extra>\",\"legendgroup\":\"172.98\",\"marker\":{\"color\":\"#00cc96\",\"pattern\":{\"shape\":\"\"}},\"name\":\"172.98\",\"offsetgroup\":\"172.98\",\"orientation\":\"h\",\"showlegend\":true,\"x\":[54.3],\"xaxis\":\"x\",\"y\":[\"Houston, TX, United States\"],\"yaxis\":\"y\",\"type\":\"histogram\"},{\"alignmentgroup\":\"True\",\"bingroup\":\"y\",\"histfunc\":\"sum\",\"hovertemplate\":\"Local Purchasing Power Index=65.48<br>sum of Cost of Living Plus Rent Index=%{x}<br>City=%{y}<extra></extra>\",\"legendgroup\":\"65.48\",\"marker\":{\"color\":\"#ab63fa\",\"pattern\":{\"shape\":\"\"}},\"name\":\"65.48\",\"offsetgroup\":\"65.48\",\"orientation\":\"h\",\"showlegend\":true,\"x\":[46.5],\"xaxis\":\"x\",\"y\":[\"Bilbao, Spain\"],\"yaxis\":\"y\",\"type\":\"histogram\"},{\"alignmentgroup\":\"True\",\"bingroup\":\"y\",\"histfunc\":\"sum\",\"hovertemplate\":\"Local Purchasing Power Index=76.52<br>sum of Cost of Living Plus Rent Index=%{x}<br>City=%{y}<extra></extra>\",\"legendgroup\":\"76.52\",\"marker\":{\"color\":\"#FFA15A\",\"pattern\":{\"shape\":\"\"}},\"name\":\"76.52\",\"offsetgroup\":\"76.52\",\"orientation\":\"h\",\"showlegend\":true,\"x\":[49.21],\"xaxis\":\"x\",\"y\":[\"Bournemouth, United Kingdom\"],\"yaxis\":\"y\",\"type\":\"histogram\"},{\"alignmentgroup\":\"True\",\"bingroup\":\"y\",\"histfunc\":\"sum\",\"hovertemplate\":\"Local Purchasing Power Index=103.42<br>sum of Cost of Living Plus Rent Index=%{x}<br>City=%{y}<extra></extra>\",\"legendgroup\":\"103.42\",\"marker\":{\"color\":\"#19d3f3\",\"pattern\":{\"shape\":\"\"}},\"name\":\"103.42\",\"offsetgroup\":\"103.42\",\"orientation\":\"h\",\"showlegend\":true,\"x\":[49.28],\"xaxis\":\"x\",\"y\":[\"Mesa, AZ, United States\"],\"yaxis\":\"y\",\"type\":\"histogram\"},{\"alignmentgroup\":\"True\",\"bingroup\":\"y\",\"histfunc\":\"sum\",\"hovertemplate\":\"Local Purchasing Power Index=81.89<br>sum of Cost of Living Plus Rent Index=%{x}<br>City=%{y}<extra></extra>\",\"legendgroup\":\"81.89\",\"marker\":{\"color\":\"#FF6692\",\"pattern\":{\"shape\":\"\"}},\"name\":\"81.89\",\"offsetgroup\":\"81.89\",\"orientation\":\"h\",\"showlegend\":true,\"x\":[43.63],\"xaxis\":\"x\",\"y\":[\"Essen, Germany\"],\"yaxis\":\"y\",\"type\":\"histogram\"},{\"alignmentgroup\":\"True\",\"bingroup\":\"y\",\"histfunc\":\"sum\",\"hovertemplate\":\"Local Purchasing Power Index=122.44<br>sum of Cost of Living Plus Rent Index=%{x}<br>City=%{y}<extra></extra>\",\"legendgroup\":\"122.44\",\"marker\":{\"color\":\"#B6E880\",\"pattern\":{\"shape\":\"\"}},\"name\":\"122.44\",\"offsetgroup\":\"122.44\",\"orientation\":\"h\",\"showlegend\":true,\"x\":[49.6],\"xaxis\":\"x\",\"y\":[\"Albuquerque, NM, United States\"],\"yaxis\":\"y\",\"type\":\"histogram\"},{\"alignmentgroup\":\"True\",\"bingroup\":\"y\",\"histfunc\":\"sum\",\"hovertemplate\":\"Local Purchasing Power Index=102.02<br>sum of Cost of Living Plus Rent Index=%{x}<br>City=%{y}<extra></extra>\",\"legendgroup\":\"102.02\",\"marker\":{\"color\":\"#FF97FF\",\"pattern\":{\"shape\":\"\"}},\"name\":\"102.02\",\"offsetgroup\":\"102.02\",\"orientation\":\"h\",\"showlegend\":true,\"x\":[44.49],\"xaxis\":\"x\",\"y\":[\"Aberdeen, United Kingdom\"],\"yaxis\":\"y\",\"type\":\"histogram\"},{\"alignmentgroup\":\"True\",\"bingroup\":\"y\",\"histfunc\":\"sum\",\"hovertemplate\":\"Local Purchasing Power Index=102.4<br>sum of Cost of Living Plus Rent Index=%{x}<br>City=%{y}<extra></extra>\",\"legendgroup\":\"102.4\",\"marker\":{\"color\":\"#FECB52\",\"pattern\":{\"shape\":\"\"}},\"name\":\"102.4\",\"offsetgroup\":\"102.4\",\"orientation\":\"h\",\"showlegend\":true,\"x\":[47.15],\"xaxis\":\"x\",\"y\":[\"Lexington, KY, United States\"],\"yaxis\":\"y\",\"type\":\"histogram\"},{\"alignmentgroup\":\"True\",\"bingroup\":\"y\",\"histfunc\":\"sum\",\"hovertemplate\":\"Local Purchasing Power Index=79.8<br>sum of Cost of Living Plus Rent Index=%{x}<br>City=%{y}<extra></extra>\",\"legendgroup\":\"79.8\",\"marker\":{\"color\":\"#636efa\",\"pattern\":{\"shape\":\"\"}},\"name\":\"79.8\",\"offsetgroup\":\"79.8\",\"orientation\":\"h\",\"showlegend\":true,\"x\":[44.3],\"xaxis\":\"x\",\"y\":[\"Leipzig, Germany\"],\"yaxis\":\"y\",\"type\":\"histogram\"},{\"alignmentgroup\":\"True\",\"bingroup\":\"y\",\"histfunc\":\"sum\",\"hovertemplate\":\"Local Purchasing Power Index=137.67<br>sum of Cost of Living Plus Rent Index=%{x}<br>City=%{y}<extra></extra>\",\"legendgroup\":\"137.67\",\"marker\":{\"color\":\"#EF553B\",\"pattern\":{\"shape\":\"\"}},\"name\":\"137.67\",\"offsetgroup\":\"137.67\",\"orientation\":\"h\",\"showlegend\":true,\"x\":[51.19],\"xaxis\":\"x\",\"y\":[\"San Antonio, TX, United States\"],\"yaxis\":\"y\",\"type\":\"histogram\"},{\"alignmentgroup\":\"True\",\"bingroup\":\"y\",\"histfunc\":\"sum\",\"hovertemplate\":\"Local Purchasing Power Index=64.98<br>sum of Cost of Living Plus Rent Index=%{x}<br>City=%{y}<extra></extra>\",\"legendgroup\":\"64.98\",\"marker\":{\"color\":\"#00cc96\",\"pattern\":{\"shape\":\"\"}},\"name\":\"64.98\",\"offsetgroup\":\"64.98\",\"orientation\":\"h\",\"showlegend\":true,\"x\":[41.75],\"xaxis\":\"x\",\"y\":[\"Bari, Italy\"],\"yaxis\":\"y\",\"type\":\"histogram\"},{\"alignmentgroup\":\"True\",\"bingroup\":\"y\",\"histfunc\":\"sum\",\"hovertemplate\":\"Local Purchasing Power Index=109.14<br>sum of Cost of Living Plus Rent Index=%{x}<br>City=%{y}<extra></extra>\",\"legendgroup\":\"109.14\",\"marker\":{\"color\":\"#ab63fa\",\"pattern\":{\"shape\":\"\"}},\"name\":\"109.14\",\"offsetgroup\":\"109.14\",\"orientation\":\"h\",\"showlegend\":true,\"x\":[43.12],\"xaxis\":\"x\",\"y\":[\"Dresden, Germany\"],\"yaxis\":\"y\",\"type\":\"histogram\"},{\"alignmentgroup\":\"True\",\"bingroup\":\"y\",\"histfunc\":\"sum\",\"hovertemplate\":\"Local Purchasing Power Index=132.05<br>sum of Cost of Living Plus Rent Index=%{x}<br>City=%{y}<extra></extra>\",\"legendgroup\":\"132.05\",\"marker\":{\"color\":\"#FFA15A\",\"pattern\":{\"shape\":\"\"}},\"name\":\"132.05\",\"offsetgroup\":\"132.05\",\"orientation\":\"h\",\"showlegend\":true,\"x\":[46.68],\"xaxis\":\"x\",\"y\":[\"Tulsa, OK, United States\"],\"yaxis\":\"y\",\"type\":\"histogram\"},{\"alignmentgroup\":\"True\",\"bingroup\":\"y\",\"histfunc\":\"sum\",\"hovertemplate\":\"Local Purchasing Power Index=56.2<br>sum of Cost of Living Plus Rent Index=%{x}<br>City=%{y}<extra></extra>\",\"legendgroup\":\"56.2\",\"marker\":{\"color\":\"#19d3f3\",\"pattern\":{\"shape\":\"\"}},\"name\":\"56.2\",\"offsetgroup\":\"56.2\",\"orientation\":\"h\",\"showlegend\":true,\"x\":[43.14],\"xaxis\":\"x\",\"y\":[\"Naples, Italy\"],\"yaxis\":\"y\",\"type\":\"histogram\"},{\"alignmentgroup\":\"True\",\"bingroup\":\"y\",\"histfunc\":\"sum\",\"hovertemplate\":\"Local Purchasing Power Index=109.95<br>sum of Cost of Living Plus Rent Index=%{x}<br>City=%{y}<extra></extra>\",\"legendgroup\":\"109.95\",\"marker\":{\"color\":\"#FF6692\",\"pattern\":{\"shape\":\"\"}},\"name\":\"109.95\",\"offsetgroup\":\"109.95\",\"orientation\":\"h\",\"showlegend\":true,\"x\":[49.45],\"xaxis\":\"x\",\"y\":[\"Memphis, TN, United States\"],\"yaxis\":\"y\",\"type\":\"histogram\"},{\"alignmentgroup\":\"True\",\"bingroup\":\"y\",\"histfunc\":\"sum\",\"hovertemplate\":\"Local Purchasing Power Index=102.89<br>sum of Cost of Living Plus Rent Index=%{x}<br>City=%{y}<extra></extra>\",\"legendgroup\":\"102.89\",\"marker\":{\"color\":\"#B6E880\",\"pattern\":{\"shape\":\"\"}},\"name\":\"102.89\",\"offsetgroup\":\"102.89\",\"orientation\":\"h\",\"showlegend\":true,\"x\":[43.78],\"xaxis\":\"x\",\"y\":[\"Akron, OH, United States\"],\"yaxis\":\"y\",\"type\":\"histogram\"},{\"alignmentgroup\":\"True\",\"bingroup\":\"y\",\"histfunc\":\"sum\",\"hovertemplate\":\"Local Purchasing Power Index=86.57<br>sum of Cost of Living Plus Rent Index=%{x}<br>City=%{y}<extra></extra>\",\"legendgroup\":\"86.57\",\"marker\":{\"color\":\"#FF97FF\",\"pattern\":{\"shape\":\"\"}},\"name\":\"86.57\",\"offsetgroup\":\"86.57\",\"orientation\":\"h\",\"showlegend\":true,\"x\":[43.19],\"xaxis\":\"x\",\"y\":[\"Kingston upon Hull, United Kingdom\"],\"yaxis\":\"y\",\"type\":\"histogram\"},{\"alignmentgroup\":\"True\",\"bingroup\":\"y\",\"histfunc\":\"sum\",\"hovertemplate\":\"Local Purchasing Power Index=116.48<br>sum of Cost of Living Plus Rent Index=%{x}<br>City=%{y}<extra></extra>\",\"legendgroup\":\"116.48\",\"marker\":{\"color\":\"#FECB52\",\"pattern\":{\"shape\":\"\"}},\"name\":\"116.48\",\"offsetgroup\":\"116.48\",\"orientation\":\"h\",\"showlegend\":true,\"x\":[43.03],\"xaxis\":\"x\",\"y\":[\"Aachen, Germany\"],\"yaxis\":\"y\",\"type\":\"histogram\"},{\"alignmentgroup\":\"True\",\"bingroup\":\"y\",\"histfunc\":\"sum\",\"hovertemplate\":\"Local Purchasing Power Index=55.49<br>sum of Cost of Living Plus Rent Index=%{x}<br>City=%{y}<extra></extra>\",\"legendgroup\":\"55.49\",\"marker\":{\"color\":\"#636efa\",\"pattern\":{\"shape\":\"\"}},\"name\":\"55.49\",\"offsetgroup\":\"55.49\",\"orientation\":\"h\",\"showlegend\":true,\"x\":[40.08],\"xaxis\":\"x\",\"y\":[\"Kaohsiung, Taiwan\"],\"yaxis\":\"y\",\"type\":\"histogram\"},{\"alignmentgroup\":\"True\",\"bingroup\":\"y\",\"histfunc\":\"sum\",\"hovertemplate\":\"Local Purchasing Power Index=103.28<br>sum of Cost of Living Plus Rent Index=%{x}<br>City=%{y}<extra></extra>\",\"legendgroup\":\"103.28\",\"marker\":{\"color\":\"#EF553B\",\"pattern\":{\"shape\":\"\"}},\"name\":\"103.28\",\"offsetgroup\":\"103.28\",\"orientation\":\"h\",\"showlegend\":true,\"x\":[45.51],\"xaxis\":\"x\",\"y\":[\"Regensburg, Germany\"],\"yaxis\":\"y\",\"type\":\"histogram\"},{\"alignmentgroup\":\"True\",\"bingroup\":\"y\",\"histfunc\":\"sum\",\"hovertemplate\":\"Local Purchasing Power Index=70.83<br>sum of Cost of Living Plus Rent Index=%{x}<br>City=%{y}<extra></extra>\",\"legendgroup\":\"70.83\",\"marker\":{\"color\":\"#00cc96\",\"pattern\":{\"shape\":\"\"}},\"name\":\"70.83\",\"offsetgroup\":\"70.83\",\"orientation\":\"h\",\"showlegend\":true,\"x\":[46.83],\"xaxis\":\"x\",\"y\":[\"Barcelona, Spain\"],\"yaxis\":\"y\",\"type\":\"histogram\"},{\"alignmentgroup\":\"True\",\"bingroup\":\"y\",\"histfunc\":\"sum\",\"hovertemplate\":\"Local Purchasing Power Index=131.07<br>sum of Cost of Living Plus Rent Index=%{x}<br>City=%{y}<extra></extra>\",\"legendgroup\":\"131.07\",\"marker\":{\"color\":\"#ab63fa\",\"pattern\":{\"shape\":\"\"}},\"name\":\"131.07\",\"offsetgroup\":\"131.07\",\"orientation\":\"h\",\"showlegend\":true,\"x\":[43.48],\"xaxis\":\"x\",\"y\":[\"Little Rock, AR, United States\"],\"yaxis\":\"y\",\"type\":\"histogram\"},{\"alignmentgroup\":\"True\",\"bingroup\":\"y\",\"histfunc\":\"sum\",\"hovertemplate\":\"Local Purchasing Power Index=40.68<br>sum of Cost of Living Plus Rent Index=%{x}<br>City=%{y}<extra></extra>\",\"legendgroup\":\"40.68\",\"marker\":{\"color\":\"#FFA15A\",\"pattern\":{\"shape\":\"\"}},\"name\":\"40.68\",\"offsetgroup\":\"40.68\",\"orientation\":\"h\",\"showlegend\":true,\"x\":[40.46],\"xaxis\":\"x\",\"y\":[\"Port of Spain, Trinidad And Tobago\"],\"yaxis\":\"y\",\"type\":\"histogram\"},{\"alignmentgroup\":\"True\",\"bingroup\":\"y\",\"histfunc\":\"sum\",\"hovertemplate\":\"Local Purchasing Power Index=74.83<br>sum of Cost of Living Plus Rent Index=%{x}<br>City=%{y}<extra></extra>\",\"legendgroup\":\"74.83\",\"marker\":{\"color\":\"#19d3f3\",\"pattern\":{\"shape\":\"\"}},\"name\":\"74.83\",\"offsetgroup\":\"74.83\",\"orientation\":\"h\",\"showlegend\":true,\"x\":[46.32],\"xaxis\":\"x\",\"y\":[\"Madrid, Spain\"],\"yaxis\":\"y\",\"type\":\"histogram\"},{\"alignmentgroup\":\"True\",\"bingroup\":\"y\",\"histfunc\":\"sum\",\"hovertemplate\":\"Local Purchasing Power Index=63.24<br>sum of Cost of Living Plus Rent Index=%{x}<br>City=%{y}<extra></extra>\",\"legendgroup\":\"63.24\",\"marker\":{\"color\":\"#FF6692\",\"pattern\":{\"shape\":\"\"}},\"name\":\"63.24\",\"offsetgroup\":\"63.24\",\"orientation\":\"h\",\"showlegend\":true,\"x\":[44.88],\"xaxis\":\"x\",\"y\":[\"Palma de Mallorca, Spain\"],\"yaxis\":\"y\",\"type\":\"histogram\"},{\"alignmentgroup\":\"True\",\"bingroup\":\"y\",\"histfunc\":\"sum\",\"hovertemplate\":\"Local Purchasing Power Index=40.03<br>sum of Cost of Living Plus Rent Index=%{x}<br>City=%{y}<extra></extra>\",\"legendgroup\":\"40.03\",\"marker\":{\"color\":\"#B6E880\",\"pattern\":{\"shape\":\"\"}},\"name\":\"40.03\",\"offsetgroup\":\"40.03\",\"orientation\":\"h\",\"showlegend\":true,\"x\":[39.73],\"xaxis\":\"x\",\"y\":[\"Athens, Greece\"],\"yaxis\":\"y\",\"type\":\"histogram\"},{\"alignmentgroup\":\"True\",\"bingroup\":\"y\",\"histfunc\":\"sum\",\"hovertemplate\":\"Local Purchasing Power Index=119.24<br>sum of Cost of Living Plus Rent Index=%{x}<br>City=%{y}<extra></extra>\",\"legendgroup\":\"119.24\",\"marker\":{\"color\":\"#FF97FF\",\"pattern\":{\"shape\":\"\"}},\"name\":\"119.24\",\"offsetgroup\":\"119.24\",\"orientation\":\"h\",\"showlegend\":true,\"x\":[42.67],\"xaxis\":\"x\",\"y\":[\"Wichita, KS, United States\"],\"yaxis\":\"y\",\"type\":\"histogram\"},{\"alignmentgroup\":\"True\",\"bingroup\":\"y\",\"histfunc\":\"sum\",\"hovertemplate\":\"Local Purchasing Power Index=37.37<br>sum of Cost of Living Plus Rent Index=%{x}<br>City=%{y}<extra></extra>\",\"legendgroup\":\"37.37\",\"marker\":{\"color\":\"#FECB52\",\"pattern\":{\"shape\":\"\"}},\"name\":\"37.37\",\"offsetgroup\":\"37.37\",\"orientation\":\"h\",\"showlegend\":true,\"x\":[35.98],\"xaxis\":\"x\",\"y\":[\"Patras, Greece\"],\"yaxis\":\"y\",\"type\":\"histogram\"},{\"alignmentgroup\":\"True\",\"bingroup\":\"y\",\"histfunc\":\"sum\",\"hovertemplate\":\"Local Purchasing Power Index=37.91<br>sum of Cost of Living Plus Rent Index=%{x}<br>City=%{y}<extra></extra>\",\"legendgroup\":\"37.91\",\"marker\":{\"color\":\"#636efa\",\"pattern\":{\"shape\":\"\"}},\"name\":\"37.91\",\"offsetgroup\":\"37.91\",\"orientation\":\"h\",\"showlegend\":true,\"x\":[37.4],\"xaxis\":\"x\",\"y\":[\"Thessaloniki, Greece\"],\"yaxis\":\"y\",\"type\":\"histogram\"},{\"alignmentgroup\":\"True\",\"bingroup\":\"y\",\"histfunc\":\"sum\",\"hovertemplate\":\"Local Purchasing Power Index=75.22<br>sum of Cost of Living Plus Rent Index=%{x}<br>City=%{y}<extra></extra>\",\"legendgroup\":\"75.22\",\"marker\":{\"color\":\"#EF553B\",\"pattern\":{\"shape\":\"\"}},\"name\":\"75.22\",\"offsetgroup\":\"75.22\",\"orientation\":\"h\",\"showlegend\":true,\"x\":[73.79],\"xaxis\":\"x\",\"y\":[\"Abu Dhabi, United Arab Emirates\"],\"yaxis\":\"y\",\"type\":\"histogram\"},{\"alignmentgroup\":\"True\",\"bingroup\":\"y\",\"histfunc\":\"sum\",\"hovertemplate\":\"Local Purchasing Power Index=55.32<br>sum of Cost of Living Plus Rent Index=%{x}<br>City=%{y}<extra></extra>\",\"legendgroup\":\"55.32\",\"marker\":{\"color\":\"#00cc96\",\"pattern\":{\"shape\":\"\"}},\"name\":\"55.32\",\"offsetgroup\":\"55.32\",\"orientation\":\"h\",\"showlegend\":true,\"x\":[39.74],\"xaxis\":\"x\",\"y\":[\"Larnaca, Cyprus\"],\"yaxis\":\"y\",\"type\":\"histogram\"},{\"alignmentgroup\":\"True\",\"bingroup\":\"y\",\"histfunc\":\"sum\",\"hovertemplate\":\"Local Purchasing Power Index=54.62<br>sum of Cost of Living Plus Rent Index=%{x}<br>City=%{y}<extra></extra>\",\"legendgroup\":\"54.62\",\"marker\":{\"color\":\"#ab63fa\",\"pattern\":{\"shape\":\"\"}},\"name\":\"54.62\",\"offsetgroup\":\"54.62\",\"orientation\":\"h\",\"showlegend\":true,\"x\":[38.68],\"xaxis\":\"x\",\"y\":[\"Catania, Italy\"],\"yaxis\":\"y\",\"type\":\"histogram\"},{\"alignmentgroup\":\"True\",\"bingroup\":\"y\",\"histfunc\":\"sum\",\"hovertemplate\":\"Local Purchasing Power Index=28.52<br>sum of Cost of Living Plus Rent Index=%{x}<br>City=%{y}<extra></extra>\",\"legendgroup\":\"28.52\",\"marker\":{\"color\":\"#FFA15A\",\"pattern\":{\"shape\":\"\"}},\"name\":\"28.52\",\"offsetgroup\":\"28.52\",\"orientation\":\"h\",\"showlegend\":true,\"x\":[44.42],\"xaxis\":\"x\",\"y\":[\"Male, Maldives\"],\"yaxis\":\"y\",\"type\":\"histogram\"},{\"alignmentgroup\":\"True\",\"bingroup\":\"y\",\"histfunc\":\"sum\",\"hovertemplate\":\"Local Purchasing Power Index=60.19<br>sum of Cost of Living Plus Rent Index=%{x}<br>City=%{y}<extra></extra>\",\"legendgroup\":\"60.19\",\"marker\":{\"color\":\"#19d3f3\",\"pattern\":{\"shape\":\"\"}},\"name\":\"60.19\",\"offsetgroup\":\"60.19\",\"orientation\":\"h\",\"showlegend\":true,\"x\":[41.4],\"xaxis\":\"x\",\"y\":[\"Ljubljana, Slovenia\"],\"yaxis\":\"y\",\"type\":\"histogram\"},{\"alignmentgroup\":\"True\",\"bingroup\":\"y\",\"histfunc\":\"sum\",\"hovertemplate\":\"Local Purchasing Power Index=36.04<br>sum of Cost of Living Plus Rent Index=%{x}<br>City=%{y}<extra></extra>\",\"legendgroup\":\"36.04\",\"marker\":{\"color\":\"#FF6692\",\"pattern\":{\"shape\":\"\"}},\"name\":\"36.04\",\"offsetgroup\":\"36.04\",\"orientation\":\"h\",\"showlegend\":true,\"x\":[37.47],\"xaxis\":\"x\",\"y\":[\"Heraklion, Greece\"],\"yaxis\":\"y\",\"type\":\"histogram\"},{\"alignmentgroup\":\"True\",\"bingroup\":\"y\",\"histfunc\":\"sum\",\"hovertemplate\":\"Local Purchasing Power Index=118.77<br>sum of Cost of Living Plus Rent Index=%{x}<br>City=%{y}<extra></extra>\",\"legendgroup\":\"118.77\",\"marker\":{\"color\":\"#B6E880\",\"pattern\":{\"shape\":\"\"}},\"name\":\"118.77\",\"offsetgroup\":\"118.77\",\"orientation\":\"h\",\"showlegend\":true,\"x\":[40.56],\"xaxis\":\"x\",\"y\":[\"El Paso, TX, United States\"],\"yaxis\":\"y\",\"type\":\"histogram\"},{\"alignmentgroup\":\"True\",\"bingroup\":\"y\",\"histfunc\":\"sum\",\"hovertemplate\":\"Local Purchasing Power Index=1.62<br>sum of Cost of Living Plus Rent Index=%{x}<br>City=%{y}<extra></extra>\",\"legendgroup\":\"1.62\",\"marker\":{\"color\":\"#FF97FF\",\"pattern\":{\"shape\":\"\"}},\"name\":\"1.62\",\"offsetgroup\":\"1.62\",\"orientation\":\"h\",\"showlegend\":true,\"x\":[37.77],\"xaxis\":\"x\",\"y\":[\"Havana, Cuba\"],\"yaxis\":\"y\",\"type\":\"histogram\"},{\"alignmentgroup\":\"True\",\"bingroup\":\"y\",\"histfunc\":\"sum\",\"hovertemplate\":\"Local Purchasing Power Index=64.89<br>sum of Cost of Living Plus Rent Index=%{x}<br>City=%{y}<extra></extra>\",\"legendgroup\":\"64.89\",\"marker\":{\"color\":\"#FECB52\",\"pattern\":{\"shape\":\"\"}},\"name\":\"64.89\",\"offsetgroup\":\"64.89\",\"orientation\":\"h\",\"showlegend\":true,\"x\":[38.63],\"xaxis\":\"x\",\"y\":[\"Tallinn, Estonia\"],\"yaxis\":\"y\",\"type\":\"histogram\"},{\"alignmentgroup\":\"True\",\"bingroup\":\"y\",\"histfunc\":\"sum\",\"hovertemplate\":\"Local Purchasing Power Index=69.32<br>sum of Cost of Living Plus Rent Index=%{x}<br>City=%{y}<extra></extra>\",\"legendgroup\":\"69.32\",\"marker\":{\"color\":\"#636efa\",\"pattern\":{\"shape\":\"\"}},\"name\":\"69.32\",\"offsetgroup\":\"69.32\",\"orientation\":\"h\",\"showlegend\":true,\"x\":[37.56],\"xaxis\":\"x\",\"y\":[\"Zaragoza (Saragossa), Spain\"],\"yaxis\":\"y\",\"type\":\"histogram\"},{\"alignmentgroup\":\"True\",\"bingroup\":\"y\",\"histfunc\":\"sum\",\"hovertemplate\":\"Local Purchasing Power Index=32.31<br>sum of Cost of Living Plus Rent Index=%{x}<br>City=%{y}<extra></extra>\",\"legendgroup\":\"32.31\",\"marker\":{\"color\":\"#EF553B\",\"pattern\":{\"shape\":\"\"}},\"name\":\"32.31\",\"offsetgroup\":\"32.31\",\"orientation\":\"h\",\"showlegend\":true,\"x\":[41.27],\"xaxis\":\"x\",\"y\":[\"Panama City, Panama\"],\"yaxis\":\"y\",\"type\":\"histogram\"},{\"alignmentgroup\":\"True\",\"bingroup\":\"y\",\"histfunc\":\"sum\",\"hovertemplate\":\"Local Purchasing Power Index=62.59<br>sum of Cost of Living Plus Rent Index=%{x}<br>City=%{y}<extra></extra>\",\"legendgroup\":\"62.59\",\"marker\":{\"color\":\"#00cc96\",\"pattern\":{\"shape\":\"\"}},\"name\":\"62.59\",\"offsetgroup\":\"62.59\",\"orientation\":\"h\",\"showlegend\":true,\"x\":[42.06],\"xaxis\":\"x\",\"y\":[\"Manama, Bahrain\"],\"yaxis\":\"y\",\"type\":\"histogram\"},{\"alignmentgroup\":\"True\",\"bingroup\":\"y\",\"histfunc\":\"sum\",\"hovertemplate\":\"Local Purchasing Power Index=53.0<br>sum of Cost of Living Plus Rent Index=%{x}<br>City=%{y}<extra></extra>\",\"legendgroup\":\"53.0\",\"marker\":{\"color\":\"#ab63fa\",\"pattern\":{\"shape\":\"\"}},\"name\":\"53.0\",\"offsetgroup\":\"53.0\",\"orientation\":\"h\",\"showlegend\":true,\"x\":[49.48],\"xaxis\":\"x\",\"y\":[\"Shanghai, China\"],\"yaxis\":\"y\",\"type\":\"histogram\"},{\"alignmentgroup\":\"True\",\"bingroup\":\"y\",\"histfunc\":\"sum\",\"hovertemplate\":\"Local Purchasing Power Index=60.53<br>sum of Cost of Living Plus Rent Index=%{x}<br>City=%{y}<extra></extra>\",\"legendgroup\":\"60.53\",\"marker\":{\"color\":\"#FFA15A\",\"pattern\":{\"shape\":\"\"}},\"name\":\"60.53\",\"offsetgroup\":\"60.53\",\"orientation\":\"h\",\"showlegend\":true,\"x\":[35.68],\"xaxis\":\"x\",\"y\":[\"Tartu, Estonia\"],\"yaxis\":\"y\",\"type\":\"histogram\"},{\"alignmentgroup\":\"True\",\"bingroup\":\"y\",\"histfunc\":\"sum\",\"hovertemplate\":\"Local Purchasing Power Index=74.98<br>sum of Cost of Living Plus Rent Index=%{x}<br>City=%{y}<extra></extra>\",\"legendgroup\":\"74.98\",\"marker\":{\"color\":\"#19d3f3\",\"pattern\":{\"shape\":\"\"}},\"name\":\"74.98\",\"offsetgroup\":\"74.98\",\"orientation\":\"h\",\"showlegend\":true,\"x\":[36.55],\"xaxis\":\"x\",\"y\":[\"Vigo, Spain\"],\"yaxis\":\"y\",\"type\":\"histogram\"},{\"alignmentgroup\":\"True\",\"bingroup\":\"y\",\"histfunc\":\"sum\",\"hovertemplate\":\"Local Purchasing Power Index=71.04<br>sum of Cost of Living Plus Rent Index=%{x}<br>City=%{y}<extra></extra>\",\"legendgroup\":\"71.04\",\"marker\":{\"color\":\"#FF6692\",\"pattern\":{\"shape\":\"\"}},\"name\":\"71.04\",\"offsetgroup\":\"71.04\",\"orientation\":\"h\",\"showlegend\":true,\"x\":[38.13],\"xaxis\":\"x\",\"y\":[\"Seville (Sevilla), Spain\"],\"yaxis\":\"y\",\"type\":\"histogram\"},{\"alignmentgroup\":\"True\",\"bingroup\":\"y\",\"histfunc\":\"sum\",\"hovertemplate\":\"Local Purchasing Power Index=70.04<br>sum of Cost of Living Plus Rent Index=%{x}<br>City=%{y}<extra></extra>\",\"legendgroup\":\"70.04\",\"marker\":{\"color\":\"#B6E880\",\"pattern\":{\"shape\":\"\"}},\"name\":\"70.04\",\"offsetgroup\":\"70.04\",\"orientation\":\"h\",\"showlegend\":true,\"x\":[38.67],\"xaxis\":\"x\",\"y\":[\"Valencia, Spain\"],\"yaxis\":\"y\",\"type\":\"histogram\"},{\"alignmentgroup\":\"True\",\"bingroup\":\"y\",\"histfunc\":\"sum\",\"hovertemplate\":\"Local Purchasing Power Index=61.21<br>sum of Cost of Living Plus Rent Index=%{x}<br>City=%{y}<extra></extra>\",\"legendgroup\":\"61.21\",\"marker\":{\"color\":\"#FF97FF\",\"pattern\":{\"shape\":\"\"}},\"name\":\"61.21\",\"offsetgroup\":\"61.21\",\"orientation\":\"h\",\"showlegend\":true,\"x\":[35.74],\"xaxis\":\"x\",\"y\":[\"Paphos, Cyprus\"],\"yaxis\":\"y\",\"type\":\"histogram\"},{\"alignmentgroup\":\"True\",\"bingroup\":\"y\",\"histfunc\":\"sum\",\"hovertemplate\":\"Local Purchasing Power Index=20.57<br>sum of Cost of Living Plus Rent Index=%{x}<br>City=%{y}<extra></extra>\",\"legendgroup\":\"20.57\",\"marker\":{\"color\":\"#FECB52\",\"pattern\":{\"shape\":\"\"}},\"name\":\"20.57\",\"offsetgroup\":\"20.57\",\"orientation\":\"h\",\"showlegend\":true,\"x\":[41.41],\"xaxis\":\"x\",\"y\":[\"Makati, Philippines\"],\"yaxis\":\"y\",\"type\":\"histogram\"},{\"alignmentgroup\":\"True\",\"bingroup\":\"y\",\"histfunc\":\"sum\",\"hovertemplate\":\"Local Purchasing Power Index=48.26<br>sum of Cost of Living Plus Rent Index=%{x}<br>City=%{y}<extra></extra>\",\"legendgroup\":\"48.26\",\"marker\":{\"color\":\"#636efa\",\"pattern\":{\"shape\":\"\"}},\"name\":\"48.26\",\"offsetgroup\":\"48.26\",\"orientation\":\"h\",\"showlegend\":true,\"x\":[41.02,42.18],\"xaxis\":\"x\",\"y\":[\"Ajman, United Arab Emirates\",\"Lisbon, Portugal\"],\"yaxis\":\"y\",\"type\":\"histogram\"},{\"alignmentgroup\":\"True\",\"bingroup\":\"y\",\"histfunc\":\"sum\",\"hovertemplate\":\"Local Purchasing Power Index=76.08<br>sum of Cost of Living Plus Rent Index=%{x}<br>City=%{y}<extra></extra>\",\"legendgroup\":\"76.08\",\"marker\":{\"color\":\"#EF553B\",\"pattern\":{\"shape\":\"\"}},\"name\":\"76.08\",\"offsetgroup\":\"76.08\",\"orientation\":\"h\",\"showlegend\":true,\"x\":[33.13],\"xaxis\":\"x\",\"y\":[\"Jeddah (Jiddah), Saudi Arabia\"],\"yaxis\":\"y\",\"type\":\"histogram\"},{\"alignmentgroup\":\"True\",\"bingroup\":\"y\",\"histfunc\":\"sum\",\"hovertemplate\":\"Local Purchasing Power Index=65.84<br>sum of Cost of Living Plus Rent Index=%{x}<br>City=%{y}<extra></extra>\",\"legendgroup\":\"65.84\",\"marker\":{\"color\":\"#00cc96\",\"pattern\":{\"shape\":\"\"}},\"name\":\"65.84\",\"offsetgroup\":\"65.84\",\"orientation\":\"h\",\"showlegend\":true,\"x\":[40.14],\"xaxis\":\"x\",\"y\":[\"Malaga, Spain\"],\"yaxis\":\"y\",\"type\":\"histogram\"},{\"alignmentgroup\":\"True\",\"bingroup\":\"y\",\"histfunc\":\"sum\",\"hovertemplate\":\"Local Purchasing Power Index=29.51<br>sum of Cost of Living Plus Rent Index=%{x}<br>City=%{y}<extra></extra>\",\"legendgroup\":\"29.51\",\"marker\":{\"color\":\"#ab63fa\",\"pattern\":{\"shape\":\"\"}},\"name\":\"29.51\",\"offsetgroup\":\"29.51\",\"orientation\":\"h\",\"showlegend\":true,\"x\":[32.7],\"xaxis\":\"x\",\"y\":[\"Amman, Jordan\"],\"yaxis\":\"y\",\"type\":\"histogram\"},{\"alignmentgroup\":\"True\",\"bingroup\":\"y\",\"histfunc\":\"sum\",\"hovertemplate\":\"Local Purchasing Power Index=81.61<br>sum of Cost of Living Plus Rent Index=%{x}<br>City=%{y}<extra></extra>\",\"legendgroup\":\"81.61\",\"marker\":{\"color\":\"#FFA15A\",\"pattern\":{\"shape\":\"\"}},\"name\":\"81.61\",\"offsetgroup\":\"81.61\",\"orientation\":\"h\",\"showlegend\":true,\"x\":[35.16],\"xaxis\":\"x\",\"y\":[\"Granada, Spain\"],\"yaxis\":\"y\",\"type\":\"histogram\"},{\"alignmentgroup\":\"True\",\"bingroup\":\"y\",\"histfunc\":\"sum\",\"hovertemplate\":\"Local Purchasing Power Index=30.79<br>sum of Cost of Living Plus Rent Index=%{x}<br>City=%{y}<extra></extra>\",\"legendgroup\":\"30.79\",\"marker\":{\"color\":\"#19d3f3\",\"pattern\":{\"shape\":\"\"}},\"name\":\"30.79\",\"offsetgroup\":\"30.79\",\"orientation\":\"h\",\"showlegend\":true,\"x\":[34.71],\"xaxis\":\"x\",\"y\":[\"Montevideo, Uruguay\"],\"yaxis\":\"y\",\"type\":\"histogram\"},{\"alignmentgroup\":\"True\",\"bingroup\":\"y\",\"histfunc\":\"sum\",\"hovertemplate\":\"Local Purchasing Power Index=71.96<br>sum of Cost of Living Plus Rent Index=%{x}<br>City=%{y}<extra></extra>\",\"legendgroup\":\"71.96\",\"marker\":{\"color\":\"#FF6692\",\"pattern\":{\"shape\":\"\"}},\"name\":\"71.96\",\"offsetgroup\":\"71.96\",\"orientation\":\"h\",\"showlegend\":true,\"x\":[39.7],\"xaxis\":\"x\",\"y\":[\"Prague, Czech Republic\"],\"yaxis\":\"y\",\"type\":\"histogram\"},{\"alignmentgroup\":\"True\",\"bingroup\":\"y\",\"histfunc\":\"sum\",\"hovertemplate\":\"Local Purchasing Power Index=78.54<br>sum of Cost of Living Plus Rent Index=%{x}<br>City=%{y}<extra></extra>\",\"legendgroup\":\"78.54\",\"marker\":{\"color\":\"#B6E880\",\"pattern\":{\"shape\":\"\"}},\"name\":\"78.54\",\"offsetgroup\":\"78.54\",\"orientation\":\"h\",\"showlegend\":true,\"x\":[35.01],\"xaxis\":\"x\",\"y\":[\"Murcia, Spain\"],\"yaxis\":\"y\",\"type\":\"histogram\"},{\"alignmentgroup\":\"True\",\"bingroup\":\"y\",\"histfunc\":\"sum\",\"hovertemplate\":\"Local Purchasing Power Index=68.02<br>sum of Cost of Living Plus Rent Index=%{x}<br>City=%{y}<extra></extra>\",\"legendgroup\":\"68.02\",\"marker\":{\"color\":\"#FF97FF\",\"pattern\":{\"shape\":\"\"}},\"name\":\"68.02\",\"offsetgroup\":\"68.02\",\"orientation\":\"h\",\"showlegend\":true,\"x\":[34.14],\"xaxis\":\"x\",\"y\":[\"Maribor, Slovenia\"],\"yaxis\":\"y\",\"type\":\"histogram\"},{\"alignmentgroup\":\"True\",\"bingroup\":\"y\",\"histfunc\":\"sum\",\"hovertemplate\":\"Local Purchasing Power Index=42.48<br>sum of Cost of Living Plus Rent Index=%{x}<br>City=%{y}<extra></extra>\",\"legendgroup\":\"42.48\",\"marker\":{\"color\":\"#FECB52\",\"pattern\":{\"shape\":\"\"}},\"name\":\"42.48\",\"offsetgroup\":\"42.48\",\"orientation\":\"h\",\"showlegend\":true,\"x\":[34.78,15.04],\"xaxis\":\"x\",\"y\":[\"Split, Croatia\",\"Nagpur, India\"],\"yaxis\":\"y\",\"type\":\"histogram\"},{\"alignmentgroup\":\"True\",\"bingroup\":\"y\",\"histfunc\":\"sum\",\"hovertemplate\":\"Local Purchasing Power Index=26.11<br>sum of Cost of Living Plus Rent Index=%{x}<br>City=%{y}<extra></extra>\",\"legendgroup\":\"26.11\",\"marker\":{\"color\":\"#636efa\",\"pattern\":{\"shape\":\"\"}},\"name\":\"26.11\",\"offsetgroup\":\"26.11\",\"orientation\":\"h\",\"showlegend\":true,\"x\":[36.04],\"xaxis\":\"x\",\"y\":[\"Kingston, Jamaica\"],\"yaxis\":\"y\",\"type\":\"histogram\"},{\"alignmentgroup\":\"True\",\"bingroup\":\"y\",\"histfunc\":\"sum\",\"hovertemplate\":\"Local Purchasing Power Index=52.82<br>sum of Cost of Living Plus Rent Index=%{x}<br>City=%{y}<extra></extra>\",\"legendgroup\":\"52.82\",\"marker\":{\"color\":\"#EF553B\",\"pattern\":{\"shape\":\"\"}},\"name\":\"52.82\",\"offsetgroup\":\"52.82\",\"orientation\":\"h\",\"showlegend\":true,\"x\":[34.29],\"xaxis\":\"x\",\"y\":[\"Riga, Latvia\"],\"yaxis\":\"y\",\"type\":\"histogram\"},{\"alignmentgroup\":\"True\",\"bingroup\":\"y\",\"histfunc\":\"sum\",\"hovertemplate\":\"Local Purchasing Power Index=86.53<br>sum of Cost of Living Plus Rent Index=%{x}<br>City=%{y}<extra></extra>\",\"legendgroup\":\"86.53\",\"marker\":{\"color\":\"#00cc96\",\"pattern\":{\"shape\":\"\"}},\"name\":\"86.53\",\"offsetgroup\":\"86.53\",\"orientation\":\"h\",\"showlegend\":true,\"x\":[35.91],\"xaxis\":\"x\",\"y\":[\"Muscat, Oman\"],\"yaxis\":\"y\",\"type\":\"histogram\"},{\"alignmentgroup\":\"True\",\"bingroup\":\"y\",\"histfunc\":\"sum\",\"hovertemplate\":\"Local Purchasing Power Index=68.96<br>sum of Cost of Living Plus Rent Index=%{x}<br>City=%{y}<extra></extra>\",\"legendgroup\":\"68.96\",\"marker\":{\"color\":\"#ab63fa\",\"pattern\":{\"shape\":\"\"}},\"name\":\"68.96\",\"offsetgroup\":\"68.96\",\"orientation\":\"h\",\"showlegend\":true,\"x\":[40.29],\"xaxis\":\"x\",\"y\":[\"Shenzhen, China\"],\"yaxis\":\"y\",\"type\":\"histogram\"},{\"alignmentgroup\":\"True\",\"bingroup\":\"y\",\"histfunc\":\"sum\",\"hovertemplate\":\"Local Purchasing Power Index=63.82<br>sum of Cost of Living Plus Rent Index=%{x}<br>City=%{y}<extra></extra>\",\"legendgroup\":\"63.82\",\"marker\":{\"color\":\"#FFA15A\",\"pattern\":{\"shape\":\"\"}},\"name\":\"63.82\",\"offsetgroup\":\"63.82\",\"orientation\":\"h\",\"showlegend\":true,\"x\":[36.25],\"xaxis\":\"x\",\"y\":[\"Santa Cruz de Tenerife, Spain\"],\"yaxis\":\"y\",\"type\":\"histogram\"},{\"alignmentgroup\":\"True\",\"bingroup\":\"y\",\"histfunc\":\"sum\",\"hovertemplate\":\"Local Purchasing Power Index=23.14<br>sum of Cost of Living Plus Rent Index=%{x}<br>City=%{y}<extra></extra>\",\"legendgroup\":\"23.14\",\"marker\":{\"color\":\"#19d3f3\",\"pattern\":{\"shape\":\"\"}},\"name\":\"23.14\",\"offsetgroup\":\"23.14\",\"orientation\":\"h\",\"showlegend\":true,\"x\":[37.96],\"xaxis\":\"x\",\"y\":[\"Dakar, Senegal\"],\"yaxis\":\"y\",\"type\":\"histogram\"},{\"alignmentgroup\":\"True\",\"bingroup\":\"y\",\"histfunc\":\"sum\",\"hovertemplate\":\"Local Purchasing Power Index=41.22<br>sum of Cost of Living Plus Rent Index=%{x}<br>City=%{y}<extra></extra>\",\"legendgroup\":\"41.22\",\"marker\":{\"color\":\"#FF6692\",\"pattern\":{\"shape\":\"\"}},\"name\":\"41.22\",\"offsetgroup\":\"41.22\",\"orientation\":\"h\",\"showlegend\":true,\"x\":[45.03],\"xaxis\":\"x\",\"y\":[\"Cascais, Portugal\"],\"yaxis\":\"y\",\"type\":\"histogram\"},{\"alignmentgroup\":\"True\",\"bingroup\":\"y\",\"histfunc\":\"sum\",\"hovertemplate\":\"Local Purchasing Power Index=56.7<br>sum of Cost of Living Plus Rent Index=%{x}<br>City=%{y}<extra></extra>\",\"legendgroup\":\"56.7\",\"marker\":{\"color\":\"#B6E880\",\"pattern\":{\"shape\":\"\"}},\"name\":\"56.7\",\"offsetgroup\":\"56.7\",\"orientation\":\"h\",\"showlegend\":true,\"x\":[37.81],\"xaxis\":\"x\",\"y\":[\"Las Palmas de Gran Canaria, Spain\"],\"yaxis\":\"y\",\"type\":\"histogram\"},{\"alignmentgroup\":\"True\",\"bingroup\":\"y\",\"histfunc\":\"sum\",\"hovertemplate\":\"Local Purchasing Power Index=9.83<br>sum of Cost of Living Plus Rent Index=%{x}<br>City=%{y}<extra></extra>\",\"legendgroup\":\"9.83\",\"marker\":{\"color\":\"#FF97FF\",\"pattern\":{\"shape\":\"\"}},\"name\":\"9.83\",\"offsetgroup\":\"9.83\",\"orientation\":\"h\",\"showlegend\":true,\"x\":[35.0,24.5],\"xaxis\":\"x\",\"y\":[\"Addis Ababa, Ethiopia\",\"Kampala, Uganda\"],\"yaxis\":\"y\",\"type\":\"histogram\"},{\"alignmentgroup\":\"True\",\"bingroup\":\"y\",\"histfunc\":\"sum\",\"hovertemplate\":\"Local Purchasing Power Index=29.77<br>sum of Cost of Living Plus Rent Index=%{x}<br>City=%{y}<extra></extra>\",\"legendgroup\":\"29.77\",\"marker\":{\"color\":\"#FECB52\",\"pattern\":{\"shape\":\"\"}},\"name\":\"29.77\",\"offsetgroup\":\"29.77\",\"orientation\":\"h\",\"showlegend\":true,\"x\":[39.15],\"xaxis\":\"x\",\"y\":[\"Bangkok, Thailand\"],\"yaxis\":\"y\",\"type\":\"histogram\"},{\"alignmentgroup\":\"True\",\"bingroup\":\"y\",\"histfunc\":\"sum\",\"hovertemplate\":\"Local Purchasing Power Index=43.59<br>sum of Cost of Living Plus Rent Index=%{x}<br>City=%{y}<extra></extra>\",\"legendgroup\":\"43.59\",\"marker\":{\"color\":\"#636efa\",\"pattern\":{\"shape\":\"\"}},\"name\":\"43.59\",\"offsetgroup\":\"43.59\",\"orientation\":\"h\",\"showlegend\":true,\"x\":[32.38],\"xaxis\":\"x\",\"y\":[\"Rijeka, Croatia\"],\"yaxis\":\"y\",\"type\":\"histogram\"},{\"alignmentgroup\":\"True\",\"bingroup\":\"y\",\"histfunc\":\"sum\",\"hovertemplate\":\"Local Purchasing Power Index=14.8<br>sum of Cost of Living Plus Rent Index=%{x}<br>City=%{y}<extra></extra>\",\"legendgroup\":\"14.8\",\"marker\":{\"color\":\"#EF553B\",\"pattern\":{\"shape\":\"\"}},\"name\":\"14.8\",\"offsetgroup\":\"14.8\",\"orientation\":\"h\",\"showlegend\":true,\"x\":[35.44],\"xaxis\":\"x\",\"y\":[\"Phnom Penh, Cambodia\"],\"yaxis\":\"y\",\"type\":\"histogram\"},{\"alignmentgroup\":\"True\",\"bingroup\":\"y\",\"histfunc\":\"sum\",\"hovertemplate\":\"Local Purchasing Power Index=55.08<br>sum of Cost of Living Plus Rent Index=%{x}<br>City=%{y}<extra></extra>\",\"legendgroup\":\"55.08\",\"marker\":{\"color\":\"#00cc96\",\"pattern\":{\"shape\":\"\"}},\"name\":\"55.08\",\"offsetgroup\":\"55.08\",\"orientation\":\"h\",\"showlegend\":true,\"x\":[34.51],\"xaxis\":\"x\",\"y\":[\"Zagreb, Croatia\"],\"yaxis\":\"y\",\"type\":\"histogram\"},{\"alignmentgroup\":\"True\",\"bingroup\":\"y\",\"histfunc\":\"sum\",\"hovertemplate\":\"Local Purchasing Power Index=53.08<br>sum of Cost of Living Plus Rent Index=%{x}<br>City=%{y}<extra></extra>\",\"legendgroup\":\"53.08\",\"marker\":{\"color\":\"#ab63fa\",\"pattern\":{\"shape\":\"\"}},\"name\":\"53.08\",\"offsetgroup\":\"53.08\",\"orientation\":\"h\",\"showlegend\":true,\"x\":[44.67],\"xaxis\":\"x\",\"y\":[\"Beijing, China\"],\"yaxis\":\"y\",\"type\":\"histogram\"},{\"alignmentgroup\":\"True\",\"bingroup\":\"y\",\"histfunc\":\"sum\",\"hovertemplate\":\"Local Purchasing Power Index=62.63<br>sum of Cost of Living Plus Rent Index=%{x}<br>City=%{y}<extra></extra>\",\"legendgroup\":\"62.63\",\"marker\":{\"color\":\"#FFA15A\",\"pattern\":{\"shape\":\"\"}},\"name\":\"62.63\",\"offsetgroup\":\"62.63\",\"orientation\":\"h\",\"showlegend\":true,\"x\":[37.06],\"xaxis\":\"x\",\"y\":[\"Bratislava, Slovakia\"],\"yaxis\":\"y\",\"type\":\"histogram\"},{\"alignmentgroup\":\"True\",\"bingroup\":\"y\",\"histfunc\":\"sum\",\"hovertemplate\":\"Local Purchasing Power Index=44.87<br>sum of Cost of Living Plus Rent Index=%{x}<br>City=%{y}<extra></extra>\",\"legendgroup\":\"44.87\",\"marker\":{\"color\":\"#19d3f3\",\"pattern\":{\"shape\":\"\"}},\"name\":\"44.87\",\"offsetgroup\":\"44.87\",\"orientation\":\"h\",\"showlegend\":true,\"x\":[37.3],\"xaxis\":\"x\",\"y\":[\"Porto, Portugal\"],\"yaxis\":\"y\",\"type\":\"histogram\"},{\"alignmentgroup\":\"True\",\"bingroup\":\"y\",\"histfunc\":\"sum\",\"hovertemplate\":\"Local Purchasing Power Index=65.14<br>sum of Cost of Living Plus Rent Index=%{x}<br>City=%{y}<extra></extra>\",\"legendgroup\":\"65.14\",\"marker\":{\"color\":\"#FF6692\",\"pattern\":{\"shape\":\"\"}},\"name\":\"65.14\",\"offsetgroup\":\"65.14\",\"orientation\":\"h\",\"showlegend\":true,\"x\":[36.02],\"xaxis\":\"x\",\"y\":[\"Brno, Czech Republic\"],\"yaxis\":\"y\",\"type\":\"histogram\"},{\"alignmentgroup\":\"True\",\"bingroup\":\"y\",\"histfunc\":\"sum\",\"hovertemplate\":\"Local Purchasing Power Index=64.95<br>sum of Cost of Living Plus Rent Index=%{x}<br>City=%{y}<extra></extra>\",\"legendgroup\":\"64.95\",\"marker\":{\"color\":\"#B6E880\",\"pattern\":{\"shape\":\"\"}},\"name\":\"64.95\",\"offsetgroup\":\"64.95\",\"orientation\":\"h\",\"showlegend\":true,\"x\":[35.73],\"xaxis\":\"x\",\"y\":[\"Hangzhou, China\"],\"yaxis\":\"y\",\"type\":\"histogram\"},{\"alignmentgroup\":\"True\",\"bingroup\":\"y\",\"histfunc\":\"sum\",\"hovertemplate\":\"Local Purchasing Power Index=16.38<br>sum of Cost of Living Plus Rent Index=%{x}<br>City=%{y}<extra></extra>\",\"legendgroup\":\"16.38\",\"marker\":{\"color\":\"#FF97FF\",\"pattern\":{\"shape\":\"\"}},\"name\":\"16.38\",\"offsetgroup\":\"16.38\",\"orientation\":\"h\",\"showlegend\":true,\"x\":[30.87],\"xaxis\":\"x\",\"y\":[\"Paramaribo, Suriname\"],\"yaxis\":\"y\",\"type\":\"histogram\"},{\"alignmentgroup\":\"True\",\"bingroup\":\"y\",\"histfunc\":\"sum\",\"hovertemplate\":\"Local Purchasing Power Index=46.47<br>sum of Cost of Living Plus Rent Index=%{x}<br>City=%{y}<extra></extra>\",\"legendgroup\":\"46.47\",\"marker\":{\"color\":\"#FECB52\",\"pattern\":{\"shape\":\"\"}},\"name\":\"46.47\",\"offsetgroup\":\"46.47\",\"orientation\":\"h\",\"showlegend\":true,\"x\":[35.78,19.02],\"xaxis\":\"x\",\"y\":[\"Funchal, Portugal\",\"Chandigarh, India\"],\"yaxis\":\"y\",\"type\":\"histogram\"},{\"alignmentgroup\":\"True\",\"bingroup\":\"y\",\"histfunc\":\"sum\",\"hovertemplate\":\"Local Purchasing Power Index=56.71<br>sum of Cost of Living Plus Rent Index=%{x}<br>City=%{y}<extra></extra>\",\"legendgroup\":\"56.71\",\"marker\":{\"color\":\"#636efa\",\"pattern\":{\"shape\":\"\"}},\"name\":\"56.71\",\"offsetgroup\":\"56.71\",\"orientation\":\"h\",\"showlegend\":true,\"x\":[51.36],\"xaxis\":\"x\",\"y\":[\"Sharjah, United Arab Emirates\"],\"yaxis\":\"y\",\"type\":\"histogram\"},{\"alignmentgroup\":\"True\",\"bingroup\":\"y\",\"histfunc\":\"sum\",\"hovertemplate\":\"Local Purchasing Power Index=93.58<br>sum of Cost of Living Plus Rent Index=%{x}<br>City=%{y}<extra></extra>\",\"legendgroup\":\"93.58\",\"marker\":{\"color\":\"#EF553B\",\"pattern\":{\"shape\":\"\"}},\"name\":\"93.58\",\"offsetgroup\":\"93.58\",\"orientation\":\"h\",\"showlegend\":true,\"x\":[31.67],\"xaxis\":\"x\",\"y\":[\"Ad Dammam, Saudi Arabia\"],\"yaxis\":\"y\",\"type\":\"histogram\"},{\"alignmentgroup\":\"True\",\"bingroup\":\"y\",\"histfunc\":\"sum\",\"hovertemplate\":\"Local Purchasing Power Index=61.3<br>sum of Cost of Living Plus Rent Index=%{x}<br>City=%{y}<extra></extra>\",\"legendgroup\":\"61.3\",\"marker\":{\"color\":\"#00cc96\",\"pattern\":{\"shape\":\"\"}},\"name\":\"61.3\",\"offsetgroup\":\"61.3\",\"orientation\":\"h\",\"showlegend\":true,\"x\":[32.63],\"xaxis\":\"x\",\"y\":[\"Olomouc, Czech Republic\"],\"yaxis\":\"y\",\"type\":\"histogram\"},{\"alignmentgroup\":\"True\",\"bingroup\":\"y\",\"histfunc\":\"sum\",\"hovertemplate\":\"Local Purchasing Power Index=51.15<br>sum of Cost of Living Plus Rent Index=%{x}<br>City=%{y}<extra></extra>\",\"legendgroup\":\"51.15\",\"marker\":{\"color\":\"#ab63fa\",\"pattern\":{\"shape\":\"\"}},\"name\":\"51.15\",\"offsetgroup\":\"51.15\",\"orientation\":\"h\",\"showlegend\":true,\"x\":[33.75],\"xaxis\":\"x\",\"y\":[\"Kosice, Slovakia\"],\"yaxis\":\"y\",\"type\":\"histogram\"},{\"alignmentgroup\":\"True\",\"bingroup\":\"y\",\"histfunc\":\"sum\",\"hovertemplate\":\"Local Purchasing Power Index=68.84<br>sum of Cost of Living Plus Rent Index=%{x}<br>City=%{y}<extra></extra>\",\"legendgroup\":\"68.84\",\"marker\":{\"color\":\"#FFA15A\",\"pattern\":{\"shape\":\"\"}},\"name\":\"68.84\",\"offsetgroup\":\"68.84\",\"orientation\":\"h\",\"showlegend\":true,\"x\":[40.13],\"xaxis\":\"x\",\"y\":[\"Kuwait City, Kuwait\"],\"yaxis\":\"y\",\"type\":\"histogram\"},{\"alignmentgroup\":\"True\",\"bingroup\":\"y\",\"histfunc\":\"sum\",\"hovertemplate\":\"Local Purchasing Power Index=42.86<br>sum of Cost of Living Plus Rent Index=%{x}<br>City=%{y}<extra></extra>\",\"legendgroup\":\"42.86\",\"marker\":{\"color\":\"#19d3f3\",\"pattern\":{\"shape\":\"\"}},\"name\":\"42.86\",\"offsetgroup\":\"42.86\",\"orientation\":\"h\",\"showlegend\":true,\"x\":[33.51],\"xaxis\":\"x\",\"y\":[\"San Jose, Costa Rica\"],\"yaxis\":\"y\",\"type\":\"histogram\"},{\"alignmentgroup\":\"True\",\"bingroup\":\"y\",\"histfunc\":\"sum\",\"hovertemplate\":\"Local Purchasing Power Index=53.04<br>sum of Cost of Living Plus Rent Index=%{x}<br>City=%{y}<extra></extra>\",\"legendgroup\":\"53.04\",\"marker\":{\"color\":\"#FF6692\",\"pattern\":{\"shape\":\"\"}},\"name\":\"53.04\",\"offsetgroup\":\"53.04\",\"orientation\":\"h\",\"showlegend\":true,\"x\":[32.43],\"xaxis\":\"x\",\"y\":[\"Coimbra, Portugal\"],\"yaxis\":\"y\",\"type\":\"histogram\"},{\"alignmentgroup\":\"True\",\"bingroup\":\"y\",\"histfunc\":\"sum\",\"hovertemplate\":\"Local Purchasing Power Index=6.27<br>sum of Cost of Living Plus Rent Index=%{x}<br>City=%{y}<extra></extra>\",\"legendgroup\":\"6.27\",\"marker\":{\"color\":\"#B6E880\",\"pattern\":{\"shape\":\"\"}},\"name\":\"6.27\",\"offsetgroup\":\"6.27\",\"orientation\":\"h\",\"showlegend\":true,\"x\":[34.25],\"xaxis\":\"x\",\"y\":[\"Abidjan, Ivory Coast\"],\"yaxis\":\"y\",\"type\":\"histogram\"},{\"alignmentgroup\":\"True\",\"bingroup\":\"y\",\"histfunc\":\"sum\",\"hovertemplate\":\"Local Purchasing Power Index=46.28<br>sum of Cost of Living Plus Rent Index=%{x}<br>City=%{y}<extra></extra>\",\"legendgroup\":\"46.28\",\"marker\":{\"color\":\"#FF97FF\",\"pattern\":{\"shape\":\"\"}},\"name\":\"46.28\",\"offsetgroup\":\"46.28\",\"orientation\":\"h\",\"showlegend\":true,\"x\":[33.92],\"xaxis\":\"x\",\"y\":[\"Braga, Portugal\"],\"yaxis\":\"y\",\"type\":\"histogram\"},{\"alignmentgroup\":\"True\",\"bingroup\":\"y\",\"histfunc\":\"sum\",\"hovertemplate\":\"Local Purchasing Power Index=62.14<br>sum of Cost of Living Plus Rent Index=%{x}<br>City=%{y}<extra></extra>\",\"legendgroup\":\"62.14\",\"marker\":{\"color\":\"#FECB52\",\"pattern\":{\"shape\":\"\"}},\"name\":\"62.14\",\"offsetgroup\":\"62.14\",\"orientation\":\"h\",\"showlegend\":true,\"x\":[33.95],\"xaxis\":\"x\",\"y\":[\"Vilnius, Lithuania\"],\"yaxis\":\"y\",\"type\":\"histogram\"},{\"alignmentgroup\":\"True\",\"bingroup\":\"y\",\"histfunc\":\"sum\",\"hovertemplate\":\"Local Purchasing Power Index=65.17<br>sum of Cost of Living Plus Rent Index=%{x}<br>City=%{y}<extra></extra>\",\"legendgroup\":\"65.17\",\"marker\":{\"color\":\"#636efa\",\"pattern\":{\"shape\":\"\"}},\"name\":\"65.17\",\"offsetgroup\":\"65.17\",\"orientation\":\"h\",\"showlegend\":true,\"x\":[31.04],\"xaxis\":\"x\",\"y\":[\"Ostrava, Czech Republic\"],\"yaxis\":\"y\",\"type\":\"histogram\"},{\"alignmentgroup\":\"True\",\"bingroup\":\"y\",\"histfunc\":\"sum\",\"hovertemplate\":\"Local Purchasing Power Index=43.88<br>sum of Cost of Living Plus Rent Index=%{x}<br>City=%{y}<extra></extra>\",\"legendgroup\":\"43.88\",\"marker\":{\"color\":\"#EF553B\",\"pattern\":{\"shape\":\"\"}},\"name\":\"43.88\",\"offsetgroup\":\"43.88\",\"orientation\":\"h\",\"showlegend\":true,\"x\":[33.11],\"xaxis\":\"x\",\"y\":[\"Aveiro, Portugal\"],\"yaxis\":\"y\",\"type\":\"histogram\"},{\"alignmentgroup\":\"True\",\"bingroup\":\"y\",\"histfunc\":\"sum\",\"hovertemplate\":\"Local Purchasing Power Index=52.66<br>sum of Cost of Living Plus Rent Index=%{x}<br>City=%{y}<extra></extra>\",\"legendgroup\":\"52.66\",\"marker\":{\"color\":\"#00cc96\",\"pattern\":{\"shape\":\"\"}},\"name\":\"52.66\",\"offsetgroup\":\"52.66\",\"orientation\":\"h\",\"showlegend\":true,\"x\":[32.01],\"xaxis\":\"x\",\"y\":[\"Budapest, Hungary\"],\"yaxis\":\"y\",\"type\":\"histogram\"},{\"alignmentgroup\":\"True\",\"bingroup\":\"y\",\"histfunc\":\"sum\",\"hovertemplate\":\"Local Purchasing Power Index=58.75<br>sum of Cost of Living Plus Rent Index=%{x}<br>City=%{y}<extra></extra>\",\"legendgroup\":\"58.75\",\"marker\":{\"color\":\"#ab63fa\",\"pattern\":{\"shape\":\"\"}},\"name\":\"58.75\",\"offsetgroup\":\"58.75\",\"orientation\":\"h\",\"showlegend\":true,\"x\":[32.28],\"xaxis\":\"x\",\"y\":[\"Suzhou, China\"],\"yaxis\":\"y\",\"type\":\"histogram\"},{\"alignmentgroup\":\"True\",\"bingroup\":\"y\",\"histfunc\":\"sum\",\"hovertemplate\":\"Local Purchasing Power Index=17.59<br>sum of Cost of Living Plus Rent Index=%{x}<br>City=%{y}<extra></extra>\",\"legendgroup\":\"17.59\",\"marker\":{\"color\":\"#FFA15A\",\"pattern\":{\"shape\":\"\"}},\"name\":\"17.59\",\"offsetgroup\":\"17.59\",\"orientation\":\"h\",\"showlegend\":true,\"x\":[28.75],\"xaxis\":\"x\",\"y\":[\"Harare, Zimbabwe\"],\"yaxis\":\"y\",\"type\":\"histogram\"},{\"alignmentgroup\":\"True\",\"bingroup\":\"y\",\"histfunc\":\"sum\",\"hovertemplate\":\"Local Purchasing Power Index=49.68<br>sum of Cost of Living Plus Rent Index=%{x}<br>City=%{y}<extra></extra>\",\"legendgroup\":\"49.68\",\"marker\":{\"color\":\"#19d3f3\",\"pattern\":{\"shape\":\"\"}},\"name\":\"49.68\",\"offsetgroup\":\"49.68\",\"orientation\":\"h\",\"showlegend\":true,\"x\":[31.51],\"xaxis\":\"x\",\"y\":[\"Leiria, Portugal\"],\"yaxis\":\"y\",\"type\":\"histogram\"},{\"alignmentgroup\":\"True\",\"bingroup\":\"y\",\"histfunc\":\"sum\",\"hovertemplate\":\"Local Purchasing Power Index=32.08<br>sum of Cost of Living Plus Rent Index=%{x}<br>City=%{y}<extra></extra>\",\"legendgroup\":\"32.08\",\"marker\":{\"color\":\"#FF6692\",\"pattern\":{\"shape\":\"\"}},\"name\":\"32.08\",\"offsetgroup\":\"32.08\",\"orientation\":\"h\",\"showlegend\":true,\"x\":[31.42],\"xaxis\":\"x\",\"y\":[\"Santiago, Chile\"],\"yaxis\":\"y\",\"type\":\"histogram\"},{\"alignmentgroup\":\"True\",\"bingroup\":\"y\",\"histfunc\":\"sum\",\"hovertemplate\":\"Local Purchasing Power Index=21.83<br>sum of Cost of Living Plus Rent Index=%{x}<br>City=%{y}<extra></extra>\",\"legendgroup\":\"21.83\",\"marker\":{\"color\":\"#B6E880\",\"pattern\":{\"shape\":\"\"}},\"name\":\"21.83\",\"offsetgroup\":\"21.83\",\"orientation\":\"h\",\"showlegend\":true,\"x\":[30.65],\"xaxis\":\"x\",\"y\":[\"San Salvador, El Salvador\"],\"yaxis\":\"y\",\"type\":\"histogram\"},{\"alignmentgroup\":\"True\",\"bingroup\":\"y\",\"histfunc\":\"sum\",\"hovertemplate\":\"Local Purchasing Power Index=15.87<br>sum of Cost of Living Plus Rent Index=%{x}<br>City=%{y}<extra></extra>\",\"legendgroup\":\"15.87\",\"marker\":{\"color\":\"#FF97FF\",\"pattern\":{\"shape\":\"\"}},\"name\":\"15.87\",\"offsetgroup\":\"15.87\",\"orientation\":\"h\",\"showlegend\":true,\"x\":[29.73],\"xaxis\":\"x\",\"y\":[\"Caracas, Venezuela\"],\"yaxis\":\"y\",\"type\":\"histogram\"},{\"alignmentgroup\":\"True\",\"bingroup\":\"y\",\"histfunc\":\"sum\",\"hovertemplate\":\"Local Purchasing Power Index=72.15<br>sum of Cost of Living Plus Rent Index=%{x}<br>City=%{y}<extra></extra>\",\"legendgroup\":\"72.15\",\"marker\":{\"color\":\"#FECB52\",\"pattern\":{\"shape\":\"\"}},\"name\":\"72.15\",\"offsetgroup\":\"72.15\",\"orientation\":\"h\",\"showlegend\":true,\"x\":[31.28],\"xaxis\":\"x\",\"y\":[\"Johannesburg, South Africa\"],\"yaxis\":\"y\",\"type\":\"histogram\"},{\"alignmentgroup\":\"True\",\"bingroup\":\"y\",\"histfunc\":\"sum\",\"hovertemplate\":\"Local Purchasing Power Index=64.93<br>sum of Cost of Living Plus Rent Index=%{x}<br>City=%{y}<extra></extra>\",\"legendgroup\":\"64.93\",\"marker\":{\"color\":\"#636efa\",\"pattern\":{\"shape\":\"\"}},\"name\":\"64.93\",\"offsetgroup\":\"64.93\",\"orientation\":\"h\",\"showlegend\":true,\"x\":[29.97],\"xaxis\":\"x\",\"y\":[\"Kaunas, Lithuania\"],\"yaxis\":\"y\",\"type\":\"histogram\"},{\"alignmentgroup\":\"True\",\"bingroup\":\"y\",\"histfunc\":\"sum\",\"hovertemplate\":\"Local Purchasing Power Index=22.21<br>sum of Cost of Living Plus Rent Index=%{x}<br>City=%{y}<extra></extra>\",\"legendgroup\":\"22.21\",\"marker\":{\"color\":\"#EF553B\",\"pattern\":{\"shape\":\"\"}},\"name\":\"22.21\",\"offsetgroup\":\"22.21\",\"orientation\":\"h\",\"showlegend\":true,\"x\":[28.74],\"xaxis\":\"x\",\"y\":[\"Santo Domingo, Dominican Republic\"],\"yaxis\":\"y\",\"type\":\"histogram\"},{\"alignmentgroup\":\"True\",\"bingroup\":\"y\",\"histfunc\":\"sum\",\"hovertemplate\":\"Local Purchasing Power Index=24.37<br>sum of Cost of Living Plus Rent Index=%{x}<br>City=%{y}<extra></extra>\",\"legendgroup\":\"24.37\",\"marker\":{\"color\":\"#00cc96\",\"pattern\":{\"shape\":\"\"}},\"name\":\"24.37\",\"offsetgroup\":\"24.37\",\"orientation\":\"h\",\"showlegend\":true,\"x\":[31.23],\"xaxis\":\"x\",\"y\":[\"Guatemala City, Guatemala\"],\"yaxis\":\"y\",\"type\":\"histogram\"},{\"alignmentgroup\":\"True\",\"bingroup\":\"y\",\"histfunc\":\"sum\",\"hovertemplate\":\"Local Purchasing Power Index=27.28<br>sum of Cost of Living Plus Rent Index=%{x}<br>City=%{y}<extra></extra>\",\"legendgroup\":\"27.28\",\"marker\":{\"color\":\"#ab63fa\",\"pattern\":{\"shape\":\"\"}},\"name\":\"27.28\",\"offsetgroup\":\"27.28\",\"orientation\":\"h\",\"showlegend\":true,\"x\":[31.24],\"xaxis\":\"x\",\"y\":[\"Phuket, Thailand\"],\"yaxis\":\"y\",\"type\":\"histogram\"},{\"alignmentgroup\":\"True\",\"bingroup\":\"y\",\"histfunc\":\"sum\",\"hovertemplate\":\"Local Purchasing Power Index=66.04<br>sum of Cost of Living Plus Rent Index=%{x}<br>City=%{y}<extra></extra>\",\"legendgroup\":\"66.04\",\"marker\":{\"color\":\"#FFA15A\",\"pattern\":{\"shape\":\"\"}},\"name\":\"66.04\",\"offsetgroup\":\"66.04\",\"orientation\":\"h\",\"showlegend\":true,\"x\":[32.98],\"xaxis\":\"x\",\"y\":[\"Warsaw, Poland\"],\"yaxis\":\"y\",\"type\":\"histogram\"},{\"alignmentgroup\":\"True\",\"bingroup\":\"y\",\"histfunc\":\"sum\",\"hovertemplate\":\"Local Purchasing Power Index=56.04<br>sum of Cost of Living Plus Rent Index=%{x}<br>City=%{y}<extra></extra>\",\"legendgroup\":\"56.04\",\"marker\":{\"color\":\"#19d3f3\",\"pattern\":{\"shape\":\"\"}},\"name\":\"56.04\",\"offsetgroup\":\"56.04\",\"orientation\":\"h\",\"showlegend\":true,\"x\":[29.31],\"xaxis\":\"x\",\"y\":[\"Chengdu, China\"],\"yaxis\":\"y\",\"type\":\"histogram\"},{\"alignmentgroup\":\"True\",\"bingroup\":\"y\",\"histfunc\":\"sum\",\"hovertemplate\":\"Local Purchasing Power Index=56.42<br>sum of Cost of Living Plus Rent Index=%{x}<br>City=%{y}<extra></extra>\",\"legendgroup\":\"56.42\",\"marker\":{\"color\":\"#FF6692\",\"pattern\":{\"shape\":\"\"}},\"name\":\"56.42\",\"offsetgroup\":\"56.42\",\"orientation\":\"h\",\"showlegend\":true,\"x\":[27.68],\"xaxis\":\"x\",\"y\":[\"Osijek, Croatia\"],\"yaxis\":\"y\",\"type\":\"histogram\"},{\"alignmentgroup\":\"True\",\"bingroup\":\"y\",\"histfunc\":\"sum\",\"hovertemplate\":\"Local Purchasing Power Index=19.69<br>sum of Cost of Living Plus Rent Index=%{x}<br>City=%{y}<extra></extra>\",\"legendgroup\":\"19.69\",\"marker\":{\"color\":\"#B6E880\",\"pattern\":{\"shape\":\"\"}},\"name\":\"19.69\",\"offsetgroup\":\"19.69\",\"orientation\":\"h\",\"showlegend\":true,\"x\":[28.14],\"xaxis\":\"x\",\"y\":[\"Quezon City, Philippines\"],\"yaxis\":\"y\",\"type\":\"histogram\"},{\"alignmentgroup\":\"True\",\"bingroup\":\"y\",\"histfunc\":\"sum\",\"hovertemplate\":\"Local Purchasing Power Index=50.58<br>sum of Cost of Living Plus Rent Index=%{x}<br>City=%{y}<extra></extra>\",\"legendgroup\":\"50.58\",\"marker\":{\"color\":\"#FF97FF\",\"pattern\":{\"shape\":\"\"}},\"name\":\"50.58\",\"offsetgroup\":\"50.58\",\"orientation\":\"h\",\"showlegend\":true,\"x\":[29.98],\"xaxis\":\"x\",\"y\":[\"Gdynia, Poland\"],\"yaxis\":\"y\",\"type\":\"histogram\"},{\"alignmentgroup\":\"True\",\"bingroup\":\"y\",\"histfunc\":\"sum\",\"hovertemplate\":\"Local Purchasing Power Index=14.1<br>sum of Cost of Living Plus Rent Index=%{x}<br>City=%{y}<extra></extra>\",\"legendgroup\":\"14.1\",\"marker\":{\"color\":\"#FECB52\",\"pattern\":{\"shape\":\"\"}},\"name\":\"14.1\",\"offsetgroup\":\"14.1\",\"orientation\":\"h\",\"showlegend\":true,\"x\":[30.42],\"xaxis\":\"x\",\"y\":[\"Bali, Indonesia\"],\"yaxis\":\"y\",\"type\":\"histogram\"},{\"alignmentgroup\":\"True\",\"bingroup\":\"y\",\"histfunc\":\"sum\",\"hovertemplate\":\"Local Purchasing Power Index=87.26<br>sum of Cost of Living Plus Rent Index=%{x}<br>City=%{y}<extra></extra>\",\"legendgroup\":\"87.26\",\"marker\":{\"color\":\"#636efa\",\"pattern\":{\"shape\":\"\"}},\"name\":\"87.26\",\"offsetgroup\":\"87.26\",\"orientation\":\"h\",\"showlegend\":true,\"x\":[29.38],\"xaxis\":\"x\",\"y\":[\"Pretoria, South Africa\"],\"yaxis\":\"y\",\"type\":\"histogram\"},{\"alignmentgroup\":\"True\",\"bingroup\":\"y\",\"histfunc\":\"sum\",\"hovertemplate\":\"Local Purchasing Power Index=51.4<br>sum of Cost of Living Plus Rent Index=%{x}<br>City=%{y}<extra></extra>\",\"legendgroup\":\"51.4\",\"marker\":{\"color\":\"#EF553B\",\"pattern\":{\"shape\":\"\"}},\"name\":\"51.4\",\"offsetgroup\":\"51.4\",\"orientation\":\"h\",\"showlegend\":true,\"x\":[28.22],\"xaxis\":\"x\",\"y\":[\"Gaborone, Botswana\"],\"yaxis\":\"y\",\"type\":\"histogram\"},{\"alignmentgroup\":\"True\",\"bingroup\":\"y\",\"histfunc\":\"sum\",\"hovertemplate\":\"Local Purchasing Power Index=72.85<br>sum of Cost of Living Plus Rent Index=%{x}<br>City=%{y}<extra></extra>\",\"legendgroup\":\"72.85\",\"marker\":{\"color\":\"#00cc96\",\"pattern\":{\"shape\":\"\"}},\"name\":\"72.85\",\"offsetgroup\":\"72.85\",\"orientation\":\"h\",\"showlegend\":true,\"x\":[29.93],\"xaxis\":\"x\",\"y\":[\"Nanjing, China\"],\"yaxis\":\"y\",\"type\":\"histogram\"},{\"alignmentgroup\":\"True\",\"bingroup\":\"y\",\"histfunc\":\"sum\",\"hovertemplate\":\"Local Purchasing Power Index=55.31<br>sum of Cost of Living Plus Rent Index=%{x}<br>City=%{y}<extra></extra>\",\"legendgroup\":\"55.31\",\"marker\":{\"color\":\"#ab63fa\",\"pattern\":{\"shape\":\"\"}},\"name\":\"55.31\",\"offsetgroup\":\"55.31\",\"orientation\":\"h\",\"showlegend\":true,\"x\":[29.27],\"xaxis\":\"x\",\"y\":[\"Sofia, Bulgaria\"],\"yaxis\":\"y\",\"type\":\"histogram\"},{\"alignmentgroup\":\"True\",\"bingroup\":\"y\",\"histfunc\":\"sum\",\"hovertemplate\":\"Local Purchasing Power Index=29.88<br>sum of Cost of Living Plus Rent Index=%{x}<br>City=%{y}<extra></extra>\",\"legendgroup\":\"29.88\",\"marker\":{\"color\":\"#FFA15A\",\"pattern\":{\"shape\":\"\"}},\"name\":\"29.88\",\"offsetgroup\":\"29.88\",\"orientation\":\"h\",\"showlegend\":true,\"x\":[28.37],\"xaxis\":\"x\",\"y\":[\"Chiang Mai, Thailand\"],\"yaxis\":\"y\",\"type\":\"histogram\"},{\"alignmentgroup\":\"True\",\"bingroup\":\"y\",\"histfunc\":\"sum\",\"hovertemplate\":\"Local Purchasing Power Index=49.56<br>sum of Cost of Living Plus Rent Index=%{x}<br>City=%{y}<extra></extra>\",\"legendgroup\":\"49.56\",\"marker\":{\"color\":\"#19d3f3\",\"pattern\":{\"shape\":\"\"}},\"name\":\"49.56\",\"offsetgroup\":\"49.56\",\"orientation\":\"h\",\"showlegend\":true,\"x\":[35.56],\"xaxis\":\"x\",\"y\":[\"Moscow, Russia\"],\"yaxis\":\"y\",\"type\":\"histogram\"},{\"alignmentgroup\":\"True\",\"bingroup\":\"y\",\"histfunc\":\"sum\",\"hovertemplate\":\"Local Purchasing Power Index=23.25<br>sum of Cost of Living Plus Rent Index=%{x}<br>City=%{y}<extra></extra>\",\"legendgroup\":\"23.25\",\"marker\":{\"color\":\"#FF6692\",\"pattern\":{\"shape\":\"\"}},\"name\":\"23.25\",\"offsetgroup\":\"23.25\",\"orientation\":\"h\",\"showlegend\":true,\"x\":[28.93],\"xaxis\":\"x\",\"y\":[\"Pattaya, Thailand\"],\"yaxis\":\"y\",\"type\":\"histogram\"},{\"alignmentgroup\":\"True\",\"bingroup\":\"y\",\"histfunc\":\"sum\",\"hovertemplate\":\"Local Purchasing Power Index=64.36<br>sum of Cost of Living Plus Rent Index=%{x}<br>City=%{y}<extra></extra>\",\"legendgroup\":\"64.36\",\"marker\":{\"color\":\"#B6E880\",\"pattern\":{\"shape\":\"\"}},\"name\":\"64.36\",\"offsetgroup\":\"64.36\",\"orientation\":\"h\",\"showlegend\":true,\"x\":[30.37],\"xaxis\":\"x\",\"y\":[\"Gdansk, Poland\"],\"yaxis\":\"y\",\"type\":\"histogram\"},{\"alignmentgroup\":\"True\",\"bingroup\":\"y\",\"histfunc\":\"sum\",\"hovertemplate\":\"Local Purchasing Power Index=67.1<br>sum of Cost of Living Plus Rent Index=%{x}<br>City=%{y}<extra></extra>\",\"legendgroup\":\"67.1\",\"marker\":{\"color\":\"#FF97FF\",\"pattern\":{\"shape\":\"\"}},\"name\":\"67.1\",\"offsetgroup\":\"67.1\",\"orientation\":\"h\",\"showlegend\":true,\"x\":[30.26],\"xaxis\":\"x\",\"y\":[\"Krakow (Cracow), Poland\"],\"yaxis\":\"y\",\"type\":\"histogram\"},{\"alignmentgroup\":\"True\",\"bingroup\":\"y\",\"histfunc\":\"sum\",\"hovertemplate\":\"Local Purchasing Power Index=59.89<br>sum of Cost of Living Plus Rent Index=%{x}<br>City=%{y}<extra></extra>\",\"legendgroup\":\"59.89\",\"marker\":{\"color\":\"#FECB52\",\"pattern\":{\"shape\":\"\"}},\"name\":\"59.89\",\"offsetgroup\":\"59.89\",\"orientation\":\"h\",\"showlegend\":true,\"x\":[30.06],\"xaxis\":\"x\",\"y\":[\"Wroclaw, Poland\"],\"yaxis\":\"y\",\"type\":\"histogram\"},{\"alignmentgroup\":\"True\",\"bingroup\":\"y\",\"histfunc\":\"sum\",\"hovertemplate\":\"Local Purchasing Power Index=70.13<br>sum of Cost of Living Plus Rent Index=%{x}<br>City=%{y}<extra></extra>\",\"legendgroup\":\"70.13\",\"marker\":{\"color\":\"#636efa\",\"pattern\":{\"shape\":\"\"}},\"name\":\"70.13\",\"offsetgroup\":\"70.13\",\"orientation\":\"h\",\"showlegend\":true,\"x\":[31.88],\"xaxis\":\"x\",\"y\":[\"Guangzhou, China\"],\"yaxis\":\"y\",\"type\":\"histogram\"},{\"alignmentgroup\":\"True\",\"bingroup\":\"y\",\"histfunc\":\"sum\",\"hovertemplate\":\"Local Purchasing Power Index=75.83<br>sum of Cost of Living Plus Rent Index=%{x}<br>City=%{y}<extra></extra>\",\"legendgroup\":\"75.83\",\"marker\":{\"color\":\"#EF553B\",\"pattern\":{\"shape\":\"\"}},\"name\":\"75.83\",\"offsetgroup\":\"75.83\",\"orientation\":\"h\",\"showlegend\":true,\"x\":[32.38],\"xaxis\":\"x\",\"y\":[\"Cape Town, South Africa\"],\"yaxis\":\"y\",\"type\":\"histogram\"},{\"alignmentgroup\":\"True\",\"bingroup\":\"y\",\"histfunc\":\"sum\",\"hovertemplate\":\"Local Purchasing Power Index=25.32<br>sum of Cost of Living Plus Rent Index=%{x}<br>City=%{y}<extra></extra>\",\"legendgroup\":\"25.32\",\"marker\":{\"color\":\"#00cc96\",\"pattern\":{\"shape\":\"\"}},\"name\":\"25.32\",\"offsetgroup\":\"25.32\",\"orientation\":\"h\",\"showlegend\":true,\"x\":[29.42],\"xaxis\":\"x\",\"y\":[\"Jakarta, Indonesia\"],\"yaxis\":\"y\",\"type\":\"histogram\"},{\"alignmentgroup\":\"True\",\"bingroup\":\"y\",\"histfunc\":\"sum\",\"hovertemplate\":\"Local Purchasing Power Index=47.23<br>sum of Cost of Living Plus Rent Index=%{x}<br>City=%{y}<extra></extra>\",\"legendgroup\":\"47.23\",\"marker\":{\"color\":\"#ab63fa\",\"pattern\":{\"shape\":\"\"}},\"name\":\"47.23\",\"offsetgroup\":\"47.23\",\"orientation\":\"h\",\"showlegend\":true,\"x\":[27.39],\"xaxis\":\"x\",\"y\":[\"Pecs, Hungary\"],\"yaxis\":\"y\",\"type\":\"histogram\"},{\"alignmentgroup\":\"True\",\"bingroup\":\"y\",\"histfunc\":\"sum\",\"hovertemplate\":\"Local Purchasing Power Index=22.24<br>sum of Cost of Living Plus Rent Index=%{x}<br>City=%{y}<extra></extra>\",\"legendgroup\":\"22.24\",\"marker\":{\"color\":\"#FFA15A\",\"pattern\":{\"shape\":\"\"}},\"name\":\"22.24\",\"offsetgroup\":\"22.24\",\"orientation\":\"h\",\"showlegend\":true,\"x\":[33.46],\"xaxis\":\"x\",\"y\":[\"Manila, Philippines\"],\"yaxis\":\"y\",\"type\":\"histogram\"},{\"alignmentgroup\":\"True\",\"bingroup\":\"y\",\"histfunc\":\"sum\",\"hovertemplate\":\"Local Purchasing Power Index=58.32<br>sum of Cost of Living Plus Rent Index=%{x}<br>City=%{y}<extra></extra>\",\"legendgroup\":\"58.32\",\"marker\":{\"color\":\"#19d3f3\",\"pattern\":{\"shape\":\"\"}},\"name\":\"58.32\",\"offsetgroup\":\"58.32\",\"orientation\":\"h\",\"showlegend\":true,\"x\":[28.63],\"xaxis\":\"x\",\"y\":[\"Poznan, Poland\"],\"yaxis\":\"y\",\"type\":\"histogram\"},{\"alignmentgroup\":\"True\",\"bingroup\":\"y\",\"histfunc\":\"sum\",\"hovertemplate\":\"Local Purchasing Power Index=29.69<br>sum of Cost of Living Plus Rent Index=%{x}<br>City=%{y}<extra></extra>\",\"legendgroup\":\"29.69\",\"marker\":{\"color\":\"#FF6692\",\"pattern\":{\"shape\":\"\"}},\"name\":\"29.69\",\"offsetgroup\":\"29.69\",\"orientation\":\"h\",\"showlegend\":true,\"x\":[27.42],\"xaxis\":\"x\",\"y\":[\"Quito, Ecuador\"],\"yaxis\":\"y\",\"type\":\"histogram\"},{\"alignmentgroup\":\"True\",\"bingroup\":\"y\",\"histfunc\":\"sum\",\"hovertemplate\":\"Local Purchasing Power Index=73.88<br>sum of Cost of Living Plus Rent Index=%{x}<br>City=%{y}<extra></extra>\",\"legendgroup\":\"73.88\",\"marker\":{\"color\":\"#B6E880\",\"pattern\":{\"shape\":\"\"}},\"name\":\"73.88\",\"offsetgroup\":\"73.88\",\"orientation\":\"h\",\"showlegend\":true,\"x\":[28.31],\"xaxis\":\"x\",\"y\":[\"Durban, South Africa\"],\"yaxis\":\"y\",\"type\":\"histogram\"},{\"alignmentgroup\":\"True\",\"bingroup\":\"y\",\"histfunc\":\"sum\",\"hovertemplate\":\"Local Purchasing Power Index=64.03<br>sum of Cost of Living Plus Rent Index=%{x}<br>City=%{y}<extra></extra>\",\"legendgroup\":\"64.03\",\"marker\":{\"color\":\"#FF97FF\",\"pattern\":{\"shape\":\"\"}},\"name\":\"64.03\",\"offsetgroup\":\"64.03\",\"orientation\":\"h\",\"showlegend\":true,\"x\":[28.02],\"xaxis\":\"x\",\"y\":[\"Katowice, Poland\"],\"yaxis\":\"y\",\"type\":\"histogram\"},{\"alignmentgroup\":\"True\",\"bingroup\":\"y\",\"histfunc\":\"sum\",\"hovertemplate\":\"Local Purchasing Power Index=53.12<br>sum of Cost of Living Plus Rent Index=%{x}<br>City=%{y}<extra></extra>\",\"legendgroup\":\"53.12\",\"marker\":{\"color\":\"#FECB52\",\"pattern\":{\"shape\":\"\"}},\"name\":\"53.12\",\"offsetgroup\":\"53.12\",\"orientation\":\"h\",\"showlegend\":true,\"x\":[28.25],\"xaxis\":\"x\",\"y\":[\"Cluj-Napoca, Romania\"],\"yaxis\":\"y\",\"type\":\"histogram\"},{\"alignmentgroup\":\"True\",\"bingroup\":\"y\",\"histfunc\":\"sum\",\"hovertemplate\":\"Local Purchasing Power Index=53.15<br>sum of Cost of Living Plus Rent Index=%{x}<br>City=%{y}<extra></extra>\",\"legendgroup\":\"53.15\",\"marker\":{\"color\":\"#636efa\",\"pattern\":{\"shape\":\"\"}},\"name\":\"53.15\",\"offsetgroup\":\"53.15\",\"orientation\":\"h\",\"showlegend\":true,\"x\":[28.26],\"xaxis\":\"x\",\"y\":[\"Bucharest, Romania\"],\"yaxis\":\"y\",\"type\":\"histogram\"},{\"alignmentgroup\":\"True\",\"bingroup\":\"y\",\"histfunc\":\"sum\",\"hovertemplate\":\"Local Purchasing Power Index=49.5<br>sum of Cost of Living Plus Rent Index=%{x}<br>City=%{y}<extra></extra>\",\"legendgroup\":\"49.5\",\"marker\":{\"color\":\"#EF553B\",\"pattern\":{\"shape\":\"\"}},\"name\":\"49.5\",\"offsetgroup\":\"49.5\",\"orientation\":\"h\",\"showlegend\":true,\"x\":[26.09],\"xaxis\":\"x\",\"y\":[\"Szeged, Hungary\"],\"yaxis\":\"y\",\"type\":\"histogram\"},{\"alignmentgroup\":\"True\",\"bingroup\":\"y\",\"histfunc\":\"sum\",\"hovertemplate\":\"Local Purchasing Power Index=36.05<br>sum of Cost of Living Plus Rent Index=%{x}<br>City=%{y}<extra></extra>\",\"legendgroup\":\"36.05\",\"marker\":{\"color\":\"#00cc96\",\"pattern\":{\"shape\":\"\"}},\"name\":\"36.05\",\"offsetgroup\":\"36.05\",\"orientation\":\"h\",\"showlegend\":true,\"x\":[27.78],\"xaxis\":\"x\",\"y\":[\"Belgrade, Serbia\"],\"yaxis\":\"y\",\"type\":\"histogram\"},{\"alignmentgroup\":\"True\",\"bingroup\":\"y\",\"histfunc\":\"sum\",\"hovertemplate\":\"Local Purchasing Power Index=49.86<br>sum of Cost of Living Plus Rent Index=%{x}<br>City=%{y}<extra></extra>\",\"legendgroup\":\"49.86\",\"marker\":{\"color\":\"#ab63fa\",\"pattern\":{\"shape\":\"\"}},\"name\":\"49.86\",\"offsetgroup\":\"49.86\",\"orientation\":\"h\",\"showlegend\":true,\"x\":[26.33],\"xaxis\":\"x\",\"y\":[\"Debrecen, Hungary\"],\"yaxis\":\"y\",\"type\":\"histogram\"},{\"alignmentgroup\":\"True\",\"bingroup\":\"y\",\"histfunc\":\"sum\",\"hovertemplate\":\"Local Purchasing Power Index=60.88<br>sum of Cost of Living Plus Rent Index=%{x}<br>City=%{y}<extra></extra>\",\"legendgroup\":\"60.88\",\"marker\":{\"color\":\"#FFA15A\",\"pattern\":{\"shape\":\"\"}},\"name\":\"60.88\",\"offsetgroup\":\"60.88\",\"orientation\":\"h\",\"showlegend\":true,\"x\":[27.75],\"xaxis\":\"x\",\"y\":[\"Petaling Jaya, Malaysia\"],\"yaxis\":\"y\",\"type\":\"histogram\"},{\"alignmentgroup\":\"True\",\"bingroup\":\"y\",\"histfunc\":\"sum\",\"hovertemplate\":\"Local Purchasing Power Index=29.96<br>sum of Cost of Living Plus Rent Index=%{x}<br>City=%{y}<extra></extra>\",\"legendgroup\":\"29.96\",\"marker\":{\"color\":\"#19d3f3\",\"pattern\":{\"shape\":\"\"}},\"name\":\"29.96\",\"offsetgroup\":\"29.96\",\"orientation\":\"h\",\"showlegend\":true,\"x\":[26.97],\"xaxis\":\"x\",\"y\":[\"Marrakech, Morocco\"],\"yaxis\":\"y\",\"type\":\"histogram\"},{\"alignmentgroup\":\"True\",\"bingroup\":\"y\",\"histfunc\":\"sum\",\"hovertemplate\":\"Local Purchasing Power Index=35.98<br>sum of Cost of Living Plus Rent Index=%{x}<br>City=%{y}<extra></extra>\",\"legendgroup\":\"35.98\",\"marker\":{\"color\":\"#FF6692\",\"pattern\":{\"shape\":\"\"}},\"name\":\"35.98\",\"offsetgroup\":\"35.98\",\"orientation\":\"h\",\"showlegend\":true,\"x\":[26.31],\"xaxis\":\"x\",\"y\":[\"Podgorica, Montenegro\"],\"yaxis\":\"y\",\"type\":\"histogram\"},{\"alignmentgroup\":\"True\",\"bingroup\":\"y\",\"histfunc\":\"sum\",\"hovertemplate\":\"Local Purchasing Power Index=51.05<br>sum of Cost of Living Plus Rent Index=%{x}<br>City=%{y}<extra></extra>\",\"legendgroup\":\"51.05\",\"marker\":{\"color\":\"#B6E880\",\"pattern\":{\"shape\":\"\"}},\"name\":\"51.05\",\"offsetgroup\":\"51.05\",\"orientation\":\"h\",\"showlegend\":true,\"x\":[28.1],\"xaxis\":\"x\",\"y\":[\"Szczecin, Poland\"],\"yaxis\":\"y\",\"type\":\"histogram\"},{\"alignmentgroup\":\"True\",\"bingroup\":\"y\",\"histfunc\":\"sum\",\"hovertemplate\":\"Local Purchasing Power Index=39.43<br>sum of Cost of Living Plus Rent Index=%{x}<br>City=%{y}<extra></extra>\",\"legendgroup\":\"39.43\",\"marker\":{\"color\":\"#FF97FF\",\"pattern\":{\"shape\":\"\"}},\"name\":\"39.43\",\"offsetgroup\":\"39.43\",\"orientation\":\"h\",\"showlegend\":true,\"x\":[25.48],\"xaxis\":\"x\",\"y\":[\"Kota Kinabalu, Malaysia\"],\"yaxis\":\"y\",\"type\":\"histogram\"},{\"alignmentgroup\":\"True\",\"bingroup\":\"y\",\"histfunc\":\"sum\",\"hovertemplate\":\"Local Purchasing Power Index=64.04<br>sum of Cost of Living Plus Rent Index=%{x}<br>City=%{y}<extra></extra>\",\"legendgroup\":\"64.04\",\"marker\":{\"color\":\"#FECB52\",\"pattern\":{\"shape\":\"\"}},\"name\":\"64.04\",\"offsetgroup\":\"64.04\",\"orientation\":\"h\",\"showlegend\":true,\"x\":[27.47],\"xaxis\":\"x\",\"y\":[\"Kuala Lumpur, Malaysia\"],\"yaxis\":\"y\",\"type\":\"histogram\"},{\"alignmentgroup\":\"True\",\"bingroup\":\"y\",\"histfunc\":\"sum\",\"hovertemplate\":\"Local Purchasing Power Index=46.29<br>sum of Cost of Living Plus Rent Index=%{x}<br>City=%{y}<extra></extra>\",\"legendgroup\":\"46.29\",\"marker\":{\"color\":\"#636efa\",\"pattern\":{\"shape\":\"\"}},\"name\":\"46.29\",\"offsetgroup\":\"46.29\",\"orientation\":\"h\",\"showlegend\":true,\"x\":[24.7],\"xaxis\":\"x\",\"y\":[\"Varna, Bulgaria\"],\"yaxis\":\"y\",\"type\":\"histogram\"},{\"alignmentgroup\":\"True\",\"bingroup\":\"y\",\"histfunc\":\"sum\",\"hovertemplate\":\"Local Purchasing Power Index=44.68<br>sum of Cost of Living Plus Rent Index=%{x}<br>City=%{y}<extra></extra>\",\"legendgroup\":\"44.68\",\"marker\":{\"color\":\"#EF553B\",\"pattern\":{\"shape\":\"\"}},\"name\":\"44.68\",\"offsetgroup\":\"44.68\",\"orientation\":\"h\",\"showlegend\":true,\"x\":[29.55],\"xaxis\":\"x\",\"y\":[\"Suva, Fiji\"],\"yaxis\":\"y\",\"type\":\"histogram\"},{\"alignmentgroup\":\"True\",\"bingroup\":\"y\",\"histfunc\":\"sum\",\"hovertemplate\":\"Local Purchasing Power Index=17.64<br>sum of Cost of Living Plus Rent Index=%{x}<br>City=%{y}<extra></extra>\",\"legendgroup\":\"17.64\",\"marker\":{\"color\":\"#00cc96\",\"pattern\":{\"shape\":\"\"}},\"name\":\"17.64\",\"offsetgroup\":\"17.64\",\"orientation\":\"h\",\"showlegend\":true,\"x\":[26.9],\"xaxis\":\"x\",\"y\":[\"Cebu, Philippines\"],\"yaxis\":\"y\",\"type\":\"histogram\"},{\"alignmentgroup\":\"True\",\"bingroup\":\"y\",\"histfunc\":\"sum\",\"hovertemplate\":\"Local Purchasing Power Index=30.87<br>sum of Cost of Living Plus Rent Index=%{x}<br>City=%{y}<extra></extra>\",\"legendgroup\":\"30.87\",\"marker\":{\"color\":\"#ab63fa\",\"pattern\":{\"shape\":\"\"}},\"name\":\"30.87\",\"offsetgroup\":\"30.87\",\"orientation\":\"h\",\"showlegend\":true,\"x\":[29.09],\"xaxis\":\"x\",\"y\":[\"Ho Chi Minh City, Vietnam\"],\"yaxis\":\"y\",\"type\":\"histogram\"},{\"alignmentgroup\":\"True\",\"bingroup\":\"y\",\"histfunc\":\"sum\",\"hovertemplate\":\"Local Purchasing Power Index=38.24<br>sum of Cost of Living Plus Rent Index=%{x}<br>City=%{y}<extra></extra>\",\"legendgroup\":\"38.24\",\"marker\":{\"color\":\"#FFA15A\",\"pattern\":{\"shape\":\"\"}},\"name\":\"38.24\",\"offsetgroup\":\"38.24\",\"orientation\":\"h\",\"showlegend\":true,\"x\":[27.83],\"xaxis\":\"x\",\"y\":[\"Cancun, Mexico\"],\"yaxis\":\"y\",\"type\":\"histogram\"},{\"alignmentgroup\":\"True\",\"bingroup\":\"y\",\"histfunc\":\"sum\",\"hovertemplate\":\"Local Purchasing Power Index=21.12<br>sum of Cost of Living Plus Rent Index=%{x}<br>City=%{y}<extra></extra>\",\"legendgroup\":\"21.12\",\"marker\":{\"color\":\"#19d3f3\",\"pattern\":{\"shape\":\"\"}},\"name\":\"21.12\",\"offsetgroup\":\"21.12\",\"orientation\":\"h\",\"showlegend\":true,\"x\":[29.97],\"xaxis\":\"x\",\"y\":[\"Accra, Ghana\"],\"yaxis\":\"y\",\"type\":\"histogram\"},{\"alignmentgroup\":\"True\",\"bingroup\":\"y\",\"histfunc\":\"sum\",\"hovertemplate\":\"Local Purchasing Power Index=31.15<br>sum of Cost of Living Plus Rent Index=%{x}<br>City=%{y}<extra></extra>\",\"legendgroup\":\"31.15\",\"marker\":{\"color\":\"#FF6692\",\"pattern\":{\"shape\":\"\"}},\"name\":\"31.15\",\"offsetgroup\":\"31.15\",\"orientation\":\"h\",\"showlegend\":true,\"x\":[25.86,23.08],\"xaxis\":\"x\",\"y\":[\"Tirana, Albania\",\"Minsk, Belarus\"],\"yaxis\":\"y\",\"type\":\"histogram\"},{\"alignmentgroup\":\"True\",\"bingroup\":\"y\",\"histfunc\":\"sum\",\"hovertemplate\":\"Local Purchasing Power Index=31.41<br>sum of Cost of Living Plus Rent Index=%{x}<br>City=%{y}<extra></extra>\",\"legendgroup\":\"31.41\",\"marker\":{\"color\":\"#B6E880\",\"pattern\":{\"shape\":\"\"}},\"name\":\"31.41\",\"offsetgroup\":\"31.41\",\"orientation\":\"h\",\"showlegend\":true,\"x\":[25.95],\"xaxis\":\"x\",\"y\":[\"Guayaquil, Ecuador\"],\"yaxis\":\"y\",\"type\":\"histogram\"},{\"alignmentgroup\":\"True\",\"bingroup\":\"y\",\"histfunc\":\"sum\",\"hovertemplate\":\"Local Purchasing Power Index=42.98<br>sum of Cost of Living Plus Rent Index=%{x}<br>City=%{y}<extra></extra>\",\"legendgroup\":\"42.98\",\"marker\":{\"color\":\"#FF97FF\",\"pattern\":{\"shape\":\"\"}},\"name\":\"42.98\",\"offsetgroup\":\"42.98\",\"orientation\":\"h\",\"showlegend\":true,\"x\":[27.62],\"xaxis\":\"x\",\"y\":[\"Monterrey, Mexico\"],\"yaxis\":\"y\",\"type\":\"histogram\"},{\"alignmentgroup\":\"True\",\"bingroup\":\"y\",\"histfunc\":\"sum\",\"hovertemplate\":\"Local Purchasing Power Index=45.56<br>sum of Cost of Living Plus Rent Index=%{x}<br>City=%{y}<extra></extra>\",\"legendgroup\":\"45.56\",\"marker\":{\"color\":\"#FECB52\",\"pattern\":{\"shape\":\"\"}},\"name\":\"45.56\",\"offsetgroup\":\"45.56\",\"orientation\":\"h\",\"showlegend\":true,\"x\":[24.84],\"xaxis\":\"x\",\"y\":[\"Plovdiv, Bulgaria\"],\"yaxis\":\"y\",\"type\":\"histogram\"},{\"alignmentgroup\":\"True\",\"bingroup\":\"y\",\"histfunc\":\"sum\",\"hovertemplate\":\"Local Purchasing Power Index=43.73<br>sum of Cost of Living Plus Rent Index=%{x}<br>City=%{y}<extra></extra>\",\"legendgroup\":\"43.73\",\"marker\":{\"color\":\"#636efa\",\"pattern\":{\"shape\":\"\"}},\"name\":\"43.73\",\"offsetgroup\":\"43.73\",\"orientation\":\"h\",\"showlegend\":true,\"x\":[24.76],\"xaxis\":\"x\",\"y\":[\"Sarajevo, Bosnia And Herzegovina\"],\"yaxis\":\"y\",\"type\":\"histogram\"},{\"alignmentgroup\":\"True\",\"bingroup\":\"y\",\"histfunc\":\"sum\",\"hovertemplate\":\"Local Purchasing Power Index=60.2<br>sum of Cost of Living Plus Rent Index=%{x}<br>City=%{y}<extra></extra>\",\"legendgroup\":\"60.2\",\"marker\":{\"color\":\"#EF553B\",\"pattern\":{\"shape\":\"\"}},\"name\":\"60.2\",\"offsetgroup\":\"60.2\",\"orientation\":\"h\",\"showlegend\":true,\"x\":[26.72],\"xaxis\":\"x\",\"y\":[\"Lublin, Poland\"],\"yaxis\":\"y\",\"type\":\"histogram\"},{\"alignmentgroup\":\"True\",\"bingroup\":\"y\",\"histfunc\":\"sum\",\"hovertemplate\":\"Local Purchasing Power Index=39.88<br>sum of Cost of Living Plus Rent Index=%{x}<br>City=%{y}<extra></extra>\",\"legendgroup\":\"39.88\",\"marker\":{\"color\":\"#00cc96\",\"pattern\":{\"shape\":\"\"}},\"name\":\"39.88\",\"offsetgroup\":\"39.88\",\"orientation\":\"h\",\"showlegend\":true,\"x\":[26.09],\"xaxis\":\"x\",\"y\":[\"Erbil (Irbil), Iraq\"],\"yaxis\":\"y\",\"type\":\"histogram\"},{\"alignmentgroup\":\"True\",\"bingroup\":\"y\",\"histfunc\":\"sum\",\"hovertemplate\":\"Local Purchasing Power Index=32.91<br>sum of Cost of Living Plus Rent Index=%{x}<br>City=%{y}<extra></extra>\",\"legendgroup\":\"32.91\",\"marker\":{\"color\":\"#ab63fa\",\"pattern\":{\"shape\":\"\"}},\"name\":\"32.91\",\"offsetgroup\":\"32.91\",\"orientation\":\"h\",\"showlegend\":true,\"x\":[25.63],\"xaxis\":\"x\",\"y\":[\"Santa Cruz, Bolivia\"],\"yaxis\":\"y\",\"type\":\"histogram\"},{\"alignmentgroup\":\"True\",\"bingroup\":\"y\",\"histfunc\":\"sum\",\"hovertemplate\":\"Local Purchasing Power Index=22.77<br>sum of Cost of Living Plus Rent Index=%{x}<br>City=%{y}<extra></extra>\",\"legendgroup\":\"22.77\",\"marker\":{\"color\":\"#FFA15A\",\"pattern\":{\"shape\":\"\"}},\"name\":\"22.77\",\"offsetgroup\":\"22.77\",\"orientation\":\"h\",\"showlegend\":true,\"x\":[28.25],\"xaxis\":\"x\",\"y\":[\"Isfahan (Esfahan), Iran\"],\"yaxis\":\"y\",\"type\":\"histogram\"},{\"alignmentgroup\":\"True\",\"bingroup\":\"y\",\"histfunc\":\"sum\",\"hovertemplate\":\"Local Purchasing Power Index=57.76<br>sum of Cost of Living Plus Rent Index=%{x}<br>City=%{y}<extra></extra>\",\"legendgroup\":\"57.76\",\"marker\":{\"color\":\"#19d3f3\",\"pattern\":{\"shape\":\"\"}},\"name\":\"57.76\",\"offsetgroup\":\"57.76\",\"orientation\":\"h\",\"showlegend\":true,\"x\":[26.69],\"xaxis\":\"x\",\"y\":[\"Lodz, Poland\"],\"yaxis\":\"y\",\"type\":\"histogram\"},{\"alignmentgroup\":\"True\",\"bingroup\":\"y\",\"histfunc\":\"sum\",\"hovertemplate\":\"Local Purchasing Power Index=40.77<br>sum of Cost of Living Plus Rent Index=%{x}<br>City=%{y}<extra></extra>\",\"legendgroup\":\"40.77\",\"marker\":{\"color\":\"#FF6692\",\"pattern\":{\"shape\":\"\"}},\"name\":\"40.77\",\"offsetgroup\":\"40.77\",\"orientation\":\"h\",\"showlegend\":true,\"x\":[28.12],\"xaxis\":\"x\",\"y\":[\"Saint Petersburg, Russia\"],\"yaxis\":\"y\",\"type\":\"histogram\"},{\"alignmentgroup\":\"True\",\"bingroup\":\"y\",\"histfunc\":\"sum\",\"hovertemplate\":\"Local Purchasing Power Index=38.29<br>sum of Cost of Living Plus Rent Index=%{x}<br>City=%{y}<extra></extra>\",\"legendgroup\":\"38.29\",\"marker\":{\"color\":\"#B6E880\",\"pattern\":{\"shape\":\"\"}},\"name\":\"38.29\",\"offsetgroup\":\"38.29\",\"orientation\":\"h\",\"showlegend\":true,\"x\":[23.69],\"xaxis\":\"x\",\"y\":[\"Banja Luka, Bosnia And Herzegovina\"],\"yaxis\":\"y\",\"type\":\"histogram\"},{\"alignmentgroup\":\"True\",\"bingroup\":\"y\",\"histfunc\":\"sum\",\"hovertemplate\":\"Local Purchasing Power Index=65.85<br>sum of Cost of Living Plus Rent Index=%{x}<br>City=%{y}<extra></extra>\",\"legendgroup\":\"65.85\",\"marker\":{\"color\":\"#FF97FF\",\"pattern\":{\"shape\":\"\"}},\"name\":\"65.85\",\"offsetgroup\":\"65.85\",\"orientation\":\"h\",\"showlegend\":true,\"x\":[24.34],\"xaxis\":\"x\",\"y\":[\"Penang, Malaysia\"],\"yaxis\":\"y\",\"type\":\"histogram\"},{\"alignmentgroup\":\"True\",\"bingroup\":\"y\",\"histfunc\":\"sum\",\"hovertemplate\":\"Local Purchasing Power Index=34.57<br>sum of Cost of Living Plus Rent Index=%{x}<br>City=%{y}<extra></extra>\",\"legendgroup\":\"34.57\",\"marker\":{\"color\":\"#FECB52\",\"pattern\":{\"shape\":\"\"}},\"name\":\"34.57\",\"offsetgroup\":\"34.57\",\"orientation\":\"h\",\"showlegend\":true,\"x\":[25.03],\"xaxis\":\"x\",\"y\":[\"La Paz, Bolivia\"],\"yaxis\":\"y\",\"type\":\"histogram\"},{\"alignmentgroup\":\"True\",\"bingroup\":\"y\",\"histfunc\":\"sum\",\"hovertemplate\":\"Local Purchasing Power Index=29.23<br>sum of Cost of Living Plus Rent Index=%{x}<br>City=%{y}<extra></extra>\",\"legendgroup\":\"29.23\",\"marker\":{\"color\":\"#636efa\",\"pattern\":{\"shape\":\"\"}},\"name\":\"29.23\",\"offsetgroup\":\"29.23\",\"orientation\":\"h\",\"showlegend\":true,\"x\":[26.72,25.42],\"xaxis\":\"x\",\"y\":[\"Sao Paulo, Brazil\",\"Nairobi, Kenya\"],\"yaxis\":\"y\",\"type\":\"histogram\"},{\"alignmentgroup\":\"True\",\"bingroup\":\"y\",\"histfunc\":\"sum\",\"hovertemplate\":\"Local Purchasing Power Index=42.73<br>sum of Cost of Living Plus Rent Index=%{x}<br>City=%{y}<extra></extra>\",\"legendgroup\":\"42.73\",\"marker\":{\"color\":\"#EF553B\",\"pattern\":{\"shape\":\"\"}},\"name\":\"42.73\",\"offsetgroup\":\"42.73\",\"orientation\":\"h\",\"showlegend\":true,\"x\":[24.73],\"xaxis\":\"x\",\"y\":[\"Novi Sad, Serbia\"],\"yaxis\":\"y\",\"type\":\"histogram\"},{\"alignmentgroup\":\"True\",\"bingroup\":\"y\",\"histfunc\":\"sum\",\"hovertemplate\":\"Local Purchasing Power Index=36.74<br>sum of Cost of Living Plus Rent Index=%{x}<br>City=%{y}<extra></extra>\",\"legendgroup\":\"36.74\",\"marker\":{\"color\":\"#00cc96\",\"pattern\":{\"shape\":\"\"}},\"name\":\"36.74\",\"offsetgroup\":\"36.74\",\"orientation\":\"h\",\"showlegend\":true,\"x\":[29.68],\"xaxis\":\"x\",\"y\":[\"Mexico City, Mexico\"],\"yaxis\":\"y\",\"type\":\"histogram\"},{\"alignmentgroup\":\"True\",\"bingroup\":\"y\",\"histfunc\":\"sum\",\"hovertemplate\":\"Local Purchasing Power Index=8.3<br>sum of Cost of Living Plus Rent Index=%{x}<br>City=%{y}<extra></extra>\",\"legendgroup\":\"8.3\",\"marker\":{\"color\":\"#ab63fa\",\"pattern\":{\"shape\":\"\"}},\"name\":\"8.3\",\"offsetgroup\":\"8.3\",\"orientation\":\"h\",\"showlegend\":true,\"x\":[48.84],\"xaxis\":\"x\",\"y\":[\"Lagos, Nigeria\"],\"yaxis\":\"y\",\"type\":\"histogram\"},{\"alignmentgroup\":\"True\",\"bingroup\":\"y\",\"histfunc\":\"sum\",\"hovertemplate\":\"Local Purchasing Power Index=45.4<br>sum of Cost of Living Plus Rent Index=%{x}<br>City=%{y}<extra></extra>\",\"legendgroup\":\"45.4\",\"marker\":{\"color\":\"#FFA15A\",\"pattern\":{\"shape\":\"\"}},\"name\":\"45.4\",\"offsetgroup\":\"45.4\",\"orientation\":\"h\",\"showlegend\":true,\"x\":[25.06],\"xaxis\":\"x\",\"y\":[\"Constanta, Romania\"],\"yaxis\":\"y\",\"type\":\"histogram\"},{\"alignmentgroup\":\"True\",\"bingroup\":\"y\",\"histfunc\":\"sum\",\"hovertemplate\":\"Local Purchasing Power Index=44.06<br>sum of Cost of Living Plus Rent Index=%{x}<br>City=%{y}<extra></extra>\",\"legendgroup\":\"44.06\",\"marker\":{\"color\":\"#19d3f3\",\"pattern\":{\"shape\":\"\"}},\"name\":\"44.06\",\"offsetgroup\":\"44.06\",\"orientation\":\"h\",\"showlegend\":true,\"x\":[24.9],\"xaxis\":\"x\",\"y\":[\"Iasi, Romania\"],\"yaxis\":\"y\",\"type\":\"histogram\"},{\"alignmentgroup\":\"True\",\"bingroup\":\"y\",\"histfunc\":\"sum\",\"hovertemplate\":\"Local Purchasing Power Index=30.67<br>sum of Cost of Living Plus Rent Index=%{x}<br>City=%{y}<extra></extra>\",\"legendgroup\":\"30.67\",\"marker\":{\"color\":\"#FF6692\",\"pattern\":{\"shape\":\"\"}},\"name\":\"30.67\",\"offsetgroup\":\"30.67\",\"orientation\":\"h\",\"showlegend\":true,\"x\":[25.3],\"xaxis\":\"x\",\"y\":[\"Hanoi, Vietnam\"],\"yaxis\":\"y\",\"type\":\"histogram\"},{\"alignmentgroup\":\"True\",\"bingroup\":\"y\",\"histfunc\":\"sum\",\"hovertemplate\":\"Local Purchasing Power Index=33.16<br>sum of Cost of Living Plus Rent Index=%{x}<br>City=%{y}<extra></extra>\",\"legendgroup\":\"33.16\",\"marker\":{\"color\":\"#B6E880\",\"pattern\":{\"shape\":\"\"}},\"name\":\"33.16\",\"offsetgroup\":\"33.16\",\"orientation\":\"h\",\"showlegend\":true,\"x\":[24.38],\"xaxis\":\"x\",\"y\":[\"Tangier, Morocco\"],\"yaxis\":\"y\",\"type\":\"histogram\"},{\"alignmentgroup\":\"True\",\"bingroup\":\"y\",\"histfunc\":\"sum\",\"hovertemplate\":\"Local Purchasing Power Index=43.54<br>sum of Cost of Living Plus Rent Index=%{x}<br>City=%{y}<extra></extra>\",\"legendgroup\":\"43.54\",\"marker\":{\"color\":\"#FF97FF\",\"pattern\":{\"shape\":\"\"}},\"name\":\"43.54\",\"offsetgroup\":\"43.54\",\"orientation\":\"h\",\"showlegend\":true,\"x\":[24.77],\"xaxis\":\"x\",\"y\":[\"Brasilia, Brazil\"],\"yaxis\":\"y\",\"type\":\"histogram\"},{\"alignmentgroup\":\"True\",\"bingroup\":\"y\",\"histfunc\":\"sum\",\"hovertemplate\":\"Local Purchasing Power Index=42.39<br>sum of Cost of Living Plus Rent Index=%{x}<br>City=%{y}<extra></extra>\",\"legendgroup\":\"42.39\",\"marker\":{\"color\":\"#FECB52\",\"pattern\":{\"shape\":\"\"}},\"name\":\"42.39\",\"offsetgroup\":\"42.39\",\"orientation\":\"h\",\"showlegend\":true,\"x\":[23.35],\"xaxis\":\"x\",\"y\":[\"Burgas, Bulgaria\"],\"yaxis\":\"y\",\"type\":\"histogram\"},{\"alignmentgroup\":\"True\",\"bingroup\":\"y\",\"histfunc\":\"sum\",\"hovertemplate\":\"Local Purchasing Power Index=18.71<br>sum of Cost of Living Plus Rent Index=%{x}<br>City=%{y}<extra></extra>\",\"legendgroup\":\"18.71\",\"marker\":{\"color\":\"#636efa\",\"pattern\":{\"shape\":\"\"}},\"name\":\"18.71\",\"offsetgroup\":\"18.71\",\"orientation\":\"h\",\"showlegend\":true,\"x\":[23.95],\"xaxis\":\"x\",\"y\":[\"Baguio, Philippines\"],\"yaxis\":\"y\",\"type\":\"histogram\"},{\"alignmentgroup\":\"True\",\"bingroup\":\"y\",\"histfunc\":\"sum\",\"hovertemplate\":\"Local Purchasing Power Index=18.93<br>sum of Cost of Living Plus Rent Index=%{x}<br>City=%{y}<extra></extra>\",\"legendgroup\":\"18.93\",\"marker\":{\"color\":\"#EF553B\",\"pattern\":{\"shape\":\"\"}},\"name\":\"18.93\",\"offsetgroup\":\"18.93\",\"orientation\":\"h\",\"showlegend\":true,\"x\":[24.88],\"xaxis\":\"x\",\"y\":[\"Rio de Janeiro, Brazil\"],\"yaxis\":\"y\",\"type\":\"histogram\"},{\"alignmentgroup\":\"True\",\"bingroup\":\"y\",\"histfunc\":\"sum\",\"hovertemplate\":\"Local Purchasing Power Index=44.65<br>sum of Cost of Living Plus Rent Index=%{x}<br>City=%{y}<extra></extra>\",\"legendgroup\":\"44.65\",\"marker\":{\"color\":\"#00cc96\",\"pattern\":{\"shape\":\"\"}},\"name\":\"44.65\",\"offsetgroup\":\"44.65\",\"orientation\":\"h\",\"showlegend\":true,\"x\":[25.17],\"xaxis\":\"x\",\"y\":[\"Brasov, Romania\"],\"yaxis\":\"y\",\"type\":\"histogram\"},{\"alignmentgroup\":\"True\",\"bingroup\":\"y\",\"histfunc\":\"sum\",\"hovertemplate\":\"Local Purchasing Power Index=34.07<br>sum of Cost of Living Plus Rent Index=%{x}<br>City=%{y}<extra></extra>\",\"legendgroup\":\"34.07\",\"marker\":{\"color\":\"#ab63fa\",\"pattern\":{\"shape\":\"\"}},\"name\":\"34.07\",\"offsetgroup\":\"34.07\",\"orientation\":\"h\",\"showlegend\":true,\"x\":[25.76],\"xaxis\":\"x\",\"y\":[\"Casablanca, Morocco\"],\"yaxis\":\"y\",\"type\":\"histogram\"},{\"alignmentgroup\":\"True\",\"bingroup\":\"y\",\"histfunc\":\"sum\",\"hovertemplate\":\"Local Purchasing Power Index=5.03<br>sum of Cost of Living Plus Rent Index=%{x}<br>City=%{y}<extra></extra>\",\"legendgroup\":\"5.03\",\"marker\":{\"color\":\"#FFA15A\",\"pattern\":{\"shape\":\"\"}},\"name\":\"5.03\",\"offsetgroup\":\"5.03\",\"orientation\":\"h\",\"showlegend\":true,\"x\":[23.53],\"xaxis\":\"x\",\"y\":[\"Damascus, Syria\"],\"yaxis\":\"y\",\"type\":\"histogram\"},{\"alignmentgroup\":\"True\",\"bingroup\":\"y\",\"histfunc\":\"sum\",\"hovertemplate\":\"Local Purchasing Power Index=48.27<br>sum of Cost of Living Plus Rent Index=%{x}<br>City=%{y}<extra></extra>\",\"legendgroup\":\"48.27\",\"marker\":{\"color\":\"#19d3f3\",\"pattern\":{\"shape\":\"\"}},\"name\":\"48.27\",\"offsetgroup\":\"48.27\",\"orientation\":\"h\",\"showlegend\":true,\"x\":[23.71],\"xaxis\":\"x\",\"y\":[\"Sibiu, Romania\"],\"yaxis\":\"y\",\"type\":\"histogram\"},{\"alignmentgroup\":\"True\",\"bingroup\":\"y\",\"histfunc\":\"sum\",\"hovertemplate\":\"Local Purchasing Power Index=54.26<br>sum of Cost of Living Plus Rent Index=%{x}<br>City=%{y}<extra></extra>\",\"legendgroup\":\"54.26\",\"marker\":{\"color\":\"#FF6692\",\"pattern\":{\"shape\":\"\"}},\"name\":\"54.26\",\"offsetgroup\":\"54.26\",\"orientation\":\"h\",\"showlegend\":true,\"x\":[24.47],\"xaxis\":\"x\",\"y\":[\"Timisoara, Romania\"],\"yaxis\":\"y\",\"type\":\"histogram\"},{\"alignmentgroup\":\"True\",\"bingroup\":\"y\",\"histfunc\":\"sum\",\"hovertemplate\":\"Local Purchasing Power Index=33.5<br>sum of Cost of Living Plus Rent Index=%{x}<br>City=%{y}<extra></extra>\",\"legendgroup\":\"33.5\",\"marker\":{\"color\":\"#B6E880\",\"pattern\":{\"shape\":\"\"}},\"name\":\"33.5\",\"offsetgroup\":\"33.5\",\"orientation\":\"h\",\"showlegend\":true,\"x\":[24.4],\"xaxis\":\"x\",\"y\":[\"Merida, Mexico\"],\"yaxis\":\"y\",\"type\":\"histogram\"},{\"alignmentgroup\":\"True\",\"bingroup\":\"y\",\"histfunc\":\"sum\",\"hovertemplate\":\"Local Purchasing Power Index=34.67<br>sum of Cost of Living Plus Rent Index=%{x}<br>City=%{y}<extra></extra>\",\"legendgroup\":\"34.67\",\"marker\":{\"color\":\"#FF97FF\",\"pattern\":{\"shape\":\"\"}},\"name\":\"34.67\",\"offsetgroup\":\"34.67\",\"orientation\":\"h\",\"showlegend\":true,\"x\":[25.68],\"xaxis\":\"x\",\"y\":[\"Rabat, Morocco\"],\"yaxis\":\"y\",\"type\":\"histogram\"},{\"alignmentgroup\":\"True\",\"bingroup\":\"y\",\"histfunc\":\"sum\",\"hovertemplate\":\"Local Purchasing Power Index=74.04<br>sum of Cost of Living Plus Rent Index=%{x}<br>City=%{y}<extra></extra>\",\"legendgroup\":\"74.04\",\"marker\":{\"color\":\"#FECB52\",\"pattern\":{\"shape\":\"\"}},\"name\":\"74.04\",\"offsetgroup\":\"74.04\",\"orientation\":\"h\",\"showlegend\":true,\"x\":[24.95],\"xaxis\":\"x\",\"y\":[\"Qingdao, Shandong, China\"],\"yaxis\":\"y\",\"type\":\"histogram\"},{\"alignmentgroup\":\"True\",\"bingroup\":\"y\",\"histfunc\":\"sum\",\"hovertemplate\":\"Local Purchasing Power Index=51.02<br>sum of Cost of Living Plus Rent Index=%{x}<br>City=%{y}<extra></extra>\",\"legendgroup\":\"51.02\",\"marker\":{\"color\":\"#636efa\",\"pattern\":{\"shape\":\"\"}},\"name\":\"51.02\",\"offsetgroup\":\"51.02\",\"orientation\":\"h\",\"showlegend\":true,\"x\":[24.11],\"xaxis\":\"x\",\"y\":[\"Queretaro, Mexico\"],\"yaxis\":\"y\",\"type\":\"histogram\"},{\"alignmentgroup\":\"True\",\"bingroup\":\"y\",\"histfunc\":\"sum\",\"hovertemplate\":\"Local Purchasing Power Index=21.84<br>sum of Cost of Living Plus Rent Index=%{x}<br>City=%{y}<extra></extra>\",\"legendgroup\":\"21.84\",\"marker\":{\"color\":\"#EF553B\",\"pattern\":{\"shape\":\"\"}},\"name\":\"21.84\",\"offsetgroup\":\"21.84\",\"orientation\":\"h\",\"showlegend\":true,\"x\":[22.18],\"xaxis\":\"x\",\"y\":[\"Bandung, Indonesia\"],\"yaxis\":\"y\",\"type\":\"histogram\"},{\"alignmentgroup\":\"True\",\"bingroup\":\"y\",\"histfunc\":\"sum\",\"hovertemplate\":\"Local Purchasing Power Index=49.45<br>sum of Cost of Living Plus Rent Index=%{x}<br>City=%{y}<extra></extra>\",\"legendgroup\":\"49.45\",\"marker\":{\"color\":\"#00cc96\",\"pattern\":{\"shape\":\"\"}},\"name\":\"49.45\",\"offsetgroup\":\"49.45\",\"orientation\":\"h\",\"showlegend\":true,\"x\":[22.49],\"xaxis\":\"x\",\"y\":[\"Oradea, Romania\"],\"yaxis\":\"y\",\"type\":\"histogram\"},{\"alignmentgroup\":\"True\",\"bingroup\":\"y\",\"histfunc\":\"sum\",\"hovertemplate\":\"Local Purchasing Power Index=26.89<br>sum of Cost of Living Plus Rent Index=%{x}<br>City=%{y}<extra></extra>\",\"legendgroup\":\"26.89\",\"marker\":{\"color\":\"#ab63fa\",\"pattern\":{\"shape\":\"\"}},\"name\":\"26.89\",\"offsetgroup\":\"26.89\",\"orientation\":\"h\",\"showlegend\":true,\"x\":[23.75],\"xaxis\":\"x\",\"y\":[\"Buenos Aires, Argentina\"],\"yaxis\":\"y\",\"type\":\"histogram\"},{\"alignmentgroup\":\"True\",\"bingroup\":\"y\",\"histfunc\":\"sum\",\"hovertemplate\":\"Local Purchasing Power Index=23.81<br>sum of Cost of Living Plus Rent Index=%{x}<br>City=%{y}<extra></extra>\",\"legendgroup\":\"23.81\",\"marker\":{\"color\":\"#FFA15A\",\"pattern\":{\"shape\":\"\"}},\"name\":\"23.81\",\"offsetgroup\":\"23.81\",\"orientation\":\"h\",\"showlegend\":true,\"x\":[21.57],\"xaxis\":\"x\",\"y\":[\"Dhaka, Bangladesh\"],\"yaxis\":\"y\",\"type\":\"histogram\"},{\"alignmentgroup\":\"True\",\"bingroup\":\"y\",\"histfunc\":\"sum\",\"hovertemplate\":\"Local Purchasing Power Index=37.02<br>sum of Cost of Living Plus Rent Index=%{x}<br>City=%{y}<extra></extra>\",\"legendgroup\":\"37.02\",\"marker\":{\"color\":\"#19d3f3\",\"pattern\":{\"shape\":\"\"}},\"name\":\"37.02\",\"offsetgroup\":\"37.02\",\"orientation\":\"h\",\"showlegend\":true,\"x\":[22.32],\"xaxis\":\"x\",\"y\":[\"Skopje, North Macedonia\"],\"yaxis\":\"y\",\"type\":\"histogram\"},{\"alignmentgroup\":\"True\",\"bingroup\":\"y\",\"histfunc\":\"sum\",\"hovertemplate\":\"Local Purchasing Power Index=25.02<br>sum of Cost of Living Plus Rent Index=%{x}<br>City=%{y}<extra></extra>\",\"legendgroup\":\"25.02\",\"marker\":{\"color\":\"#FF6692\",\"pattern\":{\"shape\":\"\"}},\"name\":\"25.02\",\"offsetgroup\":\"25.02\",\"orientation\":\"h\",\"showlegend\":true,\"x\":[23.73],\"xaxis\":\"x\",\"y\":[\"Ulaanbaatar, Mongolia\"],\"yaxis\":\"y\",\"type\":\"histogram\"},{\"alignmentgroup\":\"True\",\"bingroup\":\"y\",\"histfunc\":\"sum\",\"hovertemplate\":\"Local Purchasing Power Index=52.91<br>sum of Cost of Living Plus Rent Index=%{x}<br>City=%{y}<extra></extra>\",\"legendgroup\":\"52.91\",\"marker\":{\"color\":\"#B6E880\",\"pattern\":{\"shape\":\"\"}},\"name\":\"52.91\",\"offsetgroup\":\"52.91\",\"orientation\":\"h\",\"showlegend\":true,\"x\":[22.54],\"xaxis\":\"x\",\"y\":[\"Craiova, Romania\"],\"yaxis\":\"y\",\"type\":\"histogram\"},{\"alignmentgroup\":\"True\",\"bingroup\":\"y\",\"histfunc\":\"sum\",\"hovertemplate\":\"Local Purchasing Power Index=31.37<br>sum of Cost of Living Plus Rent Index=%{x}<br>City=%{y}<extra></extra>\",\"legendgroup\":\"31.37\",\"marker\":{\"color\":\"#FF97FF\",\"pattern\":{\"shape\":\"\"}},\"name\":\"31.37\",\"offsetgroup\":\"31.37\",\"orientation\":\"h\",\"showlegend\":true,\"x\":[21.84],\"xaxis\":\"x\",\"y\":[\"Agadir, Morocco\"],\"yaxis\":\"y\",\"type\":\"histogram\"},{\"alignmentgroup\":\"True\",\"bingroup\":\"y\",\"histfunc\":\"sum\",\"hovertemplate\":\"Local Purchasing Power Index=39.03<br>sum of Cost of Living Plus Rent Index=%{x}<br>City=%{y}<extra></extra>\",\"legendgroup\":\"39.03\",\"marker\":{\"color\":\"#FECB52\",\"pattern\":{\"shape\":\"\"}},\"name\":\"39.03\",\"offsetgroup\":\"39.03\",\"orientation\":\"h\",\"showlegend\":true,\"x\":[24.28],\"xaxis\":\"x\",\"y\":[\"Baghdad, Iraq\"],\"yaxis\":\"y\",\"type\":\"histogram\"},{\"alignmentgroup\":\"True\",\"bingroup\":\"y\",\"histfunc\":\"sum\",\"hovertemplate\":\"Local Purchasing Power Index=23.63<br>sum of Cost of Living Plus Rent Index=%{x}<br>City=%{y}<extra></extra>\",\"legendgroup\":\"23.63\",\"marker\":{\"color\":\"#636efa\",\"pattern\":{\"shape\":\"\"}},\"name\":\"23.63\",\"offsetgroup\":\"23.63\",\"orientation\":\"h\",\"showlegend\":true,\"x\":[23.24],\"xaxis\":\"x\",\"y\":[\"Surabaya, Indonesia\"],\"yaxis\":\"y\",\"type\":\"histogram\"},{\"alignmentgroup\":\"True\",\"bingroup\":\"y\",\"histfunc\":\"sum\",\"hovertemplate\":\"Local Purchasing Power Index=28.89<br>sum of Cost of Living Plus Rent Index=%{x}<br>City=%{y}<extra></extra>\",\"legendgroup\":\"28.89\",\"marker\":{\"color\":\"#EF553B\",\"pattern\":{\"shape\":\"\"}},\"name\":\"28.89\",\"offsetgroup\":\"28.89\",\"orientation\":\"h\",\"showlegend\":true,\"x\":[25.18],\"xaxis\":\"x\",\"y\":[\"Lima, Peru\"],\"yaxis\":\"y\",\"type\":\"histogram\"},{\"alignmentgroup\":\"True\",\"bingroup\":\"y\",\"histfunc\":\"sum\",\"hovertemplate\":\"Local Purchasing Power Index=50.96<br>sum of Cost of Living Plus Rent Index=%{x}<br>City=%{y}<extra></extra>\",\"legendgroup\":\"50.96\",\"marker\":{\"color\":\"#00cc96\",\"pattern\":{\"shape\":\"\"}},\"name\":\"50.96\",\"offsetgroup\":\"50.96\",\"orientation\":\"h\",\"showlegend\":true,\"x\":[21.27],\"xaxis\":\"x\",\"y\":[\"Arad, Romania\"],\"yaxis\":\"y\",\"type\":\"histogram\"},{\"alignmentgroup\":\"True\",\"bingroup\":\"y\",\"histfunc\":\"sum\",\"hovertemplate\":\"Local Purchasing Power Index=29.31<br>sum of Cost of Living Plus Rent Index=%{x}<br>City=%{y}<extra></extra>\",\"legendgroup\":\"29.31\",\"marker\":{\"color\":\"#ab63fa\",\"pattern\":{\"shape\":\"\"}},\"name\":\"29.31\",\"offsetgroup\":\"29.31\",\"orientation\":\"h\",\"showlegend\":true,\"x\":[22.81],\"xaxis\":\"x\",\"y\":[\"Florianopolis, Brazil\"],\"yaxis\":\"y\",\"type\":\"histogram\"},{\"alignmentgroup\":\"True\",\"bingroup\":\"y\",\"histfunc\":\"sum\",\"hovertemplate\":\"Local Purchasing Power Index=30.84<br>sum of Cost of Living Plus Rent Index=%{x}<br>City=%{y}<extra></extra>\",\"legendgroup\":\"30.84\",\"marker\":{\"color\":\"#FFA15A\",\"pattern\":{\"shape\":\"\"}},\"name\":\"30.84\",\"offsetgroup\":\"30.84\",\"orientation\":\"h\",\"showlegend\":true,\"x\":[23.82],\"xaxis\":\"x\",\"y\":[\"Cuenca, Ecuador\"],\"yaxis\":\"y\",\"type\":\"histogram\"},{\"alignmentgroup\":\"True\",\"bingroup\":\"y\",\"histfunc\":\"sum\",\"hovertemplate\":\"Local Purchasing Power Index=48.16<br>sum of Cost of Living Plus Rent Index=%{x}<br>City=%{y}<extra></extra>\",\"legendgroup\":\"48.16\",\"marker\":{\"color\":\"#19d3f3\",\"pattern\":{\"shape\":\"\"}},\"name\":\"48.16\",\"offsetgroup\":\"48.16\",\"orientation\":\"h\",\"showlegend\":true,\"x\":[26.58],\"xaxis\":\"x\",\"y\":[\"Kiev (Kyiv), Ukraine\"],\"yaxis\":\"y\",\"type\":\"histogram\"},{\"alignmentgroup\":\"True\",\"bingroup\":\"y\",\"histfunc\":\"sum\",\"hovertemplate\":\"Local Purchasing Power Index=74.9<br>sum of Cost of Living Plus Rent Index=%{x}<br>City=%{y}<extra></extra>\",\"legendgroup\":\"74.9\",\"marker\":{\"color\":\"#FF6692\",\"pattern\":{\"shape\":\"\"}},\"name\":\"74.9\",\"offsetgroup\":\"74.9\",\"orientation\":\"h\",\"showlegend\":true,\"x\":[22.71],\"xaxis\":\"x\",\"y\":[\"Gurgaon, India\"],\"yaxis\":\"y\",\"type\":\"histogram\"},{\"alignmentgroup\":\"True\",\"bingroup\":\"y\",\"histfunc\":\"sum\",\"hovertemplate\":\"Local Purchasing Power Index=35.99<br>sum of Cost of Living Plus Rent Index=%{x}<br>City=%{y}<extra></extra>\",\"legendgroup\":\"35.99\",\"marker\":{\"color\":\"#B6E880\",\"pattern\":{\"shape\":\"\"}},\"name\":\"35.99\",\"offsetgroup\":\"35.99\",\"orientation\":\"h\",\"showlegend\":true,\"x\":[25.96],\"xaxis\":\"x\",\"y\":[\"Guadalajara, Mexico\"],\"yaxis\":\"y\",\"type\":\"histogram\"},{\"alignmentgroup\":\"True\",\"bingroup\":\"y\",\"histfunc\":\"sum\",\"hovertemplate\":\"Local Purchasing Power Index=33.45<br>sum of Cost of Living Plus Rent Index=%{x}<br>City=%{y}<extra></extra>\",\"legendgroup\":\"33.45\",\"marker\":{\"color\":\"#FF97FF\",\"pattern\":{\"shape\":\"\"}},\"name\":\"33.45\",\"offsetgroup\":\"33.45\",\"orientation\":\"h\",\"showlegend\":true,\"x\":[24.12],\"xaxis\":\"x\",\"y\":[\"Kazan, Russia\"],\"yaxis\":\"y\",\"type\":\"histogram\"},{\"alignmentgroup\":\"True\",\"bingroup\":\"y\",\"histfunc\":\"sum\",\"hovertemplate\":\"Local Purchasing Power Index=29.73<br>sum of Cost of Living Plus Rent Index=%{x}<br>City=%{y}<extra></extra>\",\"legendgroup\":\"29.73\",\"marker\":{\"color\":\"#FECB52\",\"pattern\":{\"shape\":\"\"}},\"name\":\"29.73\",\"offsetgroup\":\"29.73\",\"orientation\":\"h\",\"showlegend\":true,\"x\":[23.64],\"xaxis\":\"x\",\"y\":[\"Yerevan, Armenia\"],\"yaxis\":\"y\",\"type\":\"histogram\"},{\"alignmentgroup\":\"True\",\"bingroup\":\"y\",\"histfunc\":\"sum\",\"hovertemplate\":\"Local Purchasing Power Index=13.54<br>sum of Cost of Living Plus Rent Index=%{x}<br>City=%{y}<extra></extra>\",\"legendgroup\":\"13.54\",\"marker\":{\"color\":\"#636efa\",\"pattern\":{\"shape\":\"\"}},\"name\":\"13.54\",\"offsetgroup\":\"13.54\",\"orientation\":\"h\",\"showlegend\":true,\"x\":[25.82],\"xaxis\":\"x\",\"y\":[\"Dar es Salaam, Tanzania\"],\"yaxis\":\"y\",\"type\":\"histogram\"},{\"alignmentgroup\":\"True\",\"bingroup\":\"y\",\"histfunc\":\"sum\",\"hovertemplate\":\"Local Purchasing Power Index=34.95<br>sum of Cost of Living Plus Rent Index=%{x}<br>City=%{y}<extra></extra>\",\"legendgroup\":\"34.95\",\"marker\":{\"color\":\"#EF553B\",\"pattern\":{\"shape\":\"\"}},\"name\":\"34.95\",\"offsetgroup\":\"34.95\",\"orientation\":\"h\",\"showlegend\":true,\"x\":[22.65],\"xaxis\":\"x\",\"y\":[\"Nizhny Novgorod, Russia\"],\"yaxis\":\"y\",\"type\":\"histogram\"},{\"alignmentgroup\":\"True\",\"bingroup\":\"y\",\"histfunc\":\"sum\",\"hovertemplate\":\"Local Purchasing Power Index=18.58<br>sum of Cost of Living Plus Rent Index=%{x}<br>City=%{y}<extra></extra>\",\"legendgroup\":\"18.58\",\"marker\":{\"color\":\"#00cc96\",\"pattern\":{\"shape\":\"\"}},\"name\":\"18.58\",\"offsetgroup\":\"18.58\",\"orientation\":\"h\",\"showlegend\":true,\"x\":[24.36],\"xaxis\":\"x\",\"y\":[\"Colombo, Sri Lanka\"],\"yaxis\":\"y\",\"type\":\"histogram\"},{\"alignmentgroup\":\"True\",\"bingroup\":\"y\",\"histfunc\":\"sum\",\"hovertemplate\":\"Local Purchasing Power Index=37.48<br>sum of Cost of Living Plus Rent Index=%{x}<br>City=%{y}<extra></extra>\",\"legendgroup\":\"37.48\",\"marker\":{\"color\":\"#ab63fa\",\"pattern\":{\"shape\":\"\"}},\"name\":\"37.48\",\"offsetgroup\":\"37.48\",\"orientation\":\"h\",\"showlegend\":true,\"x\":[22.6],\"xaxis\":\"x\",\"y\":[\"Lusaka, Zambia\"],\"yaxis\":\"y\",\"type\":\"histogram\"},{\"alignmentgroup\":\"True\",\"bingroup\":\"y\",\"histfunc\":\"sum\",\"hovertemplate\":\"Local Purchasing Power Index=40.38<br>sum of Cost of Living Plus Rent Index=%{x}<br>City=%{y}<extra></extra>\",\"legendgroup\":\"40.38\",\"marker\":{\"color\":\"#FFA15A\",\"pattern\":{\"shape\":\"\"}},\"name\":\"40.38\",\"offsetgroup\":\"40.38\",\"orientation\":\"h\",\"showlegend\":true,\"x\":[21.15],\"xaxis\":\"x\",\"y\":[\"Nis, Serbia\"],\"yaxis\":\"y\",\"type\":\"histogram\"},{\"alignmentgroup\":\"True\",\"bingroup\":\"y\",\"histfunc\":\"sum\",\"hovertemplate\":\"Local Purchasing Power Index=57.77<br>sum of Cost of Living Plus Rent Index=%{x}<br>City=%{y}<extra></extra>\",\"legendgroup\":\"57.77\",\"marker\":{\"color\":\"#19d3f3\",\"pattern\":{\"shape\":\"\"}},\"name\":\"57.77\",\"offsetgroup\":\"57.77\",\"orientation\":\"h\",\"showlegend\":true,\"x\":[22.77],\"xaxis\":\"x\",\"y\":[\"Yekaterinburg, Russia\"],\"yaxis\":\"y\",\"type\":\"histogram\"},{\"alignmentgroup\":\"True\",\"bingroup\":\"y\",\"histfunc\":\"sum\",\"hovertemplate\":\"Local Purchasing Power Index=36.59<br>sum of Cost of Living Plus Rent Index=%{x}<br>City=%{y}<extra></extra>\",\"legendgroup\":\"36.59\",\"marker\":{\"color\":\"#FF6692\",\"pattern\":{\"shape\":\"\"}},\"name\":\"36.59\",\"offsetgroup\":\"36.59\",\"orientation\":\"h\",\"showlegend\":true,\"x\":[21.94],\"xaxis\":\"x\",\"y\":[\"Krasnodar, Russia\"],\"yaxis\":\"y\",\"type\":\"histogram\"},{\"alignmentgroup\":\"True\",\"bingroup\":\"y\",\"histfunc\":\"sum\",\"hovertemplate\":\"Local Purchasing Power Index=22.68<br>sum of Cost of Living Plus Rent Index=%{x}<br>City=%{y}<extra></extra>\",\"legendgroup\":\"22.68\",\"marker\":{\"color\":\"#B6E880\",\"pattern\":{\"shape\":\"\"}},\"name\":\"22.68\",\"offsetgroup\":\"22.68\",\"orientation\":\"h\",\"showlegend\":true,\"x\":[26.05],\"xaxis\":\"x\",\"y\":[\"Mashhad, Iran\"],\"yaxis\":\"y\",\"type\":\"histogram\"},{\"alignmentgroup\":\"True\",\"bingroup\":\"y\",\"histfunc\":\"sum\",\"hovertemplate\":\"Local Purchasing Power Index=20.99<br>sum of Cost of Living Plus Rent Index=%{x}<br>City=%{y}<extra></extra>\",\"legendgroup\":\"20.99\",\"marker\":{\"color\":\"#FF97FF\",\"pattern\":{\"shape\":\"\"}},\"name\":\"20.99\",\"offsetgroup\":\"20.99\",\"orientation\":\"h\",\"showlegend\":true,\"x\":[20.97],\"xaxis\":\"x\",\"y\":[\"Belo Horizonte, Brazil\"],\"yaxis\":\"y\",\"type\":\"histogram\"},{\"alignmentgroup\":\"True\",\"bingroup\":\"y\",\"histfunc\":\"sum\",\"hovertemplate\":\"Local Purchasing Power Index=24.38<br>sum of Cost of Living Plus Rent Index=%{x}<br>City=%{y}<extra></extra>\",\"legendgroup\":\"24.38\",\"marker\":{\"color\":\"#FECB52\",\"pattern\":{\"shape\":\"\"}},\"name\":\"24.38\",\"offsetgroup\":\"24.38\",\"orientation\":\"h\",\"showlegend\":true,\"x\":[20.68],\"xaxis\":\"x\",\"y\":[\"Cairo, Egypt\"],\"yaxis\":\"y\",\"type\":\"histogram\"},{\"alignmentgroup\":\"True\",\"bingroup\":\"y\",\"histfunc\":\"sum\",\"hovertemplate\":\"Local Purchasing Power Index=31.24<br>sum of Cost of Living Plus Rent Index=%{x}<br>City=%{y}<extra></extra>\",\"legendgroup\":\"31.24\",\"marker\":{\"color\":\"#636efa\",\"pattern\":{\"shape\":\"\"}},\"name\":\"31.24\",\"offsetgroup\":\"31.24\",\"orientation\":\"h\",\"showlegend\":true,\"x\":[21.34],\"xaxis\":\"x\",\"y\":[\"Porto Alegre, Brazil\"],\"yaxis\":\"y\",\"type\":\"histogram\"},{\"alignmentgroup\":\"True\",\"bingroup\":\"y\",\"histfunc\":\"sum\",\"hovertemplate\":\"Local Purchasing Power Index=26.37<br>sum of Cost of Living Plus Rent Index=%{x}<br>City=%{y}<extra></extra>\",\"legendgroup\":\"26.37\",\"marker\":{\"color\":\"#EF553B\",\"pattern\":{\"shape\":\"\"}},\"name\":\"26.37\",\"offsetgroup\":\"26.37\",\"orientation\":\"h\",\"showlegend\":true,\"x\":[24.66],\"xaxis\":\"x\",\"y\":[\"Kigali, Rwanda\"],\"yaxis\":\"y\",\"type\":\"histogram\"},{\"alignmentgroup\":\"True\",\"bingroup\":\"y\",\"histfunc\":\"sum\",\"hovertemplate\":\"Local Purchasing Power Index=38.35<br>sum of Cost of Living Plus Rent Index=%{x}<br>City=%{y}<extra></extra>\",\"legendgroup\":\"38.35\",\"marker\":{\"color\":\"#00cc96\",\"pattern\":{\"shape\":\"\"}},\"name\":\"38.35\",\"offsetgroup\":\"38.35\",\"orientation\":\"h\",\"showlegend\":true,\"x\":[21.81],\"xaxis\":\"x\",\"y\":[\"Novosibirsk, Russia\"],\"yaxis\":\"y\",\"type\":\"histogram\"},{\"alignmentgroup\":\"True\",\"bingroup\":\"y\",\"histfunc\":\"sum\",\"hovertemplate\":\"Local Purchasing Power Index=36.94<br>sum of Cost of Living Plus Rent Index=%{x}<br>City=%{y}<extra></extra>\",\"legendgroup\":\"36.94\",\"marker\":{\"color\":\"#ab63fa\",\"pattern\":{\"shape\":\"\"}},\"name\":\"36.94\",\"offsetgroup\":\"36.94\",\"orientation\":\"h\",\"showlegend\":true,\"x\":[21.13],\"xaxis\":\"x\",\"y\":[\"Rostov-na-donu, Russia\"],\"yaxis\":\"y\",\"type\":\"histogram\"},{\"alignmentgroup\":\"True\",\"bingroup\":\"y\",\"histfunc\":\"sum\",\"hovertemplate\":\"Local Purchasing Power Index=32.72<br>sum of Cost of Living Plus Rent Index=%{x}<br>City=%{y}<extra></extra>\",\"legendgroup\":\"32.72\",\"marker\":{\"color\":\"#FFA15A\",\"pattern\":{\"shape\":\"\"}},\"name\":\"32.72\",\"offsetgroup\":\"32.72\",\"orientation\":\"h\",\"showlegend\":true,\"x\":[22.01],\"xaxis\":\"x\",\"y\":[\"Odessa (Odesa), Ukraine\"],\"yaxis\":\"y\",\"type\":\"histogram\"},{\"alignmentgroup\":\"True\",\"bingroup\":\"y\",\"histfunc\":\"sum\",\"hovertemplate\":\"Local Purchasing Power Index=34.38<br>sum of Cost of Living Plus Rent Index=%{x}<br>City=%{y}<extra></extra>\",\"legendgroup\":\"34.38\",\"marker\":{\"color\":\"#19d3f3\",\"pattern\":{\"shape\":\"\"}},\"name\":\"34.38\",\"offsetgroup\":\"34.38\",\"orientation\":\"h\",\"showlegend\":true,\"x\":[21.78],\"xaxis\":\"x\",\"y\":[\"Chisinau, Moldova\"],\"yaxis\":\"y\",\"type\":\"histogram\"},{\"alignmentgroup\":\"True\",\"bingroup\":\"y\",\"histfunc\":\"sum\",\"hovertemplate\":\"Local Purchasing Power Index=32.28<br>sum of Cost of Living Plus Rent Index=%{x}<br>City=%{y}<extra></extra>\",\"legendgroup\":\"32.28\",\"marker\":{\"color\":\"#FF6692\",\"pattern\":{\"shape\":\"\"}},\"name\":\"32.28\",\"offsetgroup\":\"32.28\",\"orientation\":\"h\",\"showlegend\":true,\"x\":[20.47],\"xaxis\":\"x\",\"y\":[\"Curitiba, Brazil\"],\"yaxis\":\"y\",\"type\":\"histogram\"},{\"alignmentgroup\":\"True\",\"bingroup\":\"y\",\"histfunc\":\"sum\",\"hovertemplate\":\"Local Purchasing Power Index=28.03<br>sum of Cost of Living Plus Rent Index=%{x}<br>City=%{y}<extra></extra>\",\"legendgroup\":\"28.03\",\"marker\":{\"color\":\"#B6E880\",\"pattern\":{\"shape\":\"\"}},\"name\":\"28.03\",\"offsetgroup\":\"28.03\",\"orientation\":\"h\",\"showlegend\":true,\"x\":[21.23],\"xaxis\":\"x\",\"y\":[\"Baku, Azerbaijan\"],\"yaxis\":\"y\",\"type\":\"histogram\"},{\"alignmentgroup\":\"True\",\"bingroup\":\"y\",\"histfunc\":\"sum\",\"hovertemplate\":\"Local Purchasing Power Index=14.55<br>sum of Cost of Living Plus Rent Index=%{x}<br>City=%{y}<extra></extra>\",\"legendgroup\":\"14.55\",\"marker\":{\"color\":\"#FF97FF\",\"pattern\":{\"shape\":\"\"}},\"name\":\"14.55\",\"offsetgroup\":\"14.55\",\"orientation\":\"h\",\"showlegend\":true,\"x\":[27.41],\"xaxis\":\"x\",\"y\":[\"Tehran, Iran\"],\"yaxis\":\"y\",\"type\":\"histogram\"},{\"alignmentgroup\":\"True\",\"bingroup\":\"y\",\"histfunc\":\"sum\",\"hovertemplate\":\"Local Purchasing Power Index=28.73<br>sum of Cost of Living Plus Rent Index=%{x}<br>City=%{y}<extra></extra>\",\"legendgroup\":\"28.73\",\"marker\":{\"color\":\"#FECB52\",\"pattern\":{\"shape\":\"\"}},\"name\":\"28.73\",\"offsetgroup\":\"28.73\",\"orientation\":\"h\",\"showlegend\":true,\"x\":[21.22],\"xaxis\":\"x\",\"y\":[\"Istanbul, Turkey\"],\"yaxis\":\"y\",\"type\":\"histogram\"},{\"alignmentgroup\":\"True\",\"bingroup\":\"y\",\"histfunc\":\"sum\",\"hovertemplate\":\"Local Purchasing Power Index=29.47<br>sum of Cost of Living Plus Rent Index=%{x}<br>City=%{y}<extra></extra>\",\"legendgroup\":\"29.47\",\"marker\":{\"color\":\"#636efa\",\"pattern\":{\"shape\":\"\"}},\"name\":\"29.47\",\"offsetgroup\":\"29.47\",\"orientation\":\"h\",\"showlegend\":true,\"x\":[21.25],\"xaxis\":\"x\",\"y\":[\"Tbilisi, Georgia\"],\"yaxis\":\"y\",\"type\":\"histogram\"},{\"alignmentgroup\":\"True\",\"bingroup\":\"y\",\"histfunc\":\"sum\",\"hovertemplate\":\"Local Purchasing Power Index=12.16<br>sum of Cost of Living Plus Rent Index=%{x}<br>City=%{y}<extra></extra>\",\"legendgroup\":\"12.16\",\"marker\":{\"color\":\"#EF553B\",\"pattern\":{\"shape\":\"\"}},\"name\":\"12.16\",\"offsetgroup\":\"12.16\",\"orientation\":\"h\",\"showlegend\":true,\"x\":[20.94],\"xaxis\":\"x\",\"y\":[\"Yogyakarta, Indonesia\"],\"yaxis\":\"y\",\"type\":\"histogram\"},{\"alignmentgroup\":\"True\",\"bingroup\":\"y\",\"histfunc\":\"sum\",\"hovertemplate\":\"Local Purchasing Power Index=27.38<br>sum of Cost of Living Plus Rent Index=%{x}<br>City=%{y}<extra></extra>\",\"legendgroup\":\"27.38\",\"marker\":{\"color\":\"#00cc96\",\"pattern\":{\"shape\":\"\"}},\"name\":\"27.38\",\"offsetgroup\":\"27.38\",\"orientation\":\"h\",\"showlegend\":true,\"x\":[21.1],\"xaxis\":\"x\",\"y\":[\"Asuncion, Paraguay\"],\"yaxis\":\"y\",\"type\":\"histogram\"},{\"alignmentgroup\":\"True\",\"bingroup\":\"y\",\"histfunc\":\"sum\",\"hovertemplate\":\"Local Purchasing Power Index=33.98<br>sum of Cost of Living Plus Rent Index=%{x}<br>City=%{y}<extra></extra>\",\"legendgroup\":\"33.98\",\"marker\":{\"color\":\"#ab63fa\",\"pattern\":{\"shape\":\"\"}},\"name\":\"33.98\",\"offsetgroup\":\"33.98\",\"orientation\":\"h\",\"showlegend\":true,\"x\":[21.62],\"xaxis\":\"x\",\"y\":[\"Kharkiv, Ukraine\"],\"yaxis\":\"y\",\"type\":\"histogram\"},{\"alignmentgroup\":\"True\",\"bingroup\":\"y\",\"histfunc\":\"sum\",\"hovertemplate\":\"Local Purchasing Power Index=41.0<br>sum of Cost of Living Plus Rent Index=%{x}<br>City=%{y}<extra></extra>\",\"legendgroup\":\"41.0\",\"marker\":{\"color\":\"#FFA15A\",\"pattern\":{\"shape\":\"\"}},\"name\":\"41.0\",\"offsetgroup\":\"41.0\",\"orientation\":\"h\",\"showlegend\":true,\"x\":[20.81],\"xaxis\":\"x\",\"y\":[\"Astana (Nur-Sultan), Kazakhstan\"],\"yaxis\":\"y\",\"type\":\"histogram\"},{\"alignmentgroup\":\"True\",\"bingroup\":\"y\",\"histfunc\":\"sum\",\"hovertemplate\":\"Local Purchasing Power Index=33.55<br>sum of Cost of Living Plus Rent Index=%{x}<br>City=%{y}<extra></extra>\",\"legendgroup\":\"33.55\",\"marker\":{\"color\":\"#19d3f3\",\"pattern\":{\"shape\":\"\"}},\"name\":\"33.55\",\"offsetgroup\":\"33.55\",\"orientation\":\"h\",\"showlegend\":true,\"x\":[21.65],\"xaxis\":\"x\",\"y\":[\"Almaty, Kazakhstan\"],\"yaxis\":\"y\",\"type\":\"histogram\"},{\"alignmentgroup\":\"True\",\"bingroup\":\"y\",\"histfunc\":\"sum\",\"hovertemplate\":\"Local Purchasing Power Index=24.2<br>sum of Cost of Living Plus Rent Index=%{x}<br>City=%{y}<extra></extra>\",\"legendgroup\":\"24.2\",\"marker\":{\"color\":\"#FF6692\",\"pattern\":{\"shape\":\"\"}},\"name\":\"24.2\",\"offsetgroup\":\"24.2\",\"orientation\":\"h\",\"showlegend\":true,\"x\":[18.93],\"xaxis\":\"x\",\"y\":[\"Tunis, Tunisia\"],\"yaxis\":\"y\",\"type\":\"histogram\"},{\"alignmentgroup\":\"True\",\"bingroup\":\"y\",\"histfunc\":\"sum\",\"hovertemplate\":\"Local Purchasing Power Index=23.16<br>sum of Cost of Living Plus Rent Index=%{x}<br>City=%{y}<extra></extra>\",\"legendgroup\":\"23.16\",\"marker\":{\"color\":\"#B6E880\",\"pattern\":{\"shape\":\"\"}},\"name\":\"23.16\",\"offsetgroup\":\"23.16\",\"orientation\":\"h\",\"showlegend\":true,\"x\":[18.11],\"xaxis\":\"x\",\"y\":[\"Kathmandu, Nepal\"],\"yaxis\":\"y\",\"type\":\"histogram\"},{\"alignmentgroup\":\"True\",\"bingroup\":\"y\",\"histfunc\":\"sum\",\"hovertemplate\":\"Local Purchasing Power Index=21.78<br>sum of Cost of Living Plus Rent Index=%{x}<br>City=%{y}<extra></extra>\",\"legendgroup\":\"21.78\",\"marker\":{\"color\":\"#FF97FF\",\"pattern\":{\"shape\":\"\"}},\"name\":\"21.78\",\"offsetgroup\":\"21.78\",\"orientation\":\"h\",\"showlegend\":true,\"x\":[18.98],\"xaxis\":\"x\",\"y\":[\"Algiers, Algeria\"],\"yaxis\":\"y\",\"type\":\"histogram\"},{\"alignmentgroup\":\"True\",\"bingroup\":\"y\",\"histfunc\":\"sum\",\"hovertemplate\":\"Local Purchasing Power Index=38.3<br>sum of Cost of Living Plus Rent Index=%{x}<br>City=%{y}<extra></extra>\",\"legendgroup\":\"38.3\",\"marker\":{\"color\":\"#FECB52\",\"pattern\":{\"shape\":\"\"}},\"name\":\"38.3\",\"offsetgroup\":\"38.3\",\"orientation\":\"h\",\"showlegend\":true,\"x\":[20.7],\"xaxis\":\"x\",\"y\":[\"Lviv, Ukraine\"],\"yaxis\":\"y\",\"type\":\"histogram\"},{\"alignmentgroup\":\"True\",\"bingroup\":\"y\",\"histfunc\":\"sum\",\"hovertemplate\":\"Local Purchasing Power Index=22.63<br>sum of Cost of Living Plus Rent Index=%{x}<br>City=%{y}<extra></extra>\",\"legendgroup\":\"22.63\",\"marker\":{\"color\":\"#636efa\",\"pattern\":{\"shape\":\"\"}},\"name\":\"22.63\",\"offsetgroup\":\"22.63\",\"orientation\":\"h\",\"showlegend\":true,\"x\":[20.59],\"xaxis\":\"x\",\"y\":[\"Tashkent, Uzbekistan\"],\"yaxis\":\"y\",\"type\":\"histogram\"},{\"alignmentgroup\":\"True\",\"bingroup\":\"y\",\"histfunc\":\"sum\",\"hovertemplate\":\"Local Purchasing Power Index=48.03<br>sum of Cost of Living Plus Rent Index=%{x}<br>City=%{y}<extra></extra>\",\"legendgroup\":\"48.03\",\"marker\":{\"color\":\"#EF553B\",\"pattern\":{\"shape\":\"\"}},\"name\":\"48.03\",\"offsetgroup\":\"48.03\",\"orientation\":\"h\",\"showlegend\":true,\"x\":[24.82],\"xaxis\":\"x\",\"y\":[\"Mumbai, India\"],\"yaxis\":\"y\",\"type\":\"histogram\"},{\"alignmentgroup\":\"True\",\"bingroup\":\"y\",\"histfunc\":\"sum\",\"hovertemplate\":\"Local Purchasing Power Index=32.74<br>sum of Cost of Living Plus Rent Index=%{x}<br>City=%{y}<extra></extra>\",\"legendgroup\":\"32.74\",\"marker\":{\"color\":\"#00cc96\",\"pattern\":{\"shape\":\"\"}},\"name\":\"32.74\",\"offsetgroup\":\"32.74\",\"orientation\":\"h\",\"showlegend\":true,\"x\":[20.46],\"xaxis\":\"x\",\"y\":[\"Dnipro, Ukraine\"],\"yaxis\":\"y\",\"type\":\"histogram\"},{\"alignmentgroup\":\"True\",\"bingroup\":\"y\",\"histfunc\":\"sum\",\"hovertemplate\":\"Local Purchasing Power Index=62.57<br>sum of Cost of Living Plus Rent Index=%{x}<br>City=%{y}<extra></extra>\",\"legendgroup\":\"62.57\",\"marker\":{\"color\":\"#ab63fa\",\"pattern\":{\"shape\":\"\"}},\"name\":\"62.57\",\"offsetgroup\":\"62.57\",\"orientation\":\"h\",\"showlegend\":true,\"x\":[18.5],\"xaxis\":\"x\",\"y\":[\"Noida, India\"],\"yaxis\":\"y\",\"type\":\"histogram\"},{\"alignmentgroup\":\"True\",\"bingroup\":\"y\",\"histfunc\":\"sum\",\"hovertemplate\":\"Local Purchasing Power Index=32.78<br>sum of Cost of Living Plus Rent Index=%{x}<br>City=%{y}<extra></extra>\",\"legendgroup\":\"32.78\",\"marker\":{\"color\":\"#FFA15A\",\"pattern\":{\"shape\":\"\"}},\"name\":\"32.78\",\"offsetgroup\":\"32.78\",\"orientation\":\"h\",\"showlegend\":true,\"x\":[19.74],\"xaxis\":\"x\",\"y\":[\"Medellin, Colombia\"],\"yaxis\":\"y\",\"type\":\"histogram\"},{\"alignmentgroup\":\"True\",\"bingroup\":\"y\",\"histfunc\":\"sum\",\"hovertemplate\":\"Local Purchasing Power Index=20.28<br>sum of Cost of Living Plus Rent Index=%{x}<br>City=%{y}<extra></extra>\",\"legendgroup\":\"20.28\",\"marker\":{\"color\":\"#19d3f3\",\"pattern\":{\"shape\":\"\"}},\"name\":\"20.28\",\"offsetgroup\":\"20.28\",\"orientation\":\"h\",\"showlegend\":true,\"x\":[18.22],\"xaxis\":\"x\",\"y\":[\"Alexandria, Egypt\"],\"yaxis\":\"y\",\"type\":\"histogram\"},{\"alignmentgroup\":\"True\",\"bingroup\":\"y\",\"histfunc\":\"sum\",\"hovertemplate\":\"Local Purchasing Power Index=27.03<br>sum of Cost of Living Plus Rent Index=%{x}<br>City=%{y}<extra></extra>\",\"legendgroup\":\"27.03\",\"marker\":{\"color\":\"#FF6692\",\"pattern\":{\"shape\":\"\"}},\"name\":\"27.03\",\"offsetgroup\":\"27.03\",\"orientation\":\"h\",\"showlegend\":true,\"x\":[18.74],\"xaxis\":\"x\",\"y\":[\"Barranquilla, Colombia\"],\"yaxis\":\"y\",\"type\":\"histogram\"},{\"alignmentgroup\":\"True\",\"bingroup\":\"y\",\"histfunc\":\"sum\",\"hovertemplate\":\"Local Purchasing Power Index=78.67<br>sum of Cost of Living Plus Rent Index=%{x}<br>City=%{y}<extra></extra>\",\"legendgroup\":\"78.67\",\"marker\":{\"color\":\"#B6E880\",\"pattern\":{\"shape\":\"\"}},\"name\":\"78.67\",\"offsetgroup\":\"78.67\",\"orientation\":\"h\",\"showlegend\":true,\"x\":[20.19],\"xaxis\":\"x\",\"y\":[\"Navi Mumbai, India\"],\"yaxis\":\"y\",\"type\":\"histogram\"},{\"alignmentgroup\":\"True\",\"bingroup\":\"y\",\"histfunc\":\"sum\",\"hovertemplate\":\"Local Purchasing Power Index=35.18<br>sum of Cost of Living Plus Rent Index=%{x}<br>City=%{y}<extra></extra>\",\"legendgroup\":\"35.18\",\"marker\":{\"color\":\"#FF97FF\",\"pattern\":{\"shape\":\"\"}},\"name\":\"35.18\",\"offsetgroup\":\"35.18\",\"orientation\":\"h\",\"showlegend\":true,\"x\":[18.06],\"xaxis\":\"x\",\"y\":[\"Izmir, Turkey\"],\"yaxis\":\"y\",\"type\":\"histogram\"},{\"alignmentgroup\":\"True\",\"bingroup\":\"y\",\"histfunc\":\"sum\",\"hovertemplate\":\"Local Purchasing Power Index=60.44<br>sum of Cost of Living Plus Rent Index=%{x}<br>City=%{y}<extra></extra>\",\"legendgroup\":\"60.44\",\"marker\":{\"color\":\"#FECB52\",\"pattern\":{\"shape\":\"\"}},\"name\":\"60.44\",\"offsetgroup\":\"60.44\",\"orientation\":\"h\",\"showlegend\":true,\"x\":[18.96],\"xaxis\":\"x\",\"y\":[\"Delhi, India\"],\"yaxis\":\"y\",\"type\":\"histogram\"},{\"alignmentgroup\":\"True\",\"bingroup\":\"y\",\"histfunc\":\"sum\",\"hovertemplate\":\"Local Purchasing Power Index=102.64<br>sum of Cost of Living Plus Rent Index=%{x}<br>City=%{y}<extra></extra>\",\"legendgroup\":\"102.64\",\"marker\":{\"color\":\"#636efa\",\"pattern\":{\"shape\":\"\"}},\"name\":\"102.64\",\"offsetgroup\":\"102.64\",\"orientation\":\"h\",\"showlegend\":true,\"x\":[19.01],\"xaxis\":\"x\",\"y\":[\"Bangalore, India\"],\"yaxis\":\"y\",\"type\":\"histogram\"},{\"alignmentgroup\":\"True\",\"bingroup\":\"y\",\"histfunc\":\"sum\",\"hovertemplate\":\"Local Purchasing Power Index=26.1<br>sum of Cost of Living Plus Rent Index=%{x}<br>City=%{y}<extra></extra>\",\"legendgroup\":\"26.1\",\"marker\":{\"color\":\"#EF553B\",\"pattern\":{\"shape\":\"\"}},\"name\":\"26.1\",\"offsetgroup\":\"26.1\",\"orientation\":\"h\",\"showlegend\":true,\"x\":[20.29],\"xaxis\":\"x\",\"y\":[\"Bogota, Colombia\"],\"yaxis\":\"y\",\"type\":\"histogram\"},{\"alignmentgroup\":\"True\",\"bingroup\":\"y\",\"histfunc\":\"sum\",\"hovertemplate\":\"Local Purchasing Power Index=36.29<br>sum of Cost of Living Plus Rent Index=%{x}<br>City=%{y}<extra></extra>\",\"legendgroup\":\"36.29\",\"marker\":{\"color\":\"#00cc96\",\"pattern\":{\"shape\":\"\"}},\"name\":\"36.29\",\"offsetgroup\":\"36.29\",\"orientation\":\"h\",\"showlegend\":true,\"x\":[18.7],\"xaxis\":\"x\",\"y\":[\"Goa, India\"],\"yaxis\":\"y\",\"type\":\"histogram\"},{\"alignmentgroup\":\"True\",\"bingroup\":\"y\",\"histfunc\":\"sum\",\"hovertemplate\":\"Local Purchasing Power Index=53.68<br>sum of Cost of Living Plus Rent Index=%{x}<br>City=%{y}<extra></extra>\",\"legendgroup\":\"53.68\",\"marker\":{\"color\":\"#ab63fa\",\"pattern\":{\"shape\":\"\"}},\"name\":\"53.68\",\"offsetgroup\":\"53.68\",\"orientation\":\"h\",\"showlegend\":true,\"x\":[17.98],\"xaxis\":\"x\",\"y\":[\"Pune, India\"],\"yaxis\":\"y\",\"type\":\"histogram\"},{\"alignmentgroup\":\"True\",\"bingroup\":\"y\",\"histfunc\":\"sum\",\"hovertemplate\":\"Local Purchasing Power Index=54.56<br>sum of Cost of Living Plus Rent Index=%{x}<br>City=%{y}<extra></extra>\",\"legendgroup\":\"54.56\",\"marker\":{\"color\":\"#FFA15A\",\"pattern\":{\"shape\":\"\"}},\"name\":\"54.56\",\"offsetgroup\":\"54.56\",\"orientation\":\"h\",\"showlegend\":true,\"x\":[17.1],\"xaxis\":\"x\",\"y\":[\"Ghaziabad, India\"],\"yaxis\":\"y\",\"type\":\"histogram\"},{\"alignmentgroup\":\"True\",\"bingroup\":\"y\",\"histfunc\":\"sum\",\"hovertemplate\":\"Local Purchasing Power Index=66.14<br>sum of Cost of Living Plus Rent Index=%{x}<br>City=%{y}<extra></extra>\",\"legendgroup\":\"66.14\",\"marker\":{\"color\":\"#19d3f3\",\"pattern\":{\"shape\":\"\"}},\"name\":\"66.14\",\"offsetgroup\":\"66.14\",\"orientation\":\"h\",\"showlegend\":true,\"x\":[18.5],\"xaxis\":\"x\",\"y\":[\"Thane, India\"],\"yaxis\":\"y\",\"type\":\"histogram\"},{\"alignmentgroup\":\"True\",\"bingroup\":\"y\",\"histfunc\":\"sum\",\"hovertemplate\":\"Local Purchasing Power Index=38.61<br>sum of Cost of Living Plus Rent Index=%{x}<br>City=%{y}<extra></extra>\",\"legendgroup\":\"38.61\",\"marker\":{\"color\":\"#FF6692\",\"pattern\":{\"shape\":\"\"}},\"name\":\"38.61\",\"offsetgroup\":\"38.61\",\"orientation\":\"h\",\"showlegend\":true,\"x\":[16.48],\"xaxis\":\"x\",\"y\":[\"Ranchi, India\"],\"yaxis\":\"y\",\"type\":\"histogram\"},{\"alignmentgroup\":\"True\",\"bingroup\":\"y\",\"histfunc\":\"sum\",\"hovertemplate\":\"Local Purchasing Power Index=39.07<br>sum of Cost of Living Plus Rent Index=%{x}<br>City=%{y}<extra></extra>\",\"legendgroup\":\"39.07\",\"marker\":{\"color\":\"#B6E880\",\"pattern\":{\"shape\":\"\"}},\"name\":\"39.07\",\"offsetgroup\":\"39.07\",\"orientation\":\"h\",\"showlegend\":true,\"x\":[17.39],\"xaxis\":\"x\",\"y\":[\"Ankara, Turkey\"],\"yaxis\":\"y\",\"type\":\"histogram\"},{\"alignmentgroup\":\"True\",\"bingroup\":\"y\",\"histfunc\":\"sum\",\"hovertemplate\":\"Local Purchasing Power Index=51.21<br>sum of Cost of Living Plus Rent Index=%{x}<br>City=%{y}<extra></extra>\",\"legendgroup\":\"51.21\",\"marker\":{\"color\":\"#FF97FF\",\"pattern\":{\"shape\":\"\"}},\"name\":\"51.21\",\"offsetgroup\":\"51.21\",\"orientation\":\"h\",\"showlegend\":true,\"x\":[17.17],\"xaxis\":\"x\",\"y\":[\"Hyderabad, India\"],\"yaxis\":\"y\",\"type\":\"histogram\"},{\"alignmentgroup\":\"True\",\"bingroup\":\"y\",\"histfunc\":\"sum\",\"hovertemplate\":\"Local Purchasing Power Index=51.07<br>sum of Cost of Living Plus Rent Index=%{x}<br>City=%{y}<extra></extra>\",\"legendgroup\":\"51.07\",\"marker\":{\"color\":\"#FECB52\",\"pattern\":{\"shape\":\"\"}},\"name\":\"51.07\",\"offsetgroup\":\"51.07\",\"orientation\":\"h\",\"showlegend\":true,\"x\":[16.64],\"xaxis\":\"x\",\"y\":[\"Faridabad, India\"],\"yaxis\":\"y\",\"type\":\"histogram\"},{\"alignmentgroup\":\"True\",\"bingroup\":\"y\",\"histfunc\":\"sum\",\"hovertemplate\":\"Local Purchasing Power Index=23.06<br>sum of Cost of Living Plus Rent Index=%{x}<br>City=%{y}<extra></extra>\",\"legendgroup\":\"23.06\",\"marker\":{\"color\":\"#636efa\",\"pattern\":{\"shape\":\"\"}},\"name\":\"23.06\",\"offsetgroup\":\"23.06\",\"orientation\":\"h\",\"showlegend\":true,\"x\":[18.02],\"xaxis\":\"x\",\"y\":[\"Bishkek, Kyrgyzstan\"],\"yaxis\":\"y\",\"type\":\"histogram\"},{\"alignmentgroup\":\"True\",\"bingroup\":\"y\",\"histfunc\":\"sum\",\"hovertemplate\":\"Local Purchasing Power Index=47.48<br>sum of Cost of Living Plus Rent Index=%{x}<br>City=%{y}<extra></extra>\",\"legendgroup\":\"47.48\",\"marker\":{\"color\":\"#EF553B\",\"pattern\":{\"shape\":\"\"}},\"name\":\"47.48\",\"offsetgroup\":\"47.48\",\"orientation\":\"h\",\"showlegend\":true,\"x\":[18.13],\"xaxis\":\"x\",\"y\":[\"Pristina, Kosovo (Disputed Territory)\"],\"yaxis\":\"y\",\"type\":\"histogram\"},{\"alignmentgroup\":\"True\",\"bingroup\":\"y\",\"histfunc\":\"sum\",\"hovertemplate\":\"Local Purchasing Power Index=46.31<br>sum of Cost of Living Plus Rent Index=%{x}<br>City=%{y}<extra></extra>\",\"legendgroup\":\"46.31\",\"marker\":{\"color\":\"#00cc96\",\"pattern\":{\"shape\":\"\"}},\"name\":\"46.31\",\"offsetgroup\":\"46.31\",\"orientation\":\"h\",\"showlegend\":true,\"x\":[17.02],\"xaxis\":\"x\",\"y\":[\"Chennai, India\"],\"yaxis\":\"y\",\"type\":\"histogram\"},{\"alignmentgroup\":\"True\",\"bingroup\":\"y\",\"histfunc\":\"sum\",\"hovertemplate\":\"Local Purchasing Power Index=39.11<br>sum of Cost of Living Plus Rent Index=%{x}<br>City=%{y}<extra></extra>\",\"legendgroup\":\"39.11\",\"marker\":{\"color\":\"#ab63fa\",\"pattern\":{\"shape\":\"\"}},\"name\":\"39.11\",\"offsetgroup\":\"39.11\",\"orientation\":\"h\",\"showlegend\":true,\"x\":[16.59],\"xaxis\":\"x\",\"y\":[\"Ahmedabad, India\"],\"yaxis\":\"y\",\"type\":\"histogram\"},{\"alignmentgroup\":\"True\",\"bingroup\":\"y\",\"histfunc\":\"sum\",\"hovertemplate\":\"Local Purchasing Power Index=44.66<br>sum of Cost of Living Plus Rent Index=%{x}<br>City=%{y}<extra></extra>\",\"legendgroup\":\"44.66\",\"marker\":{\"color\":\"#FFA15A\",\"pattern\":{\"shape\":\"\"}},\"name\":\"44.66\",\"offsetgroup\":\"44.66\",\"orientation\":\"h\",\"showlegend\":true,\"x\":[16.42],\"xaxis\":\"x\",\"y\":[\"Kolkata, India\"],\"yaxis\":\"y\",\"type\":\"histogram\"},{\"alignmentgroup\":\"True\",\"bingroup\":\"y\",\"histfunc\":\"sum\",\"hovertemplate\":\"Local Purchasing Power Index=31.08<br>sum of Cost of Living Plus Rent Index=%{x}<br>City=%{y}<extra></extra>\",\"legendgroup\":\"31.08\",\"marker\":{\"color\":\"#19d3f3\",\"pattern\":{\"shape\":\"\"}},\"name\":\"31.08\",\"offsetgroup\":\"31.08\",\"orientation\":\"h\",\"showlegend\":true,\"x\":[16.98],\"xaxis\":\"x\",\"y\":[\"Cali, Colombia\"],\"yaxis\":\"y\",\"type\":\"histogram\"},{\"alignmentgroup\":\"True\",\"bingroup\":\"y\",\"histfunc\":\"sum\",\"hovertemplate\":\"Local Purchasing Power Index=39.6<br>sum of Cost of Living Plus Rent Index=%{x}<br>City=%{y}<extra></extra>\",\"legendgroup\":\"39.6\",\"marker\":{\"color\":\"#FF6692\",\"pattern\":{\"shape\":\"\"}},\"name\":\"39.6\",\"offsetgroup\":\"39.6\",\"orientation\":\"h\",\"showlegend\":true,\"x\":[15.59],\"xaxis\":\"x\",\"y\":[\"Guwahati, India\"],\"yaxis\":\"y\",\"type\":\"histogram\"},{\"alignmentgroup\":\"True\",\"bingroup\":\"y\",\"histfunc\":\"sum\",\"hovertemplate\":\"Local Purchasing Power Index=48.19<br>sum of Cost of Living Plus Rent Index=%{x}<br>City=%{y}<extra></extra>\",\"legendgroup\":\"48.19\",\"marker\":{\"color\":\"#B6E880\",\"pattern\":{\"shape\":\"\"}},\"name\":\"48.19\",\"offsetgroup\":\"48.19\",\"orientation\":\"h\",\"showlegend\":true,\"x\":[15.84],\"xaxis\":\"x\",\"y\":[\"Lucknow (Lakhnau), India\"],\"yaxis\":\"y\",\"type\":\"histogram\"},{\"alignmentgroup\":\"True\",\"bingroup\":\"y\",\"histfunc\":\"sum\",\"hovertemplate\":\"Local Purchasing Power Index=32.82<br>sum of Cost of Living Plus Rent Index=%{x}<br>City=%{y}<extra></extra>\",\"legendgroup\":\"32.82\",\"marker\":{\"color\":\"#FF97FF\",\"pattern\":{\"shape\":\"\"}},\"name\":\"32.82\",\"offsetgroup\":\"32.82\",\"orientation\":\"h\",\"showlegend\":true,\"x\":[15.26],\"xaxis\":\"x\",\"y\":[\"Madurai, India\"],\"yaxis\":\"y\",\"type\":\"histogram\"},{\"alignmentgroup\":\"True\",\"bingroup\":\"y\",\"histfunc\":\"sum\",\"hovertemplate\":\"Local Purchasing Power Index=41.98<br>sum of Cost of Living Plus Rent Index=%{x}<br>City=%{y}<extra></extra>\",\"legendgroup\":\"41.98\",\"marker\":{\"color\":\"#FECB52\",\"pattern\":{\"shape\":\"\"}},\"name\":\"41.98\",\"offsetgroup\":\"41.98\",\"orientation\":\"h\",\"showlegend\":true,\"x\":[16.8],\"xaxis\":\"x\",\"y\":[\"Surat, India\"],\"yaxis\":\"y\",\"type\":\"histogram\"},{\"alignmentgroup\":\"True\",\"bingroup\":\"y\",\"histfunc\":\"sum\",\"hovertemplate\":\"Local Purchasing Power Index=46.1<br>sum of Cost of Living Plus Rent Index=%{x}<br>City=%{y}<extra></extra>\",\"legendgroup\":\"46.1\",\"marker\":{\"color\":\"#636efa\",\"pattern\":{\"shape\":\"\"}},\"name\":\"46.1\",\"offsetgroup\":\"46.1\",\"orientation\":\"h\",\"showlegend\":true,\"x\":[15.55],\"xaxis\":\"x\",\"y\":[\"Vadodara, India\"],\"yaxis\":\"y\",\"type\":\"histogram\"},{\"alignmentgroup\":\"True\",\"bingroup\":\"y\",\"histfunc\":\"sum\",\"hovertemplate\":\"Local Purchasing Power Index=37.17<br>sum of Cost of Living Plus Rent Index=%{x}<br>City=%{y}<extra></extra>\",\"legendgroup\":\"37.17\",\"marker\":{\"color\":\"#EF553B\",\"pattern\":{\"shape\":\"\"}},\"name\":\"37.17\",\"offsetgroup\":\"37.17\",\"orientation\":\"h\",\"showlegend\":true,\"x\":[15.75],\"xaxis\":\"x\",\"y\":[\"Vijayawada, India\"],\"yaxis\":\"y\",\"type\":\"histogram\"},{\"alignmentgroup\":\"True\",\"bingroup\":\"y\",\"histfunc\":\"sum\",\"hovertemplate\":\"Local Purchasing Power Index=35.75<br>sum of Cost of Living Plus Rent Index=%{x}<br>City=%{y}<extra></extra>\",\"legendgroup\":\"35.75\",\"marker\":{\"color\":\"#00cc96\",\"pattern\":{\"shape\":\"\"}},\"name\":\"35.75\",\"offsetgroup\":\"35.75\",\"orientation\":\"h\",\"showlegend\":true,\"x\":[14.97],\"xaxis\":\"x\",\"y\":[\"Ludhiana, India\"],\"yaxis\":\"y\",\"type\":\"histogram\"},{\"alignmentgroup\":\"True\",\"bingroup\":\"y\",\"histfunc\":\"sum\",\"hovertemplate\":\"Local Purchasing Power Index=128.47<br>sum of Cost of Living Plus Rent Index=%{x}<br>City=%{y}<extra></extra>\",\"legendgroup\":\"128.47\",\"marker\":{\"color\":\"#ab63fa\",\"pattern\":{\"shape\":\"\"}},\"name\":\"128.47\",\"offsetgroup\":\"128.47\",\"orientation\":\"h\",\"showlegend\":true,\"x\":[16.45],\"xaxis\":\"x\",\"y\":[\"Cyberjaya, Selangor, Malaysia\"],\"yaxis\":\"y\",\"type\":\"histogram\"},{\"alignmentgroup\":\"True\",\"bingroup\":\"y\",\"histfunc\":\"sum\",\"hovertemplate\":\"Local Purchasing Power Index=63.17<br>sum of Cost of Living Plus Rent Index=%{x}<br>City=%{y}<extra></extra>\",\"legendgroup\":\"63.17\",\"marker\":{\"color\":\"#FFA15A\",\"pattern\":{\"shape\":\"\"}},\"name\":\"63.17\",\"offsetgroup\":\"63.17\",\"orientation\":\"h\",\"showlegend\":true,\"x\":[15.26],\"xaxis\":\"x\",\"y\":[\"Raipur, India\"],\"yaxis\":\"y\",\"type\":\"histogram\"},{\"alignmentgroup\":\"True\",\"bingroup\":\"y\",\"histfunc\":\"sum\",\"hovertemplate\":\"Local Purchasing Power Index=40.36<br>sum of Cost of Living Plus Rent Index=%{x}<br>City=%{y}<extra></extra>\",\"legendgroup\":\"40.36\",\"marker\":{\"color\":\"#19d3f3\",\"pattern\":{\"shape\":\"\"}},\"name\":\"40.36\",\"offsetgroup\":\"40.36\",\"orientation\":\"h\",\"showlegend\":true,\"x\":[15.51],\"xaxis\":\"x\",\"y\":[\"Dehradun, India\"],\"yaxis\":\"y\",\"type\":\"histogram\"},{\"alignmentgroup\":\"True\",\"bingroup\":\"y\",\"histfunc\":\"sum\",\"hovertemplate\":\"Local Purchasing Power Index=35.31<br>sum of Cost of Living Plus Rent Index=%{x}<br>City=%{y}<extra></extra>\",\"legendgroup\":\"35.31\",\"marker\":{\"color\":\"#FF6692\",\"pattern\":{\"shape\":\"\"}},\"name\":\"35.31\",\"offsetgroup\":\"35.31\",\"orientation\":\"h\",\"showlegend\":true,\"x\":[15.29],\"xaxis\":\"x\",\"y\":[\"Nashik, India\"],\"yaxis\":\"y\",\"type\":\"histogram\"},{\"alignmentgroup\":\"True\",\"bingroup\":\"y\",\"histfunc\":\"sum\",\"hovertemplate\":\"Local Purchasing Power Index=40.0<br>sum of Cost of Living Plus Rent Index=%{x}<br>City=%{y}<extra></extra>\",\"legendgroup\":\"40.0\",\"marker\":{\"color\":\"#B6E880\",\"pattern\":{\"shape\":\"\"}},\"name\":\"40.0\",\"offsetgroup\":\"40.0\",\"orientation\":\"h\",\"showlegend\":true,\"x\":[15.17],\"xaxis\":\"x\",\"y\":[\"Indore, India\"],\"yaxis\":\"y\",\"type\":\"histogram\"},{\"alignmentgroup\":\"True\",\"bingroup\":\"y\",\"histfunc\":\"sum\",\"hovertemplate\":\"Local Purchasing Power Index=44.8<br>sum of Cost of Living Plus Rent Index=%{x}<br>City=%{y}<extra></extra>\",\"legendgroup\":\"44.8\",\"marker\":{\"color\":\"#FF97FF\",\"pattern\":{\"shape\":\"\"}},\"name\":\"44.8\",\"offsetgroup\":\"44.8\",\"orientation\":\"h\",\"showlegend\":true,\"x\":[15.09],\"xaxis\":\"x\",\"y\":[\"Rajkot, India\"],\"yaxis\":\"y\",\"type\":\"histogram\"},{\"alignmentgroup\":\"True\",\"bingroup\":\"y\",\"histfunc\":\"sum\",\"hovertemplate\":\"Local Purchasing Power Index=46.52<br>sum of Cost of Living Plus Rent Index=%{x}<br>City=%{y}<extra></extra>\",\"legendgroup\":\"46.52\",\"marker\":{\"color\":\"#FECB52\",\"pattern\":{\"shape\":\"\"}},\"name\":\"46.52\",\"offsetgroup\":\"46.52\",\"orientation\":\"h\",\"showlegend\":true,\"x\":[15.5],\"xaxis\":\"x\",\"y\":[\"Ernakulam, India\"],\"yaxis\":\"y\",\"type\":\"histogram\"},{\"alignmentgroup\":\"True\",\"bingroup\":\"y\",\"histfunc\":\"sum\",\"hovertemplate\":\"Local Purchasing Power Index=42.7<br>sum of Cost of Living Plus Rent Index=%{x}<br>City=%{y}<extra></extra>\",\"legendgroup\":\"42.7\",\"marker\":{\"color\":\"#636efa\",\"pattern\":{\"shape\":\"\"}},\"name\":\"42.7\",\"offsetgroup\":\"42.7\",\"orientation\":\"h\",\"showlegend\":true,\"x\":[15.3],\"xaxis\":\"x\",\"y\":[\"Visakhapatnam, India\"],\"yaxis\":\"y\",\"type\":\"histogram\"},{\"alignmentgroup\":\"True\",\"bingroup\":\"y\",\"histfunc\":\"sum\",\"hovertemplate\":\"Local Purchasing Power Index=51.5<br>sum of Cost of Living Plus Rent Index=%{x}<br>City=%{y}<extra></extra>\",\"legendgroup\":\"51.5\",\"marker\":{\"color\":\"#EF553B\",\"pattern\":{\"shape\":\"\"}},\"name\":\"51.5\",\"offsetgroup\":\"51.5\",\"orientation\":\"h\",\"showlegend\":true,\"x\":[15.1],\"xaxis\":\"x\",\"y\":[\"Jaipur, India\"],\"yaxis\":\"y\",\"type\":\"histogram\"},{\"alignmentgroup\":\"True\",\"bingroup\":\"y\",\"histfunc\":\"sum\",\"hovertemplate\":\"Local Purchasing Power Index=36.78<br>sum of Cost of Living Plus Rent Index=%{x}<br>City=%{y}<extra></extra>\",\"legendgroup\":\"36.78\",\"marker\":{\"color\":\"#00cc96\",\"pattern\":{\"shape\":\"\"}},\"name\":\"36.78\",\"offsetgroup\":\"36.78\",\"orientation\":\"h\",\"showlegend\":true,\"x\":[14.35],\"xaxis\":\"x\",\"y\":[\"Patna, India\"],\"yaxis\":\"y\",\"type\":\"histogram\"},{\"alignmentgroup\":\"True\",\"bingroup\":\"y\",\"histfunc\":\"sum\",\"hovertemplate\":\"Local Purchasing Power Index=47.91<br>sum of Cost of Living Plus Rent Index=%{x}<br>City=%{y}<extra></extra>\",\"legendgroup\":\"47.91\",\"marker\":{\"color\":\"#ab63fa\",\"pattern\":{\"shape\":\"\"}},\"name\":\"47.91\",\"offsetgroup\":\"47.91\",\"orientation\":\"h\",\"showlegend\":true,\"x\":[14.75],\"xaxis\":\"x\",\"y\":[\"Mangalore, India\"],\"yaxis\":\"y\",\"type\":\"histogram\"},{\"alignmentgroup\":\"True\",\"bingroup\":\"y\",\"histfunc\":\"sum\",\"hovertemplate\":\"Local Purchasing Power Index=30.42<br>sum of Cost of Living Plus Rent Index=%{x}<br>City=%{y}<extra></extra>\",\"legendgroup\":\"30.42\",\"marker\":{\"color\":\"#FFA15A\",\"pattern\":{\"shape\":\"\"}},\"name\":\"30.42\",\"offsetgroup\":\"30.42\",\"orientation\":\"h\",\"showlegend\":true,\"x\":[15.37],\"xaxis\":\"x\",\"y\":[\"Bucaramanga, Colombia\"],\"yaxis\":\"y\",\"type\":\"histogram\"},{\"alignmentgroup\":\"True\",\"bingroup\":\"y\",\"histfunc\":\"sum\",\"hovertemplate\":\"Local Purchasing Power Index=40.73<br>sum of Cost of Living Plus Rent Index=%{x}<br>City=%{y}<extra></extra>\",\"legendgroup\":\"40.73\",\"marker\":{\"color\":\"#19d3f3\",\"pattern\":{\"shape\":\"\"}},\"name\":\"40.73\",\"offsetgroup\":\"40.73\",\"orientation\":\"h\",\"showlegend\":true,\"x\":[14.73],\"xaxis\":\"x\",\"y\":[\"Coimbatore, India\"],\"yaxis\":\"y\",\"type\":\"histogram\"},{\"alignmentgroup\":\"True\",\"bingroup\":\"y\",\"histfunc\":\"sum\",\"hovertemplate\":\"Local Purchasing Power Index=45.78<br>sum of Cost of Living Plus Rent Index=%{x}<br>City=%{y}<extra></extra>\",\"legendgroup\":\"45.78\",\"marker\":{\"color\":\"#FF6692\",\"pattern\":{\"shape\":\"\"}},\"name\":\"45.78\",\"offsetgroup\":\"45.78\",\"orientation\":\"h\",\"showlegend\":true,\"x\":[14.08],\"xaxis\":\"x\",\"y\":[\"Bhopal, India\"],\"yaxis\":\"y\",\"type\":\"histogram\"},{\"alignmentgroup\":\"True\",\"bingroup\":\"y\",\"histfunc\":\"sum\",\"hovertemplate\":\"Local Purchasing Power Index=54.15<br>sum of Cost of Living Plus Rent Index=%{x}<br>City=%{y}<extra></extra>\",\"legendgroup\":\"54.15\",\"marker\":{\"color\":\"#B6E880\",\"pattern\":{\"shape\":\"\"}},\"name\":\"54.15\",\"offsetgroup\":\"54.15\",\"orientation\":\"h\",\"showlegend\":true,\"x\":[14.49],\"xaxis\":\"x\",\"y\":[\"Bhubaneswar, India\"],\"yaxis\":\"y\",\"type\":\"histogram\"},{\"alignmentgroup\":\"True\",\"bingroup\":\"y\",\"histfunc\":\"sum\",\"hovertemplate\":\"Local Purchasing Power Index=46.46<br>sum of Cost of Living Plus Rent Index=%{x}<br>City=%{y}<extra></extra>\",\"legendgroup\":\"46.46\",\"marker\":{\"color\":\"#FF97FF\",\"pattern\":{\"shape\":\"\"}},\"name\":\"46.46\",\"offsetgroup\":\"46.46\",\"orientation\":\"h\",\"showlegend\":true,\"x\":[14.61],\"xaxis\":\"x\",\"y\":[\"Mysore, India\"],\"yaxis\":\"y\",\"type\":\"histogram\"},{\"alignmentgroup\":\"True\",\"bingroup\":\"y\",\"histfunc\":\"sum\",\"hovertemplate\":\"Local Purchasing Power Index=59.47<br>sum of Cost of Living Plus Rent Index=%{x}<br>City=%{y}<extra></extra>\",\"legendgroup\":\"59.47\",\"marker\":{\"color\":\"#FECB52\",\"pattern\":{\"shape\":\"\"}},\"name\":\"59.47\",\"offsetgroup\":\"59.47\",\"orientation\":\"h\",\"showlegend\":true,\"x\":[15.12],\"xaxis\":\"x\",\"y\":[\"Kochi, India\"],\"yaxis\":\"y\",\"type\":\"histogram\"},{\"alignmentgroup\":\"True\",\"bingroup\":\"y\",\"histfunc\":\"sum\",\"hovertemplate\":\"Local Purchasing Power Index=27.91<br>sum of Cost of Living Plus Rent Index=%{x}<br>City=%{y}<extra></extra>\",\"legendgroup\":\"27.91\",\"marker\":{\"color\":\"#636efa\",\"pattern\":{\"shape\":\"\"}},\"name\":\"27.91\",\"offsetgroup\":\"27.91\",\"orientation\":\"h\",\"showlegend\":true,\"x\":[13.51],\"xaxis\":\"x\",\"y\":[\"Agra, India\"],\"yaxis\":\"y\",\"type\":\"histogram\"},{\"alignmentgroup\":\"True\",\"bingroup\":\"y\",\"histfunc\":\"sum\",\"hovertemplate\":\"Local Purchasing Power Index=58.35<br>sum of Cost of Living Plus Rent Index=%{x}<br>City=%{y}<extra></extra>\",\"legendgroup\":\"58.35\",\"marker\":{\"color\":\"#EF553B\",\"pattern\":{\"shape\":\"\"}},\"name\":\"58.35\",\"offsetgroup\":\"58.35\",\"orientation\":\"h\",\"showlegend\":true,\"x\":[13.08],\"xaxis\":\"x\",\"y\":[\"Jammu, India\"],\"yaxis\":\"y\",\"type\":\"histogram\"},{\"alignmentgroup\":\"True\",\"bingroup\":\"y\",\"histfunc\":\"sum\",\"hovertemplate\":\"Local Purchasing Power Index=73.73<br>sum of Cost of Living Plus Rent Index=%{x}<br>City=%{y}<extra></extra>\",\"legendgroup\":\"73.73\",\"marker\":{\"color\":\"#00cc96\",\"pattern\":{\"shape\":\"\"}},\"name\":\"73.73\",\"offsetgroup\":\"73.73\",\"orientation\":\"h\",\"showlegend\":true,\"x\":[13.64],\"xaxis\":\"x\",\"y\":[\"Thiruvananthapuram, India\"],\"yaxis\":\"y\",\"type\":\"histogram\"},{\"alignmentgroup\":\"True\",\"bingroup\":\"y\",\"histfunc\":\"sum\",\"hovertemplate\":\"Local Purchasing Power Index=50.02<br>sum of Cost of Living Plus Rent Index=%{x}<br>City=%{y}<extra></extra>\",\"legendgroup\":\"50.02\",\"marker\":{\"color\":\"#ab63fa\",\"pattern\":{\"shape\":\"\"}},\"name\":\"50.02\",\"offsetgroup\":\"50.02\",\"orientation\":\"h\",\"showlegend\":true,\"x\":[13.57],\"xaxis\":\"x\",\"y\":[\"Kozhikode (Calicut), India\"],\"yaxis\":\"y\",\"type\":\"histogram\"},{\"alignmentgroup\":\"True\",\"bingroup\":\"y\",\"histfunc\":\"sum\",\"hovertemplate\":\"Local Purchasing Power Index=24.42<br>sum of Cost of Living Plus Rent Index=%{x}<br>City=%{y}<extra></extra>\",\"legendgroup\":\"24.42\",\"marker\":{\"color\":\"#FFA15A\",\"pattern\":{\"shape\":\"\"}},\"name\":\"24.42\",\"offsetgroup\":\"24.42\",\"orientation\":\"h\",\"showlegend\":true,\"x\":[13.33],\"xaxis\":\"x\",\"y\":[\"Lahore, Pakistan\"],\"yaxis\":\"y\",\"type\":\"histogram\"},{\"alignmentgroup\":\"True\",\"bingroup\":\"y\",\"histfunc\":\"sum\",\"hovertemplate\":\"Local Purchasing Power Index=29.52<br>sum of Cost of Living Plus Rent Index=%{x}<br>City=%{y}<extra></extra>\",\"legendgroup\":\"29.52\",\"marker\":{\"color\":\"#19d3f3\",\"pattern\":{\"shape\":\"\"}},\"name\":\"29.52\",\"offsetgroup\":\"29.52\",\"orientation\":\"h\",\"showlegend\":true,\"x\":[14.13],\"xaxis\":\"x\",\"y\":[\"Islamabad, Pakistan\"],\"yaxis\":\"y\",\"type\":\"histogram\"},{\"alignmentgroup\":\"True\",\"bingroup\":\"y\",\"histfunc\":\"sum\",\"hovertemplate\":\"Local Purchasing Power Index=22.79<br>sum of Cost of Living Plus Rent Index=%{x}<br>City=%{y}<extra></extra>\",\"legendgroup\":\"22.79\",\"marker\":{\"color\":\"#FF6692\",\"pattern\":{\"shape\":\"\"}},\"name\":\"22.79\",\"offsetgroup\":\"22.79\",\"orientation\":\"h\",\"showlegend\":true,\"x\":[12.83],\"xaxis\":\"x\",\"y\":[\"Kabul, Afghanistan\"],\"yaxis\":\"y\",\"type\":\"histogram\"},{\"alignmentgroup\":\"True\",\"bingroup\":\"y\",\"histfunc\":\"sum\",\"hovertemplate\":\"Local Purchasing Power Index=54.43<br>sum of Cost of Living Plus Rent Index=%{x}<br>City=%{y}<extra></extra>\",\"legendgroup\":\"54.43\",\"marker\":{\"color\":\"#B6E880\",\"pattern\":{\"shape\":\"\"}},\"name\":\"54.43\",\"offsetgroup\":\"54.43\",\"orientation\":\"h\",\"showlegend\":true,\"x\":[13.13],\"xaxis\":\"x\",\"y\":[\"Thrissur, India\"],\"yaxis\":\"y\",\"type\":\"histogram\"},{\"alignmentgroup\":\"True\",\"bingroup\":\"y\",\"histfunc\":\"sum\",\"hovertemplate\":\"Local Purchasing Power Index=38.83<br>sum of Cost of Living Plus Rent Index=%{x}<br>City=%{y}<extra></extra>\",\"legendgroup\":\"38.83\",\"marker\":{\"color\":\"#FF97FF\",\"pattern\":{\"shape\":\"\"}},\"name\":\"38.83\",\"offsetgroup\":\"38.83\",\"orientation\":\"h\",\"showlegend\":true,\"x\":[12.73],\"xaxis\":\"x\",\"y\":[\"Kanpur, India\"],\"yaxis\":\"y\",\"type\":\"histogram\"},{\"alignmentgroup\":\"True\",\"bingroup\":\"y\",\"histfunc\":\"sum\",\"hovertemplate\":\"Local Purchasing Power Index=29.16<br>sum of Cost of Living Plus Rent Index=%{x}<br>City=%{y}<extra></extra>\",\"legendgroup\":\"29.16\",\"marker\":{\"color\":\"#FECB52\",\"pattern\":{\"shape\":\"\"}},\"name\":\"29.16\",\"offsetgroup\":\"29.16\",\"orientation\":\"h\",\"showlegend\":true,\"x\":[13.29],\"xaxis\":\"x\",\"y\":[\"Karachi, Pakistan\"],\"yaxis\":\"y\",\"type\":\"histogram\"},{\"alignmentgroup\":\"True\",\"bingroup\":\"y\",\"histfunc\":\"sum\",\"hovertemplate\":\"Local Purchasing Power Index=22.91<br>sum of Cost of Living Plus Rent Index=%{x}<br>City=%{y}<extra></extra>\",\"legendgroup\":\"22.91\",\"marker\":{\"color\":\"#636efa\",\"pattern\":{\"shape\":\"\"}},\"name\":\"22.91\",\"offsetgroup\":\"22.91\",\"orientation\":\"h\",\"showlegend\":true,\"x\":[13.14],\"xaxis\":\"x\",\"y\":[\"Rawalpindi, Pakistan\"],\"yaxis\":\"y\",\"type\":\"histogram\"},{\"alignmentgroup\":\"True\",\"bingroup\":\"y\",\"histfunc\":\"sum\",\"hovertemplate\":\"Local Purchasing Power Index=25.09<br>sum of Cost of Living Plus Rent Index=%{x}<br>City=%{y}<extra></extra>\",\"legendgroup\":\"25.09\",\"marker\":{\"color\":\"#EF553B\",\"pattern\":{\"shape\":\"\"}},\"name\":\"25.09\",\"offsetgroup\":\"25.09\",\"orientation\":\"h\",\"showlegend\":true,\"x\":[11.3],\"xaxis\":\"x\",\"y\":[\"Multan, Pakistan\"],\"yaxis\":\"y\",\"type\":\"histogram\"},{\"alignmentgroup\":\"True\",\"bingroup\":\"y\",\"histfunc\":\"sum\",\"hovertemplate\":\"Local Purchasing Power Index=26.0<br>sum of Cost of Living Plus Rent Index=%{x}<br>City=%{y}<extra></extra>\",\"legendgroup\":\"26.0\",\"marker\":{\"color\":\"#00cc96\",\"pattern\":{\"shape\":\"\"}},\"name\":\"26.0\",\"offsetgroup\":\"26.0\",\"orientation\":\"h\",\"showlegend\":true,\"x\":[10.97],\"xaxis\":\"x\",\"y\":[\"Peshawar, Pakistan\"],\"yaxis\":\"y\",\"type\":\"histogram\"}],                        {\"template\":{\"data\":{\"bar\":[{\"error_x\":{\"color\":\"#2a3f5f\"},\"error_y\":{\"color\":\"#2a3f5f\"},\"marker\":{\"line\":{\"color\":\"#E5ECF6\",\"width\":0.5},\"pattern\":{\"fillmode\":\"overlay\",\"size\":10,\"solidity\":0.2}},\"type\":\"bar\"}],\"barpolar\":[{\"marker\":{\"line\":{\"color\":\"#E5ECF6\",\"width\":0.5},\"pattern\":{\"fillmode\":\"overlay\",\"size\":10,\"solidity\":0.2}},\"type\":\"barpolar\"}],\"carpet\":[{\"aaxis\":{\"endlinecolor\":\"#2a3f5f\",\"gridcolor\":\"white\",\"linecolor\":\"white\",\"minorgridcolor\":\"white\",\"startlinecolor\":\"#2a3f5f\"},\"baxis\":{\"endlinecolor\":\"#2a3f5f\",\"gridcolor\":\"white\",\"linecolor\":\"white\",\"minorgridcolor\":\"white\",\"startlinecolor\":\"#2a3f5f\"},\"type\":\"carpet\"}],\"choropleth\":[{\"colorbar\":{\"outlinewidth\":0,\"ticks\":\"\"},\"type\":\"choropleth\"}],\"contour\":[{\"colorbar\":{\"outlinewidth\":0,\"ticks\":\"\"},\"colorscale\":[[0.0,\"#0d0887\"],[0.1111111111111111,\"#46039f\"],[0.2222222222222222,\"#7201a8\"],[0.3333333333333333,\"#9c179e\"],[0.4444444444444444,\"#bd3786\"],[0.5555555555555556,\"#d8576b\"],[0.6666666666666666,\"#ed7953\"],[0.7777777777777778,\"#fb9f3a\"],[0.8888888888888888,\"#fdca26\"],[1.0,\"#f0f921\"]],\"type\":\"contour\"}],\"contourcarpet\":[{\"colorbar\":{\"outlinewidth\":0,\"ticks\":\"\"},\"type\":\"contourcarpet\"}],\"heatmap\":[{\"colorbar\":{\"outlinewidth\":0,\"ticks\":\"\"},\"colorscale\":[[0.0,\"#0d0887\"],[0.1111111111111111,\"#46039f\"],[0.2222222222222222,\"#7201a8\"],[0.3333333333333333,\"#9c179e\"],[0.4444444444444444,\"#bd3786\"],[0.5555555555555556,\"#d8576b\"],[0.6666666666666666,\"#ed7953\"],[0.7777777777777778,\"#fb9f3a\"],[0.8888888888888888,\"#fdca26\"],[1.0,\"#f0f921\"]],\"type\":\"heatmap\"}],\"heatmapgl\":[{\"colorbar\":{\"outlinewidth\":0,\"ticks\":\"\"},\"colorscale\":[[0.0,\"#0d0887\"],[0.1111111111111111,\"#46039f\"],[0.2222222222222222,\"#7201a8\"],[0.3333333333333333,\"#9c179e\"],[0.4444444444444444,\"#bd3786\"],[0.5555555555555556,\"#d8576b\"],[0.6666666666666666,\"#ed7953\"],[0.7777777777777778,\"#fb9f3a\"],[0.8888888888888888,\"#fdca26\"],[1.0,\"#f0f921\"]],\"type\":\"heatmapgl\"}],\"histogram\":[{\"marker\":{\"pattern\":{\"fillmode\":\"overlay\",\"size\":10,\"solidity\":0.2}},\"type\":\"histogram\"}],\"histogram2d\":[{\"colorbar\":{\"outlinewidth\":0,\"ticks\":\"\"},\"colorscale\":[[0.0,\"#0d0887\"],[0.1111111111111111,\"#46039f\"],[0.2222222222222222,\"#7201a8\"],[0.3333333333333333,\"#9c179e\"],[0.4444444444444444,\"#bd3786\"],[0.5555555555555556,\"#d8576b\"],[0.6666666666666666,\"#ed7953\"],[0.7777777777777778,\"#fb9f3a\"],[0.8888888888888888,\"#fdca26\"],[1.0,\"#f0f921\"]],\"type\":\"histogram2d\"}],\"histogram2dcontour\":[{\"colorbar\":{\"outlinewidth\":0,\"ticks\":\"\"},\"colorscale\":[[0.0,\"#0d0887\"],[0.1111111111111111,\"#46039f\"],[0.2222222222222222,\"#7201a8\"],[0.3333333333333333,\"#9c179e\"],[0.4444444444444444,\"#bd3786\"],[0.5555555555555556,\"#d8576b\"],[0.6666666666666666,\"#ed7953\"],[0.7777777777777778,\"#fb9f3a\"],[0.8888888888888888,\"#fdca26\"],[1.0,\"#f0f921\"]],\"type\":\"histogram2dcontour\"}],\"mesh3d\":[{\"colorbar\":{\"outlinewidth\":0,\"ticks\":\"\"},\"type\":\"mesh3d\"}],\"parcoords\":[{\"line\":{\"colorbar\":{\"outlinewidth\":0,\"ticks\":\"\"}},\"type\":\"parcoords\"}],\"pie\":[{\"automargin\":true,\"type\":\"pie\"}],\"scatter\":[{\"marker\":{\"colorbar\":{\"outlinewidth\":0,\"ticks\":\"\"}},\"type\":\"scatter\"}],\"scatter3d\":[{\"line\":{\"colorbar\":{\"outlinewidth\":0,\"ticks\":\"\"}},\"marker\":{\"colorbar\":{\"outlinewidth\":0,\"ticks\":\"\"}},\"type\":\"scatter3d\"}],\"scattercarpet\":[{\"marker\":{\"colorbar\":{\"outlinewidth\":0,\"ticks\":\"\"}},\"type\":\"scattercarpet\"}],\"scattergeo\":[{\"marker\":{\"colorbar\":{\"outlinewidth\":0,\"ticks\":\"\"}},\"type\":\"scattergeo\"}],\"scattergl\":[{\"marker\":{\"colorbar\":{\"outlinewidth\":0,\"ticks\":\"\"}},\"type\":\"scattergl\"}],\"scattermapbox\":[{\"marker\":{\"colorbar\":{\"outlinewidth\":0,\"ticks\":\"\"}},\"type\":\"scattermapbox\"}],\"scatterpolar\":[{\"marker\":{\"colorbar\":{\"outlinewidth\":0,\"ticks\":\"\"}},\"type\":\"scatterpolar\"}],\"scatterpolargl\":[{\"marker\":{\"colorbar\":{\"outlinewidth\":0,\"ticks\":\"\"}},\"type\":\"scatterpolargl\"}],\"scatterternary\":[{\"marker\":{\"colorbar\":{\"outlinewidth\":0,\"ticks\":\"\"}},\"type\":\"scatterternary\"}],\"surface\":[{\"colorbar\":{\"outlinewidth\":0,\"ticks\":\"\"},\"colorscale\":[[0.0,\"#0d0887\"],[0.1111111111111111,\"#46039f\"],[0.2222222222222222,\"#7201a8\"],[0.3333333333333333,\"#9c179e\"],[0.4444444444444444,\"#bd3786\"],[0.5555555555555556,\"#d8576b\"],[0.6666666666666666,\"#ed7953\"],[0.7777777777777778,\"#fb9f3a\"],[0.8888888888888888,\"#fdca26\"],[1.0,\"#f0f921\"]],\"type\":\"surface\"}],\"table\":[{\"cells\":{\"fill\":{\"color\":\"#EBF0F8\"},\"line\":{\"color\":\"white\"}},\"header\":{\"fill\":{\"color\":\"#C8D4E3\"},\"line\":{\"color\":\"white\"}},\"type\":\"table\"}]},\"layout\":{\"annotationdefaults\":{\"arrowcolor\":\"#2a3f5f\",\"arrowhead\":0,\"arrowwidth\":1},\"autotypenumbers\":\"strict\",\"coloraxis\":{\"colorbar\":{\"outlinewidth\":0,\"ticks\":\"\"}},\"colorscale\":{\"diverging\":[[0,\"#8e0152\"],[0.1,\"#c51b7d\"],[0.2,\"#de77ae\"],[0.3,\"#f1b6da\"],[0.4,\"#fde0ef\"],[0.5,\"#f7f7f7\"],[0.6,\"#e6f5d0\"],[0.7,\"#b8e186\"],[0.8,\"#7fbc41\"],[0.9,\"#4d9221\"],[1,\"#276419\"]],\"sequential\":[[0.0,\"#0d0887\"],[0.1111111111111111,\"#46039f\"],[0.2222222222222222,\"#7201a8\"],[0.3333333333333333,\"#9c179e\"],[0.4444444444444444,\"#bd3786\"],[0.5555555555555556,\"#d8576b\"],[0.6666666666666666,\"#ed7953\"],[0.7777777777777778,\"#fb9f3a\"],[0.8888888888888888,\"#fdca26\"],[1.0,\"#f0f921\"]],\"sequentialminus\":[[0.0,\"#0d0887\"],[0.1111111111111111,\"#46039f\"],[0.2222222222222222,\"#7201a8\"],[0.3333333333333333,\"#9c179e\"],[0.4444444444444444,\"#bd3786\"],[0.5555555555555556,\"#d8576b\"],[0.6666666666666666,\"#ed7953\"],[0.7777777777777778,\"#fb9f3a\"],[0.8888888888888888,\"#fdca26\"],[1.0,\"#f0f921\"]]},\"colorway\":[\"#636efa\",\"#EF553B\",\"#00cc96\",\"#ab63fa\",\"#FFA15A\",\"#19d3f3\",\"#FF6692\",\"#B6E880\",\"#FF97FF\",\"#FECB52\"],\"font\":{\"color\":\"#2a3f5f\"},\"geo\":{\"bgcolor\":\"white\",\"lakecolor\":\"white\",\"landcolor\":\"#E5ECF6\",\"showlakes\":true,\"showland\":true,\"subunitcolor\":\"white\"},\"hoverlabel\":{\"align\":\"left\"},\"hovermode\":\"closest\",\"mapbox\":{\"style\":\"light\"},\"paper_bgcolor\":\"white\",\"plot_bgcolor\":\"#E5ECF6\",\"polar\":{\"angularaxis\":{\"gridcolor\":\"white\",\"linecolor\":\"white\",\"ticks\":\"\"},\"bgcolor\":\"#E5ECF6\",\"radialaxis\":{\"gridcolor\":\"white\",\"linecolor\":\"white\",\"ticks\":\"\"}},\"scene\":{\"xaxis\":{\"backgroundcolor\":\"#E5ECF6\",\"gridcolor\":\"white\",\"gridwidth\":2,\"linecolor\":\"white\",\"showbackground\":true,\"ticks\":\"\",\"zerolinecolor\":\"white\"},\"yaxis\":{\"backgroundcolor\":\"#E5ECF6\",\"gridcolor\":\"white\",\"gridwidth\":2,\"linecolor\":\"white\",\"showbackground\":true,\"ticks\":\"\",\"zerolinecolor\":\"white\"},\"zaxis\":{\"backgroundcolor\":\"#E5ECF6\",\"gridcolor\":\"white\",\"gridwidth\":2,\"linecolor\":\"white\",\"showbackground\":true,\"ticks\":\"\",\"zerolinecolor\":\"white\"}},\"shapedefaults\":{\"line\":{\"color\":\"#2a3f5f\"}},\"ternary\":{\"aaxis\":{\"gridcolor\":\"white\",\"linecolor\":\"white\",\"ticks\":\"\"},\"baxis\":{\"gridcolor\":\"white\",\"linecolor\":\"white\",\"ticks\":\"\"},\"bgcolor\":\"#E5ECF6\",\"caxis\":{\"gridcolor\":\"white\",\"linecolor\":\"white\",\"ticks\":\"\"}},\"title\":{\"x\":0.05},\"xaxis\":{\"automargin\":true,\"gridcolor\":\"white\",\"linecolor\":\"white\",\"ticks\":\"\",\"title\":{\"standoff\":15},\"zerolinecolor\":\"white\",\"zerolinewidth\":2},\"yaxis\":{\"automargin\":true,\"gridcolor\":\"white\",\"linecolor\":\"white\",\"ticks\":\"\",\"title\":{\"standoff\":15},\"zerolinecolor\":\"white\",\"zerolinewidth\":2}}},\"xaxis\":{\"anchor\":\"y\",\"domain\":[0.0,1.0],\"title\":{\"text\":\"sum of Cost of Living Plus Rent Index\"}},\"yaxis\":{\"anchor\":\"x\",\"domain\":[0.0,1.0],\"title\":{\"text\":\"City\"}},\"legend\":{\"title\":{\"text\":\"Local Purchasing Power Index\"},\"tracegroupgap\":0},\"title\":{\"text\":\"Cost of Living\"},\"barmode\":\"relative\"},                        {\"responsive\": true}                    ).then(function(){\n                            \nvar gd = document.getElementById('2a9aeae1-c0b4-494d-aaed-42f73bdd60d8');\nvar x = new MutationObserver(function (mutations, observer) {{\n        var display = window.getComputedStyle(gd).display;\n        if (!display || display === 'none') {{\n            console.log([gd, 'removed!']);\n            Plotly.purge(gd);\n            observer.disconnect();\n        }}\n}});\n\n// Listen for the removal of the full notebook cells\nvar notebookContainer = gd.closest('#notebook-container');\nif (notebookContainer) {{\n    x.observe(notebookContainer, {childList: true});\n}}\n\n// Listen for the clearing of the current output cell\nvar outputEl = gd.closest('.output');\nif (outputEl) {{\n    x.observe(outputEl, {childList: true});\n}}\n\n                        })                };                            </script>        </div>\n</body>\n</html>"
     },
     "execution_count": 4,
     "metadata": {
     },
     "output_type": "execute_result"
    }
   ],
   "source": [
    "#The Local Purchasing Power Index of each City -  Measures the relative purchasing power of a typical salary in that city, compared to New York City\n",
    "df = px.data.tips()\n",
    "fig = px.histogram(costofliving1, x = ('Cost of Living Plus Rent Index'), y = 'City',\n",
    "                 color = 'Local Purchasing Power Index',\n",
    "                 title = 'Cost of Living')\n",
    "\n",
    "fig.show()"
   ]
  },
  {
   "cell_type": "code",
   "execution_count": 5,
   "metadata": {
    "collapsed": false
   },
   "outputs": [
    {
     "ename": "SyntaxError",
     "evalue": "invalid syntax (2386282522.py, line 3)",
     "output_type": "error",
     "traceback": [
      "\u001b[0;36m  Input \u001b[0;32mIn [5]\u001b[0;36m\u001b[0m\n\u001b[0;31m    fig.show()\u001b[0m\n\u001b[0m    ^\u001b[0m\n\u001b[0;31mSyntaxError\u001b[0m\u001b[0;31m:\u001b[0m invalid syntax\n"
     ]
    }
   ],
   "source": [
    "df = px.data.tips()\n",
    "fig = px.pie(merged_costofliving, label =(\"Cost of Living Plus Rent Index\")\n",
    "fig.show()"
   ]
  },
  {
   "cell_type": "code",
   "execution_count": 6,
   "metadata": {
    "collapsed": false
   },
   "outputs": [
    {
     "ename": "NameError",
     "evalue": "name 'merged_costofliving' is not defined",
     "output_type": "error",
     "traceback": [
      "\u001b[0;31m---------------------------------------------------------------------------\u001b[0m",
      "\u001b[0;31mNameError\u001b[0m                                 Traceback (most recent call last)",
      "Input \u001b[0;32mIn [6]\u001b[0m, in \u001b[0;36m<cell line: 2>\u001b[0;34m()\u001b[0m\n\u001b[1;32m      1\u001b[0m df \u001b[38;5;241m=\u001b[39m px\u001b[38;5;241m.\u001b[39mdata\u001b[38;5;241m.\u001b[39mgapminder()\n\u001b[0;32m----> 2\u001b[0m fig \u001b[38;5;241m=\u001b[39m px\u001b[38;5;241m.\u001b[39marea(\u001b[43mmerged_costofliving\u001b[49m, x\u001b[38;5;241m=\u001b[39m\u001b[38;5;124m\"\u001b[39m\u001b[38;5;124mCost of Living Index\u001b[39m\u001b[38;5;124m\"\u001b[39m, y\u001b[38;5;241m=\u001b[39m\u001b[38;5;124m\"\u001b[39m\u001b[38;5;124mCity\u001b[39m\u001b[38;5;124m\"\u001b[39m, color\u001b[38;5;241m=\u001b[39m\u001b[38;5;124m\"\u001b[39m\u001b[38;5;124mCost of Living Plus Rent Index\u001b[39m\u001b[38;5;124m\"\u001b[39m, line_group\u001b[38;5;241m=\u001b[39m\u001b[38;5;124m\"\u001b[39m\u001b[38;5;124mLocal Purchasing Power Index\u001b[39m\u001b[38;5;124m\"\u001b[39m)\n\u001b[1;32m      3\u001b[0m fig\u001b[38;5;241m.\u001b[39mshow()\n",
      "\u001b[0;31mNameError\u001b[0m: name 'merged_costofliving' is not defined"
     ]
    }
   ],
   "source": [
    "df = px.data.gapminder()\n",
    "fig = px.area(merged_costofliving, x=\"Cost of Living Index\", y=\"City\", color=\"Cost of Living Plus Rent Index\", line_group=\"Local Purchasing Power Index\")\n",
    "fig.show()\n"
   ]
  },
  {
   "cell_type": "code",
   "execution_count": 7,
   "metadata": {
    "collapsed": false
   },
   "outputs": [
    {
     "ename": "NameError",
     "evalue": "name 'merged_costofliving' is not defined",
     "output_type": "error",
     "traceback": [
      "\u001b[0;31m---------------------------------------------------------------------------\u001b[0m",
      "\u001b[0;31mNameError\u001b[0m                                 Traceback (most recent call last)",
      "Input \u001b[0;32mIn [7]\u001b[0m, in \u001b[0;36m<cell line: 1>\u001b[0;34m()\u001b[0m\n\u001b[0;32m----> 1\u001b[0m sns\u001b[38;5;241m.\u001b[39mheatmap(\u001b[43mmerged_costofliving\u001b[49m\u001b[38;5;241m.\u001b[39mcorr())\n",
      "\u001b[0;31mNameError\u001b[0m: name 'merged_costofliving' is not defined"
     ]
    }
   ],
   "source": [
    "sns.heatmap(merged_costofliving.corr())"
   ]
  },
  {
   "cell_type": "code",
   "execution_count": 0,
   "metadata": {
    "collapsed": false
   },
   "outputs": [
   ],
   "source": [
    "#How The Cost of Living Index corresponds to The Local Purchasing Power Index in each city - How much it cost to live a a certain are v.s. how much the average perosn makes there\n",
    "df = px.data.tips()\n",
    "fig = px.scatter(costofliving1, x = ('Cost of Living Plus Rent Index'), y = 'Local Purchasing Power Index',\n",
    "                 color = 'City',\n",
    "                 title = 'Cost of Living',\n",
    "                 trendline = \"ols\" , trendline_scope=\"overall\")\n",
    "\n",
    "fig.show()"
   ]
  },
  {
   "cell_type": "code",
   "execution_count": 0,
   "metadata": {
    "collapsed": false
   },
   "outputs": [
   ],
   "source": [
    "df = px.data.tips()\n",
    "fig = px.scatter(costofliving1, x = ('Cost of Living Plus Rent Index'), y = 'Local Purchasing Power Index',\n",
    "                 color = 'City',\n",
    "                 title = 'Cost of Living',\n",
    "                 trendline = \"lowess\" , trendline_scope=\"overall\")\n",
    "\n",
    "fig.show()"
   ]
  },
  {
   "cell_type": "code",
   "execution_count": 0,
   "metadata": {
    "collapsed": false
   },
   "outputs": [
   ],
   "source": [
    "df = px.data.tips()\n",
    "fig = px.scatter(costofliving1, x = ('Cost of Living Plus Rent Index'), y = 'Local Purchasing Power Index',\n",
    "                 color = 'City',\n",
    "                 title = 'Cost of Living',\n",
    "                 trendline = \"expanding\" , trendline_scope=\"overall\")\n",
    "\n",
    "fig.show()"
   ]
  },
  {
   "cell_type": "code",
   "execution_count": 0,
   "metadata": {
    "collapsed": false
   },
   "outputs": [
   ],
   "source": [
    "df = px.data.tips()\n",
    "fig = px.box"
   ]
  },
  {
   "cell_type": "code",
   "execution_count": 0,
   "metadata": {
    "collapsed": false
   },
   "outputs": [
   ],
   "source": [
    "fig = px.scatter(costofliving1, x='Cost of Living Index', y='Local Purchasing Power Index', trendline=\"lowess\")"
   ]
  },
  {
   "cell_type": "code",
   "execution_count": 0,
   "metadata": {
    "collapsed": false
   },
   "outputs": [
   ],
   "source": [
    "fig = px.box(costofliving1, x=\"Cost of Living Index\", y=\"Local Purchasing Power Index\", color=\"City\", points='all')\n",
    "fig.show()"
   ]
  },
  {
   "cell_type": "code",
   "execution_count": 0,
   "metadata": {
    "collapsed": false
   },
   "outputs": [
   ],
   "source": [
   ]
  },
  {
   "cell_type": "code",
   "execution_count": 0,
   "metadata": {
    "collapsed": false
   },
   "outputs": [
   ],
   "source": [
   ]
  },
  {
   "cell_type": "code",
   "execution_count": 0,
   "metadata": {
    "collapsed": false
   },
   "outputs": [
   ],
   "source": [
    "#costofliving 2 ↓↓"
   ]
  },
  {
   "cell_type": "code",
   "execution_count": 0,
   "metadata": {
    "collapsed": false
   },
   "outputs": [
   ],
   "source": [
    "#everything below is for costofliving2 in order!"
   ]
  },
  {
   "cell_type": "code",
   "execution_count": 0,
   "metadata": {
    "collapsed": false
   },
   "outputs": [
   ],
   "source": [
    "costofliving2 = pd.read_csv('./Project_Data/cost-of-living.csv')"
   ]
  },
  {
   "cell_type": "code",
   "execution_count": 0,
   "metadata": {
    "collapsed": false
   },
   "outputs": [
   ],
   "source": [
    "costofliving2 = costofliving2.transpose() #swap rows and columns"
   ]
  },
  {
   "cell_type": "code",
   "execution_count": 0,
   "metadata": {
    "collapsed": false
   },
   "outputs": [
   ],
   "source": [
    "costofliving2.columns = costofliving2.iloc[0] #assign row as column header"
   ]
  },
  {
   "cell_type": "code",
   "execution_count": 0,
   "metadata": {
    "collapsed": false
   },
   "outputs": [
   ],
   "source": [
    "costofliving2.reset_index(inplace=True) #convert index to column"
   ]
  },
  {
   "cell_type": "code",
   "execution_count": 0,
   "metadata": {
    "collapsed": false
   },
   "outputs": [
   ],
   "source": [
    "costofliving2.drop(0, axis=0, inplace=True) #delete row 0"
   ]
  },
  {
   "cell_type": "code",
   "execution_count": 0,
   "metadata": {
    "collapsed": false
   },
   "outputs": [
   ],
   "source": [
    "costofliving2.rename(columns = {'index':'City'}, inplace = True) #renaming column header"
   ]
  },
  {
   "cell_type": "code",
   "execution_count": 0,
   "metadata": {
    "collapsed": false
   },
   "outputs": [
   ],
   "source": [
    "costofliving2 = costofliving2.rename_axis(None, axis=1) #removing index header"
   ]
  },
  {
   "cell_type": "code",
   "execution_count": 0,
   "metadata": {
    "collapsed": false
   },
   "outputs": [
   ],
   "source": [
    "costofliving2"
   ]
  },
  {
   "cell_type": "code",
   "execution_count": 0,
   "metadata": {
    "collapsed": false
   },
   "outputs": [
   ],
   "source": [
    "#everything below is for costofliving1 in order! ↓↓"
   ]
  },
  {
   "cell_type": "code",
   "execution_count": 0,
   "metadata": {
    "collapsed": false
   },
   "outputs": [
   ],
   "source": [
    "costofliving1 = pd.read_csv('./Project_Data/costofliving.csv')"
   ]
  },
  {
   "cell_type": "code",
   "execution_count": 0,
   "metadata": {
    "collapsed": false
   },
   "outputs": [
   ],
   "source": [
    "costofliving1 = costofliving1.drop(['Rank'],axis=1)"
   ]
  },
  {
   "cell_type": "code",
   "execution_count": 0,
   "metadata": {
    "collapsed": false,
    "scrolled": true
   },
   "outputs": [
   ],
   "source": [
    "costofliving1"
   ]
  },
  {
   "cell_type": "code",
   "execution_count": 0,
   "metadata": {
    "collapsed": false
   },
   "outputs": [
   ],
   "source": [
    "#Final merged data set below! ↓↓"
   ]
  },
  {
   "cell_type": "code",
   "execution_count": 0,
   "metadata": {
    "collapsed": false
   },
   "outputs": [
   ],
   "source": [
    "#merged set = 'merged_costofliving'"
   ]
  },
  {
   "cell_type": "code",
   "execution_count": 0,
   "metadata": {
    "collapsed": false
   },
   "outputs": [
   ],
   "source": [
    "merged_costofliving = pd.merge(costofliving1, costofliving2, on= 'City') #merging data sets"
   ]
  },
  {
   "cell_type": "code",
   "execution_count": 0,
   "metadata": {
    "collapsed": false
   },
   "outputs": [
   ],
   "source": [
    "merged_costofliving "
   ]
  },
  {
   "cell_type": "code",
   "execution_count": 0,
   "metadata": {
    "collapsed": false
   },
   "outputs": [
   ],
   "source": [
    "#cleaning the data -- dropping missing and duplicate values for sanity\n",
    "merged_costofliving.dropna(inplace = True) # dropping missing values\n",
    "merged_costofliving.drop_duplicates(inplace = True) # dropping duplicate values here\n",
    "merged_costofliving = merged_costofliving.reset_index(drop=True) # resetting the index\n",
    "\n",
    "length = len(merged_costofliving.index) #save length of array of later"
   ]
  },
  {
   "cell_type": "code",
   "execution_count": 0,
   "metadata": {
    "collapsed": false
   },
   "outputs": [
   ],
   "source": [
    "sns.heatmap(merged_costofliving.corr())"
   ]
  },
  {
   "cell_type": "code",
   "execution_count": 0,
   "metadata": {
    "collapsed": false
   },
   "outputs": [
   ],
   "source": [
    "merged_costofliving.isnull().sum()"
   ]
  },
  {
   "cell_type": "code",
   "execution_count": 0,
   "metadata": {
    "collapsed": false
   },
   "outputs": [
   ],
   "source": [
    "print(merged_costofliving.shape)"
   ]
  },
  {
   "cell_type": "code",
   "execution_count": 0,
   "metadata": {
    "collapsed": false
   },
   "outputs": [
   ],
   "source": [
    "merged_costofliving.info()"
   ]
  },
  {
   "cell_type": "code",
   "execution_count": 0,
   "metadata": {
    "collapsed": false
   },
   "outputs": [
   ],
   "source": [
    "#code to remove unnecessary columns\n",
    "merged_costofliving_mod1 = merged_costofliving.drop(['Water (0.33 liter bottle) ', 'Milk (regular), (1 liter)','Water (1.5 liter bottle)',\n",
    "                                                     'Cigarettes 20 Pack (Marlboro)','Volkswagen Golf',\n",
    "                                                     '1 min. of Prepaid Mobile Tariff Local (No Discounts or Plans)',\n",
    "                                                     'Cinema, International Release, 1 Seat','1 Pair of Jeans (Levis 501 Or Similar)',\n",
    "                                                     '1 Summer Dress in a Chain Store (Zara, H&M, ...)',\n",
    "                                                     '1 Pair of Nike Running Shoes (Mid-Range)','1 Pair of Men Leather Business Shoes',\n",
    "                                                     'Mortgage Interest Rate in Percentages (%), Yearly, for 20 Years Fixed-Rate',\n",
    "                                                     'Toyota Corolla 1.6l 97kW Comfort (Or Equivalent New Car)', 'Apples (1kg)', 'Oranges (1kg)',\n",
    "                                                     'Potato (1kg)', 'Lettuce (1 head)','Cappuccino (regular)', 'Rice (white), (1kg)', 'Tomato (1kg)',\n",
    "                                                     'Banana (1kg)', 'Onion (1kg)','Beef Round (1kg) (or Equivalent Back Leg Red Meat)',\n",
    "                                                    'Domestic Beer (0.5 liter draught)', 'Imported Beer (0.33 liter bottle)',\n",
    "                                                     'Coke/Pepsi (0.33 liter bottle)', 'Loaf of Fresh White Bread (500g)', 'Eggs (regular) (12)', \n",
    "                                                     'Local Cheese (1kg)', 'Bottle of Wine (Mid-Range)', 'Domestic Beer (0.5 liter bottle)',\n",
    "                                                     'Imported Beer (0.33 liter bottle)', 'Chicken Breasts (Boneless, Skinless), (1kg)',\n",
    "                                                    'Tennis Court Rent (1 Hour on Weekend)'], axis = 'columns')"
   ]
  },
  {
   "cell_type": "code",
   "execution_count": 0,
   "metadata": {
    "collapsed": false
   },
   "outputs": [
   ],
   "source": [
    "merged_costofliving_mod1.info()"
   ]
  },
  {
   "cell_type": "code",
   "execution_count": 0,
   "metadata": {
    "collapsed": false
   },
   "outputs": [
   ],
   "source": [
    "merged_costofliving_mod1.columns"
   ]
  },
  {
   "cell_type": "code",
   "execution_count": 0,
   "metadata": {
    "collapsed": false
   },
   "outputs": [
   ],
   "source": [
    "#code to convert column objects into floats/numbers\n",
    "\n",
    "merged_costofliving_mod1[['Cost of Living Index', 'Rent Index',\n",
    "       'Cost of Living Plus Rent Index', 'Groceries Index',\n",
    "       'Restaurant Price Index', 'Local Purchasing Power Index',\n",
    "       'Meal, Inexpensive Restaurant',\n",
    "       'Meal for 2 People, Mid-range Restaurant, Three-course',\n",
    "       'McMeal at McDonalds (or Equivalent Combo Meal)',\n",
    "       'One-way Ticket (Local Transport)', 'Monthly Pass (Regular Price)',\n",
    "       'Gasoline (1 liter)', 'Apartment (1 bedroom) in City Centre',\n",
    "       'Apartment (1 bedroom) Outside of Centre',\n",
    "       'Apartment (3 bedrooms) in City Centre',\n",
    "       'Apartment (3 bedrooms) Outside of Centre',\n",
    "       'Basic (Electricity, Heating, Cooling, Water, Garbage) for 85m2 Apartment',\n",
    "       'Internet (60 Mbps or More, Unlimited Data, Cable/ADSL)',\n",
    "       'Fitness Club, Monthly Fee for 1 Adult',\n",
    "       'Price per Square Meter to Buy Apartment in City Centre',\n",
    "       'Price per Square Meter to Buy Apartment Outside of Centre',\n",
    "       'Average Monthly Net Salary (After Tax)', 'Taxi Start (Normal Tariff)',\n",
    "       'Taxi 1km (Normal Tariff)', 'Taxi 1hour Waiting (Normal Tariff)',\n",
    "       'Preschool (or Kindergarten), Full Day, Private, Monthly for 1 Child',\n",
    "       'International Primary School, Yearly for 1 Child']] = merged_costofliving_mod1[['Cost of Living Index', 'Rent Index',\n",
    "       'Cost of Living Plus Rent Index', 'Groceries Index',\n",
    "       'Restaurant Price Index', 'Local Purchasing Power Index',\n",
    "       'Meal, Inexpensive Restaurant',\n",
    "       'Meal for 2 People, Mid-range Restaurant, Three-course',\n",
    "       'McMeal at McDonalds (or Equivalent Combo Meal)',\n",
    "       'One-way Ticket (Local Transport)', 'Monthly Pass (Regular Price)',\n",
    "       'Gasoline (1 liter)', 'Apartment (1 bedroom) in City Centre',\n",
    "       'Apartment (1 bedroom) Outside of Centre',\n",
    "       'Apartment (3 bedrooms) in City Centre',\n",
    "       'Apartment (3 bedrooms) Outside of Centre',\n",
    "       'Basic (Electricity, Heating, Cooling, Water, Garbage) for 85m2 Apartment',\n",
    "       'Internet (60 Mbps or More, Unlimited Data, Cable/ADSL)',\n",
    "       'Fitness Club, Monthly Fee for 1 Adult',\n",
    "       'Price per Square Meter to Buy Apartment in City Centre',\n",
    "       'Price per Square Meter to Buy Apartment Outside of Centre',\n",
    "       'Average Monthly Net Salary (After Tax)', 'Taxi Start (Normal Tariff)',\n",
    "       'Taxi 1km (Normal Tariff)', 'Taxi 1hour Waiting (Normal Tariff)',\n",
    "       'Preschool (or Kindergarten), Full Day, Private, Monthly for 1 Child',\n",
    "       'International Primary School, Yearly for 1 Child']].apply(pd.to_numeric)"
   ]
  },
  {
   "cell_type": "code",
   "execution_count": 0,
   "metadata": {
    "collapsed": false,
    "scrolled": true
   },
   "outputs": [
   ],
   "source": [
    "plt.figure(figsize = (15,8))\n",
    "sns.heatmap(merged_costofliving_mod1.corr())"
   ]
  },
  {
   "cell_type": "code",
   "execution_count": 0,
   "metadata": {
    "collapsed": false
   },
   "outputs": [
   ],
   "source": [
    "from sklearn.preprocessing import OneHotEncoder"
   ]
  },
  {
   "cell_type": "code",
   "execution_count": 0,
   "metadata": {
    "collapsed": false
   },
   "outputs": [
   ],
   "source": [
    "encoder = OneHotEncoder(handle_unknown= 'ignore')\n",
    "encoder_df = pd.DataFrame(encoder.fit_transform(merged_costofliving_mod1[['City']]).toarray(), columns=merged_costofliving_mod1[['City']].values)"
   ]
  },
  {
   "cell_type": "code",
   "execution_count": 0,
   "metadata": {
    "collapsed": false
   },
   "outputs": [
   ],
   "source": [
    "encoder_df"
   ]
  },
  {
   "cell_type": "code",
   "execution_count": 0,
   "metadata": {
    "collapsed": false
   },
   "outputs": [
   ],
   "source": [
    "final_df = pd.concat([merged_costofliving_mod1, encoder_df], axis='columns').drop(\"City\", axis=\"columns\")\n",
    "final_df.head()"
   ]
  },
  {
   "cell_type": "code",
   "execution_count": 0,
   "metadata": {
    "collapsed": false
   },
   "outputs": [
   ],
   "source": [
    "## Code that Ritum creation (Gets rid of tuple headers)\n",
    "\n",
    "columns = final_df.columns\n",
    "columns_fixed = []\n",
    "\n",
    "for i in range(len(columns)):\n",
    "    if type(columns[i]) == str:\n",
    "        columns_fixed.append(columns[i])\n",
    "    else:\n",
    "        columns_fixed.append(columns[i][0])\n",
    "        \n",
    "# columns_fixed\n",
    "\n",
    "final_df = pd.DataFrame(final_df.values, columns = columns_fixed)\n",
    "final_df"
   ]
  },
  {
   "cell_type": "code",
   "execution_count": 0,
   "metadata": {
    "collapsed": false
   },
   "outputs": [
   ],
   "source": [
    "#The x and y variables for the following models\n",
    "x = final_df.drop('Cost of Living Index', axis= 'columns')\n",
    "y = final_df['Cost of Living Index']"
   ]
  },
  {
   "cell_type": "markdown",
   "metadata": {
    "collapsed": false
   },
   "source": [
    "# David - Decision Tree"
   ]
  },
  {
   "cell_type": "code",
   "execution_count": 0,
   "metadata": {
    "collapsed": false
   },
   "outputs": [
   ],
   "source": [
    "# import dataset\n",
    "dataset = pd.read_csv('./Project_Data/costofliving.csv') \n",
    "# alternatively open up .csv file to read data\n",
    "dataset = np.array(merged_costofliving)"
   ]
  },
  {
   "cell_type": "code",
   "execution_count": 0,
   "metadata": {
    "collapsed": false
   },
   "outputs": [
   ],
   "source": [
    "print(dataset)"
   ]
  },
  {
   "cell_type": "code",
   "execution_count": 0,
   "metadata": {
    "collapsed": false
   },
   "outputs": [
   ],
   "source": [
    "# select all rows by : and column 1\n",
    "# by 1:2 representing features\n",
    "X = dataset[:, 1:2].astype(int) \n",
    "  \n",
    "# print X\n",
    "print(len(X))"
   ]
  },
  {
   "cell_type": "code",
   "execution_count": 0,
   "metadata": {
    "collapsed": false
   },
   "outputs": [
   ],
   "source": [
    "# select all rows by : and column 2\n",
    "# by 2 to Y representing labels\n",
    "y = dataset[:, 2].astype(int) \n",
    "  \n",
    "# print y\n",
    "print(len(y))"
   ]
  },
  {
   "cell_type": "code",
   "execution_count": 0,
   "metadata": {
    "collapsed": false
   },
   "outputs": [
   ],
   "source": [
    "regressor_dt = DecisionTreeRegressor()\n",
    "regressor_dt.fit(X,y)"
   ]
  },
  {
   "cell_type": "code",
   "execution_count": 0,
   "metadata": {
    "collapsed": false
   },
   "outputs": [
   ],
   "source": [
    "# arange for creating a range of values \n",
    "# from min value of X to max value of X \n",
    "# with a difference of 0.01 between two\n",
    "# consecutive values\n",
    "X_grid = np.arange(min(X), max(X), 0.01)\n",
    "\n",
    "print(len(X_grid))\n",
    "  \n",
    "# reshape for reshaping the data into \n",
    "# a len(X_grid)*1 array, i.e. to make\n",
    "# a column out of the X_grid values\n",
    "X_grid = X_grid.reshape((len(X_grid)), 1)\n",
    "  \n",
    "# scatter plot for original data\n",
    "plt.scatter(X, y, color = 'red')\n",
    "  \n",
    "# plot predicted data\n",
    "plt.plot(X_grid, regressor_dt.predict(X_grid), color = 'blue') \n",
    "  \n",
    "# specify title\n",
    "plt.title('Cost of Living') \n",
    "  \n",
    "# specify X axis label\n",
    "plt.xlabel('x-placeholder')\n",
    "  \n",
    "# specify Y axis label\n",
    "plt.ylabel('Cost of Living')\n",
    "  \n",
    "# show the plot\n",
    "plt.show()"
   ]
  },
  {
   "cell_type": "code",
   "execution_count": 0,
   "metadata": {
    "collapsed": false
   },
   "outputs": [
   ],
   "source": [
    "# import export_graphviz\n",
    "from sklearn.tree import export_graphviz \n",
    "  \n",
    "# export the decision tree to a tree.dot file\n",
    "# for visualizing the plot easily anywhere\n",
    "export_graphviz(regressor_dt, out_file ='tree.dot',\n",
    "               feature_names =['Production Cost'])"
   ]
  },
  {
   "cell_type": "markdown",
   "metadata": {
    "collapsed": false
   },
   "source": [
    "#### Split-Fit-Predict-Evaluate"
   ]
  },
  {
   "cell_type": "code",
   "execution_count": 0,
   "metadata": {
    "collapsed": false
   },
   "outputs": [
   ],
   "source": [
    " # Splitting the dataset into train and test\n",
    "X_train_Dav, X_test_Dav, y_train_Dav, y_test_Dav = train_test_split( \n",
    "x, y, test_size = 0.2, random_state = 100)"
   ]
  },
  {
   "cell_type": "code",
   "execution_count": 0,
   "metadata": {
    "collapsed": false
   },
   "outputs": [
   ],
   "source": [
    "# import the regressor\n",
    "from sklearn.tree import DecisionTreeRegressor \n",
    "  \n",
    "# create a regressor object\n",
    "regressor = DecisionTreeRegressor(random_state = 0) \n",
    "  \n",
    "# fit the regressor with X and Y data\n",
    "regressor.fit(X_train_Dav, y_train_Dav)"
   ]
  },
  {
   "cell_type": "code",
   "execution_count": 0,
   "metadata": {
    "collapsed": false
   },
   "outputs": [
   ],
   "source": [
    "# predicting a new value\n",
    "  \n",
    "# test the output by changing values\n",
    "y_pred = regressor.predict(X_test_Dav)\n",
    "  \n",
    "# print the predicted price\n",
    "print(\"Predicted Costofliving: \", y_pred) "
   ]
  },
  {
   "cell_type": "code",
   "execution_count": 0,
   "metadata": {
    "collapsed": false
   },
   "outputs": [
   ],
   "source": [
    "regressor.score(X_train_Dav, y_train_Dav)"
   ]
  },
  {
   "cell_type": "code",
   "execution_count": 0,
   "metadata": {
    "collapsed": false
   },
   "outputs": [
   ],
   "source": [
    "regressor.score(X_test_Dav, y_test_Dav)"
   ]
  },
  {
   "cell_type": "code",
   "execution_count": 0,
   "metadata": {
    "collapsed": false
   },
   "outputs": [
   ],
   "source": [
    "from sklearn.metrics import mean_squared_error"
   ]
  },
  {
   "cell_type": "code",
   "execution_count": 0,
   "metadata": {
    "collapsed": false
   },
   "outputs": [
   ],
   "source": [
    "mean_squared_error(y_test_Dav,y_pred )"
   ]
  },
  {
   "cell_type": "code",
   "execution_count": 0,
   "metadata": {
    "collapsed": false
   },
   "outputs": [
   ],
   "source": [
   ]
  },
  {
   "cell_type": "markdown",
   "metadata": {
    "collapsed": false
   },
   "source": [
    "# Katherine (SVM/SVR)"
   ]
  },
  {
   "cell_type": "code",
   "execution_count": 0,
   "metadata": {
    "collapsed": false
   },
   "outputs": [
   ],
   "source": [
    "#reading data set\n",
    "x = final_df.drop('Cost of Living Index', axis= 'columns')\n",
    "y = final_df['Cost of Living Index']"
   ]
  },
  {
   "cell_type": "code",
   "execution_count": 0,
   "metadata": {
    "collapsed": false
   },
   "outputs": [
   ],
   "source": [
    "x"
   ]
  },
  {
   "cell_type": "code",
   "execution_count": 0,
   "metadata": {
    "collapsed": false
   },
   "outputs": [
   ],
   "source": [
    "y"
   ]
  },
  {
   "cell_type": "code",
   "execution_count": 0,
   "metadata": {
    "collapsed": false
   },
   "outputs": [
   ],
   "source": [
    "#feature scaling\n",
    "sc_x = StandardScaler()\n",
    "scaled_x = sc_x.fit_transform(x)"
   ]
  },
  {
   "cell_type": "code",
   "execution_count": 0,
   "metadata": {
    "collapsed": false
   },
   "outputs": [
   ],
   "source": [
    "x = pd.DataFrame(scaled_x, columns= x.columns)"
   ]
  },
  {
   "cell_type": "code",
   "execution_count": 0,
   "metadata": {
    "collapsed": false,
    "scrolled": true
   },
   "outputs": [
   ],
   "source": [
    "x"
   ]
  },
  {
   "cell_type": "markdown",
   "metadata": {
    "collapsed": false
   },
   "source": [
    "#### Split-Fit-Predict-Evaluate"
   ]
  },
  {
   "cell_type": "code",
   "execution_count": 0,
   "metadata": {
    "collapsed": false
   },
   "outputs": [
   ],
   "source": [
    "#training (split data 80/20)\n",
    "from sklearn.model_selection import train_test_split\n",
    "x_train_Kath, x_test_Kath, y_train_Kath, y_test_Kath = train_test_split(x, y, test_size = 0.2)"
   ]
  },
  {
   "cell_type": "code",
   "execution_count": 0,
   "metadata": {
    "collapsed": false
   },
   "outputs": [
   ],
   "source": [
    "print(x_train_Kath.shape)\n",
    "print(x_test_Kath.shape)\n",
    "print(y_train_Kath.shape)\n",
    "print(y_test_Kath.shape)"
   ]
  },
  {
   "cell_type": "code",
   "execution_count": 0,
   "metadata": {
    "collapsed": false
   },
   "outputs": [
   ],
   "source": [
    "#fitting data\n",
    "regressor = SVR(kernel = 'rbf')\n",
    "regressor.fit(x_train_Kath, y_train_Kath)"
   ]
  },
  {
   "cell_type": "code",
   "execution_count": 0,
   "metadata": {
    "collapsed": false
   },
   "outputs": [
   ],
   "source": [
    "#training\n",
    "from sklearn.svm import SVR\n",
    "regressor = SVR(kernel='rbf', gamma='scale', tol=0.001, C=100)\n",
    "regressor.fit(x_train_Kath, y_train_Kath)"
   ]
  },
  {
   "cell_type": "code",
   "execution_count": 0,
   "metadata": {
    "collapsed": false
   },
   "outputs": [
   ],
   "source": [
    "#predict\n",
    "y_pred = regressor.predict(x_test_Kath)\n",
    "y_pred\n",
    "# y_pred = y.inverse_transform(y_pred)"
   ]
  },
  {
   "cell_type": "code",
   "execution_count": 0,
   "metadata": {
    "collapsed": false
   },
   "outputs": [
   ],
   "source": [
    "regressor.score(x_train_Kath, y_train_Kath)"
   ]
  },
  {
   "cell_type": "code",
   "execution_count": 0,
   "metadata": {
    "collapsed": false
   },
   "outputs": [
   ],
   "source": [
    "#Accuracy Scores\n",
    "regressor.score(x_test_Kath, y_test_Kath)"
   ]
  },
  {
   "cell_type": "code",
   "execution_count": 0,
   "metadata": {
    "collapsed": false
   },
   "outputs": [
   ],
   "source": [
    "mean_squared_error(y_test_Kath,y_pred )"
   ]
  },
  {
   "cell_type": "markdown",
   "metadata": {
    "collapsed": false
   },
   "source": [
    "# Sophia (Random Forest)"
   ]
  },
  {
   "cell_type": "code",
   "execution_count": 0,
   "metadata": {
    "collapsed": false
   },
   "outputs": [
   ],
   "source": [
    "from sklearn.ensemble import RandomForestRegressor"
   ]
  },
  {
   "cell_type": "code",
   "execution_count": 0,
   "metadata": {
    "collapsed": false
   },
   "outputs": [
   ],
   "source": [
    "x= final_df.drop('Cost of Living Index', axis = 'columns')\n",
    "y= final_df['Cost of Living Index']"
   ]
  },
  {
   "cell_type": "markdown",
   "metadata": {
    "collapsed": false
   },
   "source": [
    "#### Split-Fit-Predict-Evaluate"
   ]
  },
  {
   "cell_type": "code",
   "execution_count": 0,
   "metadata": {
    "collapsed": false
   },
   "outputs": [
   ],
   "source": [
    "x_train_sm, x_test_sm, y_train_sm, y_test_sm = train_test_split(\n",
    "x, y, test_size=0.2, random_state=123)\n",
    "\n",
    "print ('Train group shape:', x_train_sm.shape)\n",
    "print ('Test group shape:', x_test_sm.shape)\n",
    "\n",
    "x_train_sm['Train_or_test'] = 1\n",
    "x_test_sm['Train_or_test'] = 0 \n",
    "\n",
    "random_forest = RandomForestRegressor(n_estimators=500, random_state=123)\n",
    "random_forest.fit(x_train_sm, y_train_sm)"
   ]
  },
  {
   "cell_type": "code",
   "execution_count": 0,
   "metadata": {
    "collapsed": false
   },
   "outputs": [
   ],
   "source": [
    "random_forest.score(x_train_sm, y_train_sm)"
   ]
  },
  {
   "cell_type": "code",
   "execution_count": 0,
   "metadata": {
    "collapsed": false
   },
   "outputs": [
   ],
   "source": [
    "random_forest.score(x_test_sm, y_test_sm)"
   ]
  },
  {
   "cell_type": "code",
   "execution_count": 0,
   "metadata": {
    "collapsed": false
   },
   "outputs": [
   ],
   "source": [
    "mean_squared_error(y_test_sm, random_forest.predict(x_test_sm))"
   ]
  },
  {
   "cell_type": "code",
   "execution_count": 0,
   "metadata": {
    "collapsed": false
   },
   "outputs": [
   ],
   "source": [
    "regressor = RandomForestRegressor(n_estimators = 100, random_state = 0)\n",
    "regressor.fit(x, y) "
   ]
  },
  {
   "cell_type": "code",
   "execution_count": 0,
   "metadata": {
    "collapsed": false
   },
   "outputs": [
   ],
   "source": [
    "Y_pred = regressor.predict(np.array([6.5]).reshape(1, 1))"
   ]
  },
  {
   "cell_type": "markdown",
   "metadata": {
    "collapsed": false
   },
   "source": [
    "# Amir - Lasso Regression"
   ]
  },
  {
   "cell_type": "code",
   "execution_count": 0,
   "metadata": {
    "collapsed": false
   },
   "outputs": [
   ],
   "source": [
    "cross_val_score()"
   ]
  },
  {
   "cell_type": "code",
   "execution_count": 0,
   "metadata": {
    "collapsed": false
   },
   "outputs": [
   ],
   "source": [
   ]
  },
  {
   "cell_type": "code",
   "execution_count": 0,
   "metadata": {
    "collapsed": false
   },
   "outputs": [
   ],
   "source": [
    "#Amir (Lasso)\n",
    "df = pd.read_csv(\"./Project_Data/costofliving.csv\")\n",
    "df.head()"
   ]
  },
  {
   "cell_type": "code",
   "execution_count": 0,
   "metadata": {
    "collapsed": false
   },
   "outputs": [
   ],
   "source": [
    "cols_selected = ['Rent Index', 'Cost of Living Plus Rent Index', 'Groceries Index', 'Restaurant Price Index', 'Cost of Living Index']\n",
    "df[cols_selected].head()"
   ]
  },
  {
   "cell_type": "code",
   "execution_count": 0,
   "metadata": {
    "collapsed": false
   },
   "outputs": [
   ],
   "source": [
    "x = df[cols_selected].iloc[:,0:4].values\n",
    "y = df[cols_selected]['Cost of Living Index'].values"
   ]
  },
  {
   "cell_type": "markdown",
   "metadata": {
    "collapsed": false
   },
   "source": [
    "#### Split-Fit-Predict-Evaluate"
   ]
  },
  {
   "cell_type": "code",
   "execution_count": 0,
   "metadata": {
    "collapsed": false
   },
   "outputs": [
   ],
   "source": [
    "x_train_ar, x_test_ar, y_train_ar, y_test_ar = train_test_split( x, y, \n",
    "                                      test_size=0.2, random_state=0)"
   ]
  },
  {
   "cell_type": "code",
   "execution_count": 0,
   "metadata": {
    "collapsed": false
   },
   "outputs": [
   ],
   "source": [
    "x_train_ar"
   ]
  },
  {
   "cell_type": "code",
   "execution_count": 0,
   "metadata": {
    "collapsed": false
   },
   "outputs": [
   ],
   "source": [
    "sc_y = StandardScaler()\n",
    "sc_x = StandardScaler()\n",
    "y_std = sc_y.fit_transform(y_train_ar.reshape(1,-1))\n",
    "x_train_std = sc_x.fit_transform(x_train_ar)\n",
    "x_test_std = sc_x.transform(x_test_ar)\n",
    "y_train_std = sc_y.fit_transform(y_train_ar)"
   ]
  },
  {
   "cell_type": "code",
   "execution_count": 0,
   "metadata": {
    "collapsed": false
   },
   "outputs": [
   ],
   "source": [
   ]
  },
  {
   "cell_type": "code",
   "execution_count": 0,
   "metadata": {
    "collapsed": false
   },
   "outputs": [
   ],
   "source": [
   ]
  },
  {
   "cell_type": "code",
   "execution_count": 0,
   "metadata": {
    "collapsed": false
   },
   "outputs": [
   ],
   "source": [
    "lasso_model = Lasso(random_state=0)\n",
    "lasso_model.fit(x_train_ar, y_train_ar)"
   ]
  },
  {
   "cell_type": "code",
   "execution_count": 0,
   "metadata": {
    "collapsed": false
   },
   "outputs": [
   ],
   "source": [
    "lasso_model.score(x_train_ar, y_train_ar)"
   ]
  },
  {
   "cell_type": "code",
   "execution_count": 0,
   "metadata": {
    "collapsed": false
   },
   "outputs": [
   ],
   "source": [
    "lasso_model.score(x_test_ar, y_test_ar)"
   ]
  },
  {
   "cell_type": "code",
   "execution_count": 0,
   "metadata": {
    "collapsed": false
   },
   "outputs": [
   ],
   "source": [
    "mean_squared_error(y_test_ar, lasso_model.predict(x_test_ar))"
   ]
  },
  {
   "cell_type": "code",
   "execution_count": 0,
   "metadata": {
    "collapsed": false
   },
   "outputs": [
   ],
   "source": [
    "alpha = np.linspace(0.01,0.4,10)\n",
    "r2_train =[]\n",
    "r2_test =[]\n",
    "norm = []\n",
    "alpha = np.linspace(0.01,0.4,10)\n",
    "for i in range(10):\n",
    "    lasso = Lasso(alpha = alpha[i])\n",
    "    lasso.fit(x_train_std,y_train_std)\n",
    "    y_train_std = lasso.predict(x_train_std)\n",
    "    y_test_std = lasso.predict(x_test_std)\n",
    "    r2_train = np.append(r2_train,\n",
    "              r2_score(y_train,sc_y.inverse_transform(y_train_std)))\n",
    "    r2_test = np.append(r2_test,\n",
    "              r2_score(y_test,sc_y.inverse_transform(y_test_std)))\n",
    "    norm = np.append(norm,np.linalg.norm(lasso.coef_))"
   ]
  },
  {
   "cell_type": "markdown",
   "metadata": {
    "collapsed": false
   },
   "source": [
    "plt.figure(figsize=(8,6))\n",
    "plt.scatter(alpha,r2_train,label='r2_train')\n",
    "plt.plot(alpha,r2_train)\n",
    "plt.scatter(alpha,r2_test,label='r2_test')\n",
    "plt.plot(alpha,r2_test)\n",
    "plt.scatter(alpha,norm,label = 'norm')\n",
    "plt.plot(alpha,norm)\n",
    "plt.ylim(-0.1,1)\n",
    "plt.xlim(0,.43)\n",
    "plt.xlabel('alpha', size = 14)\n",
    "plt.ylabel('R2_score',size = 14)\n",
    "plt.legend()\n",
    "plt.show()"
   ]
  },
  {
   "cell_type": "code",
   "execution_count": 0,
   "metadata": {
    "collapsed": false
   },
   "outputs": [
   ],
   "source": [
   ]
  },
  {
   "cell_type": "code",
   "execution_count": 0,
   "metadata": {
    "collapsed": false
   },
   "outputs": [
   ],
   "source": [
   ]
  },
  {
   "cell_type": "markdown",
   "metadata": {
    "collapsed": false
   },
   "source": [
    "# Nne Ezi - Linear Regression"
   ]
  },
  {
   "cell_type": "code",
   "execution_count": 0,
   "metadata": {
    "collapsed": false
   },
   "outputs": [
   ],
   "source": [
    "#defining x and y\n",
    "x = final_df['Groceries Index'] .to_numpy\n",
    "y = final_df[''].to_numpy"
   ]
  },
  {
   "cell_type": "markdown",
   "metadata": {
    "collapsed": false
   },
   "source": [
    "#### Split-Fit-Predict-Evaluate"
   ]
  },
  {
   "cell_type": "code",
   "execution_count": 0,
   "metadata": {
    "collapsed": false
   },
   "outputs": [
   ],
   "source": [
    "x = final_df.drop('Cost of Living Index', axis=1)"
   ]
  },
  {
   "cell_type": "code",
   "execution_count": 0,
   "metadata": {
    "collapsed": false,
    "scrolled": true
   },
   "outputs": [
   ],
   "source": [
    "final_df.columns"
   ]
  },
  {
   "cell_type": "code",
   "execution_count": 0,
   "metadata": {
    "collapsed": false
   },
   "outputs": [
   ],
   "source": [
    "y = final_df['Cost of Living Index']"
   ]
  },
  {
   "cell_type": "code",
   "execution_count": 0,
   "metadata": {
    "collapsed": false,
    "scrolled": true
   },
   "outputs": [
   ],
   "source": [
    "x_train_Nne, x_test_Nne, y_train_Nne, y_test_Nne = train_test_split( x, y, test_size=0.2 )"
   ]
  },
  {
   "cell_type": "code",
   "execution_count": 0,
   "metadata": {
    "collapsed": false,
    "scrolled": true
   },
   "outputs": [
   ],
   "source": [
    "plt.subplot(1,2,1)\n",
    "plt.scatter(x_train_Nne,y_train_Nne, c='orange')  \n",
    "#plt.xlabel('x', fontsize=10)\n",
    "#plt.ylabel('y', fontsize= 10)\n",
    "#plt.title('cost of living train plot')\n",
    "#plt.grid('on')\n",
    "\n",
    "#plt.show()\n",
    "\n"
   ]
  },
  {
   "cell_type": "code",
   "execution_count": 0,
   "metadata": {
    "collapsed": false,
    "scrolled": true
   },
   "outputs": [
   ],
   "source": [
    "linr = LinearRegression()\n",
    "linr.fit(x_train_Nne, y_train_Nne)\n",
    "print(linr.intercept_, linr.coef_[0])"
   ]
  },
  {
   "cell_type": "code",
   "execution_count": 0,
   "metadata": {
    "collapsed": false,
    "scrolled": true
   },
   "outputs": [
   ],
   "source": [
    "y_hat = linr.predict(x_test_Nne)"
   ]
  },
  {
   "cell_type": "code",
   "execution_count": 0,
   "metadata": {
    "collapsed": false,
    "scrolled": true
   },
   "outputs": [
   ],
   "source": [
    "plt.figure(figsize=(10,5))\n",
    "plt.plot(x_test_Nne, y_hat, '--')\n",
    "\n",
    "plt.scatter(x_test_Nne,y_test_Nne, c='orange')  \n",
    "plt.xlabel('x', fontsize = 20) \n",
    "plt.ylabel('y', fontsize = 20)\n",
    "plt.title('Generated Data - Test')\n",
    "plt.grid('on')\n",
    "plt.show()"
   ]
  },
  {
   "cell_type": "code",
   "execution_count": 0,
   "metadata": {
    "collapsed": false
   },
   "outputs": [
   ],
   "source": [
    "linr.score(x_train_Nne, y_train_Nne)#also put y_train_Nne"
   ]
  },
  {
   "cell_type": "code",
   "execution_count": 0,
   "metadata": {
    "collapsed": false
   },
   "outputs": [
   ],
   "source": [
    "#do the same but with x_test_Nne, y_test_Nne\n",
    "linr.score(x_test_Nne, y_test_Nne)"
   ]
  },
  {
   "cell_type": "code",
   "execution_count": 0,
   "metadata": {
    "collapsed": false
   },
   "outputs": [
   ],
   "source": [
    "#now do mean_squared_error(y_test_sm, random_forest.predict(x_test_sm)) but with linr instead of random_forest and your variables\n",
    "mean_squared_error(y_test_Nne, linr.predict(x_test_Nne))"
   ]
  },
  {
   "cell_type": "code",
   "execution_count": 0,
   "metadata": {
    "collapsed": false
   },
   "outputs": [
   ],
   "source": [
   ]
  },
  {
   "cell_type": "code",
   "execution_count": 0,
   "metadata": {
    "collapsed": false
   },
   "outputs": [
   ],
   "source": [
    "model_performance = []"
   ]
  },
  {
   "cell_type": "code",
   "execution_count": 0,
   "metadata": {
    "collapsed": false
   },
   "outputs": [
   ],
   "source": [
    "dt_reg = DecisionTreeRegressor(criterion=\"squared_error\",splitter='random', random_state=4)\n",
    "dt_reg.fit(X_train_Dav, y_train_Dav)\n",
    "model_performance.append({\n",
    "        'model': 'Decision_Tree_Regression',\n",
    "        'train_accuracy': dt_reg.score(X_train_Dav, y_train_Dav),\n",
    "        'test_accuracy': dt_reg.score(X_test_Dav, y_test_Dav),\n",
    "        'Mean_Sqr_Error': mean_squared_error(y_test_Dav, dt_reg.predict(X_test_Dav))\n",
    "    })"
   ]
  },
  {
   "cell_type": "code",
   "execution_count": 0,
   "metadata": {
    "collapsed": false
   },
   "outputs": [
   ],
   "source": [
    "sv_reg = SVR(kernel='rbf', C=5)\n",
    "sv_reg.fit(x_train_Kath, y_train_Kath)\n",
    "model_performance.append({\n",
    "        'model': 'SVR',\n",
    "        'train_accuracy': sv_reg.score(x_train_Kath, y_train_Kath),\n",
    "        'test_accuracy': sv_reg.score(x_test_Kath, y_test_Kath),\n",
    "        'Mean_Sqr_Error': mean_squared_error(y_test_Kath,y_pred )\n",
    "    })"
   ]
  },
  {
   "cell_type": "code",
   "execution_count": 0,
   "metadata": {
    "collapsed": false
   },
   "outputs": [
   ],
   "source": [
    "rf_reg = RandomForestRegressor(n_estimators=50, criterion='squared_error', random_state=4)\n",
    "rf_reg.fit(x_train_sm, y_train_sm)\n",
    "model_performance.append({\n",
    "        'model': 'Random_Forest',\n",
    "        'train_accuracy': rf_reg.score(x_train_sm, y_train_sm),\n",
    "        'test_accuracy': rf_reg.score(x_test_sm, y_test_sm),\n",
    "        'Mean_Sqr_Error': mean_squared_error(y_test_sm, rf_reg.predict(x_test_sm))\n",
    "    })"
   ]
  },
  {
   "cell_type": "code",
   "execution_count": 0,
   "metadata": {
    "collapsed": false
   },
   "outputs": [
   ],
   "source": [
    "l_reg = Lasso(random_state=4)\n",
    "l_reg.fit(x_train_ar, y_train_ar)\n",
    "model_performance.append({\n",
    "        'model': 'Lasso',\n",
    "        'train_accuracy': l_reg.score(x_train_ar, y_train_ar),\n",
    "        'test_accuracy': l_reg.score(x_test_ar, y_test_ar),\n",
    "        'Mean_Sqr_Error': mean_squared_error(y_test_ar, lasso_model.predict(x_test_ar))\n",
    "    })"
   ]
  },
  {
   "cell_type": "code",
   "execution_count": 0,
   "metadata": {
    "collapsed": false
   },
   "outputs": [
   ],
   "source": [
    "linr_reg = LinearRegression()\n",
    "linr_reg.fit(x_train_Nne, y_train_Nne)\n",
    "model_performance.append({\n",
    "        'model': 'Linear_Regression',\n",
    "        'train_accuracy': linr_reg.score(x_train_Nne, y_train_Nne),\n",
    "        'test_accuracy': linr_reg.score(x_test_Nne, y_test_Nne),\n",
    "        'Mean_Sqr_Error': mean_squared_error(y_test_Nne, linr.predict(x_test_Nne))\n",
    "    })"
   ]
  },
  {
   "cell_type": "code",
   "execution_count": 0,
   "metadata": {
    "collapsed": false
   },
   "outputs": [
   ],
   "source": [
    "evaluation_df = pd.DataFrame(model_performance, columns=['model', 'train_accuracy', 'test_accuracy', 'Mean_Sqr_Error'])\n",
    "evaluation_df"
   ]
  },
  {
   "cell_type": "markdown",
   "metadata": {
    "collapsed": false
   },
   "source": [
    "#"
   ]
  },
  {
   "cell_type": "code",
   "execution_count": 0,
   "metadata": {
    "collapsed": false
   },
   "outputs": [
   ],
   "source": [
   ]
  },
  {
   "cell_type": "code",
   "execution_count": 0,
   "metadata": {
    "collapsed": false
   },
   "outputs": [
   ],
   "source": [
   ]
  }
 ],
 "metadata": {
  "kernelspec": {
   "display_name": "Python (ds_env)",
   "language": "python",
   "metadata": {
    "debugger": true
   },
   "name": "ds_env",
   "resource_dir": "/projects/d061bad1-2739-44d6-bf33-6fa5871e6830/.local/share/jupyter/kernels/ds_env"
  },
  "language_info": {
   "codemirror_mode": {
    "name": "ipython",
    "version": 3
   },
   "file_extension": ".py",
   "mimetype": "text/x-python",
   "name": "python",
   "nbconvert_exporter": "python",
   "pygments_lexer": "ipython3",
   "version": "3.8.13"
  }
 },
 "nbformat": 4,
 "nbformat_minor": 4
}